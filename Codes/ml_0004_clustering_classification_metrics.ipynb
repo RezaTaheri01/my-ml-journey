{
  "nbformat": 4,
  "nbformat_minor": 0,
  "metadata": {
    "colab": {
      "provenance": [],
      "collapsed_sections": [
        "Vdm-hmdnRuk4",
        "cXYOffHJURfL",
        "nExhZfgeSkiB",
        "N5jvWgGAUuN8",
        "2dRcOnpMexQu",
        "Bisa458pez_w",
        "Dth0fmN2e4q1",
        "e4Iyev9InYlq",
        "IUe-gcVde8pC",
        "kSwqNneze-T_",
        "mNQKfZ4qiAcf"
      ]
    },
    "kernelspec": {
      "name": "python3",
      "display_name": "Python 3"
    },
    "language_info": {
      "name": "python"
    }
  },
  "cells": [
    {
      "cell_type": "markdown",
      "source": [
        "https://chatgpt.com/share/68168cec-941c-8013-a697-c4afca3cc689"
      ],
      "metadata": {
        "id": "t1E0teQVFpjK"
      }
    },
    {
      "cell_type": "markdown",
      "source": [
        "# Imports"
      ],
      "metadata": {
        "id": "Vdm-hmdnRuk4"
      }
    },
    {
      "cell_type": "code",
      "execution_count": null,
      "metadata": {
        "id": "6kA39PehQf4V"
      },
      "outputs": [],
      "source": [
        "import numpy as np\n",
        "import pandas as pd\n",
        "\n",
        "from sklearn.cluster import KMeans, DBSCAN\n",
        "from sklearn.metrics import confusion_matrix\n",
        "from sklearn.datasets import load_iris, load_digits, load_breast_cancer\n",
        "from sklearn.metrics import accuracy_score, adjusted_rand_score, normalized_mutual_info_score, rand_score\n",
        "\n",
        "import seaborn as sns\n",
        "import matplotlib.pyplot as plt\n",
        "\n",
        "from sklearn.decomposition import PCA\n",
        "from sklearn.preprocessing import MinMaxScaler, StandardScaler\n",
        "\n",
        "from scipy.stats import mode\n",
        "from scipy.optimize import linear_sum_assignment\n",
        "\n",
        "plt.style.use('Solarize_Light2')"
      ]
    },
    {
      "cell_type": "markdown",
      "source": [
        "# Normalization"
      ],
      "metadata": {
        "id": "cXYOffHJURfL"
      }
    },
    {
      "cell_type": "code",
      "source": [
        "def normalization(model, data) -> pd.DataFrame:\n",
        "  # apply normalization techniques\n",
        "  norm = model.fit_transform(data)\n",
        "  return pd.DataFrame(data=norm, columns=data.columns)"
      ],
      "metadata": {
        "id": "hY7CA6gCUU6Z"
      },
      "execution_count": null,
      "outputs": []
    },
    {
      "cell_type": "markdown",
      "source": [
        "# Load Dataset"
      ],
      "metadata": {
        "id": "nExhZfgeSkiB"
      }
    },
    {
      "cell_type": "code",
      "source": [
        "X, y = load_iris(return_X_y=True, as_frame=True)\n",
        "# X, y = load_digits(return_X_y=True, as_frame=True)\n",
        "\n",
        "df = X.copy()\n",
        "df['label'] = y.copy()\n",
        "y_true = y.to_numpy()\n",
        "\n",
        "# # Analysis it\n",
        "# analysis_df = df.iloc[:, 0:4].copy()\n",
        "# analysis_df['label'] = y.copy()\n",
        "# sns.color_palette(\"pastel\")\n",
        "# sns.pairplot(analysis_df, hue='label')\n",
        "# plt.show()\n",
        "\n",
        "# Normalize Iris Data\n",
        "df = df.drop([\"label\"], axis=1)\n",
        "df_norm = normalization(MinMaxScaler(), df)"
      ],
      "metadata": {
        "collapsed": true,
        "id": "6D1Q_A45Sl4-"
      },
      "execution_count": null,
      "outputs": []
    },
    {
      "cell_type": "code",
      "source": [
        "df_norm.head(2)"
      ],
      "metadata": {
        "colab": {
          "base_uri": "https://localhost:8080/",
          "height": 167
        },
        "id": "2Sr_CwUpMT2_",
        "outputId": "3eedc947-75b3-474f-ab01-a3982b47e1f6"
      },
      "execution_count": null,
      "outputs": [
        {
          "output_type": "execute_result",
          "data": {
            "text/plain": [
              "   sepal length (cm)  sepal width (cm)  petal length (cm)  petal width (cm)\n",
              "0           0.222222          0.625000           0.067797          0.041667\n",
              "1           0.166667          0.416667           0.067797          0.041667"
            ],
            "text/html": [
              "\n",
              "  <div id=\"df-73ab8911-022e-4d70-a02f-ebff9c86cb31\" class=\"colab-df-container\">\n",
              "    <div>\n",
              "<style scoped>\n",
              "    .dataframe tbody tr th:only-of-type {\n",
              "        vertical-align: middle;\n",
              "    }\n",
              "\n",
              "    .dataframe tbody tr th {\n",
              "        vertical-align: top;\n",
              "    }\n",
              "\n",
              "    .dataframe thead th {\n",
              "        text-align: right;\n",
              "    }\n",
              "</style>\n",
              "<table border=\"1\" class=\"dataframe\">\n",
              "  <thead>\n",
              "    <tr style=\"text-align: right;\">\n",
              "      <th></th>\n",
              "      <th>sepal length (cm)</th>\n",
              "      <th>sepal width (cm)</th>\n",
              "      <th>petal length (cm)</th>\n",
              "      <th>petal width (cm)</th>\n",
              "    </tr>\n",
              "  </thead>\n",
              "  <tbody>\n",
              "    <tr>\n",
              "      <th>0</th>\n",
              "      <td>0.222222</td>\n",
              "      <td>0.625000</td>\n",
              "      <td>0.067797</td>\n",
              "      <td>0.041667</td>\n",
              "    </tr>\n",
              "    <tr>\n",
              "      <th>1</th>\n",
              "      <td>0.166667</td>\n",
              "      <td>0.416667</td>\n",
              "      <td>0.067797</td>\n",
              "      <td>0.041667</td>\n",
              "    </tr>\n",
              "  </tbody>\n",
              "</table>\n",
              "</div>\n",
              "    <div class=\"colab-df-buttons\">\n",
              "\n",
              "  <div class=\"colab-df-container\">\n",
              "    <button class=\"colab-df-convert\" onclick=\"convertToInteractive('df-73ab8911-022e-4d70-a02f-ebff9c86cb31')\"\n",
              "            title=\"Convert this dataframe to an interactive table.\"\n",
              "            style=\"display:none;\">\n",
              "\n",
              "  <svg xmlns=\"http://www.w3.org/2000/svg\" height=\"24px\" viewBox=\"0 -960 960 960\">\n",
              "    <path d=\"M120-120v-720h720v720H120Zm60-500h600v-160H180v160Zm220 220h160v-160H400v160Zm0 220h160v-160H400v160ZM180-400h160v-160H180v160Zm440 0h160v-160H620v160ZM180-180h160v-160H180v160Zm440 0h160v-160H620v160Z\"/>\n",
              "  </svg>\n",
              "    </button>\n",
              "\n",
              "  <style>\n",
              "    .colab-df-container {\n",
              "      display:flex;\n",
              "      gap: 12px;\n",
              "    }\n",
              "\n",
              "    .colab-df-convert {\n",
              "      background-color: #E8F0FE;\n",
              "      border: none;\n",
              "      border-radius: 50%;\n",
              "      cursor: pointer;\n",
              "      display: none;\n",
              "      fill: #1967D2;\n",
              "      height: 32px;\n",
              "      padding: 0 0 0 0;\n",
              "      width: 32px;\n",
              "    }\n",
              "\n",
              "    .colab-df-convert:hover {\n",
              "      background-color: #E2EBFA;\n",
              "      box-shadow: 0px 1px 2px rgba(60, 64, 67, 0.3), 0px 1px 3px 1px rgba(60, 64, 67, 0.15);\n",
              "      fill: #174EA6;\n",
              "    }\n",
              "\n",
              "    .colab-df-buttons div {\n",
              "      margin-bottom: 4px;\n",
              "    }\n",
              "\n",
              "    [theme=dark] .colab-df-convert {\n",
              "      background-color: #3B4455;\n",
              "      fill: #D2E3FC;\n",
              "    }\n",
              "\n",
              "    [theme=dark] .colab-df-convert:hover {\n",
              "      background-color: #434B5C;\n",
              "      box-shadow: 0px 1px 3px 1px rgba(0, 0, 0, 0.15);\n",
              "      filter: drop-shadow(0px 1px 2px rgba(0, 0, 0, 0.3));\n",
              "      fill: #FFFFFF;\n",
              "    }\n",
              "  </style>\n",
              "\n",
              "    <script>\n",
              "      const buttonEl =\n",
              "        document.querySelector('#df-73ab8911-022e-4d70-a02f-ebff9c86cb31 button.colab-df-convert');\n",
              "      buttonEl.style.display =\n",
              "        google.colab.kernel.accessAllowed ? 'block' : 'none';\n",
              "\n",
              "      async function convertToInteractive(key) {\n",
              "        const element = document.querySelector('#df-73ab8911-022e-4d70-a02f-ebff9c86cb31');\n",
              "        const dataTable =\n",
              "          await google.colab.kernel.invokeFunction('convertToInteractive',\n",
              "                                                    [key], {});\n",
              "        if (!dataTable) return;\n",
              "\n",
              "        const docLinkHtml = 'Like what you see? Visit the ' +\n",
              "          '<a target=\"_blank\" href=https://colab.research.google.com/notebooks/data_table.ipynb>data table notebook</a>'\n",
              "          + ' to learn more about interactive tables.';\n",
              "        element.innerHTML = '';\n",
              "        dataTable['output_type'] = 'display_data';\n",
              "        await google.colab.output.renderOutput(dataTable, element);\n",
              "        const docLink = document.createElement('div');\n",
              "        docLink.innerHTML = docLinkHtml;\n",
              "        element.appendChild(docLink);\n",
              "      }\n",
              "    </script>\n",
              "  </div>\n",
              "\n",
              "\n",
              "    <div id=\"df-43b63196-edb4-4b15-a506-43c724ed34b8\">\n",
              "      <button class=\"colab-df-quickchart\" onclick=\"quickchart('df-43b63196-edb4-4b15-a506-43c724ed34b8')\"\n",
              "                title=\"Suggest charts\"\n",
              "                style=\"display:none;\">\n",
              "\n",
              "<svg xmlns=\"http://www.w3.org/2000/svg\" height=\"24px\"viewBox=\"0 0 24 24\"\n",
              "     width=\"24px\">\n",
              "    <g>\n",
              "        <path d=\"M19 3H5c-1.1 0-2 .9-2 2v14c0 1.1.9 2 2 2h14c1.1 0 2-.9 2-2V5c0-1.1-.9-2-2-2zM9 17H7v-7h2v7zm4 0h-2V7h2v10zm4 0h-2v-4h2v4z\"/>\n",
              "    </g>\n",
              "</svg>\n",
              "      </button>\n",
              "\n",
              "<style>\n",
              "  .colab-df-quickchart {\n",
              "      --bg-color: #E8F0FE;\n",
              "      --fill-color: #1967D2;\n",
              "      --hover-bg-color: #E2EBFA;\n",
              "      --hover-fill-color: #174EA6;\n",
              "      --disabled-fill-color: #AAA;\n",
              "      --disabled-bg-color: #DDD;\n",
              "  }\n",
              "\n",
              "  [theme=dark] .colab-df-quickchart {\n",
              "      --bg-color: #3B4455;\n",
              "      --fill-color: #D2E3FC;\n",
              "      --hover-bg-color: #434B5C;\n",
              "      --hover-fill-color: #FFFFFF;\n",
              "      --disabled-bg-color: #3B4455;\n",
              "      --disabled-fill-color: #666;\n",
              "  }\n",
              "\n",
              "  .colab-df-quickchart {\n",
              "    background-color: var(--bg-color);\n",
              "    border: none;\n",
              "    border-radius: 50%;\n",
              "    cursor: pointer;\n",
              "    display: none;\n",
              "    fill: var(--fill-color);\n",
              "    height: 32px;\n",
              "    padding: 0;\n",
              "    width: 32px;\n",
              "  }\n",
              "\n",
              "  .colab-df-quickchart:hover {\n",
              "    background-color: var(--hover-bg-color);\n",
              "    box-shadow: 0 1px 2px rgba(60, 64, 67, 0.3), 0 1px 3px 1px rgba(60, 64, 67, 0.15);\n",
              "    fill: var(--button-hover-fill-color);\n",
              "  }\n",
              "\n",
              "  .colab-df-quickchart-complete:disabled,\n",
              "  .colab-df-quickchart-complete:disabled:hover {\n",
              "    background-color: var(--disabled-bg-color);\n",
              "    fill: var(--disabled-fill-color);\n",
              "    box-shadow: none;\n",
              "  }\n",
              "\n",
              "  .colab-df-spinner {\n",
              "    border: 2px solid var(--fill-color);\n",
              "    border-color: transparent;\n",
              "    border-bottom-color: var(--fill-color);\n",
              "    animation:\n",
              "      spin 1s steps(1) infinite;\n",
              "  }\n",
              "\n",
              "  @keyframes spin {\n",
              "    0% {\n",
              "      border-color: transparent;\n",
              "      border-bottom-color: var(--fill-color);\n",
              "      border-left-color: var(--fill-color);\n",
              "    }\n",
              "    20% {\n",
              "      border-color: transparent;\n",
              "      border-left-color: var(--fill-color);\n",
              "      border-top-color: var(--fill-color);\n",
              "    }\n",
              "    30% {\n",
              "      border-color: transparent;\n",
              "      border-left-color: var(--fill-color);\n",
              "      border-top-color: var(--fill-color);\n",
              "      border-right-color: var(--fill-color);\n",
              "    }\n",
              "    40% {\n",
              "      border-color: transparent;\n",
              "      border-right-color: var(--fill-color);\n",
              "      border-top-color: var(--fill-color);\n",
              "    }\n",
              "    60% {\n",
              "      border-color: transparent;\n",
              "      border-right-color: var(--fill-color);\n",
              "    }\n",
              "    80% {\n",
              "      border-color: transparent;\n",
              "      border-right-color: var(--fill-color);\n",
              "      border-bottom-color: var(--fill-color);\n",
              "    }\n",
              "    90% {\n",
              "      border-color: transparent;\n",
              "      border-bottom-color: var(--fill-color);\n",
              "    }\n",
              "  }\n",
              "</style>\n",
              "\n",
              "      <script>\n",
              "        async function quickchart(key) {\n",
              "          const quickchartButtonEl =\n",
              "            document.querySelector('#' + key + ' button');\n",
              "          quickchartButtonEl.disabled = true;  // To prevent multiple clicks.\n",
              "          quickchartButtonEl.classList.add('colab-df-spinner');\n",
              "          try {\n",
              "            const charts = await google.colab.kernel.invokeFunction(\n",
              "                'suggestCharts', [key], {});\n",
              "          } catch (error) {\n",
              "            console.error('Error during call to suggestCharts:', error);\n",
              "          }\n",
              "          quickchartButtonEl.classList.remove('colab-df-spinner');\n",
              "          quickchartButtonEl.classList.add('colab-df-quickchart-complete');\n",
              "        }\n",
              "        (() => {\n",
              "          let quickchartButtonEl =\n",
              "            document.querySelector('#df-43b63196-edb4-4b15-a506-43c724ed34b8 button');\n",
              "          quickchartButtonEl.style.display =\n",
              "            google.colab.kernel.accessAllowed ? 'block' : 'none';\n",
              "        })();\n",
              "      </script>\n",
              "    </div>\n",
              "    </div>\n",
              "  </div>\n"
            ],
            "application/vnd.google.colaboratory.intrinsic+json": {
              "type": "dataframe",
              "variable_name": "df_norm",
              "summary": "{\n  \"name\": \"df_norm\",\n  \"rows\": 150,\n  \"fields\": [\n    {\n      \"column\": \"sepal length (cm)\",\n      \"properties\": {\n        \"dtype\": \"number\",\n        \"std\": 0.23001836888273966,\n        \"min\": 0.0,\n        \"max\": 1.0,\n        \"num_unique_values\": 35,\n        \"samples\": [\n          0.5277777777777779,\n          0.05555555555555558,\n          0.36111111111111094\n        ],\n        \"semantic_type\": \"\",\n        \"description\": \"\"\n      }\n    },\n    {\n      \"column\": \"sepal width (cm)\",\n      \"properties\": {\n        \"dtype\": \"number\",\n        \"std\": 0.1816109520569575,\n        \"min\": 0.0,\n        \"max\": 1.0,\n        \"num_unique_values\": 23,\n        \"samples\": [\n          0.12499999999999989,\n          0.8333333333333333,\n          0.625\n        ],\n        \"semantic_type\": \"\",\n        \"description\": \"\"\n      }\n    },\n    {\n      \"column\": \"petal length (cm)\",\n      \"properties\": {\n        \"dtype\": \"number\",\n        \"std\": 0.2992030903829601,\n        \"min\": 0.0,\n        \"max\": 1.0,\n        \"num_unique_values\": 43,\n        \"samples\": [\n          0.9661016949152543,\n          0.47457627118644063,\n          0.4576271186440678\n        ],\n        \"semantic_type\": \"\",\n        \"description\": \"\"\n      }\n    },\n    {\n      \"column\": \"petal width (cm)\",\n      \"properties\": {\n        \"dtype\": \"number\",\n        \"std\": 0.31759902873347784,\n        \"min\": 0.0,\n        \"max\": 1.0,\n        \"num_unique_values\": 22,\n        \"samples\": [\n          0.04166666666666667,\n          0.4583333333333333,\n          0.5000000000000001\n        ],\n        \"semantic_type\": \"\",\n        \"description\": \"\"\n      }\n    }\n  ]\n}"
            }
          },
          "metadata": {},
          "execution_count": 94
        }
      ]
    },
    {
      "cell_type": "markdown",
      "source": [
        "## Choose k, eps and X, Y cols"
      ],
      "metadata": {
        "id": "f2hCbfDL_IJF"
      }
    },
    {
      "cell_type": "code",
      "source": [
        "k = len(np.unique(y_true))\n",
        "\n",
        "# Iris\n",
        "eps = 0.128\n",
        "x_col = \"petal length (cm)\"\n",
        "y_col = \"petal width (cm)\"\n",
        "\n",
        "# # Digits\n",
        "# eps = 1.30\n",
        "# x_col = \"pixel_0_2\"\n",
        "# y_col = \"pixel_0_3\""
      ],
      "metadata": {
        "id": "GAFCybPk_NW9"
      },
      "execution_count": null,
      "outputs": []
    },
    {
      "cell_type": "markdown",
      "source": [
        "# K-Means and DB-Scan"
      ],
      "metadata": {
        "id": "N5jvWgGAUuN8"
      }
    },
    {
      "cell_type": "code",
      "source": [
        "# Perform KMeans and DBScan clustering\n",
        "kmeans = KMeans(n_clusters=k)\n",
        "y_pred_k_means = kmeans.fit_predict(df_norm)\n",
        "\n",
        "dbscan = DBSCAN(eps=eps)\n",
        "y_pred_db_scan = dbscan.fit_predict(df_norm)"
      ],
      "metadata": {
        "id": "-a4da2p1Uvmr"
      },
      "execution_count": null,
      "outputs": []
    },
    {
      "cell_type": "markdown",
      "source": [
        "## Before Mapping\n",
        "| Sample | True Label | Predicted Label |\n",
        "| ------ | ---------- | --------------- |\n",
        "| A      | 0          | 1               |\n",
        "| B      | 0          | 1               |\n",
        "| C      | 1          | 1               |\n",
        "| D      | 1          | 1               |\n",
        "| E      | 2          | 0               |\n",
        "| F      | 2          | 0               |\n",
        "\n",
        "0 = 1: 2\n",
        "1 = 1: 2\n",
        "In this case wh change predicted label 1 to be 0 (min label)\n",
        "And predicted label 0 to be 2 (2 = 0: 2)\n",
        "\n",
        "### After Mapping\n",
        "| Sample | True Label | Predicted Label |\n",
        "| ------ | ---------- | --------------- |\n",
        "| A      | 0          | 0               |\n",
        "| B      | 0          | 0               |\n",
        "| C      | 1          | 0               |\n",
        "| D      | 1          | 0               |\n",
        "| E      | 2          | 2               |\n",
        "| F      | 2          | 2               |"
      ],
      "metadata": {
        "id": "Q0G_rkivukFs"
      }
    },
    {
      "cell_type": "code",
      "source": [
        "# map each cluster index to the correct label.\n",
        "def map_clusters_to_labels(y_true, y_pred):\n",
        "    labels = np.zeros_like(y_pred)\n",
        "    for cluster in np.unique(y_pred):\n",
        "        mask = y_pred == cluster\n",
        "        labels[mask] = mode(y_true[mask], keepdims=True).mode[0]\n",
        "    return labels\n",
        "\n",
        "def reorder_confusion_matrix(cm):\n",
        "    # Hungarian algorithm minimizes cost, so we negate to maximize diagonal\n",
        "    row_ind, col_ind = linear_sum_assignment(-cm)\n",
        "\n",
        "    # Reorder columns based on optimal assignment\n",
        "    reordered_cm = cm[:, col_ind]\n",
        "    return reordered_cm"
      ],
      "metadata": {
        "id": "1OMsHRWA1Rit"
      },
      "execution_count": null,
      "outputs": []
    },
    {
      "cell_type": "code",
      "source": [
        "# new versions of y_preds\n",
        "k_means_labels = map_clusters_to_labels(y_true, y_pred_k_means)\n",
        "\n",
        "# remove noises\n",
        "dbscan_core_pred = y_pred_db_scan[y_pred_db_scan != -1]\n",
        "dbscan_core_true = y_true[y_pred_db_scan != -1]\n",
        "\n",
        "db_scan_labels = map_clusters_to_labels(dbscan_core_true, dbscan_core_pred)"
      ],
      "metadata": {
        "id": "WipGOUjn1kcK"
      },
      "execution_count": null,
      "outputs": []
    },
    {
      "cell_type": "code",
      "source": [
        "def plot_subplots(df, labels_list, titles, x_name, y_name):\n",
        "    # Create a figure with 1 row and 3 columns\n",
        "    fig, axes = plt.subplots(1, 3, figsize=(15, 5), sharex=True, sharey=True)\n",
        "\n",
        "    # Iterate over labels, titles, and subplot axes\n",
        "    for i, (labels, title, ax) in enumerate(zip(labels_list, titles, axes)):\n",
        "        # Copy DataFrame to avoid modifying the original\n",
        "        df_temp = df.copy()\n",
        "        # Add labels to DataFrame\n",
        "        df_temp[\"label\"] = labels\n",
        "\n",
        "        # Filter out data points with label -1 (e.g., noise in DBSCAN)\n",
        "        df_temp = df_temp[labels != -1]\n",
        "        # Filter corresponding labels\n",
        "        labels_filtered = labels[labels != -1]\n",
        "\n",
        "        # Create scatter plot\n",
        "        sns.scatterplot(\n",
        "            x=x_name,\n",
        "            y=y_name,\n",
        "            data=df_temp,\n",
        "            hue=\"label\",\n",
        "            palette=\"tab10\",\n",
        "            s=40,\n",
        "            ax=ax\n",
        "        )\n",
        "        ax.set_title(title)\n",
        "        ax.get_legend().remove()\n",
        "\n",
        "    # Adjust layout to prevent overlap\n",
        "    plt.tight_layout()\n",
        "    plt.show()"
      ],
      "metadata": {
        "id": "rJ3JGkf_McuV"
      },
      "execution_count": null,
      "outputs": []
    },
    {
      "cell_type": "code",
      "source": [
        "# Prepare data for plotting\n",
        "labels_list = [y_true, k_means_labels, y_pred_db_scan]\n",
        "titles = [\"Orig\", \"K-Means\", \"DB-Scan\"]\n",
        "\n",
        "# Call the function\n",
        "plot_subplots(df_norm, labels_list, titles, x_col, y_col)"
      ],
      "metadata": {
        "colab": {
          "base_uri": "https://localhost:8080/",
          "height": 54
        },
        "id": "H7R7Xkq_P5Pn",
        "outputId": "65b8f10b-92e2-405c-bd5f-27dafce23501"
      },
      "execution_count": null,
      "outputs": [
        {
          "output_type": "display_data",
          "data": {
            "text/plain": [
              "<Figure size 1500x500 with 3 Axes>"
            ],
            "image/png": "[encoded data removed]"
          },
          "metadata": {}
        }
      ]
    },
    {
      "cell_type": "markdown",
      "source": [
        "# Confusion Matrix\n",
        "\n",
        "Off-diagonal values are misclassifications"
      ],
      "metadata": {
        "id": "E8eT2oPgYgxJ"
      }
    },
    {
      "cell_type": "code",
      "source": [
        "def heatmap(cm_k_means, cm_db_scan):\n",
        "    # Create subplots: 1 row, 2 columns\n",
        "    fig, axes = plt.subplots(1, 2, figsize=(10, 4))  # Width increases for better spacing\n",
        "\n",
        "    # First subplot: K-Means\n",
        "    sns.heatmap(cm_k_means, annot=True, fmt='d', cmap='RdPu', ax=axes[0])\n",
        "    axes[0].set_xlabel('Predicted Cluster')\n",
        "    axes[0].set_ylabel('True Cluster')\n",
        "    axes[0].set_title('K-Means')\n",
        "\n",
        "    # Second subplot: DBScan\n",
        "    sns.heatmap(cm_db_scan[:k + 1, :], annot=True, fmt='d', cmap='RdPu', ax=axes[1])\n",
        "    axes[1].set_xlabel('Predicted Cluster')\n",
        "    axes[1].set_ylabel('True Cluster')\n",
        "    axes[1].set_title('DB-Scan')\n",
        "\n",
        "    plt.tight_layout()\n",
        "    plt.show()"
      ],
      "metadata": {
        "id": "t-2POF8XQD2_"
      },
      "execution_count": null,
      "outputs": []
    },
    {
      "cell_type": "code",
      "source": [
        "def confusion_matrix_heatmap(k_means_preds, db_scan_preds, y_true_db_scan):\n",
        "  # Build confusion matrix\n",
        "  cm_k_means = confusion_matrix(y_true, k_means_preds)\n",
        "  cm_db_scan = confusion_matrix(y_true_db_scan, db_scan_preds)\n",
        "\n",
        "  heatmap(cm_k_means, cm_db_scan)\n",
        "\n",
        "  return (cm_k_means, cm_db_scan)"
      ],
      "metadata": {
        "id": "lHTo8fpCVORe"
      },
      "execution_count": null,
      "outputs": []
    },
    {
      "cell_type": "code",
      "source": [
        "# not map\n",
        "cm_k_means_not_mapped, cm_db_scan_not_mapped = confusion_matrix_heatmap(y_pred_k_means, y_pred_db_scan, y_true)\n",
        "# simple map\n",
        "# cm_k_means_simple_map, cm_db_scan_simple_map = reorder_confusion_matrix(cm_k_means_not_mapped), reorder_confusion_matrix(cm_db_scan_not_mapped)\n",
        "# heatmap(cm_k_means_simple_map, cm_db_scan_simple_map[:, :k+1])\n",
        "# mode map\n",
        "cm_k_means, cm_db_scan = confusion_matrix_heatmap(k_means_labels, db_scan_labels, dbscan_core_true)"
      ],
      "metadata": {
        "colab": {
          "base_uri": "https://localhost:8080/",
          "height": 72
        },
        "id": "EYBiNxSx7XW_",
        "outputId": "60419cd9-a6ba-4fe9-f1e8-b768e32b30c0"
      },
      "execution_count": null,
      "outputs": [
        {
          "output_type": "display_data",
          "data": {
            "text/plain": [
              "<Figure size 1000x400 with 4 Axes>"
            ],
            "image/png": "[encoded data removed]"
          },
          "metadata": {}
        },
        {
          "output_type": "display_data",
          "data": {
            "text/plain": [
              "<Figure size 1000x400 with 4 Axes>"
            ],
            "image/png": "[encoded data removed]"
          },
          "metadata": {}
        }
      ]
    },
    {
      "cell_type": "markdown",
      "source": [
        "# Accuracy\n",
        "* Accuracy compares predicted label vs. true label for each sample (Direct match required)\n",
        "* Used in supervised classification\n",
        "* The accuracy is n%, meaning the model correctly predicted n% of all samples.\n"
      ],
      "metadata": {
        "id": "2dRcOnpMexQu"
      }
    },
    {
      "cell_type": "code",
      "source": [
        "def calculate_accuracy(confusion_matrix):\n",
        "    \"\"\"\n",
        "    Calculate accuracy from the confusion matrix.\n",
        "    Accuracy is the ratio of correct predictions to total samples.\n",
        "\n",
        "    Args:\n",
        "    confusion_matrix (np.array): The confusion matrix.\n",
        "\n",
        "    Returns:\n",
        "    float: Accuracy value.\n",
        "    \"\"\"\n",
        "    # Total correct predictions are the sum of the diagonal elements\n",
        "    correct_predictions = np.trace(confusion_matrix)\n",
        "\n",
        "    # Total samples is the sum of all elements in the confusion matrix\n",
        "    total_samples = np.sum(confusion_matrix)\n",
        "\n",
        "    # Calculate accuracy\n",
        "    accuracy = correct_predictions / total_samples\n",
        "    return accuracy"
      ],
      "metadata": {
        "id": "Wrdhd7m_ssZP"
      },
      "execution_count": null,
      "outputs": []
    },
    {
      "cell_type": "code",
      "source": [
        "km_accuracy = calculate_accuracy(cm_k_means)\n",
        "print(f\"K-Means Accuracy: {km_accuracy:.2%}\")\n",
        "\n",
        "db_accuracy = calculate_accuracy(cm_db_scan)\n",
        "print(f\"DB-Scan Accuracy (excluding noise): {db_accuracy:.2%}\")"
      ],
      "metadata": {
        "colab": {
          "base_uri": "https://localhost:8080/"
        },
        "id": "nkt9SepUGaYP",
        "outputId": "3c61bce8-8f52-475a-85d9-066fe0c66fcb"
      },
      "execution_count": null,
      "outputs": [
        {
          "output_type": "stream",
          "name": "stdout",
          "text": [
            "K-Means Accuracy: 88.00%\n",
            "DB-Scan Accuracy (excluding noise): 97.41%\n"
          ]
        }
      ]
    },
    {
      "cell_type": "markdown",
      "source": [
        "# Purity\n",
        "* Uses majority vote per cluster\n",
        "* Fetch maximum value from each predict row and add them up and divide the result by the total number of observations\n",
        "* Purity is a clustering evaluation metric."
      ],
      "metadata": {
        "id": "Bisa458pez_w"
      }
    },
    {
      "cell_type": "code",
      "source": [
        "def cal_purity(confusion_mat, name: str) -> None:\n",
        "    rows_max_sum = 0\n",
        "    for row in confusion_mat.T:\n",
        "        rows_max_sum += max(row) # row -> predicted col\n",
        "\n",
        "    print(f\"{name} purity is {rows_max_sum / np.sum(confusion_mat):.2%}\")"
      ],
      "metadata": {
        "id": "o9dF9Po_g8eO"
      },
      "execution_count": null,
      "outputs": []
    },
    {
      "cell_type": "code",
      "source": [
        "cal_purity(cm_k_means_not_mapped, \"Iris K-Mean\")\n",
        "cal_purity(cm_db_scan_not_mapped[:, 1:], \"Iris DB-Scan\")"
      ],
      "metadata": {
        "colab": {
          "base_uri": "https://localhost:8080/"
        },
        "id": "Z6A_env-hSvR",
        "outputId": "53b3f936-bffb-4085-90ae-611b7e86b035"
      },
      "execution_count": null,
      "outputs": [
        {
          "output_type": "stream",
          "name": "stdout",
          "text": [
            "Iris K-Mean purity is 88.00%\n",
            "Iris DB-Scan purity is 97.41%\n"
          ]
        }
      ]
    },
    {
      "cell_type": "markdown",
      "source": [
        "# Accuracy vs Purity\n",
        "Using not mapped cm"
      ],
      "metadata": {
        "id": "fBK5xmLUs8v7"
      }
    },
    {
      "cell_type": "code",
      "source": [
        "km_accuracy = calculate_accuracy(cm_k_means_not_mapped)\n",
        "print(f\"K-Means Accuracy: {km_accuracy:.2%}\")\n",
        "\n",
        "cal_purity(cm_k_means_not_mapped, \"Iris K-Mean\")"
      ],
      "metadata": {
        "colab": {
          "base_uri": "https://localhost:8080/"
        },
        "id": "Qh35g00FtI__",
        "outputId": "5267681f-a8dc-4be8-dd49-e1a7ca976beb"
      },
      "execution_count": null,
      "outputs": [
        {
          "output_type": "stream",
          "name": "stdout",
          "text": [
            "K-Means Accuracy: 5.33%\n",
            "Iris K-Mean purity is 88.00%\n"
          ]
        }
      ]
    },
    {
      "cell_type": "markdown",
      "source": [
        "# Precision\n",
        "Precision = True Positives / (True Positives + False Positives)\n",
        "\n",
        "n% of the samples predicted as cluster m were actually m.\n",
        "\n",
        "using predicted columns"
      ],
      "metadata": {
        "id": "Dth0fmN2e4q1"
      }
    },
    {
      "cell_type": "code",
      "source": [
        "def cal_precision(confusion_mat, name: str):\n",
        "    precisions = []\n",
        "    print(f\"\\n{name} - standard precision\")\n",
        "    cm = np.array(confusion_mat)\n",
        "    for i in range(cm.shape[0]):\n",
        "        col = cm[:, i]\n",
        "        if np.sum(col) == 0:\n",
        "            precisions.append(0)\n",
        "            continue\n",
        "        precision = cm[i][i] / np.sum(col)\n",
        "        precisions.append(precision)\n",
        "        print(f\"Cluster {i} precision: {precision:.2%}\")\n",
        "\n",
        "    return precisions"
      ],
      "metadata": {
        "id": "bRcEcR0KYAxk"
      },
      "execution_count": null,
      "outputs": []
    },
    {
      "cell_type": "code",
      "source": [
        "k_mean_precisions = cal_precision(cm_k_means, \"Iris K-Mean\")\n",
        "db_scan_precisions = cal_precision(cm_db_scan, \"Iris DB-Scan\")"
      ],
      "metadata": {
        "colab": {
          "base_uri": "https://localhost:8080/"
        },
        "id": "QmPapJ9mgE79",
        "outputId": "ae56a495-57e6-4b8e-bbac-ac20a33e140a"
      },
      "execution_count": null,
      "outputs": [
        {
          "output_type": "stream",
          "name": "stdout",
          "text": [
            "\n",
            "Iris K-Mean - standard precision\n",
            "Cluster 0 precision: 100.00%\n",
            "Cluster 1 precision: 83.33%\n",
            "Cluster 2 precision: 80.77%\n",
            "\n",
            "Iris DB-Scan - standard precision\n",
            "Cluster 0 precision: 100.00%\n",
            "Cluster 1 precision: 97.50%\n",
            "Cluster 2 precision: 93.55%\n"
          ]
        }
      ]
    },
    {
      "cell_type": "markdown",
      "source": [
        "## Weighted Precision\n",
        "To calculate the weighted average precision, we will multiply the precision of each label and multiply them with their sample size and divide it by the total number of samples we just found"
      ],
      "metadata": {
        "id": "p-tvArTBJ3IM"
      }
    },
    {
      "cell_type": "code",
      "source": [
        "# each row = sample size\n",
        "avg_precision_k = np.sum(k_mean_precisions * np.array([np.sum(row) for row in cm_k_means])) / np.sum(cm_k_means)\n",
        "avg_precision_d = np.sum(db_scan_precisions * np.array([np.sum(row) for row in cm_db_scan])) / np.sum(cm_db_scan)\n",
        "\n",
        "print(f\"Weighted Precision K_Means: {avg_precision_k:.2%}\")\n",
        "print(f\"Weighted Precision DB_Scan: {avg_precision_d:.2%}\")\n",
        "print(f\"Without Weight Precision DB_Scan: {sum(db_scan_precisions) / len(db_scan_precisions):.2%}\")"
      ],
      "metadata": {
        "colab": {
          "base_uri": "https://localhost:8080/"
        },
        "id": "CcsLEz8OKEym",
        "outputId": "9219447a-b8bc-4ac9-a8b3-a59676e55d55"
      },
      "execution_count": null,
      "outputs": [
        {
          "output_type": "stream",
          "name": "stdout",
          "text": [
            "Weighted Precision K_Means: 88.03%\n",
            "Weighted Precision DB_Scan: 97.45%\n",
            "Without Weight Precision DB_Scan: 97.02%\n"
          ]
        }
      ]
    },
    {
      "cell_type": "markdown",
      "source": [
        "# Recall\n",
        "### measures how often a machine learning model correctly identifies positive instances (true positives) from all the actual positive samples in the dataset (Quantity)"
      ],
      "metadata": {
        "id": "e4Iyev9InYlq"
      }
    },
    {
      "cell_type": "code",
      "source": [
        "def cal_recall(confusion_mat, name: str):\n",
        "    print(f\"\\n{name} - recall\")\n",
        "    cm = np.array(confusion_mat)\n",
        "    for i in range(cm.shape[0]):\n",
        "        row_sum = np.sum(cm[i, :])\n",
        "        if row_sum == 0:\n",
        "            continue\n",
        "        # precision = cm[i][i] / len((y_true[y_true == i])) # use all true labels include noises\n",
        "        recall = cm[i][i] / row_sum\n",
        "        print(f\"Cluster {i} recall: {recall:.2%}\")"
      ],
      "metadata": {
        "id": "XuVi9bGUnmEC"
      },
      "execution_count": null,
      "outputs": []
    },
    {
      "cell_type": "code",
      "source": [
        "cal_recall(cm_k_means, \"Iris K-Mean\")\n",
        "cal_recall(cm_db_scan, \"Iris DB-Scan\")"
      ],
      "metadata": {
        "colab": {
          "base_uri": "https://localhost:8080/"
        },
        "id": "CQB4_62Vn1KU",
        "outputId": "7d75ea35-68c8-400d-fa5e-44003dc9db7f"
      },
      "execution_count": null,
      "outputs": [
        {
          "output_type": "stream",
          "name": "stdout",
          "text": [
            "\n",
            "Iris K-Mean - recall\n",
            "Cluster 0 recall: 100.00%\n",
            "Cluster 1 recall: 80.00%\n",
            "Cluster 2 recall: 84.00%\n",
            "\n",
            "Iris DB-Scan - recall\n",
            "Cluster 0 recall: 100.00%\n",
            "Cluster 1 recall: 95.12%\n",
            "Cluster 2 recall: 96.67%\n"
          ]
        }
      ]
    },
    {
      "cell_type": "markdown",
      "source": [
        "# F1-Score"
      ],
      "metadata": {
        "id": "TYF2GuCd1Rqk"
      }
    },
    {
      "cell_type": "code",
      "source": [
        "def cal_f1_score(confusion_mat, name: str):\n",
        "    f1_scores = []\n",
        "    print(f\"\\n{name} - f1-scores\")\n",
        "    cm = np.array(confusion_mat)\n",
        "    for i in range(cm.shape[0]):\n",
        "        row_sum = np.sum(cm[i, :])\n",
        "        col_sum = np.sum(cm[:, i])\n",
        "\n",
        "        if row_sum == 0 or col_sum == 0:\n",
        "          f1_scores.append(0)\n",
        "          continue\n",
        "\n",
        "        recall = cm[i][i] / row_sum\n",
        "        precision = cm[i][i] / col_sum\n",
        "\n",
        "        f1 = (2 * recall * precision) / (recall + precision)\n",
        "        f1_scores.append(f1)\n",
        "        print(f\"Cluster {i} f1 score: {f1:.3}\")\n",
        "    return f1_scores"
      ],
      "metadata": {
        "id": "vQJGe8Cr1VEv"
      },
      "execution_count": null,
      "outputs": []
    },
    {
      "cell_type": "code",
      "source": [
        "f1_scores_k = cal_f1_score(cm_k_means, \"Iris K-Mean\")\n",
        "f1_scores_db = cal_f1_score(cm_db_scan, \"Iris DB-Scan\")"
      ],
      "metadata": {
        "colab": {
          "base_uri": "https://localhost:8080/"
        },
        "id": "LKEDOs4a2tQB",
        "outputId": "1011b8a5-8119-48c3-b71d-960dc38d5536"
      },
      "execution_count": null,
      "outputs": [
        {
          "output_type": "stream",
          "name": "stdout",
          "text": [
            "\n",
            "Iris K-Mean - f1-scores\n",
            "Cluster 0 f1 score: 1.0\n",
            "Cluster 1 f1 score: 0.816\n",
            "Cluster 2 f1 score: 0.824\n",
            "\n",
            "Iris DB-Scan - f1-scores\n",
            "Cluster 0 f1 score: 1.0\n",
            "Cluster 1 f1 score: 0.963\n",
            "Cluster 2 f1 score: 0.951\n"
          ]
        }
      ]
    },
    {
      "cell_type": "markdown",
      "source": [
        "## Wrighted F1 Score"
      ],
      "metadata": {
        "id": "kyIjSKoiPay0"
      }
    },
    {
      "cell_type": "code",
      "source": [
        "# each row = sample size\n",
        "avg_f1_k = np.sum(f1_scores_k * np.array([np.sum(row) for row in cm_k_means])) / np.sum(cm_k_means)\n",
        "avg_f1_db = np.sum(f1_scores_db * np.array([np.sum(row) for row in cm_db_scan])) / np.sum(cm_db_scan)\n",
        "\n",
        "print(f\"Weighted f1 score avg K_Means: {avg_f1_k:.2}\")\n",
        "print(f\"Weighted f1 score avg DB_Scan: {avg_f1_db:.2}\")"
      ],
      "metadata": {
        "colab": {
          "base_uri": "https://localhost:8080/"
        },
        "id": "ho8cQhG-PkN4",
        "outputId": "28b5a7f7-2dce-4794-8322-6b9d24a8eaa2"
      },
      "execution_count": null,
      "outputs": [
        {
          "output_type": "stream",
          "name": "stdout",
          "text": [
            "Weighted f1 score avg K_Means: 0.88\n",
            "Weighted f1 score avg DB_Scan: 0.97\n"
          ]
        }
      ]
    },
    {
      "cell_type": "markdown",
      "source": [
        "# RI 0 to 1\n",
        "\n",
        "| Property            | Value                                 |\n",
        "| ------------------- | ------------------------------------- |\n",
        "| **Range**           | 0 to 1                                |\n",
        "\n",
        "✅ What a High RI Means:\n",
        "\n",
        "* Your clustering is mostly consistent with the ground truth.\n",
        "\n",
        "* Most sample pairs are treated the same way (together/apart) in both clusterings.\n",
        "\n",
        "## Suppose you have 4 samples: A, B, C, D.\n",
        "\n",
        "You look at all pairs:\n",
        "\n",
        "    AB, AC, AD, BC, BD, CD\n",
        "\n",
        "Compute a, b:\n",
        "\n",
        "    Diff in true, diff in predicted (b += 1)\n",
        "\n",
        "    Same in true, same in predicted (a += 1)\n",
        "\n",
        "RI = (a + b) / len(all_pairs)"
      ],
      "metadata": {
        "id": "IUe-gcVde8pC"
      }
    },
    {
      "cell_type": "code",
      "source": [
        "ari_k_means = rand_score(y_true, y_pred_db_scan)\n",
        "ari_db_scan = rand_score(dbscan_core_true, y_pred_db_scan[y_pred_db_scan != -1])\n",
        "\n",
        "print(f\"RI K-Means: {ari_k_means:.3f}\")\n",
        "print(f\"RI DB-Scan: {ari_db_scan:.3f}\")"
      ],
      "metadata": {
        "colab": {
          "base_uri": "https://localhost:8080/"
        },
        "id": "3nyeweHTfB1v",
        "outputId": "6ed4dcdb-3b93-4b87-84e9-893004834914"
      },
      "execution_count": null,
      "outputs": [
        {
          "output_type": "stream",
          "name": "stdout",
          "text": [
            "RI K-Means: 0.846\n",
            "RI DB-Scan: 0.969\n"
          ]
        }
      ]
    },
    {
      "cell_type": "markdown",
      "source": [
        "# NMI\n",
        "\n",
        "| Property            | Value                                 |\n",
        "| ------------------- | ------------------------------------- |\n",
        "| **Range**           | 0 to 1                                |\n",
        "| **1.0**             | Perfect match                         |\n",
        "| **0.0**             | Totally independent                   |\n",
        "\n",
        "\n",
        "How much information is shared between the predicted and true clusterings.\n",
        "\n",
        "\n",
        "| Aspect                                   | RI           | NMI                |\n",
        "| ---------------------------------------- | ------------ | ------------------ |\n",
        "| Focus                                    | Sample pairs | Information theory |\n",
        "| Sensitive to class imbalance?            | Yes          | No (more robust)   |\n",
        "| Handles varying number of clusters well? | Not always   | Yes                |\n",
        "| Good for measuring overlap in structure  | Moderate     | Excellent          |\n"
      ],
      "metadata": {
        "id": "kSwqNneze-T_"
      }
    },
    {
      "cell_type": "code",
      "source": [
        "nmi_k_means = normalized_mutual_info_score(y_true, k_means_labels)\n",
        "nmi_db_scan = normalized_mutual_info_score(dbscan_core_true, db_scan_labels)\n",
        "\n",
        "print(f\"ARI K-Means: {nmi_k_means:.3f}\")\n",
        "print(f\"ARI DB-Scan: {nmi_db_scan:.3f}\")"
      ],
      "metadata": {
        "colab": {
          "base_uri": "https://localhost:8080/"
        },
        "id": "FtO3FL3EfAhS",
        "outputId": "1db9e4b9-50cc-4614-c62d-104019059a03"
      },
      "execution_count": null,
      "outputs": [
        {
          "output_type": "stream",
          "name": "stdout",
          "text": [
            "ARI K-Means: 0.714\n",
            "ARI DB-Scan: 0.903\n"
          ]
        }
      ]
    },
    {
      "cell_type": "markdown",
      "source": [
        "# ETC"
      ],
      "metadata": {
        "id": "mNQKfZ4qiAcf"
      }
    },
    {
      "cell_type": "code",
      "source": [
        "cm_test = np.array([[0, 0, 50], [0, 0, 50], [0, 0, 50]])\n",
        "\n",
        "# Test\n",
        "sns.heatmap(cm_test, annot=True, fmt='d', cmap='RdPu')\n",
        "plt.xlabel('Predicted Cluster')\n",
        "plt.ylabel('True Cluster')\n",
        "plt.title('Test')\n",
        "plt.show()"
      ],
      "metadata": {
        "colab": {
          "base_uri": "https://localhost:8080/",
          "height": 478
        },
        "id": "DJYTy6rI8bae",
        "outputId": "c2944e7c-d9f0-4e21-f4e5-68b12b440615"
      },
      "execution_count": null,
      "outputs": [
        {
          "output_type": "display_data",
          "data": {
            "text/plain": [
              "<Figure size 640x480 with 2 Axes>"
            ],
            "image/png": "[encoded data removed]"
          },
          "metadata": {}
        }
      ]
    },
    {
      "cell_type": "code",
      "source": [
        "cal_purity(cm_test, \"Test\")\n",
        "print(f\"Acc: {calculate_accuracy(cm_test):.2%}\")"
      ],
      "metadata": {
        "colab": {
          "base_uri": "https://localhost:8080/"
        },
        "id": "ZFoHxp2M9Esz",
        "outputId": "d7c4ad09-16fa-41b8-c066-8cae7c665d4a"
      },
      "execution_count": null,
      "outputs": [
        {
          "output_type": "stream",
          "name": "stdout",
          "text": [
            "Test purity is 33.33%\n",
            "Acc: 33.33%\n"
          ]
        }
      ]
    }
  ]
}