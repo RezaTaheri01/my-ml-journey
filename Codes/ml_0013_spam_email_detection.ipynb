{
  "cells": [
    {
      "cell_type": "markdown",
      "source": [
        "[Source Code](https://github.com/KalyanM45/Spam-Email-Detection)"
      ],
      "metadata": {
        "id": "Aueagwq67qw8"
      },
      "id": "Aueagwq67qw8"
    },
    {
      "cell_type": "markdown",
      "source": [
        "## **Imports**"
      ],
      "metadata": {
        "id": "k-wyuTJN75OF"
      },
      "id": "k-wyuTJN75OF"
    },
    {
      "cell_type": "code",
      "execution_count": 1,
      "id": "cc1c8862",
      "metadata": {
        "id": "cc1c8862"
      },
      "outputs": [],
      "source": [
        "import warnings\n",
        "warnings.simplefilter('ignore')\n",
        "\n",
        "import numpy as np\n",
        "import pandas as pd\n",
        "import matplotlib.pyplot as plt\n",
        "\n",
        "from sklearn.model_selection import train_test_split\n",
        "from sklearn.feature_extraction.text import TfidfVectorizer\n",
        "\n",
        "from sklearn.metrics import accuracy_score\n",
        "from sklearn.metrics import precision_score\n",
        "from sklearn.metrics import recall_score\n",
        "from sklearn.metrics import f1_score"
      ]
    },
    {
      "cell_type": "code",
      "execution_count": 2,
      "id": "91d47f14",
      "metadata": {
        "id": "91d47f14"
      },
      "outputs": [],
      "source": [
        "from sklearn.linear_model import LogisticRegression\n",
        "from sklearn.tree import DecisionTreeClassifier\n",
        "from sklearn.svm import SVC\n",
        "from sklearn.neighbors import KNeighborsClassifier\n",
        "from sklearn.ensemble import RandomForestClassifier\n",
        "\n",
        "from sklearn.ensemble import StackingClassifier"
      ]
    },
    {
      "cell_type": "markdown",
      "source": [
        "## **Load Dataset**"
      ],
      "metadata": {
        "id": "n4pJvVdh79UB"
      },
      "id": "n4pJvVdh79UB"
    },
    {
      "cell_type": "code",
      "execution_count": 3,
      "id": "cc348497",
      "metadata": {
        "colab": {
          "base_uri": "https://localhost:8080/",
          "height": 1000
        },
        "id": "cc348497",
        "outputId": "ff0767da-eef8-495e-d4fb-3b53dcc12b22"
      },
      "outputs": [
        {
          "output_type": "execute_result",
          "data": {
            "text/plain": [
              "     Category                                            Message Unnamed: 2  \\\n",
              "0         ham  Go until jurong point, crazy.. Available only ...        NaN   \n",
              "1         ham                      Ok lar... Joking wif u oni...        NaN   \n",
              "2        spam  Free entry in 2 a wkly comp to win FA Cup fina...        NaN   \n",
              "3         ham  U dun say so early hor... U c already then say...        NaN   \n",
              "4         ham  Nah I don't think he goes to usf, he lives aro...        NaN   \n",
              "...       ...                                                ...        ...   \n",
              "5567     spam  This is the 2nd time we have tried 2 contact u...        NaN   \n",
              "5568      ham              Will Ì_ b going to esplanade fr home?        NaN   \n",
              "5569      ham  Pity, * was in mood for that. So...any other s...        NaN   \n",
              "5570      ham  The guy did some bitching but I acted like i'd...        NaN   \n",
              "5571      ham                         Rofl. Its true to its name        NaN   \n",
              "\n",
              "     Unnamed: 3 Unnamed: 4  \n",
              "0           NaN        NaN  \n",
              "1           NaN        NaN  \n",
              "2           NaN        NaN  \n",
              "3           NaN        NaN  \n",
              "4           NaN        NaN  \n",
              "...         ...        ...  \n",
              "5567        NaN        NaN  \n",
              "5568        NaN        NaN  \n",
              "5569        NaN        NaN  \n",
              "5570        NaN        NaN  \n",
              "5571        NaN        NaN  \n",
              "\n",
              "[5572 rows x 5 columns]"
            ],
            "text/html": [
              "\n",
              "  <div id=\"df-d0d48af5-84f4-4c1f-98bc-bb05453b9d35\" class=\"colab-df-container\">\n",
              "    <div>\n",
              "<style scoped>\n",
              "    .dataframe tbody tr th:only-of-type {\n",
              "        vertical-align: middle;\n",
              "    }\n",
              "\n",
              "    .dataframe tbody tr th {\n",
              "        vertical-align: top;\n",
              "    }\n",
              "\n",
              "    .dataframe thead th {\n",
              "        text-align: right;\n",
              "    }\n",
              "</style>\n",
              "<table border=\"1\" class=\"dataframe\">\n",
              "  <thead>\n",
              "    <tr style=\"text-align: right;\">\n",
              "      <th></th>\n",
              "      <th>Category</th>\n",
              "      <th>Message</th>\n",
              "      <th>Unnamed: 2</th>\n",
              "      <th>Unnamed: 3</th>\n",
              "      <th>Unnamed: 4</th>\n",
              "    </tr>\n",
              "  </thead>\n",
              "  <tbody>\n",
              "    <tr>\n",
              "      <th>0</th>\n",
              "      <td>ham</td>\n",
              "      <td>Go until jurong point, crazy.. Available only ...</td>\n",
              "      <td>NaN</td>\n",
              "      <td>NaN</td>\n",
              "      <td>NaN</td>\n",
              "    </tr>\n",
              "    <tr>\n",
              "      <th>1</th>\n",
              "      <td>ham</td>\n",
              "      <td>Ok lar... Joking wif u oni...</td>\n",
              "      <td>NaN</td>\n",
              "      <td>NaN</td>\n",
              "      <td>NaN</td>\n",
              "    </tr>\n",
              "    <tr>\n",
              "      <th>2</th>\n",
              "      <td>spam</td>\n",
              "      <td>Free entry in 2 a wkly comp to win FA Cup fina...</td>\n",
              "      <td>NaN</td>\n",
              "      <td>NaN</td>\n",
              "      <td>NaN</td>\n",
              "    </tr>\n",
              "    <tr>\n",
              "      <th>3</th>\n",
              "      <td>ham</td>\n",
              "      <td>U dun say so early hor... U c already then say...</td>\n",
              "      <td>NaN</td>\n",
              "      <td>NaN</td>\n",
              "      <td>NaN</td>\n",
              "    </tr>\n",
              "    <tr>\n",
              "      <th>4</th>\n",
              "      <td>ham</td>\n",
              "      <td>Nah I don't think he goes to usf, he lives aro...</td>\n",
              "      <td>NaN</td>\n",
              "      <td>NaN</td>\n",
              "      <td>NaN</td>\n",
              "    </tr>\n",
              "    <tr>\n",
              "      <th>...</th>\n",
              "      <td>...</td>\n",
              "      <td>...</td>\n",
              "      <td>...</td>\n",
              "      <td>...</td>\n",
              "      <td>...</td>\n",
              "    </tr>\n",
              "    <tr>\n",
              "      <th>5567</th>\n",
              "      <td>spam</td>\n",
              "      <td>This is the 2nd time we have tried 2 contact u...</td>\n",
              "      <td>NaN</td>\n",
              "      <td>NaN</td>\n",
              "      <td>NaN</td>\n",
              "    </tr>\n",
              "    <tr>\n",
              "      <th>5568</th>\n",
              "      <td>ham</td>\n",
              "      <td>Will Ì_ b going to esplanade fr home?</td>\n",
              "      <td>NaN</td>\n",
              "      <td>NaN</td>\n",
              "      <td>NaN</td>\n",
              "    </tr>\n",
              "    <tr>\n",
              "      <th>5569</th>\n",
              "      <td>ham</td>\n",
              "      <td>Pity, * was in mood for that. So...any other s...</td>\n",
              "      <td>NaN</td>\n",
              "      <td>NaN</td>\n",
              "      <td>NaN</td>\n",
              "    </tr>\n",
              "    <tr>\n",
              "      <th>5570</th>\n",
              "      <td>ham</td>\n",
              "      <td>The guy did some bitching but I acted like i'd...</td>\n",
              "      <td>NaN</td>\n",
              "      <td>NaN</td>\n",
              "      <td>NaN</td>\n",
              "    </tr>\n",
              "    <tr>\n",
              "      <th>5571</th>\n",
              "      <td>ham</td>\n",
              "      <td>Rofl. Its true to its name</td>\n",
              "      <td>NaN</td>\n",
              "      <td>NaN</td>\n",
              "      <td>NaN</td>\n",
              "    </tr>\n",
              "  </tbody>\n",
              "</table>\n",
              "<p>5572 rows × 5 columns</p>\n",
              "</div>\n",
              "    <div class=\"colab-df-buttons\">\n",
              "\n",
              "  <div class=\"colab-df-container\">\n",
              "    <button class=\"colab-df-convert\" onclick=\"convertToInteractive('df-d0d48af5-84f4-4c1f-98bc-bb05453b9d35')\"\n",
              "            title=\"Convert this dataframe to an interactive table.\"\n",
              "            style=\"display:none;\">\n",
              "\n",
              "  <svg xmlns=\"http://www.w3.org/2000/svg\" height=\"24px\" viewBox=\"0 -960 960 960\">\n",
              "    <path d=\"M120-120v-720h720v720H120Zm60-500h600v-160H180v160Zm220 220h160v-160H400v160Zm0 220h160v-160H400v160ZM180-400h160v-160H180v160Zm440 0h160v-160H620v160ZM180-180h160v-160H180v160Zm440 0h160v-160H620v160Z\"/>\n",
              "  </svg>\n",
              "    </button>\n",
              "\n",
              "  <style>\n",
              "    .colab-df-container {\n",
              "      display:flex;\n",
              "      gap: 12px;\n",
              "    }\n",
              "\n",
              "    .colab-df-convert {\n",
              "      background-color: #E8F0FE;\n",
              "      border: none;\n",
              "      border-radius: 50%;\n",
              "      cursor: pointer;\n",
              "      display: none;\n",
              "      fill: #1967D2;\n",
              "      height: 32px;\n",
              "      padding: 0 0 0 0;\n",
              "      width: 32px;\n",
              "    }\n",
              "\n",
              "    .colab-df-convert:hover {\n",
              "      background-color: #E2EBFA;\n",
              "      box-shadow: 0px 1px 2px rgba(60, 64, 67, 0.3), 0px 1px 3px 1px rgba(60, 64, 67, 0.15);\n",
              "      fill: #174EA6;\n",
              "    }\n",
              "\n",
              "    .colab-df-buttons div {\n",
              "      margin-bottom: 4px;\n",
              "    }\n",
              "\n",
              "    [theme=dark] .colab-df-convert {\n",
              "      background-color: #3B4455;\n",
              "      fill: #D2E3FC;\n",
              "    }\n",
              "\n",
              "    [theme=dark] .colab-df-convert:hover {\n",
              "      background-color: #434B5C;\n",
              "      box-shadow: 0px 1px 3px 1px rgba(0, 0, 0, 0.15);\n",
              "      filter: drop-shadow(0px 1px 2px rgba(0, 0, 0, 0.3));\n",
              "      fill: #FFFFFF;\n",
              "    }\n",
              "  </style>\n",
              "\n",
              "    <script>\n",
              "      const buttonEl =\n",
              "        document.querySelector('#df-d0d48af5-84f4-4c1f-98bc-bb05453b9d35 button.colab-df-convert');\n",
              "      buttonEl.style.display =\n",
              "        google.colab.kernel.accessAllowed ? 'block' : 'none';\n",
              "\n",
              "      async function convertToInteractive(key) {\n",
              "        const element = document.querySelector('#df-d0d48af5-84f4-4c1f-98bc-bb05453b9d35');\n",
              "        const dataTable =\n",
              "          await google.colab.kernel.invokeFunction('convertToInteractive',\n",
              "                                                    [key], {});\n",
              "        if (!dataTable) return;\n",
              "\n",
              "        const docLinkHtml = 'Like what you see? Visit the ' +\n",
              "          '<a target=\"_blank\" href=https://colab.research.google.com/notebooks/data_table.ipynb>data table notebook</a>'\n",
              "          + ' to learn more about interactive tables.';\n",
              "        element.innerHTML = '';\n",
              "        dataTable['output_type'] = 'display_data';\n",
              "        await google.colab.output.renderOutput(dataTable, element);\n",
              "        const docLink = document.createElement('div');\n",
              "        docLink.innerHTML = docLinkHtml;\n",
              "        element.appendChild(docLink);\n",
              "      }\n",
              "    </script>\n",
              "  </div>\n",
              "\n",
              "\n",
              "    <div id=\"df-d6b9e575-ca1b-49fb-a6a3-d8edec121883\">\n",
              "      <button class=\"colab-df-quickchart\" onclick=\"quickchart('df-d6b9e575-ca1b-49fb-a6a3-d8edec121883')\"\n",
              "                title=\"Suggest charts\"\n",
              "                style=\"display:none;\">\n",
              "\n",
              "<svg xmlns=\"http://www.w3.org/2000/svg\" height=\"24px\"viewBox=\"0 0 24 24\"\n",
              "     width=\"24px\">\n",
              "    <g>\n",
              "        <path d=\"M19 3H5c-1.1 0-2 .9-2 2v14c0 1.1.9 2 2 2h14c1.1 0 2-.9 2-2V5c0-1.1-.9-2-2-2zM9 17H7v-7h2v7zm4 0h-2V7h2v10zm4 0h-2v-4h2v4z\"/>\n",
              "    </g>\n",
              "</svg>\n",
              "      </button>\n",
              "\n",
              "<style>\n",
              "  .colab-df-quickchart {\n",
              "      --bg-color: #E8F0FE;\n",
              "      --fill-color: #1967D2;\n",
              "      --hover-bg-color: #E2EBFA;\n",
              "      --hover-fill-color: #174EA6;\n",
              "      --disabled-fill-color: #AAA;\n",
              "      --disabled-bg-color: #DDD;\n",
              "  }\n",
              "\n",
              "  [theme=dark] .colab-df-quickchart {\n",
              "      --bg-color: #3B4455;\n",
              "      --fill-color: #D2E3FC;\n",
              "      --hover-bg-color: #434B5C;\n",
              "      --hover-fill-color: #FFFFFF;\n",
              "      --disabled-bg-color: #3B4455;\n",
              "      --disabled-fill-color: #666;\n",
              "  }\n",
              "\n",
              "  .colab-df-quickchart {\n",
              "    background-color: var(--bg-color);\n",
              "    border: none;\n",
              "    border-radius: 50%;\n",
              "    cursor: pointer;\n",
              "    display: none;\n",
              "    fill: var(--fill-color);\n",
              "    height: 32px;\n",
              "    padding: 0;\n",
              "    width: 32px;\n",
              "  }\n",
              "\n",
              "  .colab-df-quickchart:hover {\n",
              "    background-color: var(--hover-bg-color);\n",
              "    box-shadow: 0 1px 2px rgba(60, 64, 67, 0.3), 0 1px 3px 1px rgba(60, 64, 67, 0.15);\n",
              "    fill: var(--button-hover-fill-color);\n",
              "  }\n",
              "\n",
              "  .colab-df-quickchart-complete:disabled,\n",
              "  .colab-df-quickchart-complete:disabled:hover {\n",
              "    background-color: var(--disabled-bg-color);\n",
              "    fill: var(--disabled-fill-color);\n",
              "    box-shadow: none;\n",
              "  }\n",
              "\n",
              "  .colab-df-spinner {\n",
              "    border: 2px solid var(--fill-color);\n",
              "    border-color: transparent;\n",
              "    border-bottom-color: var(--fill-color);\n",
              "    animation:\n",
              "      spin 1s steps(1) infinite;\n",
              "  }\n",
              "\n",
              "  @keyframes spin {\n",
              "    0% {\n",
              "      border-color: transparent;\n",
              "      border-bottom-color: var(--fill-color);\n",
              "      border-left-color: var(--fill-color);\n",
              "    }\n",
              "    20% {\n",
              "      border-color: transparent;\n",
              "      border-left-color: var(--fill-color);\n",
              "      border-top-color: var(--fill-color);\n",
              "    }\n",
              "    30% {\n",
              "      border-color: transparent;\n",
              "      border-left-color: var(--fill-color);\n",
              "      border-top-color: var(--fill-color);\n",
              "      border-right-color: var(--fill-color);\n",
              "    }\n",
              "    40% {\n",
              "      border-color: transparent;\n",
              "      border-right-color: var(--fill-color);\n",
              "      border-top-color: var(--fill-color);\n",
              "    }\n",
              "    60% {\n",
              "      border-color: transparent;\n",
              "      border-right-color: var(--fill-color);\n",
              "    }\n",
              "    80% {\n",
              "      border-color: transparent;\n",
              "      border-right-color: var(--fill-color);\n",
              "      border-bottom-color: var(--fill-color);\n",
              "    }\n",
              "    90% {\n",
              "      border-color: transparent;\n",
              "      border-bottom-color: var(--fill-color);\n",
              "    }\n",
              "  }\n",
              "</style>\n",
              "\n",
              "      <script>\n",
              "        async function quickchart(key) {\n",
              "          const quickchartButtonEl =\n",
              "            document.querySelector('#' + key + ' button');\n",
              "          quickchartButtonEl.disabled = true;  // To prevent multiple clicks.\n",
              "          quickchartButtonEl.classList.add('colab-df-spinner');\n",
              "          try {\n",
              "            const charts = await google.colab.kernel.invokeFunction(\n",
              "                'suggestCharts', [key], {});\n",
              "          } catch (error) {\n",
              "            console.error('Error during call to suggestCharts:', error);\n",
              "          }\n",
              "          quickchartButtonEl.classList.remove('colab-df-spinner');\n",
              "          quickchartButtonEl.classList.add('colab-df-quickchart-complete');\n",
              "        }\n",
              "        (() => {\n",
              "          let quickchartButtonEl =\n",
              "            document.querySelector('#df-d6b9e575-ca1b-49fb-a6a3-d8edec121883 button');\n",
              "          quickchartButtonEl.style.display =\n",
              "            google.colab.kernel.accessAllowed ? 'block' : 'none';\n",
              "        })();\n",
              "      </script>\n",
              "    </div>\n",
              "    </div>\n",
              "  </div>\n"
            ],
            "application/vnd.google.colaboratory.intrinsic+json": {
              "type": "dataframe",
              "variable_name": "df",
              "summary": "{\n  \"name\": \"df\",\n  \"rows\": 5572,\n  \"fields\": [\n    {\n      \"column\": \"Category\",\n      \"properties\": {\n        \"dtype\": \"category\",\n        \"num_unique_values\": 2,\n        \"samples\": [\n          \"spam\",\n          \"ham\"\n        ],\n        \"semantic_type\": \"\",\n        \"description\": \"\"\n      }\n    },\n    {\n      \"column\": \"Message\",\n      \"properties\": {\n        \"dtype\": \"string\",\n        \"num_unique_values\": 5169,\n        \"samples\": [\n          \"Did u download the fring app?\",\n          \"Pass dis to all ur contacts n see wat u get! Red;i'm in luv wid u. Blue;u put a smile on my face. Purple;u r realy hot. Pink;u r so swt. Orange;i thnk i lyk u. Green;i realy wana go out wid u. Yelow;i wnt u bck. Black;i'm jealous of u. Brown;i miss you Nw plz giv me one color\"\n        ],\n        \"semantic_type\": \"\",\n        \"description\": \"\"\n      }\n    },\n    {\n      \"column\": \"Unnamed: 2\",\n      \"properties\": {\n        \"dtype\": \"category\",\n        \"num_unique_values\": 43,\n        \"samples\": [\n          \" GOD said\",\n          \" SHE SHUDVETOLD U. DID URGRAN KNOW?NEWAY\"\n        ],\n        \"semantic_type\": \"\",\n        \"description\": \"\"\n      }\n    },\n    {\n      \"column\": \"Unnamed: 3\",\n      \"properties\": {\n        \"dtype\": \"category\",\n        \"num_unique_values\": 10,\n        \"samples\": [\n          \" \\\\\\\"OH No! COMPETITION\\\\\\\". Who knew\",\n          \" why to miss them\"\n        ],\n        \"semantic_type\": \"\",\n        \"description\": \"\"\n      }\n    },\n    {\n      \"column\": \"Unnamed: 4\",\n      \"properties\": {\n        \"dtype\": \"category\",\n        \"num_unique_values\": 5,\n        \"samples\": [\n          \"GNT:-)\\\"\",\n          \" one day these two will become FREINDS FOREVER!\\\"\"\n        ],\n        \"semantic_type\": \"\",\n        \"description\": \"\"\n      }\n    }\n  ]\n}"
            }
          },
          "metadata": {},
          "execution_count": 3
        }
      ],
      "source": [
        "df =  pd.read_csv(\"https://raw.githubusercontent.com/KalyanM45/Spam-Email-Detection/refs/heads/main/Data%20Source/SPAM.csv\")\n",
        "df"
      ]
    },
    {
      "cell_type": "code",
      "execution_count": 4,
      "id": "74567d76",
      "metadata": {
        "id": "74567d76"
      },
      "outputs": [],
      "source": [
        "data = df.drop(labels=['Unnamed: 2', 'Unnamed: 3', 'Unnamed: 4'], axis=1)"
      ]
    },
    {
      "cell_type": "code",
      "execution_count": 5,
      "id": "dd6c7cb4",
      "metadata": {
        "colab": {
          "base_uri": "https://localhost:8080/",
          "height": 184
        },
        "id": "dd6c7cb4",
        "outputId": "d7a74bed-ffb1-4e21-efe2-56262c2e0185"
      },
      "outputs": [
        {
          "output_type": "execute_result",
          "data": {
            "text/plain": [
              "Category    0\n",
              "Message     0\n",
              "dtype: int64"
            ],
            "text/html": [
              "<div>\n",
              "<style scoped>\n",
              "    .dataframe tbody tr th:only-of-type {\n",
              "        vertical-align: middle;\n",
              "    }\n",
              "\n",
              "    .dataframe tbody tr th {\n",
              "        vertical-align: top;\n",
              "    }\n",
              "\n",
              "    .dataframe thead th {\n",
              "        text-align: right;\n",
              "    }\n",
              "</style>\n",
              "<table border=\"1\" class=\"dataframe\">\n",
              "  <thead>\n",
              "    <tr style=\"text-align: right;\">\n",
              "      <th></th>\n",
              "      <th>0</th>\n",
              "    </tr>\n",
              "  </thead>\n",
              "  <tbody>\n",
              "    <tr>\n",
              "      <th>Category</th>\n",
              "      <td>0</td>\n",
              "    </tr>\n",
              "    <tr>\n",
              "      <th>Message</th>\n",
              "      <td>0</td>\n",
              "    </tr>\n",
              "  </tbody>\n",
              "</table>\n",
              "</div><br><label><b>dtype:</b> int64</label>"
            ]
          },
          "metadata": {},
          "execution_count": 5
        }
      ],
      "source": [
        "data.isnull().sum()"
      ]
    },
    {
      "cell_type": "code",
      "execution_count": 6,
      "id": "2e2f82d4",
      "metadata": {
        "colab": {
          "base_uri": "https://localhost:8080/",
          "height": 184
        },
        "id": "2e2f82d4",
        "outputId": "2152a95b-9465-4ef8-c05d-76df04b0740b"
      },
      "outputs": [
        {
          "output_type": "execute_result",
          "data": {
            "text/plain": [
              "Category    object\n",
              "Message     object\n",
              "dtype: object"
            ],
            "text/html": [
              "<div>\n",
              "<style scoped>\n",
              "    .dataframe tbody tr th:only-of-type {\n",
              "        vertical-align: middle;\n",
              "    }\n",
              "\n",
              "    .dataframe tbody tr th {\n",
              "        vertical-align: top;\n",
              "    }\n",
              "\n",
              "    .dataframe thead th {\n",
              "        text-align: right;\n",
              "    }\n",
              "</style>\n",
              "<table border=\"1\" class=\"dataframe\">\n",
              "  <thead>\n",
              "    <tr style=\"text-align: right;\">\n",
              "      <th></th>\n",
              "      <th>0</th>\n",
              "    </tr>\n",
              "  </thead>\n",
              "  <tbody>\n",
              "    <tr>\n",
              "      <th>Category</th>\n",
              "      <td>object</td>\n",
              "    </tr>\n",
              "    <tr>\n",
              "      <th>Message</th>\n",
              "      <td>object</td>\n",
              "    </tr>\n",
              "  </tbody>\n",
              "</table>\n",
              "</div><br><label><b>dtype:</b> object</label>"
            ]
          },
          "metadata": {},
          "execution_count": 6
        }
      ],
      "source": [
        "data.dtypes"
      ]
    },
    {
      "cell_type": "code",
      "execution_count": 7,
      "id": "5a48466b",
      "metadata": {
        "id": "5a48466b"
      },
      "outputs": [],
      "source": [
        "data.loc[data['Category'] == 'spam', 'Category',] = 0\n",
        "data.loc[data['Category'] == 'ham', 'Category',] = 1"
      ]
    },
    {
      "cell_type": "code",
      "execution_count": 8,
      "id": "0c1bc1f2",
      "metadata": {
        "colab": {
          "base_uri": "https://localhost:8080/",
          "height": 215
        },
        "id": "0c1bc1f2",
        "outputId": "be2e6f39-efcf-4ab5-8f3e-73df6fbd34f2"
      },
      "outputs": [
        {
          "output_type": "execute_result",
          "data": {
            "text/plain": [
              "Category\n",
              "1    4825\n",
              "0     747\n",
              "Name: count, dtype: int64"
            ],
            "text/html": [
              "<div>\n",
              "<style scoped>\n",
              "    .dataframe tbody tr th:only-of-type {\n",
              "        vertical-align: middle;\n",
              "    }\n",
              "\n",
              "    .dataframe tbody tr th {\n",
              "        vertical-align: top;\n",
              "    }\n",
              "\n",
              "    .dataframe thead th {\n",
              "        text-align: right;\n",
              "    }\n",
              "</style>\n",
              "<table border=\"1\" class=\"dataframe\">\n",
              "  <thead>\n",
              "    <tr style=\"text-align: right;\">\n",
              "      <th></th>\n",
              "      <th>count</th>\n",
              "    </tr>\n",
              "    <tr>\n",
              "      <th>Category</th>\n",
              "      <th></th>\n",
              "    </tr>\n",
              "  </thead>\n",
              "  <tbody>\n",
              "    <tr>\n",
              "      <th>1</th>\n",
              "      <td>4825</td>\n",
              "    </tr>\n",
              "    <tr>\n",
              "      <th>0</th>\n",
              "      <td>747</td>\n",
              "    </tr>\n",
              "  </tbody>\n",
              "</table>\n",
              "</div><br><label><b>dtype:</b> int64</label>"
            ]
          },
          "metadata": {},
          "execution_count": 8
        }
      ],
      "source": [
        "data['Category'].value_counts()"
      ]
    },
    {
      "cell_type": "code",
      "execution_count": 9,
      "id": "e0c4d4f1",
      "metadata": {
        "id": "e0c4d4f1"
      },
      "outputs": [],
      "source": [
        "X = data['Message']\n",
        "\n",
        "Y = data['Category']"
      ]
    },
    {
      "cell_type": "code",
      "execution_count": 10,
      "id": "2e966f37",
      "metadata": {
        "colab": {
          "base_uri": "https://localhost:8080/",
          "height": 1000
        },
        "id": "2e966f37",
        "outputId": "d7b7d5bf-c83c-4faf-de7b-265a7fe0c95b"
      },
      "outputs": [
        {
          "output_type": "execute_result",
          "data": {
            "text/plain": [
              "0       Go until jurong point, crazy.. Available only ...\n",
              "1                           Ok lar... Joking wif u oni...\n",
              "2       Free entry in 2 a wkly comp to win FA Cup fina...\n",
              "3       U dun say so early hor... U c already then say...\n",
              "4       Nah I don't think he goes to usf, he lives aro...\n",
              "                              ...                        \n",
              "5567    This is the 2nd time we have tried 2 contact u...\n",
              "5568                Will Ì_ b going to esplanade fr home?\n",
              "5569    Pity, * was in mood for that. So...any other s...\n",
              "5570    The guy did some bitching but I acted like i'd...\n",
              "5571                           Rofl. Its true to its name\n",
              "Name: Message, Length: 5572, dtype: object"
            ],
            "text/html": [
              "<div>\n",
              "<style scoped>\n",
              "    .dataframe tbody tr th:only-of-type {\n",
              "        vertical-align: middle;\n",
              "    }\n",
              "\n",
              "    .dataframe tbody tr th {\n",
              "        vertical-align: top;\n",
              "    }\n",
              "\n",
              "    .dataframe thead th {\n",
              "        text-align: right;\n",
              "    }\n",
              "</style>\n",
              "<table border=\"1\" class=\"dataframe\">\n",
              "  <thead>\n",
              "    <tr style=\"text-align: right;\">\n",
              "      <th></th>\n",
              "      <th>Message</th>\n",
              "    </tr>\n",
              "  </thead>\n",
              "  <tbody>\n",
              "    <tr>\n",
              "      <th>0</th>\n",
              "      <td>Go until jurong point, crazy.. Available only ...</td>\n",
              "    </tr>\n",
              "    <tr>\n",
              "      <th>1</th>\n",
              "      <td>Ok lar... Joking wif u oni...</td>\n",
              "    </tr>\n",
              "    <tr>\n",
              "      <th>2</th>\n",
              "      <td>Free entry in 2 a wkly comp to win FA Cup fina...</td>\n",
              "    </tr>\n",
              "    <tr>\n",
              "      <th>3</th>\n",
              "      <td>U dun say so early hor... U c already then say...</td>\n",
              "    </tr>\n",
              "    <tr>\n",
              "      <th>4</th>\n",
              "      <td>Nah I don't think he goes to usf, he lives aro...</td>\n",
              "    </tr>\n",
              "    <tr>\n",
              "      <th>...</th>\n",
              "      <td>...</td>\n",
              "    </tr>\n",
              "    <tr>\n",
              "      <th>5567</th>\n",
              "      <td>This is the 2nd time we have tried 2 contact u...</td>\n",
              "    </tr>\n",
              "    <tr>\n",
              "      <th>5568</th>\n",
              "      <td>Will Ì_ b going to esplanade fr home?</td>\n",
              "    </tr>\n",
              "    <tr>\n",
              "      <th>5569</th>\n",
              "      <td>Pity, * was in mood for that. So...any other s...</td>\n",
              "    </tr>\n",
              "    <tr>\n",
              "      <th>5570</th>\n",
              "      <td>The guy did some bitching but I acted like i'd...</td>\n",
              "    </tr>\n",
              "    <tr>\n",
              "      <th>5571</th>\n",
              "      <td>Rofl. Its true to its name</td>\n",
              "    </tr>\n",
              "  </tbody>\n",
              "</table>\n",
              "<p>5572 rows × 1 columns</p>\n",
              "</div><br><label><b>dtype:</b> object</label>"
            ]
          },
          "metadata": {},
          "execution_count": 10
        }
      ],
      "source": [
        "X"
      ]
    },
    {
      "cell_type": "code",
      "execution_count": 11,
      "id": "53ede04d",
      "metadata": {
        "colab": {
          "base_uri": "https://localhost:8080/",
          "height": 565
        },
        "id": "53ede04d",
        "outputId": "9531f2f9-ad16-4a00-d41e-64805d3c4e31"
      },
      "outputs": [
        {
          "output_type": "execute_result",
          "data": {
            "text/plain": [
              "0       1\n",
              "1       1\n",
              "2       0\n",
              "3       1\n",
              "4       1\n",
              "       ..\n",
              "5567    0\n",
              "5568    1\n",
              "5569    1\n",
              "5570    1\n",
              "5571    1\n",
              "Name: Category, Length: 5572, dtype: object"
            ],
            "text/html": [
              "<div>\n",
              "<style scoped>\n",
              "    .dataframe tbody tr th:only-of-type {\n",
              "        vertical-align: middle;\n",
              "    }\n",
              "\n",
              "    .dataframe tbody tr th {\n",
              "        vertical-align: top;\n",
              "    }\n",
              "\n",
              "    .dataframe thead th {\n",
              "        text-align: right;\n",
              "    }\n",
              "</style>\n",
              "<table border=\"1\" class=\"dataframe\">\n",
              "  <thead>\n",
              "    <tr style=\"text-align: right;\">\n",
              "      <th></th>\n",
              "      <th>Category</th>\n",
              "    </tr>\n",
              "  </thead>\n",
              "  <tbody>\n",
              "    <tr>\n",
              "      <th>0</th>\n",
              "      <td>1</td>\n",
              "    </tr>\n",
              "    <tr>\n",
              "      <th>1</th>\n",
              "      <td>1</td>\n",
              "    </tr>\n",
              "    <tr>\n",
              "      <th>2</th>\n",
              "      <td>0</td>\n",
              "    </tr>\n",
              "    <tr>\n",
              "      <th>3</th>\n",
              "      <td>1</td>\n",
              "    </tr>\n",
              "    <tr>\n",
              "      <th>4</th>\n",
              "      <td>1</td>\n",
              "    </tr>\n",
              "    <tr>\n",
              "      <th>...</th>\n",
              "      <td>...</td>\n",
              "    </tr>\n",
              "    <tr>\n",
              "      <th>5567</th>\n",
              "      <td>0</td>\n",
              "    </tr>\n",
              "    <tr>\n",
              "      <th>5568</th>\n",
              "      <td>1</td>\n",
              "    </tr>\n",
              "    <tr>\n",
              "      <th>5569</th>\n",
              "      <td>1</td>\n",
              "    </tr>\n",
              "    <tr>\n",
              "      <th>5570</th>\n",
              "      <td>1</td>\n",
              "    </tr>\n",
              "    <tr>\n",
              "      <th>5571</th>\n",
              "      <td>1</td>\n",
              "    </tr>\n",
              "  </tbody>\n",
              "</table>\n",
              "<p>5572 rows × 1 columns</p>\n",
              "</div><br><label><b>dtype:</b> object</label>"
            ]
          },
          "metadata": {},
          "execution_count": 11
        }
      ],
      "source": [
        "Y"
      ]
    },
    {
      "cell_type": "markdown",
      "source": [
        "## **Preprocess Data**"
      ],
      "metadata": {
        "id": "3yY8gAsT8Cmy"
      },
      "id": "3yY8gAsT8Cmy"
    },
    {
      "cell_type": "code",
      "execution_count": 12,
      "id": "e5fcf412",
      "metadata": {
        "id": "e5fcf412"
      },
      "outputs": [],
      "source": [
        "X_train, X_test, Y_train, Y_test = train_test_split(X, Y, test_size=0.2, random_state=3)"
      ]
    },
    {
      "cell_type": "code",
      "execution_count": 13,
      "id": "711f5006",
      "metadata": {
        "colab": {
          "base_uri": "https://localhost:8080/"
        },
        "id": "711f5006",
        "outputId": "5baf891f-c38f-4ed6-b43c-d838d47cf0b4"
      },
      "outputs": [
        {
          "output_type": "stream",
          "name": "stdout",
          "text": [
            "(5572,)\n",
            "(4457,)\n",
            "(1115,)\n"
          ]
        }
      ],
      "source": [
        "print(X.shape)\n",
        "print(X_train.shape)\n",
        "print(X_test.shape)"
      ]
    },
    {
      "cell_type": "code",
      "execution_count": 14,
      "id": "a8fdbc37",
      "metadata": {
        "id": "a8fdbc37"
      },
      "outputs": [],
      "source": [
        "feature_extraction = TfidfVectorizer(min_df = 1, stop_words='english', lowercase=True)"
      ]
    },
    {
      "cell_type": "code",
      "execution_count": 15,
      "id": "796fdced",
      "metadata": {
        "id": "796fdced"
      },
      "outputs": [],
      "source": [
        "X_train_features = feature_extraction.fit_transform(X_train)\n",
        "X_test_features = feature_extraction.transform(X_test)"
      ]
    },
    {
      "cell_type": "code",
      "execution_count": 16,
      "id": "124c387b",
      "metadata": {
        "id": "124c387b"
      },
      "outputs": [],
      "source": [
        "Y_train = Y_train.astype('int')\n",
        "Y_test = Y_test.astype('int')"
      ]
    },
    {
      "cell_type": "markdown",
      "id": "74683297",
      "metadata": {
        "id": "74683297"
      },
      "source": [
        "## **Logistic Regression**"
      ]
    },
    {
      "cell_type": "code",
      "execution_count": 17,
      "id": "fdb86511",
      "metadata": {
        "colab": {
          "base_uri": "https://localhost:8080/"
        },
        "id": "fdb86511",
        "outputId": "e02cc865-9d35-4cb2-dbee-617a0d8e5232"
      },
      "outputs": [
        {
          "output_type": "stream",
          "name": "stdout",
          "text": [
            "Logistic Regression:\n",
            "\n",
            "Training Data Accuracy: 0.9661207089970832\n",
            "Testing Data Accuracy : 0.9623318385650225\n",
            "Precision             : 0.959\n",
            "Recall                : 0.9989583333333333\n",
            "F1 Score              : 0.9785714285714285\n"
          ]
        }
      ],
      "source": [
        "lr = LogisticRegression()\n",
        "lr.fit(X_train_features, Y_train)\n",
        "\n",
        "\n",
        "lr_train = lr.predict(X_train_features)\n",
        "lr_test = lr.predict(X_test_features)\n",
        "\n",
        "\n",
        "lr_train_acc = accuracy_score(Y_train, lr_train)\n",
        "lr_test_acc = accuracy_score(Y_test, lr_test)\n",
        "\n",
        "\n",
        "lr_precision = precision_score(Y_test, lr_test)\n",
        "lr_recall = recall_score(Y_test, lr_test)\n",
        "lr_f1 = f1_score(Y_test, lr_test)\n",
        "\n",
        "\n",
        "print(\"Logistic Regression:\\n\")\n",
        "print(\"Training Data Accuracy:\", lr_train_acc)\n",
        "print(\"Testing Data Accuracy :\", lr_test_acc)\n",
        "\n",
        "print(\"Precision             :\", lr_precision)\n",
        "print(\"Recall                :\", lr_recall)\n",
        "print(\"F1 Score              :\", lr_f1)"
      ]
    },
    {
      "cell_type": "markdown",
      "id": "3398ca05",
      "metadata": {
        "id": "3398ca05"
      },
      "source": [
        "## **Decision Trees**"
      ]
    },
    {
      "cell_type": "code",
      "execution_count": 18,
      "id": "669b602f",
      "metadata": {
        "colab": {
          "base_uri": "https://localhost:8080/"
        },
        "id": "669b602f",
        "outputId": "02de4ac1-e1e0-45bd-de84-1fd8ff448886"
      },
      "outputs": [
        {
          "output_type": "stream",
          "name": "stdout",
          "text": [
            "Decision Tress:\n",
            "\n",
            "Training Data Accuracy: 1.0\n",
            "Testing Data Accuracy : 0.9659192825112107\n",
            "Precision             : 0.9723360655737705\n",
            "Recall                : 0.9885416666666667\n",
            "F1 Score              : 0.9803719008264463\n"
          ]
        }
      ],
      "source": [
        "dtrees = DecisionTreeClassifier()\n",
        "dtrees.fit(X_train_features, Y_train)\n",
        "\n",
        "\n",
        "dt_train = dtrees.predict(X_train_features)\n",
        "dt_test = dtrees.predict(X_test_features)\n",
        "\n",
        "\n",
        "dt_train_acc = accuracy_score(Y_train, dt_train)\n",
        "dt_test_acc = accuracy_score(Y_test, dt_test)\n",
        "\n",
        "\n",
        "dt_precision = precision_score(Y_test, dt_test)\n",
        "dt_recall = recall_score(Y_test, dt_test)\n",
        "dt_f1 = f1_score(Y_test, dt_test)\n",
        "\n",
        "\n",
        "print(\"Decision Tress:\\n\")\n",
        "print(\"Training Data Accuracy:\", dt_train_acc)\n",
        "print(\"Testing Data Accuracy :\", dt_test_acc)\n",
        "\n",
        "print(\"Precision             :\", dt_precision)\n",
        "print(\"Recall                :\", dt_recall)\n",
        "print(\"F1 Score              :\", dt_f1)"
      ]
    },
    {
      "cell_type": "markdown",
      "id": "90ea91a3",
      "metadata": {
        "id": "90ea91a3"
      },
      "source": [
        "## **KNN**"
      ]
    },
    {
      "cell_type": "code",
      "execution_count": 19,
      "id": "47523a35",
      "metadata": {
        "colab": {
          "base_uri": "https://localhost:8080/"
        },
        "id": "47523a35",
        "outputId": "f948e4e6-efb1-45df-fd39-2b2ba98181d0"
      },
      "outputs": [
        {
          "output_type": "stream",
          "name": "stdout",
          "text": [
            "K Nearest Neighbors:\n",
            "\n",
            "Training Data Accuracy: 0.9199012788871438\n",
            "Testing Data Accuracy : 0.905829596412556\n",
            "Precision             : 0.9014084507042254\n",
            "Recall                : 1.0\n",
            "F1 Score              : 0.9481481481481482\n"
          ]
        }
      ],
      "source": [
        "knn = KNeighborsClassifier()\n",
        "knn.fit(X_train_features, Y_train)\n",
        "\n",
        "\n",
        "knn_train = knn.predict(X_train_features)\n",
        "knn_test = knn.predict(X_test_features)\n",
        "\n",
        "\n",
        "knn_train_acc = accuracy_score(Y_train, knn_train)\n",
        "knn_test_acc = accuracy_score(Y_test, knn_test)\n",
        "\n",
        "\n",
        "knn_precision = precision_score(Y_test, knn_test)\n",
        "knn_recall = recall_score(Y_test, knn_test)\n",
        "knn_f1 = f1_score(Y_test, knn_test)\n",
        "\n",
        "\n",
        "print(\"K Nearest Neighbors:\\n\")\n",
        "print(\"Training Data Accuracy:\", knn_train_acc)\n",
        "print(\"Testing Data Accuracy :\", knn_test_acc)\n",
        "\n",
        "print(\"Precision             :\", knn_precision)\n",
        "print(\"Recall                :\", knn_recall)\n",
        "print(\"F1 Score              :\", knn_f1)"
      ]
    },
    {
      "cell_type": "markdown",
      "id": "43f66f5c",
      "metadata": {
        "id": "43f66f5c"
      },
      "source": [
        "## **Random Forest**"
      ]
    },
    {
      "cell_type": "code",
      "execution_count": 20,
      "id": "bf28b066",
      "metadata": {
        "colab": {
          "base_uri": "https://localhost:8080/"
        },
        "id": "bf28b066",
        "outputId": "ee1ba05b-c29b-40ce-acb6-db5a7c99b8ec"
      },
      "outputs": [
        {
          "output_type": "stream",
          "name": "stdout",
          "text": [
            "Random Forest:\n",
            "\n",
            "Training Data Accuracy: 1.0\n",
            "Testing Data Accuracy : 0.979372197309417\n",
            "Precision             : 0.9775739041794088\n",
            "Recall                : 0.9989583333333333\n",
            "F1 Score              : 0.9881504379185987\n"
          ]
        }
      ],
      "source": [
        "rf = RandomForestClassifier()\n",
        "rf.fit(X_train_features, Y_train)\n",
        "\n",
        "\n",
        "rf_train = rf.predict(X_train_features)\n",
        "rf_test = rf.predict(X_test_features)\n",
        "\n",
        "\n",
        "rf_train_acc = accuracy_score(Y_train, rf_train)\n",
        "rf_test_acc = accuracy_score(Y_test, rf_test)\n",
        "\n",
        "\n",
        "rf_precision = precision_score(Y_test, rf_test)\n",
        "rf_recall = recall_score(Y_test, rf_test)\n",
        "rf_f1 = f1_score(Y_test, rf_test)\n",
        "\n",
        "\n",
        "print(\"Random Forest:\\n\")\n",
        "print(\"Training Data Accuracy:\", rf_train_acc)\n",
        "print(\"Testing Data Accuracy :\", rf_test_acc)\n",
        "\n",
        "print(\"Precision             :\", rf_precision)\n",
        "print(\"Recall                :\", rf_recall)\n",
        "print(\"F1 Score              :\", rf_f1)"
      ]
    },
    {
      "cell_type": "markdown",
      "id": "6c144d9c",
      "metadata": {
        "id": "6c144d9c"
      },
      "source": [
        "## **Stacking Model**"
      ]
    },
    {
      "cell_type": "code",
      "execution_count": 21,
      "id": "df960558",
      "metadata": {
        "colab": {
          "base_uri": "https://localhost:8080/"
        },
        "id": "df960558",
        "outputId": "fbb8f994-b1b6-4cb4-df7e-b64f5b1245ca"
      },
      "outputs": [
        {
          "output_type": "stream",
          "name": "stdout",
          "text": [
            "Stacking Classifier:\n",
            "\n",
            "Training Data Accuracy: 0.9995512676688355\n",
            "Testing Data Accuracy : 0.9856502242152466\n",
            "Precision             : 0.987603305785124\n",
            "Recall                : 0.9958333333333333\n",
            "F1 Score              : 0.991701244813278\n"
          ]
        }
      ],
      "source": [
        "estimators = [ ('lr', lr), ('dtree', dtrees), ('knn', knn), ('rf', rf) ]\n",
        "stack = StackingClassifier(estimators, final_estimator = SVC(kernel='linear'))\n",
        "stack.fit(X_train_features, Y_train)\n",
        "\n",
        "\n",
        "stack_train = stack.predict(X_train_features)\n",
        "stack_test = stack.predict(X_test_features)\n",
        "\n",
        "\n",
        "stack_train_acc = accuracy_score(Y_train, stack_train)\n",
        "stack_test_acc = accuracy_score(Y_test, stack_test)\n",
        "\n",
        "\n",
        "stack_precision = precision_score(Y_test, stack_test)\n",
        "stack_recall = recall_score(Y_test, stack_test)\n",
        "stack_f1 = f1_score(Y_test, stack_test)\n",
        "\n",
        "\n",
        "print(\"Stacking Classifier:\\n\")\n",
        "print(\"Training Data Accuracy:\", stack_train_acc)\n",
        "print(\"Testing Data Accuracy :\", stack_test_acc)\n",
        "\n",
        "print(\"Precision             :\", stack_precision)\n",
        "print(\"Recall                :\", stack_recall)\n",
        "print(\"F1 Score              :\", stack_f1)"
      ]
    },
    {
      "cell_type": "markdown",
      "id": "ae56053e",
      "metadata": {
        "id": "ae56053e"
      },
      "source": [
        "## **Metrics Visualization**"
      ]
    },
    {
      "cell_type": "code",
      "execution_count": 22,
      "id": "c82afbcd",
      "metadata": {
        "id": "c82afbcd"
      },
      "outputs": [],
      "source": [
        "train_acc_list = {\"LR\":lr_train_acc,\n",
        "                  \"DT\":dt_train_acc,\n",
        "                  \"KNN\":knn_train_acc,\n",
        "                  \"RF\":rf_train_acc,\n",
        "                  \"STACK\":stack_train_acc}\n",
        "\n",
        "test_acc_list = {\"LR\":lr_test_acc,\n",
        "                  \"DT\":dt_test_acc,\n",
        "                  \"KNN\":knn_test_acc,\n",
        "                  \"RF\":rf_test_acc,\n",
        "                  \"STACK\":stack_test_acc}\n",
        "\n",
        "precision_list = {\"LR\":lr_precision,\n",
        "                  \"DT\":dt_precision,\n",
        "                  \"KNN\":knn_precision,\n",
        "                  \"RF\":rf_precision,\n",
        "                  \"STACK\":stack_precision}\n",
        "\n",
        "recall_list = {\"LR\":lr_recall,\n",
        "               \"DT\":dt_recall,\n",
        "               \"KNN\":knn_recall,\n",
        "               \"RF\":rf_recall,\n",
        "               \"STACK\":stack_recall}\n",
        "\n",
        "f1_list = {\"LR\":lr_f1,\n",
        "               \"DT\":dt_f1,\n",
        "               \"KNN\":knn_f1,\n",
        "               \"RF\":rf_f1,\n",
        "               \"STACK\":stack_f1}"
      ]
    },
    {
      "cell_type": "code",
      "execution_count": 23,
      "id": "f23ebde4",
      "metadata": {
        "colab": {
          "base_uri": "https://localhost:8080/",
          "height": 243
        },
        "id": "f23ebde4",
        "outputId": "58e6cf5d-db18-4118-e731-14e7b1e9c626"
      },
      "outputs": [
        {
          "output_type": "execute_result",
          "data": {
            "text/plain": [
              "       Traning Accuracy  Testing Accuracy  Precision Score  Recall Score  \\\n",
              "LR             0.966121          0.962332         0.959000      0.998958   \n",
              "DT             1.000000          0.965919         0.972336      0.988542   \n",
              "KNN            0.919901          0.905830         0.901408      1.000000   \n",
              "RF             1.000000          0.979372         0.977574      0.998958   \n",
              "STACK          0.999551          0.985650         0.987603      0.995833   \n",
              "\n",
              "       F1 Score  \n",
              "LR     0.978571  \n",
              "DT     0.980372  \n",
              "KNN    0.948148  \n",
              "RF     0.988150  \n",
              "STACK  0.991701  "
            ],
            "text/html": [
              "\n",
              "  <div id=\"df-4b60780c-735e-45ce-9715-8574c45dd289\" class=\"colab-df-container\">\n",
              "    <div>\n",
              "<style scoped>\n",
              "    .dataframe tbody tr th:only-of-type {\n",
              "        vertical-align: middle;\n",
              "    }\n",
              "\n",
              "    .dataframe tbody tr th {\n",
              "        vertical-align: top;\n",
              "    }\n",
              "\n",
              "    .dataframe thead th {\n",
              "        text-align: right;\n",
              "    }\n",
              "</style>\n",
              "<table border=\"1\" class=\"dataframe\">\n",
              "  <thead>\n",
              "    <tr style=\"text-align: right;\">\n",
              "      <th></th>\n",
              "      <th>Traning Accuracy</th>\n",
              "      <th>Testing Accuracy</th>\n",
              "      <th>Precision Score</th>\n",
              "      <th>Recall Score</th>\n",
              "      <th>F1 Score</th>\n",
              "    </tr>\n",
              "  </thead>\n",
              "  <tbody>\n",
              "    <tr>\n",
              "      <th>LR</th>\n",
              "      <td>0.966121</td>\n",
              "      <td>0.962332</td>\n",
              "      <td>0.959000</td>\n",
              "      <td>0.998958</td>\n",
              "      <td>0.978571</td>\n",
              "    </tr>\n",
              "    <tr>\n",
              "      <th>DT</th>\n",
              "      <td>1.000000</td>\n",
              "      <td>0.965919</td>\n",
              "      <td>0.972336</td>\n",
              "      <td>0.988542</td>\n",
              "      <td>0.980372</td>\n",
              "    </tr>\n",
              "    <tr>\n",
              "      <th>KNN</th>\n",
              "      <td>0.919901</td>\n",
              "      <td>0.905830</td>\n",
              "      <td>0.901408</td>\n",
              "      <td>1.000000</td>\n",
              "      <td>0.948148</td>\n",
              "    </tr>\n",
              "    <tr>\n",
              "      <th>RF</th>\n",
              "      <td>1.000000</td>\n",
              "      <td>0.979372</td>\n",
              "      <td>0.977574</td>\n",
              "      <td>0.998958</td>\n",
              "      <td>0.988150</td>\n",
              "    </tr>\n",
              "    <tr>\n",
              "      <th>STACK</th>\n",
              "      <td>0.999551</td>\n",
              "      <td>0.985650</td>\n",
              "      <td>0.987603</td>\n",
              "      <td>0.995833</td>\n",
              "      <td>0.991701</td>\n",
              "    </tr>\n",
              "  </tbody>\n",
              "</table>\n",
              "</div>\n",
              "    <div class=\"colab-df-buttons\">\n",
              "\n",
              "  <div class=\"colab-df-container\">\n",
              "    <button class=\"colab-df-convert\" onclick=\"convertToInteractive('df-4b60780c-735e-45ce-9715-8574c45dd289')\"\n",
              "            title=\"Convert this dataframe to an interactive table.\"\n",
              "            style=\"display:none;\">\n",
              "\n",
              "  <svg xmlns=\"http://www.w3.org/2000/svg\" height=\"24px\" viewBox=\"0 -960 960 960\">\n",
              "    <path d=\"M120-120v-720h720v720H120Zm60-500h600v-160H180v160Zm220 220h160v-160H400v160Zm0 220h160v-160H400v160ZM180-400h160v-160H180v160Zm440 0h160v-160H620v160ZM180-180h160v-160H180v160Zm440 0h160v-160H620v160Z\"/>\n",
              "  </svg>\n",
              "    </button>\n",
              "\n",
              "  <style>\n",
              "    .colab-df-container {\n",
              "      display:flex;\n",
              "      gap: 12px;\n",
              "    }\n",
              "\n",
              "    .colab-df-convert {\n",
              "      background-color: #E8F0FE;\n",
              "      border: none;\n",
              "      border-radius: 50%;\n",
              "      cursor: pointer;\n",
              "      display: none;\n",
              "      fill: #1967D2;\n",
              "      height: 32px;\n",
              "      padding: 0 0 0 0;\n",
              "      width: 32px;\n",
              "    }\n",
              "\n",
              "    .colab-df-convert:hover {\n",
              "      background-color: #E2EBFA;\n",
              "      box-shadow: 0px 1px 2px rgba(60, 64, 67, 0.3), 0px 1px 3px 1px rgba(60, 64, 67, 0.15);\n",
              "      fill: #174EA6;\n",
              "    }\n",
              "\n",
              "    .colab-df-buttons div {\n",
              "      margin-bottom: 4px;\n",
              "    }\n",
              "\n",
              "    [theme=dark] .colab-df-convert {\n",
              "      background-color: #3B4455;\n",
              "      fill: #D2E3FC;\n",
              "    }\n",
              "\n",
              "    [theme=dark] .colab-df-convert:hover {\n",
              "      background-color: #434B5C;\n",
              "      box-shadow: 0px 1px 3px 1px rgba(0, 0, 0, 0.15);\n",
              "      filter: drop-shadow(0px 1px 2px rgba(0, 0, 0, 0.3));\n",
              "      fill: #FFFFFF;\n",
              "    }\n",
              "  </style>\n",
              "\n",
              "    <script>\n",
              "      const buttonEl =\n",
              "        document.querySelector('#df-4b60780c-735e-45ce-9715-8574c45dd289 button.colab-df-convert');\n",
              "      buttonEl.style.display =\n",
              "        google.colab.kernel.accessAllowed ? 'block' : 'none';\n",
              "\n",
              "      async function convertToInteractive(key) {\n",
              "        const element = document.querySelector('#df-4b60780c-735e-45ce-9715-8574c45dd289');\n",
              "        const dataTable =\n",
              "          await google.colab.kernel.invokeFunction('convertToInteractive',\n",
              "                                                    [key], {});\n",
              "        if (!dataTable) return;\n",
              "\n",
              "        const docLinkHtml = 'Like what you see? Visit the ' +\n",
              "          '<a target=\"_blank\" href=https://colab.research.google.com/notebooks/data_table.ipynb>data table notebook</a>'\n",
              "          + ' to learn more about interactive tables.';\n",
              "        element.innerHTML = '';\n",
              "        dataTable['output_type'] = 'display_data';\n",
              "        await google.colab.output.renderOutput(dataTable, element);\n",
              "        const docLink = document.createElement('div');\n",
              "        docLink.innerHTML = docLinkHtml;\n",
              "        element.appendChild(docLink);\n",
              "      }\n",
              "    </script>\n",
              "  </div>\n",
              "\n",
              "\n",
              "    <div id=\"df-e5e799b8-caae-43b8-8ede-d04fa707d89f\">\n",
              "      <button class=\"colab-df-quickchart\" onclick=\"quickchart('df-e5e799b8-caae-43b8-8ede-d04fa707d89f')\"\n",
              "                title=\"Suggest charts\"\n",
              "                style=\"display:none;\">\n",
              "\n",
              "<svg xmlns=\"http://www.w3.org/2000/svg\" height=\"24px\"viewBox=\"0 0 24 24\"\n",
              "     width=\"24px\">\n",
              "    <g>\n",
              "        <path d=\"M19 3H5c-1.1 0-2 .9-2 2v14c0 1.1.9 2 2 2h14c1.1 0 2-.9 2-2V5c0-1.1-.9-2-2-2zM9 17H7v-7h2v7zm4 0h-2V7h2v10zm4 0h-2v-4h2v4z\"/>\n",
              "    </g>\n",
              "</svg>\n",
              "      </button>\n",
              "\n",
              "<style>\n",
              "  .colab-df-quickchart {\n",
              "      --bg-color: #E8F0FE;\n",
              "      --fill-color: #1967D2;\n",
              "      --hover-bg-color: #E2EBFA;\n",
              "      --hover-fill-color: #174EA6;\n",
              "      --disabled-fill-color: #AAA;\n",
              "      --disabled-bg-color: #DDD;\n",
              "  }\n",
              "\n",
              "  [theme=dark] .colab-df-quickchart {\n",
              "      --bg-color: #3B4455;\n",
              "      --fill-color: #D2E3FC;\n",
              "      --hover-bg-color: #434B5C;\n",
              "      --hover-fill-color: #FFFFFF;\n",
              "      --disabled-bg-color: #3B4455;\n",
              "      --disabled-fill-color: #666;\n",
              "  }\n",
              "\n",
              "  .colab-df-quickchart {\n",
              "    background-color: var(--bg-color);\n",
              "    border: none;\n",
              "    border-radius: 50%;\n",
              "    cursor: pointer;\n",
              "    display: none;\n",
              "    fill: var(--fill-color);\n",
              "    height: 32px;\n",
              "    padding: 0;\n",
              "    width: 32px;\n",
              "  }\n",
              "\n",
              "  .colab-df-quickchart:hover {\n",
              "    background-color: var(--hover-bg-color);\n",
              "    box-shadow: 0 1px 2px rgba(60, 64, 67, 0.3), 0 1px 3px 1px rgba(60, 64, 67, 0.15);\n",
              "    fill: var(--button-hover-fill-color);\n",
              "  }\n",
              "\n",
              "  .colab-df-quickchart-complete:disabled,\n",
              "  .colab-df-quickchart-complete:disabled:hover {\n",
              "    background-color: var(--disabled-bg-color);\n",
              "    fill: var(--disabled-fill-color);\n",
              "    box-shadow: none;\n",
              "  }\n",
              "\n",
              "  .colab-df-spinner {\n",
              "    border: 2px solid var(--fill-color);\n",
              "    border-color: transparent;\n",
              "    border-bottom-color: var(--fill-color);\n",
              "    animation:\n",
              "      spin 1s steps(1) infinite;\n",
              "  }\n",
              "\n",
              "  @keyframes spin {\n",
              "    0% {\n",
              "      border-color: transparent;\n",
              "      border-bottom-color: var(--fill-color);\n",
              "      border-left-color: var(--fill-color);\n",
              "    }\n",
              "    20% {\n",
              "      border-color: transparent;\n",
              "      border-left-color: var(--fill-color);\n",
              "      border-top-color: var(--fill-color);\n",
              "    }\n",
              "    30% {\n",
              "      border-color: transparent;\n",
              "      border-left-color: var(--fill-color);\n",
              "      border-top-color: var(--fill-color);\n",
              "      border-right-color: var(--fill-color);\n",
              "    }\n",
              "    40% {\n",
              "      border-color: transparent;\n",
              "      border-right-color: var(--fill-color);\n",
              "      border-top-color: var(--fill-color);\n",
              "    }\n",
              "    60% {\n",
              "      border-color: transparent;\n",
              "      border-right-color: var(--fill-color);\n",
              "    }\n",
              "    80% {\n",
              "      border-color: transparent;\n",
              "      border-right-color: var(--fill-color);\n",
              "      border-bottom-color: var(--fill-color);\n",
              "    }\n",
              "    90% {\n",
              "      border-color: transparent;\n",
              "      border-bottom-color: var(--fill-color);\n",
              "    }\n",
              "  }\n",
              "</style>\n",
              "\n",
              "      <script>\n",
              "        async function quickchart(key) {\n",
              "          const quickchartButtonEl =\n",
              "            document.querySelector('#' + key + ' button');\n",
              "          quickchartButtonEl.disabled = true;  // To prevent multiple clicks.\n",
              "          quickchartButtonEl.classList.add('colab-df-spinner');\n",
              "          try {\n",
              "            const charts = await google.colab.kernel.invokeFunction(\n",
              "                'suggestCharts', [key], {});\n",
              "          } catch (error) {\n",
              "            console.error('Error during call to suggestCharts:', error);\n",
              "          }\n",
              "          quickchartButtonEl.classList.remove('colab-df-spinner');\n",
              "          quickchartButtonEl.classList.add('colab-df-quickchart-complete');\n",
              "        }\n",
              "        (() => {\n",
              "          let quickchartButtonEl =\n",
              "            document.querySelector('#df-e5e799b8-caae-43b8-8ede-d04fa707d89f button');\n",
              "          quickchartButtonEl.style.display =\n",
              "            google.colab.kernel.accessAllowed ? 'block' : 'none';\n",
              "        })();\n",
              "      </script>\n",
              "    </div>\n",
              "    </div>\n",
              "  </div>\n"
            ],
            "application/vnd.google.colaboratory.intrinsic+json": {
              "type": "dataframe",
              "variable_name": "org",
              "summary": "{\n  \"name\": \"org\",\n  \"rows\": 5,\n  \"fields\": [\n    {\n      \"column\": \"Traning Accuracy\",\n      \"properties\": {\n        \"dtype\": \"number\",\n        \"std\": 0.0351607624865258,\n        \"min\": 0.9199012788871438,\n        \"max\": 1.0,\n        \"num_unique_values\": 4,\n        \"samples\": [\n          1.0,\n          0.9995512676688355,\n          0.9661207089970832\n        ],\n        \"semantic_type\": \"\",\n        \"description\": \"\"\n      }\n    },\n    {\n      \"column\": \"Testing Accuracy\",\n      \"properties\": {\n        \"dtype\": \"number\",\n        \"std\": 0.031654238106172246,\n        \"min\": 0.905829596412556,\n        \"max\": 0.9856502242152466,\n        \"num_unique_values\": 5,\n        \"samples\": [\n          0.9659192825112107,\n          0.9856502242152466,\n          0.905829596412556\n        ],\n        \"semantic_type\": \"\",\n        \"description\": \"\"\n      }\n    },\n    {\n      \"column\": \"Precision Score\",\n      \"properties\": {\n        \"dtype\": \"number\",\n        \"std\": 0.03411769671567623,\n        \"min\": 0.9014084507042254,\n        \"max\": 0.987603305785124,\n        \"num_unique_values\": 5,\n        \"samples\": [\n          0.9723360655737705,\n          0.987603305785124,\n          0.9014084507042254\n        ],\n        \"semantic_type\": \"\",\n        \"description\": \"\"\n      }\n    },\n    {\n      \"column\": \"Recall Score\",\n      \"properties\": {\n        \"dtype\": \"number\",\n        \"std\": 0.00469328346919533,\n        \"min\": 0.9885416666666667,\n        \"max\": 1.0,\n        \"num_unique_values\": 4,\n        \"samples\": [\n          0.9885416666666667,\n          0.9958333333333333,\n          0.9989583333333333\n        ],\n        \"semantic_type\": \"\",\n        \"description\": \"\"\n      }\n    },\n    {\n      \"column\": \"F1 Score\",\n      \"properties\": {\n        \"dtype\": \"number\",\n        \"std\": 0.017218973174111113,\n        \"min\": 0.9481481481481482,\n        \"max\": 0.991701244813278,\n        \"num_unique_values\": 5,\n        \"samples\": [\n          0.9803719008264463,\n          0.991701244813278,\n          0.9481481481481482\n        ],\n        \"semantic_type\": \"\",\n        \"description\": \"\"\n      }\n    }\n  ]\n}"
            }
          },
          "metadata": {},
          "execution_count": 23
        }
      ],
      "source": [
        "a1 =  pd.DataFrame.from_dict(train_acc_list, orient = 'index', columns = [\"Traning Accuracy\"])\n",
        "a2 =  pd.DataFrame.from_dict(test_acc_list, orient = 'index', columns = [\"Testing Accuracy\"])\n",
        "a3 =  pd.DataFrame.from_dict(precision_list, orient = 'index', columns = [\"Precision Score\"])\n",
        "a4 =  pd.DataFrame.from_dict(recall_list, orient = 'index', columns = [\"Recall Score\"])\n",
        "a5 =  pd.DataFrame.from_dict(f1_list, orient = 'index', columns = [\"F1 Score\"])\n",
        "\n",
        "org = pd.concat([a1, a2, a3, a4, a5], axis = 1)\n",
        "org"
      ]
    },
    {
      "cell_type": "code",
      "execution_count": 24,
      "id": "c2bf5803",
      "metadata": {
        "colab": {
          "base_uri": "https://localhost:8080/",
          "height": 54
        },
        "id": "c2bf5803",
        "outputId": "89a5dde2-7855-474c-b564-d7716e84f535"
      },
      "outputs": [
        {
          "output_type": "display_data",
          "data": {
            "text/plain": [
              "<Figure size 640x480 with 1 Axes>"
            ],
            "image/png": "[encoded data removed]"
          },
          "metadata": {}
        }
      ],
      "source": [
        "alg = ['LR','DT','KNN','RF','STACK']\n",
        "plt.plot(alg,a1)\n",
        "plt.plot(alg,a2)\n",
        "plt.plot(alg,a3)\n",
        "plt.plot(alg,a4)\n",
        "plt.plot(alg,a5)\n",
        "legend = ['Traning Accuracy', 'Testing Accuracy', 'Precision Score', 'Recall Score', 'F1 Score']\n",
        "plt.title(\"METRICS COMPARISION\")\n",
        "plt.legend(legend)\n",
        "plt.show()"
      ]
    },
    {
      "cell_type": "markdown",
      "source": [
        "## **Test & Save**"
      ],
      "metadata": {
        "id": "BsOl12cO8q_3"
      },
      "id": "BsOl12cO8q_3"
    },
    {
      "cell_type": "code",
      "execution_count": 25,
      "id": "b2b950ab",
      "metadata": {
        "colab": {
          "base_uri": "https://localhost:8080/"
        },
        "id": "b2b950ab",
        "outputId": "4ff84a68-1f5c-436e-ac42-997177398625"
      },
      "outputs": [
        {
          "output_type": "stream",
          "name": "stdout",
          "text": [
            "HAM MAIL\n"
          ]
        }
      ],
      "source": [
        "input_mail = [\"Hi this is  kalyan\"]\n",
        "\n",
        "input_mail_features = feature_extraction.transform(input_mail)\n",
        "\n",
        "prediction = stack.predict(input_mail_features)\n",
        "\n",
        "if(prediction == 0):\n",
        "    print(\"SPAM MAIL\")\n",
        "else:\n",
        "    print(\"HAM MAIL\")"
      ]
    },
    {
      "cell_type": "code",
      "source": [
        "import pickle"
      ],
      "metadata": {
        "id": "9HC7it2QGgpu"
      },
      "id": "9HC7it2QGgpu",
      "execution_count": 26,
      "outputs": []
    },
    {
      "cell_type": "code",
      "source": [
        "pickle.dump(stack, open(\"stack_model.pkl\", \"wb\"))"
      ],
      "metadata": {
        "id": "tGZOtlrjGiNN"
      },
      "id": "tGZOtlrjGiNN",
      "execution_count": 27,
      "outputs": []
    },
    {
      "cell_type": "code",
      "source": [
        "pickle.dump(feature_extraction, open(\"features.pkl\", \"wb\"))"
      ],
      "metadata": {
        "id": "kYonpleKR1vV"
      },
      "id": "kYonpleKR1vV",
      "execution_count": 28,
      "outputs": []
    }
  ],
  "metadata": {
    "kernelspec": {
      "display_name": "Python 3 (ipykernel)",
      "language": "python",
      "name": "python3"
    },
    "language_info": {
      "codemirror_mode": {
        "name": "ipython",
        "version": 3
      },
      "file_extension": ".py",
      "mimetype": "text/x-python",
      "name": "python",
      "nbconvert_exporter": "python",
      "pygments_lexer": "ipython3",
      "version": "3.9.13"
    },
    "colab": {
      "provenance": [],
      "collapsed_sections": [
        "k-wyuTJN75OF",
        "n4pJvVdh79UB",
        "3yY8gAsT8Cmy",
        "74683297",
        "3398ca05",
        "90ea91a3",
        "43f66f5c",
        "6c144d9c",
        "ae56053e",
        "BsOl12cO8q_3"
      ]
    }
  },
  "nbformat": 4,
  "nbformat_minor": 5
}