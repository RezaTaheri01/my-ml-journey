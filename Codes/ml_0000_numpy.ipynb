{
  "nbformat": 4,
  "nbformat_minor": 0,
  "metadata": {
    "colab": {
      "provenance": []
    },
    "kernelspec": {
      "name": "python3",
      "display_name": "Python 3"
    },
    "language_info": {
      "name": "python"
    }
  },
  "cells": [
    {
      "cell_type": "markdown",
      "source": [
        "# Numpy\n",
        "* Fixed Type\n",
        "* Contiguous Memory\n"
      ],
      "metadata": {
        "id": "fLq5zd7hjRct"
      }
    },
    {
      "cell_type": "code",
      "execution_count": null,
      "metadata": {
        "id": "y_44owR52h9b"
      },
      "outputs": [],
      "source": [
        "import numpy as np"
      ]
    },
    {
      "cell_type": "markdown",
      "source": [
        "# The Basics"
      ],
      "metadata": {
        "id": "Lp6O4YW1ZImI"
      }
    },
    {
      "cell_type": "code",
      "source": [
        "a = np.array([1, 2, 3], dtype=np.int8)\n",
        "b = np.array([[9, 8, 7, 11, 24], [6, 5, 4, 45, 67], [3, 2, 1, 16, 12]], dtype=np.float64)\n",
        "a, b"
      ],
      "metadata": {
        "colab": {
          "base_uri": "https://localhost:8080/"
        },
        "id": "LWW9XipzZGxN",
        "outputId": "41df7182-749f-4077-c2a0-8d1f415381e4"
      },
      "execution_count": null,
      "outputs": [
        {
          "output_type": "execute_result",
          "data": {
            "text/plain": [
              "(array([1, 2, 3], dtype=int8),\n",
              " array([[ 9.,  8.,  7., 11., 24.],\n",
              "        [ 6.,  5.,  4., 45., 67.],\n",
              "        [ 3.,  2.,  1., 16., 12.]]))"
            ]
          },
          "metadata": {},
          "execution_count": 35
        }
      ]
    },
    {
      "cell_type": "code",
      "source": [
        "# Get dimensions\n",
        "a.ndim, b.ndim"
      ],
      "metadata": {
        "colab": {
          "base_uri": "https://localhost:8080/"
        },
        "id": "4y0e8gz-nrV_",
        "outputId": "71a6a353-918f-4c1a-8690-bf57d771a762"
      },
      "execution_count": null,
      "outputs": [
        {
          "output_type": "execute_result",
          "data": {
            "text/plain": [
              "(1, 2)"
            ]
          },
          "metadata": {},
          "execution_count": 36
        }
      ]
    },
    {
      "cell_type": "code",
      "source": [
        "# Get shape\n",
        "a.shape, b.shape"
      ],
      "metadata": {
        "colab": {
          "base_uri": "https://localhost:8080/"
        },
        "id": "H3Cbefx5ntkI",
        "outputId": "ea4f99ba-da20-4a22-ffff-7c0c1ff98b74"
      },
      "execution_count": null,
      "outputs": [
        {
          "output_type": "execute_result",
          "data": {
            "text/plain": [
              "((3,), (3, 5))"
            ]
          },
          "metadata": {},
          "execution_count": 37
        }
      ]
    },
    {
      "cell_type": "code",
      "source": [
        "# Get type\n",
        "a.dtype, b.dtype"
      ],
      "metadata": {
        "colab": {
          "base_uri": "https://localhost:8080/"
        },
        "id": "WBFRh6YcoKCI",
        "outputId": "954a8f7c-e3fa-4b21-ab4e-1d093e90eb80"
      },
      "execution_count": null,
      "outputs": [
        {
          "output_type": "execute_result",
          "data": {
            "text/plain": [
              "(dtype('int8'), dtype('float64'))"
            ]
          },
          "metadata": {},
          "execution_count": 38
        }
      ]
    },
    {
      "cell_type": "code",
      "source": [
        "# Each item size\n",
        "a.itemsize, b.itemsize # each item size in Byte"
      ],
      "metadata": {
        "colab": {
          "base_uri": "https://localhost:8080/"
        },
        "id": "XZFrF6Ycodyq",
        "outputId": "595ec5d6-d958-4ebb-daf8-c15b8d48c4db"
      },
      "execution_count": null,
      "outputs": [
        {
          "output_type": "execute_result",
          "data": {
            "text/plain": [
              "(1, 8)"
            ]
          },
          "metadata": {},
          "execution_count": 39
        }
      ]
    },
    {
      "cell_type": "code",
      "source": [
        "# Total size\n",
        "# nbytes = size * itemsize\n",
        "a.nbytes, b.nbytes"
      ],
      "metadata": {
        "colab": {
          "base_uri": "https://localhost:8080/"
        },
        "id": "gluNaGt-oy3g",
        "outputId": "3e222d70-c1d4-486f-88a4-a014e8b4207d"
      },
      "execution_count": null,
      "outputs": [
        {
          "output_type": "execute_result",
          "data": {
            "text/plain": [
              "(3, 120)"
            ]
          },
          "metadata": {},
          "execution_count": 40
        }
      ]
    },
    {
      "cell_type": "code",
      "source": [
        "# b[i, j] i=row, j=col\n",
        "# Get specific row\n",
        "b[1, :]"
      ],
      "metadata": {
        "id": "ZtyR_x1wpKBz",
        "colab": {
          "base_uri": "https://localhost:8080/"
        },
        "outputId": "fad51146-05ed-4e47-d7df-96b706693150"
      },
      "execution_count": null,
      "outputs": [
        {
          "output_type": "execute_result",
          "data": {
            "text/plain": [
              "array([ 6.,  5.,  4., 45., 67.])"
            ]
          },
          "metadata": {},
          "execution_count": 41
        }
      ]
    },
    {
      "cell_type": "code",
      "source": [
        "# Get even indexes started from index 2\n",
        "b[:, 2::2] = 78"
      ],
      "metadata": {
        "id": "Qb1ASISULcQp"
      },
      "execution_count": null,
      "outputs": []
    },
    {
      "cell_type": "code",
      "source": [
        "# b[0, :] = 78\n",
        "b[0, :] = [1, 2, 3, 4, 5] # List should be the same size and dimensions\n",
        "b"
      ],
      "metadata": {
        "colab": {
          "base_uri": "https://localhost:8080/"
        },
        "id": "r4meX--2MzrC",
        "outputId": "1f675c8d-2602-4274-d8a3-5d4aca817c63"
      },
      "execution_count": null,
      "outputs": [
        {
          "output_type": "execute_result",
          "data": {
            "text/plain": [
              "array([[ 1.,  2.,  3.,  4.,  5.],\n",
              "       [ 6.,  5., 78., 45., 78.],\n",
              "       [ 3.,  2., 78., 16., 78.]])"
            ]
          },
          "metadata": {},
          "execution_count": 43
        }
      ]
    },
    {
      "cell_type": "markdown",
      "source": [
        "# 3D example"
      ],
      "metadata": {
        "id": "Td2UpLcePyCG"
      }
    },
    {
      "cell_type": "code",
      "source": [
        "c = np.zeros(shape=(2, 3, 4), dtype=np.float16)\n",
        "c[0, 1, :] = [1, 2, 3, 4]\n",
        "c"
      ],
      "metadata": {
        "colab": {
          "base_uri": "https://localhost:8080/"
        },
        "id": "3LDo6mviNWS5",
        "outputId": "6fc37cc2-3215-46de-d4e5-dcccfdc78c73"
      },
      "execution_count": null,
      "outputs": [
        {
          "output_type": "execute_result",
          "data": {
            "text/plain": [
              "array([[[0., 0., 0., 0.],\n",
              "        [1., 2., 3., 4.],\n",
              "        [0., 0., 0., 0.]],\n",
              "\n",
              "       [[0., 0., 0., 0.],\n",
              "        [0., 0., 0., 0.],\n",
              "        [0., 0., 0., 0.]]], dtype=float16)"
            ]
          },
          "metadata": {},
          "execution_count": 44
        }
      ]
    },
    {
      "cell_type": "code",
      "source": [
        "# outside in\n",
        "c[0, 1, 3]"
      ],
      "metadata": {
        "colab": {
          "base_uri": "https://localhost:8080/"
        },
        "id": "9nKoU7IpP-mB",
        "outputId": "618230fc-cb9f-4561-d89b-14d84618896a"
      },
      "execution_count": null,
      "outputs": [
        {
          "output_type": "execute_result",
          "data": {
            "text/plain": [
              "np.float16(4.0)"
            ]
          },
          "metadata": {},
          "execution_count": 45
        }
      ]
    },
    {
      "cell_type": "markdown",
      "source": [
        "# Initialize different types of arrays"
      ],
      "metadata": {
        "id": "W9cKV4WGRTjM"
      }
    },
    {
      "cell_type": "code",
      "source": [
        "np.zeros((2, 3))"
      ],
      "metadata": {
        "colab": {
          "base_uri": "https://localhost:8080/"
        },
        "id": "-n4JtSWQQXbu",
        "outputId": "31c89002-56a9-4dc0-aec8-c743a19afee9"
      },
      "execution_count": null,
      "outputs": [
        {
          "output_type": "execute_result",
          "data": {
            "text/plain": [
              "array([[0., 0., 0.],\n",
              "       [0., 0., 0.]])"
            ]
          },
          "metadata": {},
          "execution_count": 53
        }
      ]
    },
    {
      "cell_type": "code",
      "source": [
        "np.ones((2, 3), dtype=np.int8)"
      ],
      "metadata": {
        "colab": {
          "base_uri": "https://localhost:8080/"
        },
        "id": "cSQ9LmsIRf8F",
        "outputId": "60232568-9184-4e16-db8b-602409bb66b3"
      },
      "execution_count": null,
      "outputs": [
        {
          "output_type": "execute_result",
          "data": {
            "text/plain": [
              "array([[1, 1, 1],\n",
              "       [1, 1, 1]], dtype=int8)"
            ]
          },
          "metadata": {},
          "execution_count": 55
        }
      ]
    },
    {
      "cell_type": "code",
      "source": [
        "np.full(shape=(2, 3), fill_value=123)"
      ],
      "metadata": {
        "colab": {
          "base_uri": "https://localhost:8080/"
        },
        "id": "j5yg2iCgRuGK",
        "outputId": "6c31c2e9-0582-47c4-f1c5-3da1dad496af"
      },
      "execution_count": null,
      "outputs": [
        {
          "output_type": "execute_result",
          "data": {
            "text/plain": [
              "array([[123, 123, 123],\n",
              "       [123, 123, 123]])"
            ]
          },
          "metadata": {},
          "execution_count": 57
        }
      ]
    },
    {
      "cell_type": "code",
      "source": [
        "np.full_like(a, 12)"
      ],
      "metadata": {
        "colab": {
          "base_uri": "https://localhost:8080/"
        },
        "id": "9zpX-r42R5nX",
        "outputId": "49dc1f42-e35a-44b6-b455-202897ee7d25"
      },
      "execution_count": null,
      "outputs": [
        {
          "output_type": "execute_result",
          "data": {
            "text/plain": [
              "array([12, 12, 12], dtype=int8)"
            ]
          },
          "metadata": {},
          "execution_count": 59
        }
      ]
    },
    {
      "cell_type": "markdown",
      "source": [
        "# Random"
      ],
      "metadata": {
        "id": "IuHPeLv_S6Uu"
      }
    },
    {
      "cell_type": "code",
      "source": [
        "# Random int\n",
        "np.random.randint(low=0, high=12, size=(3, 4))"
      ],
      "metadata": {
        "colab": {
          "base_uri": "https://localhost:8080/"
        },
        "id": "NFoDSiXVSGLh",
        "outputId": "1d4855f0-a06d-4277-d456-2c4cda4c7ddb"
      },
      "execution_count": null,
      "outputs": [
        {
          "output_type": "execute_result",
          "data": {
            "text/plain": [
              "array([[ 2, 10,  3, 11],\n",
              "       [ 0,  8,  7, 11],\n",
              "       [ 8,  6,  7,  2]])"
            ]
          },
          "metadata": {},
          "execution_count": 60
        }
      ]
    },
    {
      "cell_type": "code",
      "source": [
        "# Random 0-1 just pass size to it\n",
        "np.random.rand(3, 2)"
      ],
      "metadata": {
        "colab": {
          "base_uri": "https://localhost:8080/"
        },
        "id": "a8b5lUQKSdOO",
        "outputId": "bc5d8eb5-ea02-4c02-bcd2-8fc650a13972"
      },
      "execution_count": null,
      "outputs": [
        {
          "output_type": "execute_result",
          "data": {
            "text/plain": [
              "array([[0.95567647, 0.6325864 ],\n",
              "       [0.7441816 , 0.50506503],\n",
              "       [0.41507009, 0.04014501]])"
            ]
          },
          "metadata": {},
          "execution_count": 62
        }
      ]
    },
    {
      "cell_type": "code",
      "source": [
        "# Random 0-1 just pass size to it\n",
        "np.random.random_sample(size=b.shape)"
      ],
      "metadata": {
        "colab": {
          "base_uri": "https://localhost:8080/"
        },
        "id": "BqlORqM7Sw3o",
        "outputId": "5a774c78-caf1-4c2c-ea51-841dedcd7161"
      },
      "execution_count": null,
      "outputs": [
        {
          "output_type": "execute_result",
          "data": {
            "text/plain": [
              "array([[0.65321004, 0.93401116, 0.239411  , 0.1699394 , 0.15857918],\n",
              "       [0.49180305, 0.47913441, 0.67379083, 0.0516425 , 0.68931425],\n",
              "       [0.78729527, 0.07978258, 0.71997382, 0.55340929, 0.1960921 ]])"
            ]
          },
          "metadata": {},
          "execution_count": 67
        }
      ]
    },
    {
      "cell_type": "code",
      "source": [
        "# Identity matrix\n",
        "np.identity(6)"
      ],
      "metadata": {
        "colab": {
          "base_uri": "https://localhost:8080/"
        },
        "id": "yjbG3sIrTH8-",
        "outputId": "8d2b42a9-3df5-4f9f-bfb8-6bf4f591c8d6"
      },
      "execution_count": null,
      "outputs": [
        {
          "output_type": "execute_result",
          "data": {
            "text/plain": [
              "array([[1., 0., 0., 0., 0., 0.],\n",
              "       [0., 1., 0., 0., 0., 0.],\n",
              "       [0., 0., 1., 0., 0., 0.],\n",
              "       [0., 0., 0., 1., 0., 0.],\n",
              "       [0., 0., 0., 0., 1., 0.],\n",
              "       [0., 0., 0., 0., 0., 1.]])"
            ]
          },
          "metadata": {},
          "execution_count": 68
        }
      ]
    },
    {
      "cell_type": "code",
      "source": [
        "array = np.array([2, 4, 6])\n",
        "np.repeat(array, 3)"
      ],
      "metadata": {
        "colab": {
          "base_uri": "https://localhost:8080/"
        },
        "id": "TfMHBNGcTsdW",
        "outputId": "72bcfd4a-35a5-4197-c4b7-11d039299915"
      },
      "execution_count": null,
      "outputs": [
        {
          "output_type": "execute_result",
          "data": {
            "text/plain": [
              "array([2, 2, 2, 4, 4, 4, 6, 6, 6])"
            ]
          },
          "metadata": {},
          "execution_count": 75
        }
      ]
    },
    {
      "cell_type": "code",
      "source": [
        "array = np.array([[2, 4, 6]])\n",
        "np.repeat(array, 3, axis=0)"
      ],
      "metadata": {
        "colab": {
          "base_uri": "https://localhost:8080/"
        },
        "id": "wD7TGKyET63G",
        "outputId": "53c3fbb5-ad13-4825-a55c-696ea140a36c"
      },
      "execution_count": null,
      "outputs": [
        {
          "output_type": "execute_result",
          "data": {
            "text/plain": [
              "array([[2, 4, 6],\n",
              "       [2, 4, 6],\n",
              "       [2, 4, 6]])"
            ]
          },
          "metadata": {},
          "execution_count": 74
        }
      ]
    },
    {
      "cell_type": "markdown",
      "source": [
        "# Exercise"
      ],
      "metadata": {
        "id": "jTCE9xofU0E8"
      }
    },
    {
      "cell_type": "code",
      "source": [
        "# Create a zeros array that edges=1 and center=9\n",
        "# Way 1\n",
        "array = np.zeros(shape=(11, 11), dtype=np.int8)\n",
        "r_l, c_l = array.shape\n",
        "\n",
        "array[r_l // 2, c_l // 2] = 9\n",
        "\n",
        "array[0::r_l - 1, :] = 1\n",
        "array[:, 0::c_l - 1] = 1\n",
        "\n",
        "array"
      ],
      "metadata": {
        "colab": {
          "base_uri": "https://localhost:8080/"
        },
        "id": "aWZiAqJvUDOK",
        "outputId": "37206945-237a-452b-acca-85065d8e4eb7"
      },
      "execution_count": null,
      "outputs": [
        {
          "output_type": "execute_result",
          "data": {
            "text/plain": [
              "array([[1, 1, 1, 1, 1, 1, 1, 1, 1, 1, 1],\n",
              "       [1, 0, 0, 0, 0, 0, 0, 0, 0, 0, 1],\n",
              "       [1, 0, 0, 0, 0, 0, 0, 0, 0, 0, 1],\n",
              "       [1, 0, 0, 0, 0, 0, 0, 0, 0, 0, 1],\n",
              "       [1, 0, 0, 0, 0, 0, 0, 0, 0, 0, 1],\n",
              "       [1, 0, 0, 0, 0, 9, 0, 0, 0, 0, 1],\n",
              "       [1, 0, 0, 0, 0, 0, 0, 0, 0, 0, 1],\n",
              "       [1, 0, 0, 0, 0, 0, 0, 0, 0, 0, 1],\n",
              "       [1, 0, 0, 0, 0, 0, 0, 0, 0, 0, 1],\n",
              "       [1, 0, 0, 0, 0, 0, 0, 0, 0, 0, 1],\n",
              "       [1, 1, 1, 1, 1, 1, 1, 1, 1, 1, 1]], dtype=int8)"
            ]
          },
          "metadata": {},
          "execution_count": 97
        }
      ]
    },
    {
      "cell_type": "code",
      "source": [
        "# Way 2\n",
        "array = np.ones(shape=(11, 11), dtype=np.int8)\n",
        "r_l, c_l = array.shape\n",
        "\n",
        "z = np.zeros(shape=(r_l - 2, c_l -2))\n",
        "z[(r_l - 2) // 2, (c_l - 2) // 2] = 9\n",
        "\n",
        "array[1:-1, 1:-1] = z\n",
        "\n",
        "array"
      ],
      "metadata": {
        "colab": {
          "base_uri": "https://localhost:8080/"
        },
        "id": "izRKKWdpXkq5",
        "outputId": "d1881687-8b03-4b12-ff7b-261c809f7705"
      },
      "execution_count": null,
      "outputs": [
        {
          "output_type": "execute_result",
          "data": {
            "text/plain": [
              "array([[1, 1, 1, 1, 1, 1, 1, 1, 1, 1, 1],\n",
              "       [1, 0, 0, 0, 0, 0, 0, 0, 0, 0, 1],\n",
              "       [1, 0, 0, 0, 0, 0, 0, 0, 0, 0, 1],\n",
              "       [1, 0, 0, 0, 0, 0, 0, 0, 0, 0, 1],\n",
              "       [1, 0, 0, 0, 0, 0, 0, 0, 0, 0, 1],\n",
              "       [1, 0, 0, 0, 0, 9, 0, 0, 0, 0, 1],\n",
              "       [1, 0, 0, 0, 0, 0, 0, 0, 0, 0, 1],\n",
              "       [1, 0, 0, 0, 0, 0, 0, 0, 0, 0, 1],\n",
              "       [1, 0, 0, 0, 0, 0, 0, 0, 0, 0, 1],\n",
              "       [1, 0, 0, 0, 0, 0, 0, 0, 0, 0, 1],\n",
              "       [1, 1, 1, 1, 1, 1, 1, 1, 1, 1, 1]], dtype=int8)"
            ]
          },
          "metadata": {},
          "execution_count": 3
        }
      ]
    },
    {
      "cell_type": "markdown",
      "source": [
        "# Mathematics"
      ],
      "metadata": {
        "id": "tD-5phDnHD3m"
      }
    },
    {
      "cell_type": "code",
      "source": [
        "a = np.array([1, 2, 3, 4])\n",
        "a + 2 # * ** + - / // etc\n"
      ],
      "metadata": {
        "id": "T8H4st_MX6-P",
        "colab": {
          "base_uri": "https://localhost:8080/"
        },
        "outputId": "e7637964-5d83-4c83-d305-4f6b72abc26f"
      },
      "execution_count": null,
      "outputs": [
        {
          "output_type": "execute_result",
          "data": {
            "text/plain": [
              "array([1, 2, 3, 4])"
            ]
          },
          "metadata": {},
          "execution_count": 4
        }
      ]
    },
    {
      "cell_type": "code",
      "source": [
        "b = np.array([2, 4, 9, 8]),\n",
        "a + b # * ** +,,   - / // etc"
      ],
      "metadata": {
        "colab": {
          "base_uri": "https://localhost:8080/"
        },
        "id": "jIaiYnXvHfG3",
        "outputId": "0aee408f-ba89-4369-81aa-44707a2339f8"
      },
      "execution_count": null,
      "outputs": [
        {
          "output_type": "execute_result",
          "data": {
            "text/plain": [
              "array([[ 3,  6, 12, 12]])"
            ]
          },
          "metadata": {},
          "execution_count": 13
        }
      ]
    },
    {
      "cell_type": "code",
      "source": [
        "np.sin(b)"
      ],
      "metadata": {
        "colab": {
          "base_uri": "https://localhost:8080/"
        },
        "id": "V7R-s1keHf1o",
        "outputId": "b9eea8c2-3130-40c9-afd6-0e5ba0a06d91"
      },
      "execution_count": null,
      "outputs": [
        {
          "output_type": "execute_result",
          "data": {
            "text/plain": [
              "array([[ 0.90929743, -0.7568025 ,  0.41211849,  0.98935825]])"
            ]
          },
          "metadata": {},
          "execution_count": 14
        }
      ]
    },
    {
      "cell_type": "markdown",
      "source": [
        "# Linear Algebra"
      ],
      "metadata": {
        "id": "9OgzNU9TIUCW"
      }
    },
    {
      "cell_type": "code",
      "source": [
        "mat_a = np.random.randint(1, 5, (3, 4))\n",
        "mat_b = np.random.randint(1, 5, (4, 2))\n",
        "\n",
        "mat_a, mat_b"
      ],
      "metadata": {
        "colab": {
          "base_uri": "https://localhost:8080/"
        },
        "id": "a3GetxszIWWy",
        "outputId": "2e9b743a-860b-4544-a797-ee5138dc6d0b"
      },
      "execution_count": null,
      "outputs": [
        {
          "output_type": "execute_result",
          "data": {
            "text/plain": [
              "(array([[2, 2, 2, 2],\n",
              "        [4, 4, 2, 1],\n",
              "        [4, 3, 4, 2]]),\n",
              " array([[2, 1],\n",
              "        [4, 1],\n",
              "        [3, 3],\n",
              "        [4, 2]]))"
            ]
          },
          "metadata": {},
          "execution_count": 16
        }
      ]
    },
    {
      "cell_type": "code",
      "source": [
        "# mat_a@mat_b\n",
        "np.matmul(mat_a, mat_b)"
      ],
      "metadata": {
        "colab": {
          "base_uri": "https://localhost:8080/"
        },
        "id": "nkne_pfYIy2U",
        "outputId": "7e438cb9-5516-4521-e71b-b9eac13edb6f"
      },
      "execution_count": null,
      "outputs": [
        {
          "output_type": "execute_result",
          "data": {
            "text/plain": [
              "array([[26, 14],\n",
              "       [34, 16],\n",
              "       [40, 23]])"
            ]
          },
          "metadata": {},
          "execution_count": 19
        }
      ]
    },
    {
      "cell_type": "code",
      "source": [
        "# Find the determinant\n",
        "c = np.identity(3)\n",
        "np.linalg.det(c)"
      ],
      "metadata": {
        "colab": {
          "base_uri": "https://localhost:8080/"
        },
        "id": "l6adeofEI8Gv",
        "outputId": "1d9903f2-fdf3-4d7e-e72f-39d726484700"
      },
      "execution_count": null,
      "outputs": [
        {
          "output_type": "execute_result",
          "data": {
            "text/plain": [
              "np.float64(1.0)"
            ]
          },
          "metadata": {},
          "execution_count": 21
        }
      ]
    },
    {
      "cell_type": "markdown",
      "source": [
        "# Statistics"
      ],
      "metadata": {
        "id": "XXdN0IYOJ1Sp"
      }
    },
    {
      "cell_type": "code",
      "source": [
        "stats = np.array([[1,2,3], [4, 5, 6]])"
      ],
      "metadata": {
        "id": "Knba_mdtJhMt"
      },
      "execution_count": null,
      "outputs": []
    },
    {
      "cell_type": "code",
      "source": [
        "np.min(stats, axis=0) # each cols"
      ],
      "metadata": {
        "colab": {
          "base_uri": "https://localhost:8080/"
        },
        "id": "RYv1284DKApL",
        "outputId": "1b3e1116-9b8e-494d-fb21-cfd846d7c53d"
      },
      "execution_count": null,
      "outputs": [
        {
          "output_type": "execute_result",
          "data": {
            "text/plain": [
              "array([1, 2, 3])"
            ]
          },
          "metadata": {},
          "execution_count": 26
        }
      ]
    },
    {
      "cell_type": "code",
      "source": [
        "np.max(stats, axis=1) # each rows"
      ],
      "metadata": {
        "colab": {
          "base_uri": "https://localhost:8080/"
        },
        "id": "_6TkXPwSKDyo",
        "outputId": "5e5a4fc5-a919-40a4-8ced-b1374251538a"
      },
      "execution_count": null,
      "outputs": [
        {
          "output_type": "execute_result",
          "data": {
            "text/plain": [
              "array([3, 6])"
            ]
          },
          "metadata": {},
          "execution_count": 27
        }
      ]
    },
    {
      "cell_type": "code",
      "source": [
        "np.mean(stats)"
      ],
      "metadata": {
        "colab": {
          "base_uri": "https://localhost:8080/"
        },
        "id": "yw4VD3AiKFXH",
        "outputId": "b761efe0-2b8a-47bc-e7f3-449f610fc560"
      },
      "execution_count": null,
      "outputs": [
        {
          "output_type": "execute_result",
          "data": {
            "text/plain": [
              "np.float64(3.5)"
            ]
          },
          "metadata": {},
          "execution_count": 28
        }
      ]
    },
    {
      "cell_type": "code",
      "source": [
        "np.sum(stats)"
      ],
      "metadata": {
        "colab": {
          "base_uri": "https://localhost:8080/"
        },
        "id": "9QDU8kQ2KIDk",
        "outputId": "9cafe3e9-d5fe-4e5e-af59-50ec79feb006"
      },
      "execution_count": null,
      "outputs": [
        {
          "output_type": "execute_result",
          "data": {
            "text/plain": [
              "np.int64(21)"
            ]
          },
          "metadata": {},
          "execution_count": 29
        }
      ]
    },
    {
      "cell_type": "markdown",
      "source": [
        "# Reorganizing Arrays"
      ],
      "metadata": {
        "id": "QjxdMKW0Kf6A"
      }
    },
    {
      "cell_type": "code",
      "source": [
        "stats.reshape((-1,))"
      ],
      "metadata": {
        "colab": {
          "base_uri": "https://localhost:8080/"
        },
        "id": "L4S6sEsOKdaZ",
        "outputId": "791b3a82-d755-4988-b87d-64668340b698"
      },
      "execution_count": null,
      "outputs": [
        {
          "output_type": "execute_result",
          "data": {
            "text/plain": [
              "array([1, 2, 3, 4, 5, 6])"
            ]
          },
          "metadata": {},
          "execution_count": 36
        }
      ]
    },
    {
      "cell_type": "markdown",
      "source": [
        "# Vertical & Horizontal stacks"
      ],
      "metadata": {
        "id": "7P9whyh6LH3W"
      }
    },
    {
      "cell_type": "code",
      "source": [
        "a = stats.reshape((3, 2))\n",
        "b = np.random.randint(1, 5, (3, 2))"
      ],
      "metadata": {
        "id": "uoSD9LB2Kvjl"
      },
      "execution_count": null,
      "outputs": []
    },
    {
      "cell_type": "code",
      "source": [
        "np.hstack([a, b])"
      ],
      "metadata": {
        "colab": {
          "base_uri": "https://localhost:8080/"
        },
        "id": "L1vjoQ5PLSS_",
        "outputId": "ef7ca57d-4b6e-4e6a-8d90-cd2d2230c004"
      },
      "execution_count": null,
      "outputs": [
        {
          "output_type": "execute_result",
          "data": {
            "text/plain": [
              "array([[1, 2, 4, 4],\n",
              "       [3, 4, 3, 3],\n",
              "       [5, 6, 3, 3]])"
            ]
          },
          "metadata": {},
          "execution_count": 40
        }
      ]
    },
    {
      "cell_type": "code",
      "source": [
        "np.vstack([a, b])"
      ],
      "metadata": {
        "colab": {
          "base_uri": "https://localhost:8080/"
        },
        "id": "dnepLl7HLdMA",
        "outputId": "af5b8e44-a65d-4ffc-ce11-047209d50e6e"
      },
      "execution_count": null,
      "outputs": [
        {
          "output_type": "execute_result",
          "data": {
            "text/plain": [
              "array([[1, 2],\n",
              "       [3, 4],\n",
              "       [5, 6],\n",
              "       [4, 4],\n",
              "       [3, 3],\n",
              "       [3, 3]])"
            ]
          },
          "metadata": {},
          "execution_count": 41
        }
      ]
    },
    {
      "cell_type": "markdown",
      "source": [
        "# Load Data"
      ],
      "metadata": {
        "id": "BuV7gqTZME2A"
      }
    },
    {
      "cell_type": "code",
      "source": [
        "# np.genfromtxt(\"file.txt\", delimiter=\",\")"
      ],
      "metadata": {
        "id": "eOmU6-pnLoMk"
      },
      "execution_count": null,
      "outputs": []
    },
    {
      "cell_type": "markdown",
      "source": [
        "# Boolean Masking and Advanced Indexing"
      ],
      "metadata": {
        "id": "AzC7OUP-MaBR"
      }
    },
    {
      "cell_type": "code",
      "source": [
        "data = np.random.randint(1, 500, (5, 4))"
      ],
      "metadata": {
        "id": "HePhhed5MgXB"
      },
      "execution_count": null,
      "outputs": []
    },
    {
      "cell_type": "code",
      "source": [
        "data[data > 100] # return values that match with condition"
      ],
      "metadata": {
        "colab": {
          "base_uri": "https://localhost:8080/"
        },
        "id": "v-90ZtHkMrTU",
        "outputId": "470dad04-6bdc-4103-d882-b2ec01bab972"
      },
      "execution_count": null,
      "outputs": [
        {
          "output_type": "execute_result",
          "data": {
            "text/plain": [
              "array([469, 396, 484, 155, 310, 265, 416, 337, 240, 135, 353, 482, 201])"
            ]
          },
          "metadata": {},
          "execution_count": 47
        }
      ]
    },
    {
      "cell_type": "code",
      "source": [
        "# data > 100\n",
        "((data > 100) & (data < 200))\n",
        "# ~((data > 100) & (data < 200)) # not"
      ],
      "metadata": {
        "colab": {
          "base_uri": "https://localhost:8080/"
        },
        "id": "5j3ChcN_Mtmu",
        "outputId": "035764fd-33e7-4e24-b323-e834f87ba841"
      },
      "execution_count": null,
      "outputs": [
        {
          "output_type": "execute_result",
          "data": {
            "text/plain": [
              "array([[ True,  True,  True,  True],\n",
              "       [ True, False,  True,  True],\n",
              "       [ True,  True,  True,  True],\n",
              "       [ True,  True, False,  True],\n",
              "       [ True,  True,  True,  True]])"
            ]
          },
          "metadata": {},
          "execution_count": 55
        }
      ]
    },
    {
      "cell_type": "code",
      "source": [
        "np.any(data > 469, axis=0) # col"
      ],
      "metadata": {
        "colab": {
          "base_uri": "https://localhost:8080/"
        },
        "id": "DBR9rNzxNs91",
        "outputId": "ce230d33-d639-4b97-f508-7aa131cc02b0"
      },
      "execution_count": null,
      "outputs": [
        {
          "output_type": "execute_result",
          "data": {
            "text/plain": [
              "array([False,  True, False,  True])"
            ]
          },
          "metadata": {},
          "execution_count": 50
        }
      ]
    },
    {
      "cell_type": "markdown",
      "source": [
        "# Index with list\n"
      ],
      "metadata": {
        "id": "7xv5yWZpNIRT"
      }
    },
    {
      "cell_type": "code",
      "source": [
        "a = np.array([1,2,3,4,5,6,7,8,9])\n",
        "a[[1, 2, 8]]"
      ],
      "metadata": {
        "colab": {
          "base_uri": "https://localhost:8080/"
        },
        "id": "Fyuolwf-M5CB",
        "outputId": "ce983836-942a-4578-d578-9cfde18ad48b"
      },
      "execution_count": null,
      "outputs": [
        {
          "output_type": "execute_result",
          "data": {
            "text/plain": [
              "array([2, 3, 9])"
            ]
          },
          "metadata": {},
          "execution_count": 49
        }
      ]
    },
    {
      "cell_type": "code",
      "source": [],
      "metadata": {
        "id": "yssYOemFNgvA"
      },
      "execution_count": null,
      "outputs": []
    }
  ]
}