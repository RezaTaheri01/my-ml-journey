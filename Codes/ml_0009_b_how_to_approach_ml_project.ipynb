{
  "nbformat": 4,
  "nbformat_minor": 0,
  "metadata": {
    "colab": {
      "provenance": [],
      "collapsed_sections": [
        "xDgcJWR1mbCn",
        "1invzxGzp3JX",
        "NCAIh4dcsm5h",
        "_HP_-zq_3FOt",
        "1oTqz0TVEoaT",
        "Jpj6LfRUG4YV",
        "B1fV2GXoJ235",
        "EV8K6HOSKB9A",
        "O0_UFHaXTw_i",
        "dLO9lsP9rnhS",
        "LrS9gksc9LeC",
        "0YV-Yl3yKS_f",
        "OJEk1uUvdOC0",
        "JYLjVw0TlNbj",
        "KvWj7W_TekuG",
        "BHiZ4d--oj6u",
        "uXM-YHVklWUx",
        "6QEpysaakjE1",
        "AUn_gWijY88t",
        "Jjpsk0EoWxnS",
        "Dzt_zvK1hFff",
        "4lHz2NNYtvtS",
        "pRRuGmZKg6ZP",
        "somaGFWbF77K",
        "vQG0D3yurtB0",
        "cB1OdnFeuGqG",
        "03HviGXauRmX",
        "z_yRbHHUMuby",
        "joLjfAvXS4x3",
        "aT4-5grpUpnM",
        "VdWaQoMsTjOE",
        "aDi1ViCp1yl2",
        "6qqx5scc1_WW",
        "I7HDC6nn_2FG",
        "KpYMJ-YDs9qx",
        "oGZJ9iPV7TAS",
        "hEOcRkjtots5",
        "L7xvvR_io_RQ",
        "Zf8XdIVlsfPe",
        "H8P-w88Ryft1",
        "LWnYMIqfyimd",
        "z4vhiE4Q2sqo"
      ]
    },
    "kernelspec": {
      "name": "python3",
      "display_name": "Python 3"
    },
    "language_info": {
      "name": "python"
    }
  },
  "cells": [
    {
      "cell_type": "markdown",
      "source": [
        "https://jovian.com/aakashns/how-to-approach-ml-problems"
      ],
      "metadata": {
        "id": "zsaBNdSFl_kN"
      }
    },
    {
      "cell_type": "markdown",
      "source": [
        "https://www.kaggle.com/competitions/rossmann-store-sales/"
      ],
      "metadata": {
        "id": "R-SLSjUh2O8E"
      }
    },
    {
      "cell_type": "markdown",
      "source": [
        "![](https://i.imgur.com/kKdAALX.png)\n"
      ],
      "metadata": {
        "id": "_LexeLvcov05"
      }
    },
    {
      "cell_type": "markdown",
      "source": [
        "# **Todo**"
      ],
      "metadata": {
        "id": "kFwu7Kv3sW0v"
      }
    },
    {
      "cell_type": "markdown",
      "source": [
        " * Achieve the top 20% in Kaggle leaderboard"
      ],
      "metadata": {
        "id": "nnjyWEJGselh"
      }
    },
    {
      "cell_type": "markdown",
      "source": [
        "* StandardScalar vs MinMaxScalar (With MinMaxScalar it's easier to handle binary columns)\n",
        "* SimpleImputer vs SMOTE"
      ],
      "metadata": {
        "id": "xUEC6K5pwuNN"
      }
    },
    {
      "cell_type": "markdown",
      "source": [
        "**EXERCISE**: The features `Promo2`, `Promo2SinceWeek` etc. are not very useful in their current form, because they do not relate to the current date. How can you improve their representation?\n",
        "\n",
        "You can learn by looking at codes that people shared in Kaggle."
      ],
      "metadata": {
        "id": "fZadcUBXN60y"
      }
    },
    {
      "cell_type": "markdown",
      "source": [
        "# **Informations**"
      ],
      "metadata": {
        "id": "xDgcJWR1mbCn"
      }
    },
    {
      "cell_type": "markdown",
      "source": [
        "Step-by-step process for approaching ML problems:\n",
        "\n",
        "1. Understand the business requirements and the nature of the available data.\n",
        "2. Classify the problem as supervised/unsupervised and regression/classification.\n",
        "3. Download, clean & explore the data and create new features that may improve models.\n",
        "4. Create training/test/validation sets and prepare the data for training ML models.\n",
        "5. Create a quick & easy baseline model to evaluate and benchmark future models.\n",
        "6. Pick a modeling strategy, train a model, and tune hyperparameters to achieve optimal fit.\n",
        "7. Experiment and combine results from multiple strategies to get a better result.\n",
        "8. Interpret models, study individual predictions, and present your findings.\n"
      ],
      "metadata": {
        "id": "L1JIn19dmeJk"
      }
    },
    {
      "cell_type": "markdown",
      "source": [
        "Supervised Learning Models\n",
        "\n",
        "See https://scikit-learn.org/stable/supervised_learning.html"
      ],
      "metadata": {
        "id": "fnty97QLSuZe"
      }
    },
    {
      "cell_type": "markdown",
      "source": [
        "Unsupervised Learning Techniques\n",
        "\n",
        "See https://scikit-learn.org/stable/unsupervised_learning.html"
      ],
      "metadata": {
        "id": "P_KeIqB2Szv4"
      }
    },
    {
      "cell_type": "markdown",
      "source": [
        "# **Imports**"
      ],
      "metadata": {
        "id": "1invzxGzp3JX"
      }
    },
    {
      "cell_type": "code",
      "source": [
        "import numpy as np\n",
        "import pandas as pd\n",
        "import matplotlib.pyplot as plt\n",
        "\n",
        "import seaborn as sns\n",
        "import plotly.express as px"
      ],
      "metadata": {
        "id": "xbi9e4hpmlr1"
      },
      "execution_count": 449,
      "outputs": []
    },
    {
      "cell_type": "code",
      "source": [
        "from sklearn.model_selection import train_test_split\n",
        "from sklearn.impute import SimpleImputer\n",
        "from sklearn.preprocessing import MinMaxScaler, StandardScaler, OneHotEncoder\n",
        "\n",
        "from sklearn.linear_model import LinearRegression, SGDRegressor, Ridge\n",
        "\n",
        "# Trees\n",
        "from sklearn.tree import DecisionTreeRegressor\n",
        "from sklearn.ensemble import RandomForestRegressor\n",
        "from xgboost import XGBRegressor, XGBRFRegressor\n",
        "import lightgbm as lgb\n",
        "\n",
        "from sklearn.dummy import DummyRegressor\n",
        "\n",
        "# from cuml.ensemble import RandomForestRegressor as cuRandomForestRegressor\n",
        "\n",
        "from sklearn.metrics import mean_absolute_error, mean_squared_error, r2_score\n",
        "import joblib"
      ],
      "metadata": {
        "id": "fBlgByp0epgh"
      },
      "execution_count": 450,
      "outputs": []
    },
    {
      "cell_type": "code",
      "source": [
        "%matplotlib inline\n",
        "plt.style.use(\"Solarize_Light2\")"
      ],
      "metadata": {
        "id": "KA3e0mi7qf8i"
      },
      "execution_count": 451,
      "outputs": []
    },
    {
      "cell_type": "markdown",
      "source": [
        "# **Step 1 - Understand Business Requirements & Nature of Data**\n",
        "\n",
        "Most machine learning models are trained to serve a real-world use case. It's important to understand the business requirements, modeling objectives and the nature of the data available before you start building a machine learning model."
      ],
      "metadata": {
        "id": "NCAIh4dcsm5h"
      }
    },
    {
      "cell_type": "markdown",
      "source": [
        "## Understanding the Big Picture\n",
        "\n",
        "The first step in any machine learning problem is to read the given documentation, talk to various stakeholders and identify the following:\n",
        "\n",
        "1. What is the business problem you're trying to solve using machine learning?\n",
        "2. Why are we interested in solving this problem? What impact will it have on the business?\n",
        "3. How is this problem solved currently, without any machine learning tools?\n",
        "4. Who will use the results of this model, and how does it fit into other business processes?\n",
        "5. How much historical data do we have, and how was it collected?\n",
        "6. What features does the historical data contain? Does it contain the historical values for what we're trying to predict.\n",
        "7. What are some known issues with the data (data entry errors, missing data, differences in units etc.)\n",
        "8. Can we look at some sample rows from the dataset? How representative are they of the entire dataset.\n",
        "9. Where is the data stored and how will you get access to it?\n",
        "10. ...\n",
        "\n",
        "\n",
        "Gather as much information about the problem as possible, so that you're clear understanding of the objective and feasibility of the project."
      ],
      "metadata": {
        "id": "53ZhIFNks7gF"
      }
    },
    {
      "cell_type": "markdown",
      "source": [
        "## Data fields\n",
        "\n",
        "Most of the fields are self-explanatory. The following are descriptions for those that aren't.\n",
        "\n",
        "* Id - an Id that represents a (Store, Date) duple within the test set\n",
        "Store - a unique Id for each store\n",
        "* Sales - the turnover for any given day (this is what you are predicting)\n",
        "* Customers - the number of customers on a given day\n",
        "* Open - an indicator for whether the store was open: 0 = closed, 1 = open\n",
        "* StateHoliday - indicates a state holiday. Normally all stores, with few exceptions, are closed on state holidays. Note that all schools are closed on public holidays and weekends. a = public holiday, b = Easter holiday, c = * Christmas, 0 = None\n",
        "* SchoolHoliday - indicates if the (Store, Date) was affected by the closure of public schools\n",
        "* StoreType - differentiates between 4 different store models: a, b, c, d\n",
        "* Assortment - describes an assortment level: a = basic, b = extra, c = extended\n",
        "* CompetitionDistance - distance in meters to the nearest competitor store\n",
        "* CompetitionOpenSince[Month/Year] - gives the approximate year and month of the time the nearest competitor was opened\n",
        "* Promo - indicates whether a store is running a promo on that day\n",
        "* Promo2 - Promo2 is a continuing and consecutive promotion for some stores: 0 = store is not participating, 1 = store is participating\n",
        "* Promo2Since[Year/Week] - describes the year and calendar week when the store started participating in Promo2\n",
        "* PromoInterval - describes the consecutive intervals Promo2 is started, naming the months the promotion is started anew. E.g. \"Feb,May,Aug,Nov\" means each round starts in February, May, August, November of any given year for that store\n"
      ],
      "metadata": {
        "id": "ad-3AomJ2sw7"
      }
    },
    {
      "cell_type": "markdown",
      "source": [
        "# **Step 2 - Classify the problem as un/supervised & regression/classification**\n"
      ],
      "metadata": {
        "id": "_HP_-zq_3FOt"
      }
    },
    {
      "cell_type": "markdown",
      "source": [
        "Here's the landscape of machine learning([source](https://medium.datadriveninvestor.com/machine-learning-in-10-minutes-354d83e5922e)):\n",
        "\n",
        "<img src=\"https://miro.medium.com/max/842/1*tlQwBmbL6RkuuFq8OPJofw.png\" width=\"640\">"
      ],
      "metadata": {
        "id": "cGRoxbPTB18n"
      }
    },
    {
      "cell_type": "markdown",
      "source": [
        "\n",
        "\n",
        "Here are the topics in machine learning that we're studying in this course ([source](https://vas3k.com/blog/machine_learning/)):\n",
        "\n",
        "<img src=\"https://i.imgur.com/VbVFAsg.png\" width=\"640\">\n",
        "\n",
        "\n"
      ],
      "metadata": {
        "id": "YdXzx1WgCie1"
      }
    },
    {
      "cell_type": "markdown",
      "source": [
        "### Loss Functions and Evaluation Metrics\n",
        "\n",
        "Once you have identified the type of problem you're solving, you need to pick an appropriate evaluation metric. Also, depending on the kind of model you train, your model will also use a loss/cost function to optimize during the training process.\n",
        "\n",
        "* **Evaluation metrics** - they're used by humans to evaluate the ML model\n",
        "\n",
        "* **Loss functions** - they're used by computers to optimize the ML model\n",
        "\n",
        "They are often the same (e.g. RMSE for regression problems), but they can be different (e.g. Cross entropy and Accuracy for classification problems).\n",
        "\n",
        "See this article for a survey of common loss functions and evaluation metrics: https://towardsdatascience.com/11-evaluation-metrics-data-scientists-should-be-familiar-with-lessons-from-a-high-rank-kagglers-8596f75e58a7"
      ],
      "metadata": {
        "id": "yohaOVDJDmMW"
      }
    },
    {
      "cell_type": "markdown",
      "source": [
        "Supervised, Regression"
      ],
      "metadata": {
        "id": "JgpIERXuE5hS"
      }
    },
    {
      "cell_type": "markdown",
      "source": [
        "### Supervised Learning Models\n",
        "\n",
        "See https://scikit-learn.org/stable/supervised_learning.html"
      ],
      "metadata": {
        "id": "oevWHJ4r4wyC"
      }
    },
    {
      "cell_type": "markdown",
      "source": [
        "# **Step 3 - Download, clean & explore the data and create new features**\n"
      ],
      "metadata": {
        "id": "1oTqz0TVEoaT"
      }
    },
    {
      "cell_type": "markdown",
      "source": [
        "## Download Data"
      ],
      "metadata": {
        "id": "Jpj6LfRUG4YV"
      }
    },
    {
      "cell_type": "code",
      "source": [
        "import gdown\n",
        "\n",
        "# Replace with your Google Drive shareable link\n",
        "url = 'https://drive.google.com/file/d/1PogAVq1OtCFCU37GKUN-LPfjuGML6npk/view?usp=sharing'\n",
        "\n",
        "# Convert to the direct download link\n",
        "file_id = url.split('/d/')[1].split('/')[0]\n",
        "direct_url = f'https://drive.google.com/uc?id={file_id}'\n",
        "\n",
        "# Download\n",
        "gdown.download(direct_url, 'Rossmann.zip', quiet=False)\n",
        "!ls"
      ],
      "metadata": {
        "colab": {
          "base_uri": "https://localhost:8080/"
        },
        "id": "kyDJkpTPsqLY",
        "outputId": "d6e2e191-3743-4796-b514-eec275d99359"
      },
      "execution_count": 452,
      "outputs": [
        {
          "output_type": "stream",
          "name": "stderr",
          "text": [
            "Downloading...\n",
            "From: https://drive.google.com/uc?id=1PogAVq1OtCFCU37GKUN-LPfjuGML6npk\n",
            "To: /content/Rossmann.zip\n",
            "100%|██████████| 7.33M/7.33M [00:00<00:00, 42.2MB/s]\n"
          ]
        },
        {
          "output_type": "stream",
          "name": "stdout",
          "text": [
            "ml_map.svg  Rossmann  Rossmann.zip  sample_data  submission.csv\n"
          ]
        }
      ]
    },
    {
      "cell_type": "code",
      "source": [
        "!unzip -o /content/Rossmann.zip -d /content/Rossmann"
      ],
      "metadata": {
        "colab": {
          "base_uri": "https://localhost:8080/"
        },
        "id": "3HqJ_ijsHXun",
        "outputId": "6060ee22-ef45-4bf3-9160-340b8321702f"
      },
      "execution_count": 453,
      "outputs": [
        {
          "output_type": "stream",
          "name": "stdout",
          "text": [
            "Archive:  /content/Rossmann.zip\n",
            "  inflating: /content/Rossmann/sample_submission.csv  \n",
            "  inflating: /content/Rossmann/store.csv  \n",
            "  inflating: /content/Rossmann/test.csv  \n",
            "  inflating: /content/Rossmann/train.csv  \n"
          ]
        }
      ]
    },
    {
      "cell_type": "markdown",
      "source": [
        "## Load Data"
      ],
      "metadata": {
        "id": "B1fV2GXoJ235"
      }
    },
    {
      "cell_type": "code",
      "source": [
        "train_data = pd.read_csv(\"/content/Rossmann/train.csv\")\n",
        "test_data = pd.read_csv(\"/content/Rossmann/test.csv\")\n",
        "store_data = pd.read_csv(\"/content/Rossmann/store.csv\")\n",
        "sample_submission_data = pd.read_csv(\"/content/Rossmann/sample_submission.csv\")"
      ],
      "metadata": {
        "id": "dO0MnLLPHb4d",
        "colab": {
          "base_uri": "https://localhost:8080/"
        },
        "outputId": "74221470-2845-4882-8821-eca65ba4ba44"
      },
      "execution_count": 454,
      "outputs": [
        {
          "output_type": "stream",
          "name": "stderr",
          "text": [
            "<ipython-input-454-d257fe560fd5>:1: DtypeWarning: Columns (7) have mixed types. Specify dtype option on import or set low_memory=False.\n",
            "  train_data = pd.read_csv(\"/content/Rossmann/train.csv\")\n"
          ]
        }
      ]
    },
    {
      "cell_type": "code",
      "source": [
        "train_data.head()"
      ],
      "metadata": {
        "colab": {
          "base_uri": "https://localhost:8080/",
          "height": 226
        },
        "id": "LM7qZ4mgI2Ze",
        "outputId": "27e4cf25-95c2-436a-bd0b-07598a98e449"
      },
      "execution_count": 455,
      "outputs": [
        {
          "output_type": "execute_result",
          "data": {
            "text/plain": [
              "   Store  DayOfWeek        Date  Sales  Customers  Open  Promo StateHoliday  \\\n",
              "0      1          5  2015-07-31   5263        555     1      1            0   \n",
              "1      2          5  2015-07-31   6064        625     1      1            0   \n",
              "2      3          5  2015-07-31   8314        821     1      1            0   \n",
              "3      4          5  2015-07-31  13995       1498     1      1            0   \n",
              "4      5          5  2015-07-31   4822        559     1      1            0   \n",
              "\n",
              "   SchoolHoliday  \n",
              "0              1  \n",
              "1              1  \n",
              "2              1  \n",
              "3              1  \n",
              "4              1  "
            ],
            "text/html": [
              "\n",
              "  <div id=\"df-1daab912-1595-4236-a105-2e680aa07e91\" class=\"colab-df-container\">\n",
              "    <div>\n",
              "<style scoped>\n",
              "    .dataframe tbody tr th:only-of-type {\n",
              "        vertical-align: middle;\n",
              "    }\n",
              "\n",
              "    .dataframe tbody tr th {\n",
              "        vertical-align: top;\n",
              "    }\n",
              "\n",
              "    .dataframe thead th {\n",
              "        text-align: right;\n",
              "    }\n",
              "</style>\n",
              "<table border=\"1\" class=\"dataframe\">\n",
              "  <thead>\n",
              "    <tr style=\"text-align: right;\">\n",
              "      <th></th>\n",
              "      <th>Store</th>\n",
              "      <th>DayOfWeek</th>\n",
              "      <th>Date</th>\n",
              "      <th>Sales</th>\n",
              "      <th>Customers</th>\n",
              "      <th>Open</th>\n",
              "      <th>Promo</th>\n",
              "      <th>StateHoliday</th>\n",
              "      <th>SchoolHoliday</th>\n",
              "    </tr>\n",
              "  </thead>\n",
              "  <tbody>\n",
              "    <tr>\n",
              "      <th>0</th>\n",
              "      <td>1</td>\n",
              "      <td>5</td>\n",
              "      <td>2015-07-31</td>\n",
              "      <td>5263</td>\n",
              "      <td>555</td>\n",
              "      <td>1</td>\n",
              "      <td>1</td>\n",
              "      <td>0</td>\n",
              "      <td>1</td>\n",
              "    </tr>\n",
              "    <tr>\n",
              "      <th>1</th>\n",
              "      <td>2</td>\n",
              "      <td>5</td>\n",
              "      <td>2015-07-31</td>\n",
              "      <td>6064</td>\n",
              "      <td>625</td>\n",
              "      <td>1</td>\n",
              "      <td>1</td>\n",
              "      <td>0</td>\n",
              "      <td>1</td>\n",
              "    </tr>\n",
              "    <tr>\n",
              "      <th>2</th>\n",
              "      <td>3</td>\n",
              "      <td>5</td>\n",
              "      <td>2015-07-31</td>\n",
              "      <td>8314</td>\n",
              "      <td>821</td>\n",
              "      <td>1</td>\n",
              "      <td>1</td>\n",
              "      <td>0</td>\n",
              "      <td>1</td>\n",
              "    </tr>\n",
              "    <tr>\n",
              "      <th>3</th>\n",
              "      <td>4</td>\n",
              "      <td>5</td>\n",
              "      <td>2015-07-31</td>\n",
              "      <td>13995</td>\n",
              "      <td>1498</td>\n",
              "      <td>1</td>\n",
              "      <td>1</td>\n",
              "      <td>0</td>\n",
              "      <td>1</td>\n",
              "    </tr>\n",
              "    <tr>\n",
              "      <th>4</th>\n",
              "      <td>5</td>\n",
              "      <td>5</td>\n",
              "      <td>2015-07-31</td>\n",
              "      <td>4822</td>\n",
              "      <td>559</td>\n",
              "      <td>1</td>\n",
              "      <td>1</td>\n",
              "      <td>0</td>\n",
              "      <td>1</td>\n",
              "    </tr>\n",
              "  </tbody>\n",
              "</table>\n",
              "</div>\n",
              "    <div class=\"colab-df-buttons\">\n",
              "\n",
              "  <div class=\"colab-df-container\">\n",
              "    <button class=\"colab-df-convert\" onclick=\"convertToInteractive('df-1daab912-1595-4236-a105-2e680aa07e91')\"\n",
              "            title=\"Convert this dataframe to an interactive table.\"\n",
              "            style=\"display:none;\">\n",
              "\n",
              "  <svg xmlns=\"http://www.w3.org/2000/svg\" height=\"24px\" viewBox=\"0 -960 960 960\">\n",
              "    <path d=\"M120-120v-720h720v720H120Zm60-500h600v-160H180v160Zm220 220h160v-160H400v160Zm0 220h160v-160H400v160ZM180-400h160v-160H180v160Zm440 0h160v-160H620v160ZM180-180h160v-160H180v160Zm440 0h160v-160H620v160Z\"/>\n",
              "  </svg>\n",
              "    </button>\n",
              "\n",
              "  <style>\n",
              "    .colab-df-container {\n",
              "      display:flex;\n",
              "      gap: 12px;\n",
              "    }\n",
              "\n",
              "    .colab-df-convert {\n",
              "      background-color: #E8F0FE;\n",
              "      border: none;\n",
              "      border-radius: 50%;\n",
              "      cursor: pointer;\n",
              "      display: none;\n",
              "      fill: #1967D2;\n",
              "      height: 32px;\n",
              "      padding: 0 0 0 0;\n",
              "      width: 32px;\n",
              "    }\n",
              "\n",
              "    .colab-df-convert:hover {\n",
              "      background-color: #E2EBFA;\n",
              "      box-shadow: 0px 1px 2px rgba(60, 64, 67, 0.3), 0px 1px 3px 1px rgba(60, 64, 67, 0.15);\n",
              "      fill: #174EA6;\n",
              "    }\n",
              "\n",
              "    .colab-df-buttons div {\n",
              "      margin-bottom: 4px;\n",
              "    }\n",
              "\n",
              "    [theme=dark] .colab-df-convert {\n",
              "      background-color: #3B4455;\n",
              "      fill: #D2E3FC;\n",
              "    }\n",
              "\n",
              "    [theme=dark] .colab-df-convert:hover {\n",
              "      background-color: #434B5C;\n",
              "      box-shadow: 0px 1px 3px 1px rgba(0, 0, 0, 0.15);\n",
              "      filter: drop-shadow(0px 1px 2px rgba(0, 0, 0, 0.3));\n",
              "      fill: #FFFFFF;\n",
              "    }\n",
              "  </style>\n",
              "\n",
              "    <script>\n",
              "      const buttonEl =\n",
              "        document.querySelector('#df-1daab912-1595-4236-a105-2e680aa07e91 button.colab-df-convert');\n",
              "      buttonEl.style.display =\n",
              "        google.colab.kernel.accessAllowed ? 'block' : 'none';\n",
              "\n",
              "      async function convertToInteractive(key) {\n",
              "        const element = document.querySelector('#df-1daab912-1595-4236-a105-2e680aa07e91');\n",
              "        const dataTable =\n",
              "          await google.colab.kernel.invokeFunction('convertToInteractive',\n",
              "                                                    [key], {});\n",
              "        if (!dataTable) return;\n",
              "\n",
              "        const docLinkHtml = 'Like what you see? Visit the ' +\n",
              "          '<a target=\"_blank\" href=https://colab.research.google.com/notebooks/data_table.ipynb>data table notebook</a>'\n",
              "          + ' to learn more about interactive tables.';\n",
              "        element.innerHTML = '';\n",
              "        dataTable['output_type'] = 'display_data';\n",
              "        await google.colab.output.renderOutput(dataTable, element);\n",
              "        const docLink = document.createElement('div');\n",
              "        docLink.innerHTML = docLinkHtml;\n",
              "        element.appendChild(docLink);\n",
              "      }\n",
              "    </script>\n",
              "  </div>\n",
              "\n",
              "\n",
              "    <div id=\"df-bd6ea748-6a46-4516-a537-a37e4cc89709\">\n",
              "      <button class=\"colab-df-quickchart\" onclick=\"quickchart('df-bd6ea748-6a46-4516-a537-a37e4cc89709')\"\n",
              "                title=\"Suggest charts\"\n",
              "                style=\"display:none;\">\n",
              "\n",
              "<svg xmlns=\"http://www.w3.org/2000/svg\" height=\"24px\"viewBox=\"0 0 24 24\"\n",
              "     width=\"24px\">\n",
              "    <g>\n",
              "        <path d=\"M19 3H5c-1.1 0-2 .9-2 2v14c0 1.1.9 2 2 2h14c1.1 0 2-.9 2-2V5c0-1.1-.9-2-2-2zM9 17H7v-7h2v7zm4 0h-2V7h2v10zm4 0h-2v-4h2v4z\"/>\n",
              "    </g>\n",
              "</svg>\n",
              "      </button>\n",
              "\n",
              "<style>\n",
              "  .colab-df-quickchart {\n",
              "      --bg-color: #E8F0FE;\n",
              "      --fill-color: #1967D2;\n",
              "      --hover-bg-color: #E2EBFA;\n",
              "      --hover-fill-color: #174EA6;\n",
              "      --disabled-fill-color: #AAA;\n",
              "      --disabled-bg-color: #DDD;\n",
              "  }\n",
              "\n",
              "  [theme=dark] .colab-df-quickchart {\n",
              "      --bg-color: #3B4455;\n",
              "      --fill-color: #D2E3FC;\n",
              "      --hover-bg-color: #434B5C;\n",
              "      --hover-fill-color: #FFFFFF;\n",
              "      --disabled-bg-color: #3B4455;\n",
              "      --disabled-fill-color: #666;\n",
              "  }\n",
              "\n",
              "  .colab-df-quickchart {\n",
              "    background-color: var(--bg-color);\n",
              "    border: none;\n",
              "    border-radius: 50%;\n",
              "    cursor: pointer;\n",
              "    display: none;\n",
              "    fill: var(--fill-color);\n",
              "    height: 32px;\n",
              "    padding: 0;\n",
              "    width: 32px;\n",
              "  }\n",
              "\n",
              "  .colab-df-quickchart:hover {\n",
              "    background-color: var(--hover-bg-color);\n",
              "    box-shadow: 0 1px 2px rgba(60, 64, 67, 0.3), 0 1px 3px 1px rgba(60, 64, 67, 0.15);\n",
              "    fill: var(--button-hover-fill-color);\n",
              "  }\n",
              "\n",
              "  .colab-df-quickchart-complete:disabled,\n",
              "  .colab-df-quickchart-complete:disabled:hover {\n",
              "    background-color: var(--disabled-bg-color);\n",
              "    fill: var(--disabled-fill-color);\n",
              "    box-shadow: none;\n",
              "  }\n",
              "\n",
              "  .colab-df-spinner {\n",
              "    border: 2px solid var(--fill-color);\n",
              "    border-color: transparent;\n",
              "    border-bottom-color: var(--fill-color);\n",
              "    animation:\n",
              "      spin 1s steps(1) infinite;\n",
              "  }\n",
              "\n",
              "  @keyframes spin {\n",
              "    0% {\n",
              "      border-color: transparent;\n",
              "      border-bottom-color: var(--fill-color);\n",
              "      border-left-color: var(--fill-color);\n",
              "    }\n",
              "    20% {\n",
              "      border-color: transparent;\n",
              "      border-left-color: var(--fill-color);\n",
              "      border-top-color: var(--fill-color);\n",
              "    }\n",
              "    30% {\n",
              "      border-color: transparent;\n",
              "      border-left-color: var(--fill-color);\n",
              "      border-top-color: var(--fill-color);\n",
              "      border-right-color: var(--fill-color);\n",
              "    }\n",
              "    40% {\n",
              "      border-color: transparent;\n",
              "      border-right-color: var(--fill-color);\n",
              "      border-top-color: var(--fill-color);\n",
              "    }\n",
              "    60% {\n",
              "      border-color: transparent;\n",
              "      border-right-color: var(--fill-color);\n",
              "    }\n",
              "    80% {\n",
              "      border-color: transparent;\n",
              "      border-right-color: var(--fill-color);\n",
              "      border-bottom-color: var(--fill-color);\n",
              "    }\n",
              "    90% {\n",
              "      border-color: transparent;\n",
              "      border-bottom-color: var(--fill-color);\n",
              "    }\n",
              "  }\n",
              "</style>\n",
              "\n",
              "      <script>\n",
              "        async function quickchart(key) {\n",
              "          const quickchartButtonEl =\n",
              "            document.querySelector('#' + key + ' button');\n",
              "          quickchartButtonEl.disabled = true;  // To prevent multiple clicks.\n",
              "          quickchartButtonEl.classList.add('colab-df-spinner');\n",
              "          try {\n",
              "            const charts = await google.colab.kernel.invokeFunction(\n",
              "                'suggestCharts', [key], {});\n",
              "          } catch (error) {\n",
              "            console.error('Error during call to suggestCharts:', error);\n",
              "          }\n",
              "          quickchartButtonEl.classList.remove('colab-df-spinner');\n",
              "          quickchartButtonEl.classList.add('colab-df-quickchart-complete');\n",
              "        }\n",
              "        (() => {\n",
              "          let quickchartButtonEl =\n",
              "            document.querySelector('#df-bd6ea748-6a46-4516-a537-a37e4cc89709 button');\n",
              "          quickchartButtonEl.style.display =\n",
              "            google.colab.kernel.accessAllowed ? 'block' : 'none';\n",
              "        })();\n",
              "      </script>\n",
              "    </div>\n",
              "    </div>\n",
              "  </div>\n"
            ],
            "application/vnd.google.colaboratory.intrinsic+json": {
              "type": "dataframe",
              "variable_name": "train_data"
            }
          },
          "metadata": {},
          "execution_count": 455
        }
      ]
    },
    {
      "cell_type": "code",
      "source": [
        "test_data.head()"
      ],
      "metadata": {
        "colab": {
          "base_uri": "https://localhost:8080/",
          "height": 226
        },
        "id": "tplsVyzqI-PV",
        "outputId": "f8539601-c7c4-46a1-d968-b6877a88ad37"
      },
      "execution_count": 456,
      "outputs": [
        {
          "output_type": "execute_result",
          "data": {
            "text/plain": [
              "   Id  Store  DayOfWeek        Date  Open  Promo StateHoliday  SchoolHoliday\n",
              "0   1      1          4  2015-09-17   1.0      1            0              0\n",
              "1   2      3          4  2015-09-17   1.0      1            0              0\n",
              "2   3      7          4  2015-09-17   1.0      1            0              0\n",
              "3   4      8          4  2015-09-17   1.0      1            0              0\n",
              "4   5      9          4  2015-09-17   1.0      1            0              0"
            ],
            "text/html": [
              "\n",
              "  <div id=\"df-3f5b2875-5756-47fc-85f9-dba948a96409\" class=\"colab-df-container\">\n",
              "    <div>\n",
              "<style scoped>\n",
              "    .dataframe tbody tr th:only-of-type {\n",
              "        vertical-align: middle;\n",
              "    }\n",
              "\n",
              "    .dataframe tbody tr th {\n",
              "        vertical-align: top;\n",
              "    }\n",
              "\n",
              "    .dataframe thead th {\n",
              "        text-align: right;\n",
              "    }\n",
              "</style>\n",
              "<table border=\"1\" class=\"dataframe\">\n",
              "  <thead>\n",
              "    <tr style=\"text-align: right;\">\n",
              "      <th></th>\n",
              "      <th>Id</th>\n",
              "      <th>Store</th>\n",
              "      <th>DayOfWeek</th>\n",
              "      <th>Date</th>\n",
              "      <th>Open</th>\n",
              "      <th>Promo</th>\n",
              "      <th>StateHoliday</th>\n",
              "      <th>SchoolHoliday</th>\n",
              "    </tr>\n",
              "  </thead>\n",
              "  <tbody>\n",
              "    <tr>\n",
              "      <th>0</th>\n",
              "      <td>1</td>\n",
              "      <td>1</td>\n",
              "      <td>4</td>\n",
              "      <td>2015-09-17</td>\n",
              "      <td>1.0</td>\n",
              "      <td>1</td>\n",
              "      <td>0</td>\n",
              "      <td>0</td>\n",
              "    </tr>\n",
              "    <tr>\n",
              "      <th>1</th>\n",
              "      <td>2</td>\n",
              "      <td>3</td>\n",
              "      <td>4</td>\n",
              "      <td>2015-09-17</td>\n",
              "      <td>1.0</td>\n",
              "      <td>1</td>\n",
              "      <td>0</td>\n",
              "      <td>0</td>\n",
              "    </tr>\n",
              "    <tr>\n",
              "      <th>2</th>\n",
              "      <td>3</td>\n",
              "      <td>7</td>\n",
              "      <td>4</td>\n",
              "      <td>2015-09-17</td>\n",
              "      <td>1.0</td>\n",
              "      <td>1</td>\n",
              "      <td>0</td>\n",
              "      <td>0</td>\n",
              "    </tr>\n",
              "    <tr>\n",
              "      <th>3</th>\n",
              "      <td>4</td>\n",
              "      <td>8</td>\n",
              "      <td>4</td>\n",
              "      <td>2015-09-17</td>\n",
              "      <td>1.0</td>\n",
              "      <td>1</td>\n",
              "      <td>0</td>\n",
              "      <td>0</td>\n",
              "    </tr>\n",
              "    <tr>\n",
              "      <th>4</th>\n",
              "      <td>5</td>\n",
              "      <td>9</td>\n",
              "      <td>4</td>\n",
              "      <td>2015-09-17</td>\n",
              "      <td>1.0</td>\n",
              "      <td>1</td>\n",
              "      <td>0</td>\n",
              "      <td>0</td>\n",
              "    </tr>\n",
              "  </tbody>\n",
              "</table>\n",
              "</div>\n",
              "    <div class=\"colab-df-buttons\">\n",
              "\n",
              "  <div class=\"colab-df-container\">\n",
              "    <button class=\"colab-df-convert\" onclick=\"convertToInteractive('df-3f5b2875-5756-47fc-85f9-dba948a96409')\"\n",
              "            title=\"Convert this dataframe to an interactive table.\"\n",
              "            style=\"display:none;\">\n",
              "\n",
              "  <svg xmlns=\"http://www.w3.org/2000/svg\" height=\"24px\" viewBox=\"0 -960 960 960\">\n",
              "    <path d=\"M120-120v-720h720v720H120Zm60-500h600v-160H180v160Zm220 220h160v-160H400v160Zm0 220h160v-160H400v160ZM180-400h160v-160H180v160Zm440 0h160v-160H620v160ZM180-180h160v-160H180v160Zm440 0h160v-160H620v160Z\"/>\n",
              "  </svg>\n",
              "    </button>\n",
              "\n",
              "  <style>\n",
              "    .colab-df-container {\n",
              "      display:flex;\n",
              "      gap: 12px;\n",
              "    }\n",
              "\n",
              "    .colab-df-convert {\n",
              "      background-color: #E8F0FE;\n",
              "      border: none;\n",
              "      border-radius: 50%;\n",
              "      cursor: pointer;\n",
              "      display: none;\n",
              "      fill: #1967D2;\n",
              "      height: 32px;\n",
              "      padding: 0 0 0 0;\n",
              "      width: 32px;\n",
              "    }\n",
              "\n",
              "    .colab-df-convert:hover {\n",
              "      background-color: #E2EBFA;\n",
              "      box-shadow: 0px 1px 2px rgba(60, 64, 67, 0.3), 0px 1px 3px 1px rgba(60, 64, 67, 0.15);\n",
              "      fill: #174EA6;\n",
              "    }\n",
              "\n",
              "    .colab-df-buttons div {\n",
              "      margin-bottom: 4px;\n",
              "    }\n",
              "\n",
              "    [theme=dark] .colab-df-convert {\n",
              "      background-color: #3B4455;\n",
              "      fill: #D2E3FC;\n",
              "    }\n",
              "\n",
              "    [theme=dark] .colab-df-convert:hover {\n",
              "      background-color: #434B5C;\n",
              "      box-shadow: 0px 1px 3px 1px rgba(0, 0, 0, 0.15);\n",
              "      filter: drop-shadow(0px 1px 2px rgba(0, 0, 0, 0.3));\n",
              "      fill: #FFFFFF;\n",
              "    }\n",
              "  </style>\n",
              "\n",
              "    <script>\n",
              "      const buttonEl =\n",
              "        document.querySelector('#df-3f5b2875-5756-47fc-85f9-dba948a96409 button.colab-df-convert');\n",
              "      buttonEl.style.display =\n",
              "        google.colab.kernel.accessAllowed ? 'block' : 'none';\n",
              "\n",
              "      async function convertToInteractive(key) {\n",
              "        const element = document.querySelector('#df-3f5b2875-5756-47fc-85f9-dba948a96409');\n",
              "        const dataTable =\n",
              "          await google.colab.kernel.invokeFunction('convertToInteractive',\n",
              "                                                    [key], {});\n",
              "        if (!dataTable) return;\n",
              "\n",
              "        const docLinkHtml = 'Like what you see? Visit the ' +\n",
              "          '<a target=\"_blank\" href=https://colab.research.google.com/notebooks/data_table.ipynb>data table notebook</a>'\n",
              "          + ' to learn more about interactive tables.';\n",
              "        element.innerHTML = '';\n",
              "        dataTable['output_type'] = 'display_data';\n",
              "        await google.colab.output.renderOutput(dataTable, element);\n",
              "        const docLink = document.createElement('div');\n",
              "        docLink.innerHTML = docLinkHtml;\n",
              "        element.appendChild(docLink);\n",
              "      }\n",
              "    </script>\n",
              "  </div>\n",
              "\n",
              "\n",
              "    <div id=\"df-d9552fd5-2d94-41d9-b3e0-1eea2410e8a8\">\n",
              "      <button class=\"colab-df-quickchart\" onclick=\"quickchart('df-d9552fd5-2d94-41d9-b3e0-1eea2410e8a8')\"\n",
              "                title=\"Suggest charts\"\n",
              "                style=\"display:none;\">\n",
              "\n",
              "<svg xmlns=\"http://www.w3.org/2000/svg\" height=\"24px\"viewBox=\"0 0 24 24\"\n",
              "     width=\"24px\">\n",
              "    <g>\n",
              "        <path d=\"M19 3H5c-1.1 0-2 .9-2 2v14c0 1.1.9 2 2 2h14c1.1 0 2-.9 2-2V5c0-1.1-.9-2-2-2zM9 17H7v-7h2v7zm4 0h-2V7h2v10zm4 0h-2v-4h2v4z\"/>\n",
              "    </g>\n",
              "</svg>\n",
              "      </button>\n",
              "\n",
              "<style>\n",
              "  .colab-df-quickchart {\n",
              "      --bg-color: #E8F0FE;\n",
              "      --fill-color: #1967D2;\n",
              "      --hover-bg-color: #E2EBFA;\n",
              "      --hover-fill-color: #174EA6;\n",
              "      --disabled-fill-color: #AAA;\n",
              "      --disabled-bg-color: #DDD;\n",
              "  }\n",
              "\n",
              "  [theme=dark] .colab-df-quickchart {\n",
              "      --bg-color: #3B4455;\n",
              "      --fill-color: #D2E3FC;\n",
              "      --hover-bg-color: #434B5C;\n",
              "      --hover-fill-color: #FFFFFF;\n",
              "      --disabled-bg-color: #3B4455;\n",
              "      --disabled-fill-color: #666;\n",
              "  }\n",
              "\n",
              "  .colab-df-quickchart {\n",
              "    background-color: var(--bg-color);\n",
              "    border: none;\n",
              "    border-radius: 50%;\n",
              "    cursor: pointer;\n",
              "    display: none;\n",
              "    fill: var(--fill-color);\n",
              "    height: 32px;\n",
              "    padding: 0;\n",
              "    width: 32px;\n",
              "  }\n",
              "\n",
              "  .colab-df-quickchart:hover {\n",
              "    background-color: var(--hover-bg-color);\n",
              "    box-shadow: 0 1px 2px rgba(60, 64, 67, 0.3), 0 1px 3px 1px rgba(60, 64, 67, 0.15);\n",
              "    fill: var(--button-hover-fill-color);\n",
              "  }\n",
              "\n",
              "  .colab-df-quickchart-complete:disabled,\n",
              "  .colab-df-quickchart-complete:disabled:hover {\n",
              "    background-color: var(--disabled-bg-color);\n",
              "    fill: var(--disabled-fill-color);\n",
              "    box-shadow: none;\n",
              "  }\n",
              "\n",
              "  .colab-df-spinner {\n",
              "    border: 2px solid var(--fill-color);\n",
              "    border-color: transparent;\n",
              "    border-bottom-color: var(--fill-color);\n",
              "    animation:\n",
              "      spin 1s steps(1) infinite;\n",
              "  }\n",
              "\n",
              "  @keyframes spin {\n",
              "    0% {\n",
              "      border-color: transparent;\n",
              "      border-bottom-color: var(--fill-color);\n",
              "      border-left-color: var(--fill-color);\n",
              "    }\n",
              "    20% {\n",
              "      border-color: transparent;\n",
              "      border-left-color: var(--fill-color);\n",
              "      border-top-color: var(--fill-color);\n",
              "    }\n",
              "    30% {\n",
              "      border-color: transparent;\n",
              "      border-left-color: var(--fill-color);\n",
              "      border-top-color: var(--fill-color);\n",
              "      border-right-color: var(--fill-color);\n",
              "    }\n",
              "    40% {\n",
              "      border-color: transparent;\n",
              "      border-right-color: var(--fill-color);\n",
              "      border-top-color: var(--fill-color);\n",
              "    }\n",
              "    60% {\n",
              "      border-color: transparent;\n",
              "      border-right-color: var(--fill-color);\n",
              "    }\n",
              "    80% {\n",
              "      border-color: transparent;\n",
              "      border-right-color: var(--fill-color);\n",
              "      border-bottom-color: var(--fill-color);\n",
              "    }\n",
              "    90% {\n",
              "      border-color: transparent;\n",
              "      border-bottom-color: var(--fill-color);\n",
              "    }\n",
              "  }\n",
              "</style>\n",
              "\n",
              "      <script>\n",
              "        async function quickchart(key) {\n",
              "          const quickchartButtonEl =\n",
              "            document.querySelector('#' + key + ' button');\n",
              "          quickchartButtonEl.disabled = true;  // To prevent multiple clicks.\n",
              "          quickchartButtonEl.classList.add('colab-df-spinner');\n",
              "          try {\n",
              "            const charts = await google.colab.kernel.invokeFunction(\n",
              "                'suggestCharts', [key], {});\n",
              "          } catch (error) {\n",
              "            console.error('Error during call to suggestCharts:', error);\n",
              "          }\n",
              "          quickchartButtonEl.classList.remove('colab-df-spinner');\n",
              "          quickchartButtonEl.classList.add('colab-df-quickchart-complete');\n",
              "        }\n",
              "        (() => {\n",
              "          let quickchartButtonEl =\n",
              "            document.querySelector('#df-d9552fd5-2d94-41d9-b3e0-1eea2410e8a8 button');\n",
              "          quickchartButtonEl.style.display =\n",
              "            google.colab.kernel.accessAllowed ? 'block' : 'none';\n",
              "        })();\n",
              "      </script>\n",
              "    </div>\n",
              "    </div>\n",
              "  </div>\n"
            ],
            "application/vnd.google.colaboratory.intrinsic+json": {
              "type": "dataframe",
              "variable_name": "test_data",
              "summary": "{\n  \"name\": \"test_data\",\n  \"rows\": 41088,\n  \"fields\": [\n    {\n      \"column\": \"Id\",\n      \"properties\": {\n        \"dtype\": \"number\",\n        \"std\": 11861,\n        \"min\": 1,\n        \"max\": 41088,\n        \"num_unique_values\": 41088,\n        \"samples\": [\n          29156,\n          4641,\n          9124\n        ],\n        \"semantic_type\": \"\",\n        \"description\": \"\"\n      }\n    },\n    {\n      \"column\": \"Store\",\n      \"properties\": {\n        \"dtype\": \"number\",\n        \"std\": 320,\n        \"min\": 1,\n        \"max\": 1115,\n        \"num_unique_values\": 856,\n        \"samples\": [\n          920,\n          777,\n          159\n        ],\n        \"semantic_type\": \"\",\n        \"description\": \"\"\n      }\n    },\n    {\n      \"column\": \"DayOfWeek\",\n      \"properties\": {\n        \"dtype\": \"number\",\n        \"std\": 2,\n        \"min\": 1,\n        \"max\": 7,\n        \"num_unique_values\": 7,\n        \"samples\": [\n          4,\n          3,\n          6\n        ],\n        \"semantic_type\": \"\",\n        \"description\": \"\"\n      }\n    },\n    {\n      \"column\": \"Date\",\n      \"properties\": {\n        \"dtype\": \"object\",\n        \"num_unique_values\": 48,\n        \"samples\": [\n          \"2015-08-21\",\n          \"2015-08-08\",\n          \"2015-08-22\"\n        ],\n        \"semantic_type\": \"\",\n        \"description\": \"\"\n      }\n    },\n    {\n      \"column\": \"Open\",\n      \"properties\": {\n        \"dtype\": \"number\",\n        \"std\": 0.3527870290635081,\n        \"min\": 0.0,\n        \"max\": 1.0,\n        \"num_unique_values\": 2,\n        \"samples\": [\n          0.0,\n          1.0\n        ],\n        \"semantic_type\": \"\",\n        \"description\": \"\"\n      }\n    },\n    {\n      \"column\": \"Promo\",\n      \"properties\": {\n        \"dtype\": \"number\",\n        \"std\": 0,\n        \"min\": 0,\n        \"max\": 1,\n        \"num_unique_values\": 2,\n        \"samples\": [\n          0,\n          1\n        ],\n        \"semantic_type\": \"\",\n        \"description\": \"\"\n      }\n    },\n    {\n      \"column\": \"StateHoliday\",\n      \"properties\": {\n        \"dtype\": \"category\",\n        \"num_unique_values\": 2,\n        \"samples\": [\n          \"a\",\n          \"0\"\n        ],\n        \"semantic_type\": \"\",\n        \"description\": \"\"\n      }\n    },\n    {\n      \"column\": \"SchoolHoliday\",\n      \"properties\": {\n        \"dtype\": \"number\",\n        \"std\": 0,\n        \"min\": 0,\n        \"max\": 1,\n        \"num_unique_values\": 2,\n        \"samples\": [\n          1,\n          0\n        ],\n        \"semantic_type\": \"\",\n        \"description\": \"\"\n      }\n    }\n  ]\n}"
            }
          },
          "metadata": {},
          "execution_count": 456
        }
      ]
    },
    {
      "cell_type": "code",
      "source": [
        "store_data.head()"
      ],
      "metadata": {
        "colab": {
          "base_uri": "https://localhost:8080/",
          "height": 226
        },
        "id": "Yc4yObuZJQtC",
        "outputId": "fd70690e-becd-4590-e509-4348481ea86e"
      },
      "execution_count": 457,
      "outputs": [
        {
          "output_type": "execute_result",
          "data": {
            "text/plain": [
              "   Store StoreType Assortment  CompetitionDistance  CompetitionOpenSinceMonth  \\\n",
              "0      1         c          a               1270.0                        9.0   \n",
              "1      2         a          a                570.0                       11.0   \n",
              "2      3         a          a              14130.0                       12.0   \n",
              "3      4         c          c                620.0                        9.0   \n",
              "4      5         a          a              29910.0                        4.0   \n",
              "\n",
              "   CompetitionOpenSinceYear  Promo2  Promo2SinceWeek  Promo2SinceYear  \\\n",
              "0                    2008.0       0              NaN              NaN   \n",
              "1                    2007.0       1             13.0           2010.0   \n",
              "2                    2006.0       1             14.0           2011.0   \n",
              "3                    2009.0       0              NaN              NaN   \n",
              "4                    2015.0       0              NaN              NaN   \n",
              "\n",
              "     PromoInterval  \n",
              "0              NaN  \n",
              "1  Jan,Apr,Jul,Oct  \n",
              "2  Jan,Apr,Jul,Oct  \n",
              "3              NaN  \n",
              "4              NaN  "
            ],
            "text/html": [
              "\n",
              "  <div id=\"df-a6a8d944-8fa9-43b5-9f51-bab0ab9545a5\" class=\"colab-df-container\">\n",
              "    <div>\n",
              "<style scoped>\n",
              "    .dataframe tbody tr th:only-of-type {\n",
              "        vertical-align: middle;\n",
              "    }\n",
              "\n",
              "    .dataframe tbody tr th {\n",
              "        vertical-align: top;\n",
              "    }\n",
              "\n",
              "    .dataframe thead th {\n",
              "        text-align: right;\n",
              "    }\n",
              "</style>\n",
              "<table border=\"1\" class=\"dataframe\">\n",
              "  <thead>\n",
              "    <tr style=\"text-align: right;\">\n",
              "      <th></th>\n",
              "      <th>Store</th>\n",
              "      <th>StoreType</th>\n",
              "      <th>Assortment</th>\n",
              "      <th>CompetitionDistance</th>\n",
              "      <th>CompetitionOpenSinceMonth</th>\n",
              "      <th>CompetitionOpenSinceYear</th>\n",
              "      <th>Promo2</th>\n",
              "      <th>Promo2SinceWeek</th>\n",
              "      <th>Promo2SinceYear</th>\n",
              "      <th>PromoInterval</th>\n",
              "    </tr>\n",
              "  </thead>\n",
              "  <tbody>\n",
              "    <tr>\n",
              "      <th>0</th>\n",
              "      <td>1</td>\n",
              "      <td>c</td>\n",
              "      <td>a</td>\n",
              "      <td>1270.0</td>\n",
              "      <td>9.0</td>\n",
              "      <td>2008.0</td>\n",
              "      <td>0</td>\n",
              "      <td>NaN</td>\n",
              "      <td>NaN</td>\n",
              "      <td>NaN</td>\n",
              "    </tr>\n",
              "    <tr>\n",
              "      <th>1</th>\n",
              "      <td>2</td>\n",
              "      <td>a</td>\n",
              "      <td>a</td>\n",
              "      <td>570.0</td>\n",
              "      <td>11.0</td>\n",
              "      <td>2007.0</td>\n",
              "      <td>1</td>\n",
              "      <td>13.0</td>\n",
              "      <td>2010.0</td>\n",
              "      <td>Jan,Apr,Jul,Oct</td>\n",
              "    </tr>\n",
              "    <tr>\n",
              "      <th>2</th>\n",
              "      <td>3</td>\n",
              "      <td>a</td>\n",
              "      <td>a</td>\n",
              "      <td>14130.0</td>\n",
              "      <td>12.0</td>\n",
              "      <td>2006.0</td>\n",
              "      <td>1</td>\n",
              "      <td>14.0</td>\n",
              "      <td>2011.0</td>\n",
              "      <td>Jan,Apr,Jul,Oct</td>\n",
              "    </tr>\n",
              "    <tr>\n",
              "      <th>3</th>\n",
              "      <td>4</td>\n",
              "      <td>c</td>\n",
              "      <td>c</td>\n",
              "      <td>620.0</td>\n",
              "      <td>9.0</td>\n",
              "      <td>2009.0</td>\n",
              "      <td>0</td>\n",
              "      <td>NaN</td>\n",
              "      <td>NaN</td>\n",
              "      <td>NaN</td>\n",
              "    </tr>\n",
              "    <tr>\n",
              "      <th>4</th>\n",
              "      <td>5</td>\n",
              "      <td>a</td>\n",
              "      <td>a</td>\n",
              "      <td>29910.0</td>\n",
              "      <td>4.0</td>\n",
              "      <td>2015.0</td>\n",
              "      <td>0</td>\n",
              "      <td>NaN</td>\n",
              "      <td>NaN</td>\n",
              "      <td>NaN</td>\n",
              "    </tr>\n",
              "  </tbody>\n",
              "</table>\n",
              "</div>\n",
              "    <div class=\"colab-df-buttons\">\n",
              "\n",
              "  <div class=\"colab-df-container\">\n",
              "    <button class=\"colab-df-convert\" onclick=\"convertToInteractive('df-a6a8d944-8fa9-43b5-9f51-bab0ab9545a5')\"\n",
              "            title=\"Convert this dataframe to an interactive table.\"\n",
              "            style=\"display:none;\">\n",
              "\n",
              "  <svg xmlns=\"http://www.w3.org/2000/svg\" height=\"24px\" viewBox=\"0 -960 960 960\">\n",
              "    <path d=\"M120-120v-720h720v720H120Zm60-500h600v-160H180v160Zm220 220h160v-160H400v160Zm0 220h160v-160H400v160ZM180-400h160v-160H180v160Zm440 0h160v-160H620v160ZM180-180h160v-160H180v160Zm440 0h160v-160H620v160Z\"/>\n",
              "  </svg>\n",
              "    </button>\n",
              "\n",
              "  <style>\n",
              "    .colab-df-container {\n",
              "      display:flex;\n",
              "      gap: 12px;\n",
              "    }\n",
              "\n",
              "    .colab-df-convert {\n",
              "      background-color: #E8F0FE;\n",
              "      border: none;\n",
              "      border-radius: 50%;\n",
              "      cursor: pointer;\n",
              "      display: none;\n",
              "      fill: #1967D2;\n",
              "      height: 32px;\n",
              "      padding: 0 0 0 0;\n",
              "      width: 32px;\n",
              "    }\n",
              "\n",
              "    .colab-df-convert:hover {\n",
              "      background-color: #E2EBFA;\n",
              "      box-shadow: 0px 1px 2px rgba(60, 64, 67, 0.3), 0px 1px 3px 1px rgba(60, 64, 67, 0.15);\n",
              "      fill: #174EA6;\n",
              "    }\n",
              "\n",
              "    .colab-df-buttons div {\n",
              "      margin-bottom: 4px;\n",
              "    }\n",
              "\n",
              "    [theme=dark] .colab-df-convert {\n",
              "      background-color: #3B4455;\n",
              "      fill: #D2E3FC;\n",
              "    }\n",
              "\n",
              "    [theme=dark] .colab-df-convert:hover {\n",
              "      background-color: #434B5C;\n",
              "      box-shadow: 0px 1px 3px 1px rgba(0, 0, 0, 0.15);\n",
              "      filter: drop-shadow(0px 1px 2px rgba(0, 0, 0, 0.3));\n",
              "      fill: #FFFFFF;\n",
              "    }\n",
              "  </style>\n",
              "\n",
              "    <script>\n",
              "      const buttonEl =\n",
              "        document.querySelector('#df-a6a8d944-8fa9-43b5-9f51-bab0ab9545a5 button.colab-df-convert');\n",
              "      buttonEl.style.display =\n",
              "        google.colab.kernel.accessAllowed ? 'block' : 'none';\n",
              "\n",
              "      async function convertToInteractive(key) {\n",
              "        const element = document.querySelector('#df-a6a8d944-8fa9-43b5-9f51-bab0ab9545a5');\n",
              "        const dataTable =\n",
              "          await google.colab.kernel.invokeFunction('convertToInteractive',\n",
              "                                                    [key], {});\n",
              "        if (!dataTable) return;\n",
              "\n",
              "        const docLinkHtml = 'Like what you see? Visit the ' +\n",
              "          '<a target=\"_blank\" href=https://colab.research.google.com/notebooks/data_table.ipynb>data table notebook</a>'\n",
              "          + ' to learn more about interactive tables.';\n",
              "        element.innerHTML = '';\n",
              "        dataTable['output_type'] = 'display_data';\n",
              "        await google.colab.output.renderOutput(dataTable, element);\n",
              "        const docLink = document.createElement('div');\n",
              "        docLink.innerHTML = docLinkHtml;\n",
              "        element.appendChild(docLink);\n",
              "      }\n",
              "    </script>\n",
              "  </div>\n",
              "\n",
              "\n",
              "    <div id=\"df-778a1179-a65d-4232-b00a-5a12f0f5a2e8\">\n",
              "      <button class=\"colab-df-quickchart\" onclick=\"quickchart('df-778a1179-a65d-4232-b00a-5a12f0f5a2e8')\"\n",
              "                title=\"Suggest charts\"\n",
              "                style=\"display:none;\">\n",
              "\n",
              "<svg xmlns=\"http://www.w3.org/2000/svg\" height=\"24px\"viewBox=\"0 0 24 24\"\n",
              "     width=\"24px\">\n",
              "    <g>\n",
              "        <path d=\"M19 3H5c-1.1 0-2 .9-2 2v14c0 1.1.9 2 2 2h14c1.1 0 2-.9 2-2V5c0-1.1-.9-2-2-2zM9 17H7v-7h2v7zm4 0h-2V7h2v10zm4 0h-2v-4h2v4z\"/>\n",
              "    </g>\n",
              "</svg>\n",
              "      </button>\n",
              "\n",
              "<style>\n",
              "  .colab-df-quickchart {\n",
              "      --bg-color: #E8F0FE;\n",
              "      --fill-color: #1967D2;\n",
              "      --hover-bg-color: #E2EBFA;\n",
              "      --hover-fill-color: #174EA6;\n",
              "      --disabled-fill-color: #AAA;\n",
              "      --disabled-bg-color: #DDD;\n",
              "  }\n",
              "\n",
              "  [theme=dark] .colab-df-quickchart {\n",
              "      --bg-color: #3B4455;\n",
              "      --fill-color: #D2E3FC;\n",
              "      --hover-bg-color: #434B5C;\n",
              "      --hover-fill-color: #FFFFFF;\n",
              "      --disabled-bg-color: #3B4455;\n",
              "      --disabled-fill-color: #666;\n",
              "  }\n",
              "\n",
              "  .colab-df-quickchart {\n",
              "    background-color: var(--bg-color);\n",
              "    border: none;\n",
              "    border-radius: 50%;\n",
              "    cursor: pointer;\n",
              "    display: none;\n",
              "    fill: var(--fill-color);\n",
              "    height: 32px;\n",
              "    padding: 0;\n",
              "    width: 32px;\n",
              "  }\n",
              "\n",
              "  .colab-df-quickchart:hover {\n",
              "    background-color: var(--hover-bg-color);\n",
              "    box-shadow: 0 1px 2px rgba(60, 64, 67, 0.3), 0 1px 3px 1px rgba(60, 64, 67, 0.15);\n",
              "    fill: var(--button-hover-fill-color);\n",
              "  }\n",
              "\n",
              "  .colab-df-quickchart-complete:disabled,\n",
              "  .colab-df-quickchart-complete:disabled:hover {\n",
              "    background-color: var(--disabled-bg-color);\n",
              "    fill: var(--disabled-fill-color);\n",
              "    box-shadow: none;\n",
              "  }\n",
              "\n",
              "  .colab-df-spinner {\n",
              "    border: 2px solid var(--fill-color);\n",
              "    border-color: transparent;\n",
              "    border-bottom-color: var(--fill-color);\n",
              "    animation:\n",
              "      spin 1s steps(1) infinite;\n",
              "  }\n",
              "\n",
              "  @keyframes spin {\n",
              "    0% {\n",
              "      border-color: transparent;\n",
              "      border-bottom-color: var(--fill-color);\n",
              "      border-left-color: var(--fill-color);\n",
              "    }\n",
              "    20% {\n",
              "      border-color: transparent;\n",
              "      border-left-color: var(--fill-color);\n",
              "      border-top-color: var(--fill-color);\n",
              "    }\n",
              "    30% {\n",
              "      border-color: transparent;\n",
              "      border-left-color: var(--fill-color);\n",
              "      border-top-color: var(--fill-color);\n",
              "      border-right-color: var(--fill-color);\n",
              "    }\n",
              "    40% {\n",
              "      border-color: transparent;\n",
              "      border-right-color: var(--fill-color);\n",
              "      border-top-color: var(--fill-color);\n",
              "    }\n",
              "    60% {\n",
              "      border-color: transparent;\n",
              "      border-right-color: var(--fill-color);\n",
              "    }\n",
              "    80% {\n",
              "      border-color: transparent;\n",
              "      border-right-color: var(--fill-color);\n",
              "      border-bottom-color: var(--fill-color);\n",
              "    }\n",
              "    90% {\n",
              "      border-color: transparent;\n",
              "      border-bottom-color: var(--fill-color);\n",
              "    }\n",
              "  }\n",
              "</style>\n",
              "\n",
              "      <script>\n",
              "        async function quickchart(key) {\n",
              "          const quickchartButtonEl =\n",
              "            document.querySelector('#' + key + ' button');\n",
              "          quickchartButtonEl.disabled = true;  // To prevent multiple clicks.\n",
              "          quickchartButtonEl.classList.add('colab-df-spinner');\n",
              "          try {\n",
              "            const charts = await google.colab.kernel.invokeFunction(\n",
              "                'suggestCharts', [key], {});\n",
              "          } catch (error) {\n",
              "            console.error('Error during call to suggestCharts:', error);\n",
              "          }\n",
              "          quickchartButtonEl.classList.remove('colab-df-spinner');\n",
              "          quickchartButtonEl.classList.add('colab-df-quickchart-complete');\n",
              "        }\n",
              "        (() => {\n",
              "          let quickchartButtonEl =\n",
              "            document.querySelector('#df-778a1179-a65d-4232-b00a-5a12f0f5a2e8 button');\n",
              "          quickchartButtonEl.style.display =\n",
              "            google.colab.kernel.accessAllowed ? 'block' : 'none';\n",
              "        })();\n",
              "      </script>\n",
              "    </div>\n",
              "    </div>\n",
              "  </div>\n"
            ],
            "application/vnd.google.colaboratory.intrinsic+json": {
              "type": "dataframe",
              "variable_name": "store_data",
              "summary": "{\n  \"name\": \"store_data\",\n  \"rows\": 1115,\n  \"fields\": [\n    {\n      \"column\": \"Store\",\n      \"properties\": {\n        \"dtype\": \"number\",\n        \"std\": 322,\n        \"min\": 1,\n        \"max\": 1115,\n        \"num_unique_values\": 1115,\n        \"samples\": [\n          266,\n          102,\n          1046\n        ],\n        \"semantic_type\": \"\",\n        \"description\": \"\"\n      }\n    },\n    {\n      \"column\": \"StoreType\",\n      \"properties\": {\n        \"dtype\": \"category\",\n        \"num_unique_values\": 4,\n        \"samples\": [\n          \"a\",\n          \"b\",\n          \"c\"\n        ],\n        \"semantic_type\": \"\",\n        \"description\": \"\"\n      }\n    },\n    {\n      \"column\": \"Assortment\",\n      \"properties\": {\n        \"dtype\": \"category\",\n        \"num_unique_values\": 3,\n        \"samples\": [\n          \"a\",\n          \"c\",\n          \"b\"\n        ],\n        \"semantic_type\": \"\",\n        \"description\": \"\"\n      }\n    },\n    {\n      \"column\": \"CompetitionDistance\",\n      \"properties\": {\n        \"dtype\": \"number\",\n        \"std\": 7663.174720367948,\n        \"min\": 20.0,\n        \"max\": 75860.0,\n        \"num_unique_values\": 654,\n        \"samples\": [\n          810.0,\n          1870.0,\n          17650.0\n        ],\n        \"semantic_type\": \"\",\n        \"description\": \"\"\n      }\n    },\n    {\n      \"column\": \"CompetitionOpenSinceMonth\",\n      \"properties\": {\n        \"dtype\": \"number\",\n        \"std\": 3.2123477966147087,\n        \"min\": 1.0,\n        \"max\": 12.0,\n        \"num_unique_values\": 12,\n        \"samples\": [\n          2.0,\n          1.0,\n          9.0\n        ],\n        \"semantic_type\": \"\",\n        \"description\": \"\"\n      }\n    },\n    {\n      \"column\": \"CompetitionOpenSinceYear\",\n      \"properties\": {\n        \"dtype\": \"number\",\n        \"std\": 6.195982559329067,\n        \"min\": 1900.0,\n        \"max\": 2015.0,\n        \"num_unique_values\": 23,\n        \"samples\": [\n          2002.0,\n          2010.0,\n          2008.0\n        ],\n        \"semantic_type\": \"\",\n        \"description\": \"\"\n      }\n    },\n    {\n      \"column\": \"Promo2\",\n      \"properties\": {\n        \"dtype\": \"number\",\n        \"std\": 0,\n        \"min\": 0,\n        \"max\": 1,\n        \"num_unique_values\": 2,\n        \"samples\": [\n          1,\n          0\n        ],\n        \"semantic_type\": \"\",\n        \"description\": \"\"\n      }\n    },\n    {\n      \"column\": \"Promo2SinceWeek\",\n      \"properties\": {\n        \"dtype\": \"number\",\n        \"std\": 14.14198354292219,\n        \"min\": 1.0,\n        \"max\": 50.0,\n        \"num_unique_values\": 24,\n        \"samples\": [\n          6.0,\n          35.0\n        ],\n        \"semantic_type\": \"\",\n        \"description\": \"\"\n      }\n    },\n    {\n      \"column\": \"Promo2SinceYear\",\n      \"properties\": {\n        \"dtype\": \"number\",\n        \"std\": 1.6749350926066624,\n        \"min\": 2009.0,\n        \"max\": 2015.0,\n        \"num_unique_values\": 7,\n        \"samples\": [\n          2010.0,\n          2011.0\n        ],\n        \"semantic_type\": \"\",\n        \"description\": \"\"\n      }\n    },\n    {\n      \"column\": \"PromoInterval\",\n      \"properties\": {\n        \"dtype\": \"category\",\n        \"num_unique_values\": 3,\n        \"samples\": [\n          \"Jan,Apr,Jul,Oct\",\n          \"Feb,May,Aug,Nov\"\n        ],\n        \"semantic_type\": \"\",\n        \"description\": \"\"\n      }\n    }\n  ]\n}"
            }
          },
          "metadata": {},
          "execution_count": 457
        }
      ]
    },
    {
      "cell_type": "code",
      "source": [
        "sample_submission_data.head()"
      ],
      "metadata": {
        "colab": {
          "base_uri": "https://localhost:8080/",
          "height": 226
        },
        "id": "IjvkAU6bJZ3A",
        "outputId": "0135c346-b1f3-49a3-8126-f724f64430cc"
      },
      "execution_count": 458,
      "outputs": [
        {
          "output_type": "execute_result",
          "data": {
            "text/plain": [
              "   Id  Sales\n",
              "0   1      0\n",
              "1   2      0\n",
              "2   3      0\n",
              "3   4      0\n",
              "4   5      0"
            ],
            "text/html": [
              "\n",
              "  <div id=\"df-4c1804d9-c05a-47a3-986a-fbea3736fee1\" class=\"colab-df-container\">\n",
              "    <div>\n",
              "<style scoped>\n",
              "    .dataframe tbody tr th:only-of-type {\n",
              "        vertical-align: middle;\n",
              "    }\n",
              "\n",
              "    .dataframe tbody tr th {\n",
              "        vertical-align: top;\n",
              "    }\n",
              "\n",
              "    .dataframe thead th {\n",
              "        text-align: right;\n",
              "    }\n",
              "</style>\n",
              "<table border=\"1\" class=\"dataframe\">\n",
              "  <thead>\n",
              "    <tr style=\"text-align: right;\">\n",
              "      <th></th>\n",
              "      <th>Id</th>\n",
              "      <th>Sales</th>\n",
              "    </tr>\n",
              "  </thead>\n",
              "  <tbody>\n",
              "    <tr>\n",
              "      <th>0</th>\n",
              "      <td>1</td>\n",
              "      <td>0</td>\n",
              "    </tr>\n",
              "    <tr>\n",
              "      <th>1</th>\n",
              "      <td>2</td>\n",
              "      <td>0</td>\n",
              "    </tr>\n",
              "    <tr>\n",
              "      <th>2</th>\n",
              "      <td>3</td>\n",
              "      <td>0</td>\n",
              "    </tr>\n",
              "    <tr>\n",
              "      <th>3</th>\n",
              "      <td>4</td>\n",
              "      <td>0</td>\n",
              "    </tr>\n",
              "    <tr>\n",
              "      <th>4</th>\n",
              "      <td>5</td>\n",
              "      <td>0</td>\n",
              "    </tr>\n",
              "  </tbody>\n",
              "</table>\n",
              "</div>\n",
              "    <div class=\"colab-df-buttons\">\n",
              "\n",
              "  <div class=\"colab-df-container\">\n",
              "    <button class=\"colab-df-convert\" onclick=\"convertToInteractive('df-4c1804d9-c05a-47a3-986a-fbea3736fee1')\"\n",
              "            title=\"Convert this dataframe to an interactive table.\"\n",
              "            style=\"display:none;\">\n",
              "\n",
              "  <svg xmlns=\"http://www.w3.org/2000/svg\" height=\"24px\" viewBox=\"0 -960 960 960\">\n",
              "    <path d=\"M120-120v-720h720v720H120Zm60-500h600v-160H180v160Zm220 220h160v-160H400v160Zm0 220h160v-160H400v160ZM180-400h160v-160H180v160Zm440 0h160v-160H620v160ZM180-180h160v-160H180v160Zm440 0h160v-160H620v160Z\"/>\n",
              "  </svg>\n",
              "    </button>\n",
              "\n",
              "  <style>\n",
              "    .colab-df-container {\n",
              "      display:flex;\n",
              "      gap: 12px;\n",
              "    }\n",
              "\n",
              "    .colab-df-convert {\n",
              "      background-color: #E8F0FE;\n",
              "      border: none;\n",
              "      border-radius: 50%;\n",
              "      cursor: pointer;\n",
              "      display: none;\n",
              "      fill: #1967D2;\n",
              "      height: 32px;\n",
              "      padding: 0 0 0 0;\n",
              "      width: 32px;\n",
              "    }\n",
              "\n",
              "    .colab-df-convert:hover {\n",
              "      background-color: #E2EBFA;\n",
              "      box-shadow: 0px 1px 2px rgba(60, 64, 67, 0.3), 0px 1px 3px 1px rgba(60, 64, 67, 0.15);\n",
              "      fill: #174EA6;\n",
              "    }\n",
              "\n",
              "    .colab-df-buttons div {\n",
              "      margin-bottom: 4px;\n",
              "    }\n",
              "\n",
              "    [theme=dark] .colab-df-convert {\n",
              "      background-color: #3B4455;\n",
              "      fill: #D2E3FC;\n",
              "    }\n",
              "\n",
              "    [theme=dark] .colab-df-convert:hover {\n",
              "      background-color: #434B5C;\n",
              "      box-shadow: 0px 1px 3px 1px rgba(0, 0, 0, 0.15);\n",
              "      filter: drop-shadow(0px 1px 2px rgba(0, 0, 0, 0.3));\n",
              "      fill: #FFFFFF;\n",
              "    }\n",
              "  </style>\n",
              "\n",
              "    <script>\n",
              "      const buttonEl =\n",
              "        document.querySelector('#df-4c1804d9-c05a-47a3-986a-fbea3736fee1 button.colab-df-convert');\n",
              "      buttonEl.style.display =\n",
              "        google.colab.kernel.accessAllowed ? 'block' : 'none';\n",
              "\n",
              "      async function convertToInteractive(key) {\n",
              "        const element = document.querySelector('#df-4c1804d9-c05a-47a3-986a-fbea3736fee1');\n",
              "        const dataTable =\n",
              "          await google.colab.kernel.invokeFunction('convertToInteractive',\n",
              "                                                    [key], {});\n",
              "        if (!dataTable) return;\n",
              "\n",
              "        const docLinkHtml = 'Like what you see? Visit the ' +\n",
              "          '<a target=\"_blank\" href=https://colab.research.google.com/notebooks/data_table.ipynb>data table notebook</a>'\n",
              "          + ' to learn more about interactive tables.';\n",
              "        element.innerHTML = '';\n",
              "        dataTable['output_type'] = 'display_data';\n",
              "        await google.colab.output.renderOutput(dataTable, element);\n",
              "        const docLink = document.createElement('div');\n",
              "        docLink.innerHTML = docLinkHtml;\n",
              "        element.appendChild(docLink);\n",
              "      }\n",
              "    </script>\n",
              "  </div>\n",
              "\n",
              "\n",
              "    <div id=\"df-7423d01f-65ad-44d2-8ef9-0d7540ac3c69\">\n",
              "      <button class=\"colab-df-quickchart\" onclick=\"quickchart('df-7423d01f-65ad-44d2-8ef9-0d7540ac3c69')\"\n",
              "                title=\"Suggest charts\"\n",
              "                style=\"display:none;\">\n",
              "\n",
              "<svg xmlns=\"http://www.w3.org/2000/svg\" height=\"24px\"viewBox=\"0 0 24 24\"\n",
              "     width=\"24px\">\n",
              "    <g>\n",
              "        <path d=\"M19 3H5c-1.1 0-2 .9-2 2v14c0 1.1.9 2 2 2h14c1.1 0 2-.9 2-2V5c0-1.1-.9-2-2-2zM9 17H7v-7h2v7zm4 0h-2V7h2v10zm4 0h-2v-4h2v4z\"/>\n",
              "    </g>\n",
              "</svg>\n",
              "      </button>\n",
              "\n",
              "<style>\n",
              "  .colab-df-quickchart {\n",
              "      --bg-color: #E8F0FE;\n",
              "      --fill-color: #1967D2;\n",
              "      --hover-bg-color: #E2EBFA;\n",
              "      --hover-fill-color: #174EA6;\n",
              "      --disabled-fill-color: #AAA;\n",
              "      --disabled-bg-color: #DDD;\n",
              "  }\n",
              "\n",
              "  [theme=dark] .colab-df-quickchart {\n",
              "      --bg-color: #3B4455;\n",
              "      --fill-color: #D2E3FC;\n",
              "      --hover-bg-color: #434B5C;\n",
              "      --hover-fill-color: #FFFFFF;\n",
              "      --disabled-bg-color: #3B4455;\n",
              "      --disabled-fill-color: #666;\n",
              "  }\n",
              "\n",
              "  .colab-df-quickchart {\n",
              "    background-color: var(--bg-color);\n",
              "    border: none;\n",
              "    border-radius: 50%;\n",
              "    cursor: pointer;\n",
              "    display: none;\n",
              "    fill: var(--fill-color);\n",
              "    height: 32px;\n",
              "    padding: 0;\n",
              "    width: 32px;\n",
              "  }\n",
              "\n",
              "  .colab-df-quickchart:hover {\n",
              "    background-color: var(--hover-bg-color);\n",
              "    box-shadow: 0 1px 2px rgba(60, 64, 67, 0.3), 0 1px 3px 1px rgba(60, 64, 67, 0.15);\n",
              "    fill: var(--button-hover-fill-color);\n",
              "  }\n",
              "\n",
              "  .colab-df-quickchart-complete:disabled,\n",
              "  .colab-df-quickchart-complete:disabled:hover {\n",
              "    background-color: var(--disabled-bg-color);\n",
              "    fill: var(--disabled-fill-color);\n",
              "    box-shadow: none;\n",
              "  }\n",
              "\n",
              "  .colab-df-spinner {\n",
              "    border: 2px solid var(--fill-color);\n",
              "    border-color: transparent;\n",
              "    border-bottom-color: var(--fill-color);\n",
              "    animation:\n",
              "      spin 1s steps(1) infinite;\n",
              "  }\n",
              "\n",
              "  @keyframes spin {\n",
              "    0% {\n",
              "      border-color: transparent;\n",
              "      border-bottom-color: var(--fill-color);\n",
              "      border-left-color: var(--fill-color);\n",
              "    }\n",
              "    20% {\n",
              "      border-color: transparent;\n",
              "      border-left-color: var(--fill-color);\n",
              "      border-top-color: var(--fill-color);\n",
              "    }\n",
              "    30% {\n",
              "      border-color: transparent;\n",
              "      border-left-color: var(--fill-color);\n",
              "      border-top-color: var(--fill-color);\n",
              "      border-right-color: var(--fill-color);\n",
              "    }\n",
              "    40% {\n",
              "      border-color: transparent;\n",
              "      border-right-color: var(--fill-color);\n",
              "      border-top-color: var(--fill-color);\n",
              "    }\n",
              "    60% {\n",
              "      border-color: transparent;\n",
              "      border-right-color: var(--fill-color);\n",
              "    }\n",
              "    80% {\n",
              "      border-color: transparent;\n",
              "      border-right-color: var(--fill-color);\n",
              "      border-bottom-color: var(--fill-color);\n",
              "    }\n",
              "    90% {\n",
              "      border-color: transparent;\n",
              "      border-bottom-color: var(--fill-color);\n",
              "    }\n",
              "  }\n",
              "</style>\n",
              "\n",
              "      <script>\n",
              "        async function quickchart(key) {\n",
              "          const quickchartButtonEl =\n",
              "            document.querySelector('#' + key + ' button');\n",
              "          quickchartButtonEl.disabled = true;  // To prevent multiple clicks.\n",
              "          quickchartButtonEl.classList.add('colab-df-spinner');\n",
              "          try {\n",
              "            const charts = await google.colab.kernel.invokeFunction(\n",
              "                'suggestCharts', [key], {});\n",
              "          } catch (error) {\n",
              "            console.error('Error during call to suggestCharts:', error);\n",
              "          }\n",
              "          quickchartButtonEl.classList.remove('colab-df-spinner');\n",
              "          quickchartButtonEl.classList.add('colab-df-quickchart-complete');\n",
              "        }\n",
              "        (() => {\n",
              "          let quickchartButtonEl =\n",
              "            document.querySelector('#df-7423d01f-65ad-44d2-8ef9-0d7540ac3c69 button');\n",
              "          quickchartButtonEl.style.display =\n",
              "            google.colab.kernel.accessAllowed ? 'block' : 'none';\n",
              "        })();\n",
              "      </script>\n",
              "    </div>\n",
              "    </div>\n",
              "  </div>\n"
            ],
            "application/vnd.google.colaboratory.intrinsic+json": {
              "type": "dataframe",
              "variable_name": "sample_submission_data",
              "summary": "{\n  \"name\": \"sample_submission_data\",\n  \"rows\": 41088,\n  \"fields\": [\n    {\n      \"column\": \"Id\",\n      \"properties\": {\n        \"dtype\": \"number\",\n        \"std\": 11861,\n        \"min\": 1,\n        \"max\": 41088,\n        \"num_unique_values\": 41088,\n        \"samples\": [\n          29156,\n          4641,\n          9124\n        ],\n        \"semantic_type\": \"\",\n        \"description\": \"\"\n      }\n    },\n    {\n      \"column\": \"Sales\",\n      \"properties\": {\n        \"dtype\": \"number\",\n        \"std\": 0,\n        \"min\": 0,\n        \"max\": 0,\n        \"num_unique_values\": 1,\n        \"samples\": [\n          0\n        ],\n        \"semantic_type\": \"\",\n        \"description\": \"\"\n      }\n    }\n  ]\n}"
            }
          },
          "metadata": {},
          "execution_count": 458
        }
      ]
    },
    {
      "cell_type": "markdown",
      "source": [
        "## Shape, Info & Describe"
      ],
      "metadata": {
        "id": "EV8K6HOSKB9A"
      }
    },
    {
      "cell_type": "markdown",
      "source": [
        "### Train"
      ],
      "metadata": {
        "id": "2Ehn1dkEKlDt"
      }
    },
    {
      "cell_type": "code",
      "source": [
        "train_data.shape, train_data.info()"
      ],
      "metadata": {
        "colab": {
          "base_uri": "https://localhost:8080/"
        },
        "id": "-Pz6L7wvK38C",
        "outputId": "3d143e04-3434-4170-99af-465a5110acb4"
      },
      "execution_count": 459,
      "outputs": [
        {
          "output_type": "stream",
          "name": "stdout",
          "text": [
            "<class 'pandas.core.frame.DataFrame'>\n",
            "RangeIndex: 1017209 entries, 0 to 1017208\n",
            "Data columns (total 9 columns):\n",
            " #   Column         Non-Null Count    Dtype \n",
            "---  ------         --------------    ----- \n",
            " 0   Store          1017209 non-null  int64 \n",
            " 1   DayOfWeek      1017209 non-null  int64 \n",
            " 2   Date           1017209 non-null  object\n",
            " 3   Sales          1017209 non-null  int64 \n",
            " 4   Customers      1017209 non-null  int64 \n",
            " 5   Open           1017209 non-null  int64 \n",
            " 6   Promo          1017209 non-null  int64 \n",
            " 7   StateHoliday   1017209 non-null  object\n",
            " 8   SchoolHoliday  1017209 non-null  int64 \n",
            "dtypes: int64(7), object(2)\n",
            "memory usage: 69.8+ MB\n"
          ]
        },
        {
          "output_type": "execute_result",
          "data": {
            "text/plain": [
              "((1017209, 9), None)"
            ]
          },
          "metadata": {},
          "execution_count": 459
        }
      ]
    },
    {
      "cell_type": "code",
      "source": [
        "# a = public holiday, b = Easter holiday, c = Christmas, 0 = None\n",
        "train_data.StateHoliday.unique()"
      ],
      "metadata": {
        "colab": {
          "base_uri": "https://localhost:8080/"
        },
        "id": "CcuMjTsbPZmU",
        "outputId": "aedd6cbd-12aa-4810-9206-63a9c86a0788"
      },
      "execution_count": 460,
      "outputs": [
        {
          "output_type": "execute_result",
          "data": {
            "text/plain": [
              "array(['0', 'a', 'b', 'c', 0], dtype=object)"
            ]
          },
          "metadata": {},
          "execution_count": 460
        }
      ]
    },
    {
      "cell_type": "code",
      "source": [
        "round(train_data.describe().T, 2)"
      ],
      "metadata": {
        "colab": {
          "base_uri": "https://localhost:8080/",
          "height": 289
        },
        "id": "_gZEjKPeQZtJ",
        "outputId": "56cf6bba-9240-49bb-99eb-9f7ce24b10d4"
      },
      "execution_count": 461,
      "outputs": [
        {
          "output_type": "execute_result",
          "data": {
            "text/plain": [
              "                   count     mean      std  min     25%     50%     75%  \\\n",
              "Store          1017209.0   558.43   321.91  1.0   280.0   558.0   838.0   \n",
              "DayOfWeek      1017209.0     4.00     2.00  1.0     2.0     4.0     6.0   \n",
              "Sales          1017209.0  5773.82  3849.93  0.0  3727.0  5744.0  7856.0   \n",
              "Customers      1017209.0   633.15   464.41  0.0   405.0   609.0   837.0   \n",
              "Open           1017209.0     0.83     0.38  0.0     1.0     1.0     1.0   \n",
              "Promo          1017209.0     0.38     0.49  0.0     0.0     0.0     1.0   \n",
              "SchoolHoliday  1017209.0     0.18     0.38  0.0     0.0     0.0     0.0   \n",
              "\n",
              "                   max  \n",
              "Store           1115.0  \n",
              "DayOfWeek          7.0  \n",
              "Sales          41551.0  \n",
              "Customers       7388.0  \n",
              "Open               1.0  \n",
              "Promo              1.0  \n",
              "SchoolHoliday      1.0  "
            ],
            "text/html": [
              "\n",
              "  <div id=\"df-2076ab87-aca8-46cd-a107-c0ef041374c4\" class=\"colab-df-container\">\n",
              "    <div>\n",
              "<style scoped>\n",
              "    .dataframe tbody tr th:only-of-type {\n",
              "        vertical-align: middle;\n",
              "    }\n",
              "\n",
              "    .dataframe tbody tr th {\n",
              "        vertical-align: top;\n",
              "    }\n",
              "\n",
              "    .dataframe thead th {\n",
              "        text-align: right;\n",
              "    }\n",
              "</style>\n",
              "<table border=\"1\" class=\"dataframe\">\n",
              "  <thead>\n",
              "    <tr style=\"text-align: right;\">\n",
              "      <th></th>\n",
              "      <th>count</th>\n",
              "      <th>mean</th>\n",
              "      <th>std</th>\n",
              "      <th>min</th>\n",
              "      <th>25%</th>\n",
              "      <th>50%</th>\n",
              "      <th>75%</th>\n",
              "      <th>max</th>\n",
              "    </tr>\n",
              "  </thead>\n",
              "  <tbody>\n",
              "    <tr>\n",
              "      <th>Store</th>\n",
              "      <td>1017209.0</td>\n",
              "      <td>558.43</td>\n",
              "      <td>321.91</td>\n",
              "      <td>1.0</td>\n",
              "      <td>280.0</td>\n",
              "      <td>558.0</td>\n",
              "      <td>838.0</td>\n",
              "      <td>1115.0</td>\n",
              "    </tr>\n",
              "    <tr>\n",
              "      <th>DayOfWeek</th>\n",
              "      <td>1017209.0</td>\n",
              "      <td>4.00</td>\n",
              "      <td>2.00</td>\n",
              "      <td>1.0</td>\n",
              "      <td>2.0</td>\n",
              "      <td>4.0</td>\n",
              "      <td>6.0</td>\n",
              "      <td>7.0</td>\n",
              "    </tr>\n",
              "    <tr>\n",
              "      <th>Sales</th>\n",
              "      <td>1017209.0</td>\n",
              "      <td>5773.82</td>\n",
              "      <td>3849.93</td>\n",
              "      <td>0.0</td>\n",
              "      <td>3727.0</td>\n",
              "      <td>5744.0</td>\n",
              "      <td>7856.0</td>\n",
              "      <td>41551.0</td>\n",
              "    </tr>\n",
              "    <tr>\n",
              "      <th>Customers</th>\n",
              "      <td>1017209.0</td>\n",
              "      <td>633.15</td>\n",
              "      <td>464.41</td>\n",
              "      <td>0.0</td>\n",
              "      <td>405.0</td>\n",
              "      <td>609.0</td>\n",
              "      <td>837.0</td>\n",
              "      <td>7388.0</td>\n",
              "    </tr>\n",
              "    <tr>\n",
              "      <th>Open</th>\n",
              "      <td>1017209.0</td>\n",
              "      <td>0.83</td>\n",
              "      <td>0.38</td>\n",
              "      <td>0.0</td>\n",
              "      <td>1.0</td>\n",
              "      <td>1.0</td>\n",
              "      <td>1.0</td>\n",
              "      <td>1.0</td>\n",
              "    </tr>\n",
              "    <tr>\n",
              "      <th>Promo</th>\n",
              "      <td>1017209.0</td>\n",
              "      <td>0.38</td>\n",
              "      <td>0.49</td>\n",
              "      <td>0.0</td>\n",
              "      <td>0.0</td>\n",
              "      <td>0.0</td>\n",
              "      <td>1.0</td>\n",
              "      <td>1.0</td>\n",
              "    </tr>\n",
              "    <tr>\n",
              "      <th>SchoolHoliday</th>\n",
              "      <td>1017209.0</td>\n",
              "      <td>0.18</td>\n",
              "      <td>0.38</td>\n",
              "      <td>0.0</td>\n",
              "      <td>0.0</td>\n",
              "      <td>0.0</td>\n",
              "      <td>0.0</td>\n",
              "      <td>1.0</td>\n",
              "    </tr>\n",
              "  </tbody>\n",
              "</table>\n",
              "</div>\n",
              "    <div class=\"colab-df-buttons\">\n",
              "\n",
              "  <div class=\"colab-df-container\">\n",
              "    <button class=\"colab-df-convert\" onclick=\"convertToInteractive('df-2076ab87-aca8-46cd-a107-c0ef041374c4')\"\n",
              "            title=\"Convert this dataframe to an interactive table.\"\n",
              "            style=\"display:none;\">\n",
              "\n",
              "  <svg xmlns=\"http://www.w3.org/2000/svg\" height=\"24px\" viewBox=\"0 -960 960 960\">\n",
              "    <path d=\"M120-120v-720h720v720H120Zm60-500h600v-160H180v160Zm220 220h160v-160H400v160Zm0 220h160v-160H400v160ZM180-400h160v-160H180v160Zm440 0h160v-160H620v160ZM180-180h160v-160H180v160Zm440 0h160v-160H620v160Z\"/>\n",
              "  </svg>\n",
              "    </button>\n",
              "\n",
              "  <style>\n",
              "    .colab-df-container {\n",
              "      display:flex;\n",
              "      gap: 12px;\n",
              "    }\n",
              "\n",
              "    .colab-df-convert {\n",
              "      background-color: #E8F0FE;\n",
              "      border: none;\n",
              "      border-radius: 50%;\n",
              "      cursor: pointer;\n",
              "      display: none;\n",
              "      fill: #1967D2;\n",
              "      height: 32px;\n",
              "      padding: 0 0 0 0;\n",
              "      width: 32px;\n",
              "    }\n",
              "\n",
              "    .colab-df-convert:hover {\n",
              "      background-color: #E2EBFA;\n",
              "      box-shadow: 0px 1px 2px rgba(60, 64, 67, 0.3), 0px 1px 3px 1px rgba(60, 64, 67, 0.15);\n",
              "      fill: #174EA6;\n",
              "    }\n",
              "\n",
              "    .colab-df-buttons div {\n",
              "      margin-bottom: 4px;\n",
              "    }\n",
              "\n",
              "    [theme=dark] .colab-df-convert {\n",
              "      background-color: #3B4455;\n",
              "      fill: #D2E3FC;\n",
              "    }\n",
              "\n",
              "    [theme=dark] .colab-df-convert:hover {\n",
              "      background-color: #434B5C;\n",
              "      box-shadow: 0px 1px 3px 1px rgba(0, 0, 0, 0.15);\n",
              "      filter: drop-shadow(0px 1px 2px rgba(0, 0, 0, 0.3));\n",
              "      fill: #FFFFFF;\n",
              "    }\n",
              "  </style>\n",
              "\n",
              "    <script>\n",
              "      const buttonEl =\n",
              "        document.querySelector('#df-2076ab87-aca8-46cd-a107-c0ef041374c4 button.colab-df-convert');\n",
              "      buttonEl.style.display =\n",
              "        google.colab.kernel.accessAllowed ? 'block' : 'none';\n",
              "\n",
              "      async function convertToInteractive(key) {\n",
              "        const element = document.querySelector('#df-2076ab87-aca8-46cd-a107-c0ef041374c4');\n",
              "        const dataTable =\n",
              "          await google.colab.kernel.invokeFunction('convertToInteractive',\n",
              "                                                    [key], {});\n",
              "        if (!dataTable) return;\n",
              "\n",
              "        const docLinkHtml = 'Like what you see? Visit the ' +\n",
              "          '<a target=\"_blank\" href=https://colab.research.google.com/notebooks/data_table.ipynb>data table notebook</a>'\n",
              "          + ' to learn more about interactive tables.';\n",
              "        element.innerHTML = '';\n",
              "        dataTable['output_type'] = 'display_data';\n",
              "        await google.colab.output.renderOutput(dataTable, element);\n",
              "        const docLink = document.createElement('div');\n",
              "        docLink.innerHTML = docLinkHtml;\n",
              "        element.appendChild(docLink);\n",
              "      }\n",
              "    </script>\n",
              "  </div>\n",
              "\n",
              "\n",
              "    <div id=\"df-0fb78a6a-56fa-4528-920b-3f3f5885bcf2\">\n",
              "      <button class=\"colab-df-quickchart\" onclick=\"quickchart('df-0fb78a6a-56fa-4528-920b-3f3f5885bcf2')\"\n",
              "                title=\"Suggest charts\"\n",
              "                style=\"display:none;\">\n",
              "\n",
              "<svg xmlns=\"http://www.w3.org/2000/svg\" height=\"24px\"viewBox=\"0 0 24 24\"\n",
              "     width=\"24px\">\n",
              "    <g>\n",
              "        <path d=\"M19 3H5c-1.1 0-2 .9-2 2v14c0 1.1.9 2 2 2h14c1.1 0 2-.9 2-2V5c0-1.1-.9-2-2-2zM9 17H7v-7h2v7zm4 0h-2V7h2v10zm4 0h-2v-4h2v4z\"/>\n",
              "    </g>\n",
              "</svg>\n",
              "      </button>\n",
              "\n",
              "<style>\n",
              "  .colab-df-quickchart {\n",
              "      --bg-color: #E8F0FE;\n",
              "      --fill-color: #1967D2;\n",
              "      --hover-bg-color: #E2EBFA;\n",
              "      --hover-fill-color: #174EA6;\n",
              "      --disabled-fill-color: #AAA;\n",
              "      --disabled-bg-color: #DDD;\n",
              "  }\n",
              "\n",
              "  [theme=dark] .colab-df-quickchart {\n",
              "      --bg-color: #3B4455;\n",
              "      --fill-color: #D2E3FC;\n",
              "      --hover-bg-color: #434B5C;\n",
              "      --hover-fill-color: #FFFFFF;\n",
              "      --disabled-bg-color: #3B4455;\n",
              "      --disabled-fill-color: #666;\n",
              "  }\n",
              "\n",
              "  .colab-df-quickchart {\n",
              "    background-color: var(--bg-color);\n",
              "    border: none;\n",
              "    border-radius: 50%;\n",
              "    cursor: pointer;\n",
              "    display: none;\n",
              "    fill: var(--fill-color);\n",
              "    height: 32px;\n",
              "    padding: 0;\n",
              "    width: 32px;\n",
              "  }\n",
              "\n",
              "  .colab-df-quickchart:hover {\n",
              "    background-color: var(--hover-bg-color);\n",
              "    box-shadow: 0 1px 2px rgba(60, 64, 67, 0.3), 0 1px 3px 1px rgba(60, 64, 67, 0.15);\n",
              "    fill: var(--button-hover-fill-color);\n",
              "  }\n",
              "\n",
              "  .colab-df-quickchart-complete:disabled,\n",
              "  .colab-df-quickchart-complete:disabled:hover {\n",
              "    background-color: var(--disabled-bg-color);\n",
              "    fill: var(--disabled-fill-color);\n",
              "    box-shadow: none;\n",
              "  }\n",
              "\n",
              "  .colab-df-spinner {\n",
              "    border: 2px solid var(--fill-color);\n",
              "    border-color: transparent;\n",
              "    border-bottom-color: var(--fill-color);\n",
              "    animation:\n",
              "      spin 1s steps(1) infinite;\n",
              "  }\n",
              "\n",
              "  @keyframes spin {\n",
              "    0% {\n",
              "      border-color: transparent;\n",
              "      border-bottom-color: var(--fill-color);\n",
              "      border-left-color: var(--fill-color);\n",
              "    }\n",
              "    20% {\n",
              "      border-color: transparent;\n",
              "      border-left-color: var(--fill-color);\n",
              "      border-top-color: var(--fill-color);\n",
              "    }\n",
              "    30% {\n",
              "      border-color: transparent;\n",
              "      border-left-color: var(--fill-color);\n",
              "      border-top-color: var(--fill-color);\n",
              "      border-right-color: var(--fill-color);\n",
              "    }\n",
              "    40% {\n",
              "      border-color: transparent;\n",
              "      border-right-color: var(--fill-color);\n",
              "      border-top-color: var(--fill-color);\n",
              "    }\n",
              "    60% {\n",
              "      border-color: transparent;\n",
              "      border-right-color: var(--fill-color);\n",
              "    }\n",
              "    80% {\n",
              "      border-color: transparent;\n",
              "      border-right-color: var(--fill-color);\n",
              "      border-bottom-color: var(--fill-color);\n",
              "    }\n",
              "    90% {\n",
              "      border-color: transparent;\n",
              "      border-bottom-color: var(--fill-color);\n",
              "    }\n",
              "  }\n",
              "</style>\n",
              "\n",
              "      <script>\n",
              "        async function quickchart(key) {\n",
              "          const quickchartButtonEl =\n",
              "            document.querySelector('#' + key + ' button');\n",
              "          quickchartButtonEl.disabled = true;  // To prevent multiple clicks.\n",
              "          quickchartButtonEl.classList.add('colab-df-spinner');\n",
              "          try {\n",
              "            const charts = await google.colab.kernel.invokeFunction(\n",
              "                'suggestCharts', [key], {});\n",
              "          } catch (error) {\n",
              "            console.error('Error during call to suggestCharts:', error);\n",
              "          }\n",
              "          quickchartButtonEl.classList.remove('colab-df-spinner');\n",
              "          quickchartButtonEl.classList.add('colab-df-quickchart-complete');\n",
              "        }\n",
              "        (() => {\n",
              "          let quickchartButtonEl =\n",
              "            document.querySelector('#df-0fb78a6a-56fa-4528-920b-3f3f5885bcf2 button');\n",
              "          quickchartButtonEl.style.display =\n",
              "            google.colab.kernel.accessAllowed ? 'block' : 'none';\n",
              "        })();\n",
              "      </script>\n",
              "    </div>\n",
              "    </div>\n",
              "  </div>\n"
            ],
            "application/vnd.google.colaboratory.intrinsic+json": {
              "type": "dataframe",
              "summary": "{\n  \"name\": \"round(train_data\",\n  \"rows\": 7,\n  \"fields\": [\n    {\n      \"column\": \"count\",\n      \"properties\": {\n        \"dtype\": \"number\",\n        \"std\": 0.0,\n        \"min\": 1017209.0,\n        \"max\": 1017209.0,\n        \"num_unique_values\": 1,\n        \"samples\": [\n          1017209.0\n        ],\n        \"semantic_type\": \"\",\n        \"description\": \"\"\n      }\n    },\n    {\n      \"column\": \"mean\",\n      \"properties\": {\n        \"dtype\": \"number\",\n        \"std\": 2125.560136228521,\n        \"min\": 0.18,\n        \"max\": 5773.82,\n        \"num_unique_values\": 7,\n        \"samples\": [\n          558.43\n        ],\n        \"semantic_type\": \"\",\n        \"description\": \"\"\n      }\n    },\n    {\n      \"column\": \"std\",\n      \"properties\": {\n        \"dtype\": \"number\",\n        \"std\": 1418.1134127525104,\n        \"min\": 0.38,\n        \"max\": 3849.93,\n        \"num_unique_values\": 6,\n        \"samples\": [\n          321.91\n        ],\n        \"semantic_type\": \"\",\n        \"description\": \"\"\n      }\n    },\n    {\n      \"column\": \"min\",\n      \"properties\": {\n        \"dtype\": \"number\",\n        \"std\": 0.48795003647426666,\n        \"min\": 0.0,\n        \"max\": 1.0,\n        \"num_unique_values\": 2,\n        \"samples\": [\n          0.0\n        ],\n        \"semantic_type\": \"\",\n        \"description\": \"\"\n      }\n    },\n    {\n      \"column\": \"25%\",\n      \"properties\": {\n        \"dtype\": \"number\",\n        \"std\": 1375.2790885593265,\n        \"min\": 0.0,\n        \"max\": 3727.0,\n        \"num_unique_values\": 6,\n        \"samples\": [\n          280.0\n        ],\n        \"semantic_type\": \"\",\n        \"description\": \"\"\n      }\n    },\n    {\n      \"column\": \"50%\",\n      \"properties\": {\n        \"dtype\": \"number\",\n        \"std\": 2115.135535452358,\n        \"min\": 0.0,\n        \"max\": 5744.0,\n        \"num_unique_values\": 6,\n        \"samples\": [\n          558.0\n        ],\n        \"semantic_type\": \"\",\n        \"description\": \"\"\n      }\n    },\n    {\n      \"column\": \"75%\",\n      \"properties\": {\n        \"dtype\": \"number\",\n        \"std\": 2890.2322694601157,\n        \"min\": 0.0,\n        \"max\": 7856.0,\n        \"num_unique_values\": 6,\n        \"samples\": [\n          838.0\n        ],\n        \"semantic_type\": \"\",\n        \"description\": \"\"\n      }\n    },\n    {\n      \"column\": \"max\",\n      \"properties\": {\n        \"dtype\": \"number\",\n        \"std\": 15406.998918240588,\n        \"min\": 1.0,\n        \"max\": 41551.0,\n        \"num_unique_values\": 5,\n        \"samples\": [\n          7.0\n        ],\n        \"semantic_type\": \"\",\n        \"description\": \"\"\n      }\n    }\n  ]\n}"
            }
          },
          "metadata": {},
          "execution_count": 461
        }
      ]
    },
    {
      "cell_type": "markdown",
      "source": [
        "### Test"
      ],
      "metadata": {
        "id": "mXLwKCyJQvK5"
      }
    },
    {
      "cell_type": "code",
      "source": [
        "test_data.shape, test_data.info()"
      ],
      "metadata": {
        "colab": {
          "base_uri": "https://localhost:8080/"
        },
        "id": "453YKebPJhSC",
        "outputId": "4d4bbf8b-30c3-4b9b-9501-793bfff35415"
      },
      "execution_count": 462,
      "outputs": [
        {
          "output_type": "stream",
          "name": "stdout",
          "text": [
            "<class 'pandas.core.frame.DataFrame'>\n",
            "RangeIndex: 41088 entries, 0 to 41087\n",
            "Data columns (total 8 columns):\n",
            " #   Column         Non-Null Count  Dtype  \n",
            "---  ------         --------------  -----  \n",
            " 0   Id             41088 non-null  int64  \n",
            " 1   Store          41088 non-null  int64  \n",
            " 2   DayOfWeek      41088 non-null  int64  \n",
            " 3   Date           41088 non-null  object \n",
            " 4   Open           41077 non-null  float64\n",
            " 5   Promo          41088 non-null  int64  \n",
            " 6   StateHoliday   41088 non-null  object \n",
            " 7   SchoolHoliday  41088 non-null  int64  \n",
            "dtypes: float64(1), int64(5), object(2)\n",
            "memory usage: 2.5+ MB\n"
          ]
        },
        {
          "output_type": "execute_result",
          "data": {
            "text/plain": [
              "((41088, 8), None)"
            ]
          },
          "metadata": {},
          "execution_count": 462
        }
      ]
    },
    {
      "cell_type": "code",
      "source": [
        "test_data.StateHoliday.unique()"
      ],
      "metadata": {
        "colab": {
          "base_uri": "https://localhost:8080/"
        },
        "id": "p3IiwCngPkGM",
        "outputId": "3b053b7f-bb28-43d3-e1f8-ab1c28042f78"
      },
      "execution_count": 463,
      "outputs": [
        {
          "output_type": "execute_result",
          "data": {
            "text/plain": [
              "array(['0', 'a'], dtype=object)"
            ]
          },
          "metadata": {},
          "execution_count": 463
        }
      ]
    },
    {
      "cell_type": "markdown",
      "source": [
        "### Store"
      ],
      "metadata": {
        "id": "wrujOoMdKpZJ"
      }
    },
    {
      "cell_type": "code",
      "source": [
        "store_data.shape, store_data.info()"
      ],
      "metadata": {
        "colab": {
          "base_uri": "https://localhost:8080/"
        },
        "id": "QcsQz5QLKtDN",
        "outputId": "5995964d-be3f-41a8-d770-1a435aa95149"
      },
      "execution_count": 464,
      "outputs": [
        {
          "output_type": "stream",
          "name": "stdout",
          "text": [
            "<class 'pandas.core.frame.DataFrame'>\n",
            "RangeIndex: 1115 entries, 0 to 1114\n",
            "Data columns (total 10 columns):\n",
            " #   Column                     Non-Null Count  Dtype  \n",
            "---  ------                     --------------  -----  \n",
            " 0   Store                      1115 non-null   int64  \n",
            " 1   StoreType                  1115 non-null   object \n",
            " 2   Assortment                 1115 non-null   object \n",
            " 3   CompetitionDistance        1112 non-null   float64\n",
            " 4   CompetitionOpenSinceMonth  761 non-null    float64\n",
            " 5   CompetitionOpenSinceYear   761 non-null    float64\n",
            " 6   Promo2                     1115 non-null   int64  \n",
            " 7   Promo2SinceWeek            571 non-null    float64\n",
            " 8   Promo2SinceYear            571 non-null    float64\n",
            " 9   PromoInterval              571 non-null    object \n",
            "dtypes: float64(5), int64(2), object(3)\n",
            "memory usage: 87.2+ KB\n"
          ]
        },
        {
          "output_type": "execute_result",
          "data": {
            "text/plain": [
              "((1115, 10), None)"
            ]
          },
          "metadata": {},
          "execution_count": 464
        }
      ]
    },
    {
      "cell_type": "code",
      "source": [
        "store_data.StoreType.unique()"
      ],
      "metadata": {
        "colab": {
          "base_uri": "https://localhost:8080/"
        },
        "id": "ztZWsdXZP9X5",
        "outputId": "eb53f061-3537-4ba3-99ea-e17775363b59"
      },
      "execution_count": 465,
      "outputs": [
        {
          "output_type": "execute_result",
          "data": {
            "text/plain": [
              "array(['c', 'a', 'd', 'b'], dtype=object)"
            ]
          },
          "metadata": {},
          "execution_count": 465
        }
      ]
    },
    {
      "cell_type": "code",
      "source": [
        "store_data.PromoInterval.unique()"
      ],
      "metadata": {
        "colab": {
          "base_uri": "https://localhost:8080/"
        },
        "id": "cML4bvHUbFgL",
        "outputId": "807241bc-b607-42d0-c650-8b65f1656389"
      },
      "execution_count": 466,
      "outputs": [
        {
          "output_type": "execute_result",
          "data": {
            "text/plain": [
              "array([nan, 'Jan,Apr,Jul,Oct', 'Feb,May,Aug,Nov', 'Mar,Jun,Sept,Dec'],\n",
              "      dtype=object)"
            ]
          },
          "metadata": {},
          "execution_count": 466
        }
      ]
    },
    {
      "cell_type": "markdown",
      "source": [
        "## Fixing StateHoliday mixed types"
      ],
      "metadata": {
        "id": "O0_UFHaXTw_i"
      }
    },
    {
      "cell_type": "code",
      "source": [
        "train_data[\"StateHoliday\"] = train_data[\"StateHoliday\"].replace({0: '0'})\n",
        "train_data[\"StateHoliday\"].unique()"
      ],
      "metadata": {
        "colab": {
          "base_uri": "https://localhost:8080/"
        },
        "id": "qZ8pYevbUAUI",
        "outputId": "c852aa5d-48c8-47cf-89c2-3cf5f26dc718"
      },
      "execution_count": 467,
      "outputs": [
        {
          "output_type": "execute_result",
          "data": {
            "text/plain": [
              "array(['0', 'a', 'b', 'c'], dtype=object)"
            ]
          },
          "metadata": {},
          "execution_count": 467
        }
      ]
    },
    {
      "cell_type": "markdown",
      "source": [
        "## Inner Join Train and Store"
      ],
      "metadata": {
        "id": "c6fnaBiAV3TE"
      }
    },
    {
      "cell_type": "code",
      "source": [
        "train_store_data = pd.merge(train_data, store_data, how=\"inner\", on=\"Store\")\n",
        "test_store_data = pd.merge(test_data, store_data, how=\"inner\", on=\"Store\")"
      ],
      "metadata": {
        "id": "RbY4Wo15WBDs"
      },
      "execution_count": 468,
      "outputs": []
    },
    {
      "cell_type": "code",
      "source": [
        "test_store_data.columns"
      ],
      "metadata": {
        "colab": {
          "base_uri": "https://localhost:8080/"
        },
        "id": "zCf-JLDxZU1a",
        "outputId": "8fc118f9-e1e3-4fa9-b60d-a31b3e2984b7"
      },
      "execution_count": 469,
      "outputs": [
        {
          "output_type": "execute_result",
          "data": {
            "text/plain": [
              "Index(['Id', 'Store', 'DayOfWeek', 'Date', 'Open', 'Promo', 'StateHoliday',\n",
              "       'SchoolHoliday', 'StoreType', 'Assortment', 'CompetitionDistance',\n",
              "       'CompetitionOpenSinceMonth', 'CompetitionOpenSinceYear', 'Promo2',\n",
              "       'Promo2SinceWeek', 'Promo2SinceYear', 'PromoInterval'],\n",
              "      dtype='object')"
            ]
          },
          "metadata": {},
          "execution_count": 469
        }
      ]
    },
    {
      "cell_type": "code",
      "source": [
        "train_store_data.duplicated().sum(), test_store_data.duplicated().sum()"
      ],
      "metadata": {
        "colab": {
          "base_uri": "https://localhost:8080/"
        },
        "id": "RmCu932Ghg_z",
        "outputId": "9b87871d-c9ae-4d2b-bc9e-0b4dd1f06f66"
      },
      "execution_count": 470,
      "outputs": [
        {
          "output_type": "execute_result",
          "data": {
            "text/plain": [
              "(np.int64(0), np.int64(0))"
            ]
          },
          "metadata": {},
          "execution_count": 470
        }
      ]
    },
    {
      "cell_type": "code",
      "source": [
        "# if rows count not equals to each other you can use left join for merge.\n",
        "train_data.shape, train_store_data.shape"
      ],
      "metadata": {
        "colab": {
          "base_uri": "https://localhost:8080/"
        },
        "id": "7-HG8CndQbMy",
        "outputId": "0316fc23-f49a-4f34-8dbf-56d11aa84b50"
      },
      "execution_count": 471,
      "outputs": [
        {
          "output_type": "execute_result",
          "data": {
            "text/plain": [
              "((1017209, 9), (1017209, 18))"
            ]
          },
          "metadata": {},
          "execution_count": 471
        }
      ]
    },
    {
      "cell_type": "markdown",
      "source": [
        "## Exploratory Data Analysis and Visualization\n",
        "https://colab.research.google.com/drive/1JApe88oyVR3fX5hietKT842zz3G498I-?usp=sharing"
      ],
      "metadata": {
        "id": "dLO9lsP9rnhS"
      }
    },
    {
      "cell_type": "markdown",
      "source": [
        "Objectives of exploratory data analysis:\n",
        "\n",
        "- Study the distributions of individual columns (uniform, normal, exponential)\n",
        "- Detect anomalies or errors in the data (e.g. missing/incorrect values)\n",
        "- Study the relationship of target column with other columns (linear, non-linear etc.)\n",
        "- Gather insights about the problem and the dataset\n",
        "- Come up with ideas for preprocessing and feature engineering\n",
        "\n",
        "\n"
      ],
      "metadata": {
        "id": "Fqqc7IKvWdOD"
      }
    },
    {
      "cell_type": "markdown",
      "source": [
        "## Clean Data + Define Columns List"
      ],
      "metadata": {
        "id": "LrS9gksc9LeC"
      }
    },
    {
      "cell_type": "code",
      "source": [
        "train_store_data = train_store_data[train_store_data[\"Open\"] == 1] # Based on Open Histogram and BarPlot\n",
        "train_store_data.shape, train_store_data.Open.nunique()"
      ],
      "metadata": {
        "colab": {
          "base_uri": "https://localhost:8080/"
        },
        "id": "wj0Rz4IzzXgw",
        "outputId": "4f227706-021b-494c-9129-89619cb6ebc3"
      },
      "execution_count": 472,
      "outputs": [
        {
          "output_type": "execute_result",
          "data": {
            "text/plain": [
              "((844392, 18), 1)"
            ]
          },
          "metadata": {},
          "execution_count": 472
        }
      ]
    },
    {
      "cell_type": "code",
      "source": [
        "train_store_data[\"Date\"] = pd.to_datetime(train_store_data[\"Date\"])\n",
        "train_store_data[\"Year\"] = train_store_data[\"Date\"].dt.year\n",
        "train_store_data[\"Month\"] = train_store_data[\"Date\"].dt.month\n",
        "train_store_data[\"Day\"] = train_store_data[\"Date\"].dt.day"
      ],
      "metadata": {
        "id": "XaUhn0bs0tzv",
        "colab": {
          "base_uri": "https://localhost:8080/"
        },
        "outputId": "4b9d9c0c-3b9d-42a7-891f-ed2b800c9ca5"
      },
      "execution_count": 473,
      "outputs": [
        {
          "output_type": "stream",
          "name": "stderr",
          "text": [
            "<ipython-input-473-dba723925a70>:1: SettingWithCopyWarning: \n",
            "A value is trying to be set on a copy of a slice from a DataFrame.\n",
            "Try using .loc[row_indexer,col_indexer] = value instead\n",
            "\n",
            "See the caveats in the documentation: https://pandas.pydata.org/pandas-docs/stable/user_guide/indexing.html#returning-a-view-versus-a-copy\n",
            "  train_store_data[\"Date\"] = pd.to_datetime(train_store_data[\"Date\"])\n",
            "<ipython-input-473-dba723925a70>:2: SettingWithCopyWarning: \n",
            "A value is trying to be set on a copy of a slice from a DataFrame.\n",
            "Try using .loc[row_indexer,col_indexer] = value instead\n",
            "\n",
            "See the caveats in the documentation: https://pandas.pydata.org/pandas-docs/stable/user_guide/indexing.html#returning-a-view-versus-a-copy\n",
            "  train_store_data[\"Year\"] = train_store_data[\"Date\"].dt.year\n",
            "<ipython-input-473-dba723925a70>:3: SettingWithCopyWarning: \n",
            "A value is trying to be set on a copy of a slice from a DataFrame.\n",
            "Try using .loc[row_indexer,col_indexer] = value instead\n",
            "\n",
            "See the caveats in the documentation: https://pandas.pydata.org/pandas-docs/stable/user_guide/indexing.html#returning-a-view-versus-a-copy\n",
            "  train_store_data[\"Month\"] = train_store_data[\"Date\"].dt.month\n",
            "<ipython-input-473-dba723925a70>:4: SettingWithCopyWarning: \n",
            "A value is trying to be set on a copy of a slice from a DataFrame.\n",
            "Try using .loc[row_indexer,col_indexer] = value instead\n",
            "\n",
            "See the caveats in the documentation: https://pandas.pydata.org/pandas-docs/stable/user_guide/indexing.html#returning-a-view-versus-a-copy\n",
            "  train_store_data[\"Day\"] = train_store_data[\"Date\"].dt.day\n"
          ]
        }
      ]
    },
    {
      "cell_type": "markdown",
      "source": [
        "When store is closed it's obvious that sales going to be zero"
      ],
      "metadata": {
        "id": "P_MSPsME0JV9"
      }
    },
    {
      "cell_type": "code",
      "source": [
        "# Type A\n",
        "drop_cols = ['Date', 'Customers', 'Open', 'Year', 'CompetitionOpenSinceMonth', 'CompetitionOpenSinceYear', 'Promo2SinceWeek']\n",
        "\n",
        "target_cols = ['Sales']\n",
        "\n",
        "binary_cols = ['Open', 'Promo', 'SchoolHoliday', 'Promo2']\n",
        "binary_cols = [col for col in binary_cols if col not in drop_cols + target_cols]\n",
        "\n",
        "categorical_cols = ['DayOfWeek', 'StateHoliday', 'StoreType', 'Assortment', 'PromoInterval',\n",
        "                    'CompetitionOpenSinceMonth', 'CompetitionOpenSinceYear', 'Promo2SinceWeek', 'Promo2SinceYear']\n",
        "categorical_cols = [col for col in categorical_cols if col not in drop_cols + target_cols + binary_cols]\n",
        "\n",
        "# 'CompetitionOpenSinceMonth', 'CompetitionOpenSinceYear', 'Promo2SinceWeek', 'Promo2SinceYear' are float64\n",
        "scalar_cols = ['Store', 'CompetitionDistance', 'Year', 'Month', 'Day']\n",
        "scalar_cols = [col for col in scalar_cols if col not in drop_cols + target_cols + categorical_cols + binary_cols]\n",
        "\n",
        "imputer_cols = ['CompetitionDistance']\n",
        "imputer_cols = [col for col in imputer_cols if col not in drop_cols + target_cols + categorical_cols]"
      ],
      "metadata": {
        "id": "nHkNS-GsroPK"
      },
      "execution_count": 474,
      "outputs": []
    },
    {
      "cell_type": "code",
      "source": [
        "print(binary_cols)\n",
        "print(categorical_cols)\n",
        "print(scalar_cols)\n",
        "print(imputer_cols)"
      ],
      "metadata": {
        "colab": {
          "base_uri": "https://localhost:8080/"
        },
        "id": "3mABLjQ3JaGh",
        "outputId": "7c856500-0d81-4e2e-fcad-ac580c0ffc40"
      },
      "execution_count": 475,
      "outputs": [
        {
          "output_type": "stream",
          "name": "stdout",
          "text": [
            "['Promo', 'SchoolHoliday', 'Promo2']\n",
            "['DayOfWeek', 'StateHoliday', 'StoreType', 'Assortment', 'PromoInterval', 'Promo2SinceYear']\n",
            "['Store', 'CompetitionDistance', 'Month', 'Day']\n",
            "['CompetitionDistance']\n"
          ]
        }
      ]
    },
    {
      "cell_type": "markdown",
      "source": [
        "#### nans & unique"
      ],
      "metadata": {
        "id": "0YV-Yl3yKS_f"
      }
    },
    {
      "cell_type": "code",
      "source": [
        "train_store_data.isna().sum()"
      ],
      "metadata": {
        "colab": {
          "base_uri": "https://localhost:8080/",
          "height": 780
        },
        "id": "H0lQTpUMFhQ_",
        "outputId": "61241c68-291b-4de7-e2e0-e1a08beb284a"
      },
      "execution_count": 476,
      "outputs": [
        {
          "output_type": "execute_result",
          "data": {
            "text/plain": [
              "Store                             0\n",
              "DayOfWeek                         0\n",
              "Date                              0\n",
              "Sales                             0\n",
              "Customers                         0\n",
              "Open                              0\n",
              "Promo                             0\n",
              "StateHoliday                      0\n",
              "SchoolHoliday                     0\n",
              "StoreType                         0\n",
              "Assortment                        0\n",
              "CompetitionDistance            2186\n",
              "CompetitionOpenSinceMonth    268619\n",
              "CompetitionOpenSinceYear     268619\n",
              "Promo2                            0\n",
              "Promo2SinceWeek              423307\n",
              "Promo2SinceYear              423307\n",
              "PromoInterval                423307\n",
              "Year                              0\n",
              "Month                             0\n",
              "Day                               0\n",
              "dtype: int64"
            ],
            "text/html": [
              "<div>\n",
              "<style scoped>\n",
              "    .dataframe tbody tr th:only-of-type {\n",
              "        vertical-align: middle;\n",
              "    }\n",
              "\n",
              "    .dataframe tbody tr th {\n",
              "        vertical-align: top;\n",
              "    }\n",
              "\n",
              "    .dataframe thead th {\n",
              "        text-align: right;\n",
              "    }\n",
              "</style>\n",
              "<table border=\"1\" class=\"dataframe\">\n",
              "  <thead>\n",
              "    <tr style=\"text-align: right;\">\n",
              "      <th></th>\n",
              "      <th>0</th>\n",
              "    </tr>\n",
              "  </thead>\n",
              "  <tbody>\n",
              "    <tr>\n",
              "      <th>Store</th>\n",
              "      <td>0</td>\n",
              "    </tr>\n",
              "    <tr>\n",
              "      <th>DayOfWeek</th>\n",
              "      <td>0</td>\n",
              "    </tr>\n",
              "    <tr>\n",
              "      <th>Date</th>\n",
              "      <td>0</td>\n",
              "    </tr>\n",
              "    <tr>\n",
              "      <th>Sales</th>\n",
              "      <td>0</td>\n",
              "    </tr>\n",
              "    <tr>\n",
              "      <th>Customers</th>\n",
              "      <td>0</td>\n",
              "    </tr>\n",
              "    <tr>\n",
              "      <th>Open</th>\n",
              "      <td>0</td>\n",
              "    </tr>\n",
              "    <tr>\n",
              "      <th>Promo</th>\n",
              "      <td>0</td>\n",
              "    </tr>\n",
              "    <tr>\n",
              "      <th>StateHoliday</th>\n",
              "      <td>0</td>\n",
              "    </tr>\n",
              "    <tr>\n",
              "      <th>SchoolHoliday</th>\n",
              "      <td>0</td>\n",
              "    </tr>\n",
              "    <tr>\n",
              "      <th>StoreType</th>\n",
              "      <td>0</td>\n",
              "    </tr>\n",
              "    <tr>\n",
              "      <th>Assortment</th>\n",
              "      <td>0</td>\n",
              "    </tr>\n",
              "    <tr>\n",
              "      <th>CompetitionDistance</th>\n",
              "      <td>2186</td>\n",
              "    </tr>\n",
              "    <tr>\n",
              "      <th>CompetitionOpenSinceMonth</th>\n",
              "      <td>268619</td>\n",
              "    </tr>\n",
              "    <tr>\n",
              "      <th>CompetitionOpenSinceYear</th>\n",
              "      <td>268619</td>\n",
              "    </tr>\n",
              "    <tr>\n",
              "      <th>Promo2</th>\n",
              "      <td>0</td>\n",
              "    </tr>\n",
              "    <tr>\n",
              "      <th>Promo2SinceWeek</th>\n",
              "      <td>423307</td>\n",
              "    </tr>\n",
              "    <tr>\n",
              "      <th>Promo2SinceYear</th>\n",
              "      <td>423307</td>\n",
              "    </tr>\n",
              "    <tr>\n",
              "      <th>PromoInterval</th>\n",
              "      <td>423307</td>\n",
              "    </tr>\n",
              "    <tr>\n",
              "      <th>Year</th>\n",
              "      <td>0</td>\n",
              "    </tr>\n",
              "    <tr>\n",
              "      <th>Month</th>\n",
              "      <td>0</td>\n",
              "    </tr>\n",
              "    <tr>\n",
              "      <th>Day</th>\n",
              "      <td>0</td>\n",
              "    </tr>\n",
              "  </tbody>\n",
              "</table>\n",
              "</div><br><label><b>dtype:</b> int64</label>"
            ]
          },
          "metadata": {},
          "execution_count": 476
        }
      ]
    },
    {
      "cell_type": "code",
      "source": [
        "train_store_data.nunique()"
      ],
      "metadata": {
        "colab": {
          "base_uri": "https://localhost:8080/",
          "height": 780
        },
        "id": "qKCnu4jSz_uZ",
        "outputId": "1de5d954-dd31-479d-f8fb-567d4f6a902a"
      },
      "execution_count": 477,
      "outputs": [
        {
          "output_type": "execute_result",
          "data": {
            "text/plain": [
              "Store                         1115\n",
              "DayOfWeek                        7\n",
              "Date                           942\n",
              "Sales                        21734\n",
              "Customers                     4086\n",
              "Open                             1\n",
              "Promo                            2\n",
              "StateHoliday                     4\n",
              "SchoolHoliday                    2\n",
              "StoreType                        4\n",
              "Assortment                       3\n",
              "CompetitionDistance            654\n",
              "CompetitionOpenSinceMonth       12\n",
              "CompetitionOpenSinceYear        23\n",
              "Promo2                           2\n",
              "Promo2SinceWeek                 24\n",
              "Promo2SinceYear                  7\n",
              "PromoInterval                    3\n",
              "Year                             3\n",
              "Month                           12\n",
              "Day                             31\n",
              "dtype: int64"
            ],
            "text/html": [
              "<div>\n",
              "<style scoped>\n",
              "    .dataframe tbody tr th:only-of-type {\n",
              "        vertical-align: middle;\n",
              "    }\n",
              "\n",
              "    .dataframe tbody tr th {\n",
              "        vertical-align: top;\n",
              "    }\n",
              "\n",
              "    .dataframe thead th {\n",
              "        text-align: right;\n",
              "    }\n",
              "</style>\n",
              "<table border=\"1\" class=\"dataframe\">\n",
              "  <thead>\n",
              "    <tr style=\"text-align: right;\">\n",
              "      <th></th>\n",
              "      <th>0</th>\n",
              "    </tr>\n",
              "  </thead>\n",
              "  <tbody>\n",
              "    <tr>\n",
              "      <th>Store</th>\n",
              "      <td>1115</td>\n",
              "    </tr>\n",
              "    <tr>\n",
              "      <th>DayOfWeek</th>\n",
              "      <td>7</td>\n",
              "    </tr>\n",
              "    <tr>\n",
              "      <th>Date</th>\n",
              "      <td>942</td>\n",
              "    </tr>\n",
              "    <tr>\n",
              "      <th>Sales</th>\n",
              "      <td>21734</td>\n",
              "    </tr>\n",
              "    <tr>\n",
              "      <th>Customers</th>\n",
              "      <td>4086</td>\n",
              "    </tr>\n",
              "    <tr>\n",
              "      <th>Open</th>\n",
              "      <td>1</td>\n",
              "    </tr>\n",
              "    <tr>\n",
              "      <th>Promo</th>\n",
              "      <td>2</td>\n",
              "    </tr>\n",
              "    <tr>\n",
              "      <th>StateHoliday</th>\n",
              "      <td>4</td>\n",
              "    </tr>\n",
              "    <tr>\n",
              "      <th>SchoolHoliday</th>\n",
              "      <td>2</td>\n",
              "    </tr>\n",
              "    <tr>\n",
              "      <th>StoreType</th>\n",
              "      <td>4</td>\n",
              "    </tr>\n",
              "    <tr>\n",
              "      <th>Assortment</th>\n",
              "      <td>3</td>\n",
              "    </tr>\n",
              "    <tr>\n",
              "      <th>CompetitionDistance</th>\n",
              "      <td>654</td>\n",
              "    </tr>\n",
              "    <tr>\n",
              "      <th>CompetitionOpenSinceMonth</th>\n",
              "      <td>12</td>\n",
              "    </tr>\n",
              "    <tr>\n",
              "      <th>CompetitionOpenSinceYear</th>\n",
              "      <td>23</td>\n",
              "    </tr>\n",
              "    <tr>\n",
              "      <th>Promo2</th>\n",
              "      <td>2</td>\n",
              "    </tr>\n",
              "    <tr>\n",
              "      <th>Promo2SinceWeek</th>\n",
              "      <td>24</td>\n",
              "    </tr>\n",
              "    <tr>\n",
              "      <th>Promo2SinceYear</th>\n",
              "      <td>7</td>\n",
              "    </tr>\n",
              "    <tr>\n",
              "      <th>PromoInterval</th>\n",
              "      <td>3</td>\n",
              "    </tr>\n",
              "    <tr>\n",
              "      <th>Year</th>\n",
              "      <td>3</td>\n",
              "    </tr>\n",
              "    <tr>\n",
              "      <th>Month</th>\n",
              "      <td>12</td>\n",
              "    </tr>\n",
              "    <tr>\n",
              "      <th>Day</th>\n",
              "      <td>31</td>\n",
              "    </tr>\n",
              "  </tbody>\n",
              "</table>\n",
              "</div><br><label><b>dtype:</b> int64</label>"
            ]
          },
          "metadata": {},
          "execution_count": 477
        }
      ]
    },
    {
      "cell_type": "markdown",
      "source": [
        "## Feature Engineering"
      ],
      "metadata": {
        "id": "OJEk1uUvdOC0"
      }
    },
    {
      "cell_type": "markdown",
      "source": [
        "\n",
        "Feature engineer is the process of creating new features (columns) by transforming/combining existing features or by incorporating data from external sources.\n",
        "\n",
        "\n",
        "For example, here are some features that can be extracted from the \"Date\" column:\n",
        "\n",
        "1. Day of week\n",
        "2. Day or month\n",
        "3. Month\n",
        "4. Year\n",
        "5. Weekend/Weekday\n",
        "6. Month/Quarter End"
      ],
      "metadata": {
        "id": "QZuHzYAjMPeX"
      }
    },
    {
      "cell_type": "markdown",
      "source": [
        "\n",
        "\n",
        "Using date information, we can also create new current columns like:\n",
        "\n",
        "1. Weather on each day\n",
        "2. Whether the date was a public holiday\n",
        "3. Whether the store was running a promotion on that day.\n",
        "\n",
        "\n",
        "> **EXERCISE**: Create new columns using the above ideas."
      ],
      "metadata": {
        "id": "aCF_hVtpMUdg"
      }
    },
    {
      "cell_type": "markdown",
      "source": [
        "# **Step 4 - Preprocess Dataset**\n",
        "Create a training/test/validation split and prepare the data for training"
      ],
      "metadata": {
        "id": "JYLjVw0TlNbj"
      }
    },
    {
      "cell_type": "markdown",
      "source": [
        "## Split Train & Val"
      ],
      "metadata": {
        "id": "KvWj7W_TekuG"
      }
    },
    {
      "cell_type": "code",
      "source": [
        "len(train_store_data)"
      ],
      "metadata": {
        "colab": {
          "base_uri": "https://localhost:8080/"
        },
        "id": "Ui6mPbIXOfT_",
        "outputId": "27888341-c301-42cc-fbf2-89ac9ff02c4d"
      },
      "execution_count": 478,
      "outputs": [
        {
          "output_type": "execute_result",
          "data": {
            "text/plain": [
              "844392"
            ]
          },
          "metadata": {},
          "execution_count": 478
        }
      ]
    },
    {
      "cell_type": "code",
      "source": [
        "train_store_data.sort_values(by=\"Date\", inplace=True)\n",
        "print(train_store_data.Date.head(5))\n",
        "print(train_store_data.Date.tail(5))\n",
        "train_inputs = train_store_data.copy()"
      ],
      "metadata": {
        "id": "BpM1coD-eUy-",
        "colab": {
          "base_uri": "https://localhost:8080/"
        },
        "outputId": "87fb0213-6718-4e5a-f2b9-234cc5999dff"
      },
      "execution_count": 479,
      "outputs": [
        {
          "output_type": "stream",
          "name": "stdout",
          "text": [
            "1017190   2013-01-01\n",
            "1016179   2013-01-01\n",
            "1016353   2013-01-01\n",
            "1016356   2013-01-01\n",
            "1016368   2013-01-01\n",
            "Name: Date, dtype: datetime64[ns]\n",
            "744   2015-07-31\n",
            "745   2015-07-31\n",
            "746   2015-07-31\n",
            "740   2015-07-31\n",
            "0     2015-07-31\n",
            "Name: Date, dtype: datetime64[ns]\n"
          ]
        }
      ]
    },
    {
      "cell_type": "code",
      "source": [
        "train_count = (len(train_inputs) // 100) * 75 # get 75% of rows as train data"
      ],
      "metadata": {
        "id": "H9fU-y9AoZNx"
      },
      "execution_count": 480,
      "outputs": []
    },
    {
      "cell_type": "code",
      "source": [
        "Xy_train = train_inputs.iloc[:train_count].copy()\n",
        "Xy_val = train_inputs.iloc[train_count:].copy()"
      ],
      "metadata": {
        "id": "JfhfdzsbfO7e"
      },
      "execution_count": 481,
      "outputs": []
    },
    {
      "cell_type": "code",
      "source": [
        "Xy_train.isna().sum()"
      ],
      "metadata": {
        "colab": {
          "base_uri": "https://localhost:8080/",
          "height": 780
        },
        "id": "kl4dKvXKnshW",
        "outputId": "ec053911-5fdb-4bcf-a9ed-a585fe723399"
      },
      "execution_count": 482,
      "outputs": [
        {
          "output_type": "execute_result",
          "data": {
            "text/plain": [
              "Store                             0\n",
              "DayOfWeek                         0\n",
              "Date                              0\n",
              "Sales                             0\n",
              "Customers                         0\n",
              "Open                              0\n",
              "Promo                             0\n",
              "StateHoliday                      0\n",
              "SchoolHoliday                     0\n",
              "StoreType                         0\n",
              "Assortment                        0\n",
              "CompetitionDistance            1628\n",
              "CompetitionOpenSinceMonth    201494\n",
              "CompetitionOpenSinceYear     201494\n",
              "Promo2                            0\n",
              "Promo2SinceWeek              318791\n",
              "Promo2SinceYear              318791\n",
              "PromoInterval                318791\n",
              "Year                              0\n",
              "Month                             0\n",
              "Day                               0\n",
              "dtype: int64"
            ],
            "text/html": [
              "<div>\n",
              "<style scoped>\n",
              "    .dataframe tbody tr th:only-of-type {\n",
              "        vertical-align: middle;\n",
              "    }\n",
              "\n",
              "    .dataframe tbody tr th {\n",
              "        vertical-align: top;\n",
              "    }\n",
              "\n",
              "    .dataframe thead th {\n",
              "        text-align: right;\n",
              "    }\n",
              "</style>\n",
              "<table border=\"1\" class=\"dataframe\">\n",
              "  <thead>\n",
              "    <tr style=\"text-align: right;\">\n",
              "      <th></th>\n",
              "      <th>0</th>\n",
              "    </tr>\n",
              "  </thead>\n",
              "  <tbody>\n",
              "    <tr>\n",
              "      <th>Store</th>\n",
              "      <td>0</td>\n",
              "    </tr>\n",
              "    <tr>\n",
              "      <th>DayOfWeek</th>\n",
              "      <td>0</td>\n",
              "    </tr>\n",
              "    <tr>\n",
              "      <th>Date</th>\n",
              "      <td>0</td>\n",
              "    </tr>\n",
              "    <tr>\n",
              "      <th>Sales</th>\n",
              "      <td>0</td>\n",
              "    </tr>\n",
              "    <tr>\n",
              "      <th>Customers</th>\n",
              "      <td>0</td>\n",
              "    </tr>\n",
              "    <tr>\n",
              "      <th>Open</th>\n",
              "      <td>0</td>\n",
              "    </tr>\n",
              "    <tr>\n",
              "      <th>Promo</th>\n",
              "      <td>0</td>\n",
              "    </tr>\n",
              "    <tr>\n",
              "      <th>StateHoliday</th>\n",
              "      <td>0</td>\n",
              "    </tr>\n",
              "    <tr>\n",
              "      <th>SchoolHoliday</th>\n",
              "      <td>0</td>\n",
              "    </tr>\n",
              "    <tr>\n",
              "      <th>StoreType</th>\n",
              "      <td>0</td>\n",
              "    </tr>\n",
              "    <tr>\n",
              "      <th>Assortment</th>\n",
              "      <td>0</td>\n",
              "    </tr>\n",
              "    <tr>\n",
              "      <th>CompetitionDistance</th>\n",
              "      <td>1628</td>\n",
              "    </tr>\n",
              "    <tr>\n",
              "      <th>CompetitionOpenSinceMonth</th>\n",
              "      <td>201494</td>\n",
              "    </tr>\n",
              "    <tr>\n",
              "      <th>CompetitionOpenSinceYear</th>\n",
              "      <td>201494</td>\n",
              "    </tr>\n",
              "    <tr>\n",
              "      <th>Promo2</th>\n",
              "      <td>0</td>\n",
              "    </tr>\n",
              "    <tr>\n",
              "      <th>Promo2SinceWeek</th>\n",
              "      <td>318791</td>\n",
              "    </tr>\n",
              "    <tr>\n",
              "      <th>Promo2SinceYear</th>\n",
              "      <td>318791</td>\n",
              "    </tr>\n",
              "    <tr>\n",
              "      <th>PromoInterval</th>\n",
              "      <td>318791</td>\n",
              "    </tr>\n",
              "    <tr>\n",
              "      <th>Year</th>\n",
              "      <td>0</td>\n",
              "    </tr>\n",
              "    <tr>\n",
              "      <th>Month</th>\n",
              "      <td>0</td>\n",
              "    </tr>\n",
              "    <tr>\n",
              "      <th>Day</th>\n",
              "      <td>0</td>\n",
              "    </tr>\n",
              "  </tbody>\n",
              "</table>\n",
              "</div><br><label><b>dtype:</b> int64</label>"
            ]
          },
          "metadata": {},
          "execution_count": 482
        }
      ]
    },
    {
      "cell_type": "code",
      "source": [
        "print(Xy_train.shape)\n",
        "print(Xy_val.shape)"
      ],
      "metadata": {
        "colab": {
          "base_uri": "https://localhost:8080/"
        },
        "id": "eZwcnqQxfRC0",
        "outputId": "5199c5bc-1bce-45a5-b921-2a7319bd579f"
      },
      "execution_count": 483,
      "outputs": [
        {
          "output_type": "stream",
          "name": "stdout",
          "text": [
            "(633225, 21)\n",
            "(211167, 21)\n"
          ]
        }
      ]
    },
    {
      "cell_type": "code",
      "source": [
        "Xy_train.head()"
      ],
      "metadata": {
        "colab": {
          "base_uri": "https://localhost:8080/",
          "height": 255
        },
        "id": "E1WA5ZEchJ4X",
        "outputId": "52e91b14-40c9-4379-c4b5-3d0beadbc4e8"
      },
      "execution_count": 484,
      "outputs": [
        {
          "output_type": "execute_result",
          "data": {
            "text/plain": [
              "         Store  DayOfWeek       Date  Sales  Customers  Open  Promo  \\\n",
              "1017190   1097          2 2013-01-01   5961       1405     1      0   \n",
              "1016179     85          2 2013-01-01   4220        619     1      0   \n",
              "1016353    259          2 2013-01-01   6851       1444     1      0   \n",
              "1016356    262          2 2013-01-01  17267       2875     1      0   \n",
              "1016368    274          2 2013-01-01   3102        729     1      0   \n",
              "\n",
              "        StateHoliday  SchoolHoliday StoreType  ... CompetitionDistance  \\\n",
              "1017190            a              1         b  ...               720.0   \n",
              "1016179            a              1         b  ...              1870.0   \n",
              "1016353            a              1         b  ...               210.0   \n",
              "1016356            a              1         b  ...              1180.0   \n",
              "1016368            a              1         b  ...              3640.0   \n",
              "\n",
              "         CompetitionOpenSinceMonth  CompetitionOpenSinceYear  Promo2  \\\n",
              "1017190                        3.0                    2002.0       0   \n",
              "1016179                       10.0                    2011.0       0   \n",
              "1016353                        NaN                       NaN       0   \n",
              "1016356                        5.0                    2013.0       0   \n",
              "1016368                        NaN                       NaN       1   \n",
              "\n",
              "         Promo2SinceWeek  Promo2SinceYear    PromoInterval  Year  Month  Day  \n",
              "1017190              NaN              NaN              NaN  2013      1    1  \n",
              "1016179              NaN              NaN              NaN  2013      1    1  \n",
              "1016353              NaN              NaN              NaN  2013      1    1  \n",
              "1016356              NaN              NaN              NaN  2013      1    1  \n",
              "1016368             10.0           2013.0  Jan,Apr,Jul,Oct  2013      1    1  \n",
              "\n",
              "[5 rows x 21 columns]"
            ],
            "text/html": [
              "\n",
              "  <div id=\"df-22662091-83ad-43b9-b7f6-d263aadd4d7a\" class=\"colab-df-container\">\n",
              "    <div>\n",
              "<style scoped>\n",
              "    .dataframe tbody tr th:only-of-type {\n",
              "        vertical-align: middle;\n",
              "    }\n",
              "\n",
              "    .dataframe tbody tr th {\n",
              "        vertical-align: top;\n",
              "    }\n",
              "\n",
              "    .dataframe thead th {\n",
              "        text-align: right;\n",
              "    }\n",
              "</style>\n",
              "<table border=\"1\" class=\"dataframe\">\n",
              "  <thead>\n",
              "    <tr style=\"text-align: right;\">\n",
              "      <th></th>\n",
              "      <th>Store</th>\n",
              "      <th>DayOfWeek</th>\n",
              "      <th>Date</th>\n",
              "      <th>Sales</th>\n",
              "      <th>Customers</th>\n",
              "      <th>Open</th>\n",
              "      <th>Promo</th>\n",
              "      <th>StateHoliday</th>\n",
              "      <th>SchoolHoliday</th>\n",
              "      <th>StoreType</th>\n",
              "      <th>...</th>\n",
              "      <th>CompetitionDistance</th>\n",
              "      <th>CompetitionOpenSinceMonth</th>\n",
              "      <th>CompetitionOpenSinceYear</th>\n",
              "      <th>Promo2</th>\n",
              "      <th>Promo2SinceWeek</th>\n",
              "      <th>Promo2SinceYear</th>\n",
              "      <th>PromoInterval</th>\n",
              "      <th>Year</th>\n",
              "      <th>Month</th>\n",
              "      <th>Day</th>\n",
              "    </tr>\n",
              "  </thead>\n",
              "  <tbody>\n",
              "    <tr>\n",
              "      <th>1017190</th>\n",
              "      <td>1097</td>\n",
              "      <td>2</td>\n",
              "      <td>2013-01-01</td>\n",
              "      <td>5961</td>\n",
              "      <td>1405</td>\n",
              "      <td>1</td>\n",
              "      <td>0</td>\n",
              "      <td>a</td>\n",
              "      <td>1</td>\n",
              "      <td>b</td>\n",
              "      <td>...</td>\n",
              "      <td>720.0</td>\n",
              "      <td>3.0</td>\n",
              "      <td>2002.0</td>\n",
              "      <td>0</td>\n",
              "      <td>NaN</td>\n",
              "      <td>NaN</td>\n",
              "      <td>NaN</td>\n",
              "      <td>2013</td>\n",
              "      <td>1</td>\n",
              "      <td>1</td>\n",
              "    </tr>\n",
              "    <tr>\n",
              "      <th>1016179</th>\n",
              "      <td>85</td>\n",
              "      <td>2</td>\n",
              "      <td>2013-01-01</td>\n",
              "      <td>4220</td>\n",
              "      <td>619</td>\n",
              "      <td>1</td>\n",
              "      <td>0</td>\n",
              "      <td>a</td>\n",
              "      <td>1</td>\n",
              "      <td>b</td>\n",
              "      <td>...</td>\n",
              "      <td>1870.0</td>\n",
              "      <td>10.0</td>\n",
              "      <td>2011.0</td>\n",
              "      <td>0</td>\n",
              "      <td>NaN</td>\n",
              "      <td>NaN</td>\n",
              "      <td>NaN</td>\n",
              "      <td>2013</td>\n",
              "      <td>1</td>\n",
              "      <td>1</td>\n",
              "    </tr>\n",
              "    <tr>\n",
              "      <th>1016353</th>\n",
              "      <td>259</td>\n",
              "      <td>2</td>\n",
              "      <td>2013-01-01</td>\n",
              "      <td>6851</td>\n",
              "      <td>1444</td>\n",
              "      <td>1</td>\n",
              "      <td>0</td>\n",
              "      <td>a</td>\n",
              "      <td>1</td>\n",
              "      <td>b</td>\n",
              "      <td>...</td>\n",
              "      <td>210.0</td>\n",
              "      <td>NaN</td>\n",
              "      <td>NaN</td>\n",
              "      <td>0</td>\n",
              "      <td>NaN</td>\n",
              "      <td>NaN</td>\n",
              "      <td>NaN</td>\n",
              "      <td>2013</td>\n",
              "      <td>1</td>\n",
              "      <td>1</td>\n",
              "    </tr>\n",
              "    <tr>\n",
              "      <th>1016356</th>\n",
              "      <td>262</td>\n",
              "      <td>2</td>\n",
              "      <td>2013-01-01</td>\n",
              "      <td>17267</td>\n",
              "      <td>2875</td>\n",
              "      <td>1</td>\n",
              "      <td>0</td>\n",
              "      <td>a</td>\n",
              "      <td>1</td>\n",
              "      <td>b</td>\n",
              "      <td>...</td>\n",
              "      <td>1180.0</td>\n",
              "      <td>5.0</td>\n",
              "      <td>2013.0</td>\n",
              "      <td>0</td>\n",
              "      <td>NaN</td>\n",
              "      <td>NaN</td>\n",
              "      <td>NaN</td>\n",
              "      <td>2013</td>\n",
              "      <td>1</td>\n",
              "      <td>1</td>\n",
              "    </tr>\n",
              "    <tr>\n",
              "      <th>1016368</th>\n",
              "      <td>274</td>\n",
              "      <td>2</td>\n",
              "      <td>2013-01-01</td>\n",
              "      <td>3102</td>\n",
              "      <td>729</td>\n",
              "      <td>1</td>\n",
              "      <td>0</td>\n",
              "      <td>a</td>\n",
              "      <td>1</td>\n",
              "      <td>b</td>\n",
              "      <td>...</td>\n",
              "      <td>3640.0</td>\n",
              "      <td>NaN</td>\n",
              "      <td>NaN</td>\n",
              "      <td>1</td>\n",
              "      <td>10.0</td>\n",
              "      <td>2013.0</td>\n",
              "      <td>Jan,Apr,Jul,Oct</td>\n",
              "      <td>2013</td>\n",
              "      <td>1</td>\n",
              "      <td>1</td>\n",
              "    </tr>\n",
              "  </tbody>\n",
              "</table>\n",
              "<p>5 rows × 21 columns</p>\n",
              "</div>\n",
              "    <div class=\"colab-df-buttons\">\n",
              "\n",
              "  <div class=\"colab-df-container\">\n",
              "    <button class=\"colab-df-convert\" onclick=\"convertToInteractive('df-22662091-83ad-43b9-b7f6-d263aadd4d7a')\"\n",
              "            title=\"Convert this dataframe to an interactive table.\"\n",
              "            style=\"display:none;\">\n",
              "\n",
              "  <svg xmlns=\"http://www.w3.org/2000/svg\" height=\"24px\" viewBox=\"0 -960 960 960\">\n",
              "    <path d=\"M120-120v-720h720v720H120Zm60-500h600v-160H180v160Zm220 220h160v-160H400v160Zm0 220h160v-160H400v160ZM180-400h160v-160H180v160Zm440 0h160v-160H620v160ZM180-180h160v-160H180v160Zm440 0h160v-160H620v160Z\"/>\n",
              "  </svg>\n",
              "    </button>\n",
              "\n",
              "  <style>\n",
              "    .colab-df-container {\n",
              "      display:flex;\n",
              "      gap: 12px;\n",
              "    }\n",
              "\n",
              "    .colab-df-convert {\n",
              "      background-color: #E8F0FE;\n",
              "      border: none;\n",
              "      border-radius: 50%;\n",
              "      cursor: pointer;\n",
              "      display: none;\n",
              "      fill: #1967D2;\n",
              "      height: 32px;\n",
              "      padding: 0 0 0 0;\n",
              "      width: 32px;\n",
              "    }\n",
              "\n",
              "    .colab-df-convert:hover {\n",
              "      background-color: #E2EBFA;\n",
              "      box-shadow: 0px 1px 2px rgba(60, 64, 67, 0.3), 0px 1px 3px 1px rgba(60, 64, 67, 0.15);\n",
              "      fill: #174EA6;\n",
              "    }\n",
              "\n",
              "    .colab-df-buttons div {\n",
              "      margin-bottom: 4px;\n",
              "    }\n",
              "\n",
              "    [theme=dark] .colab-df-convert {\n",
              "      background-color: #3B4455;\n",
              "      fill: #D2E3FC;\n",
              "    }\n",
              "\n",
              "    [theme=dark] .colab-df-convert:hover {\n",
              "      background-color: #434B5C;\n",
              "      box-shadow: 0px 1px 3px 1px rgba(0, 0, 0, 0.15);\n",
              "      filter: drop-shadow(0px 1px 2px rgba(0, 0, 0, 0.3));\n",
              "      fill: #FFFFFF;\n",
              "    }\n",
              "  </style>\n",
              "\n",
              "    <script>\n",
              "      const buttonEl =\n",
              "        document.querySelector('#df-22662091-83ad-43b9-b7f6-d263aadd4d7a button.colab-df-convert');\n",
              "      buttonEl.style.display =\n",
              "        google.colab.kernel.accessAllowed ? 'block' : 'none';\n",
              "\n",
              "      async function convertToInteractive(key) {\n",
              "        const element = document.querySelector('#df-22662091-83ad-43b9-b7f6-d263aadd4d7a');\n",
              "        const dataTable =\n",
              "          await google.colab.kernel.invokeFunction('convertToInteractive',\n",
              "                                                    [key], {});\n",
              "        if (!dataTable) return;\n",
              "\n",
              "        const docLinkHtml = 'Like what you see? Visit the ' +\n",
              "          '<a target=\"_blank\" href=https://colab.research.google.com/notebooks/data_table.ipynb>data table notebook</a>'\n",
              "          + ' to learn more about interactive tables.';\n",
              "        element.innerHTML = '';\n",
              "        dataTable['output_type'] = 'display_data';\n",
              "        await google.colab.output.renderOutput(dataTable, element);\n",
              "        const docLink = document.createElement('div');\n",
              "        docLink.innerHTML = docLinkHtml;\n",
              "        element.appendChild(docLink);\n",
              "      }\n",
              "    </script>\n",
              "  </div>\n",
              "\n",
              "\n",
              "    <div id=\"df-aab6c6d1-1e1c-4d48-bf44-4952c3c37b2b\">\n",
              "      <button class=\"colab-df-quickchart\" onclick=\"quickchart('df-aab6c6d1-1e1c-4d48-bf44-4952c3c37b2b')\"\n",
              "                title=\"Suggest charts\"\n",
              "                style=\"display:none;\">\n",
              "\n",
              "<svg xmlns=\"http://www.w3.org/2000/svg\" height=\"24px\"viewBox=\"0 0 24 24\"\n",
              "     width=\"24px\">\n",
              "    <g>\n",
              "        <path d=\"M19 3H5c-1.1 0-2 .9-2 2v14c0 1.1.9 2 2 2h14c1.1 0 2-.9 2-2V5c0-1.1-.9-2-2-2zM9 17H7v-7h2v7zm4 0h-2V7h2v10zm4 0h-2v-4h2v4z\"/>\n",
              "    </g>\n",
              "</svg>\n",
              "      </button>\n",
              "\n",
              "<style>\n",
              "  .colab-df-quickchart {\n",
              "      --bg-color: #E8F0FE;\n",
              "      --fill-color: #1967D2;\n",
              "      --hover-bg-color: #E2EBFA;\n",
              "      --hover-fill-color: #174EA6;\n",
              "      --disabled-fill-color: #AAA;\n",
              "      --disabled-bg-color: #DDD;\n",
              "  }\n",
              "\n",
              "  [theme=dark] .colab-df-quickchart {\n",
              "      --bg-color: #3B4455;\n",
              "      --fill-color: #D2E3FC;\n",
              "      --hover-bg-color: #434B5C;\n",
              "      --hover-fill-color: #FFFFFF;\n",
              "      --disabled-bg-color: #3B4455;\n",
              "      --disabled-fill-color: #666;\n",
              "  }\n",
              "\n",
              "  .colab-df-quickchart {\n",
              "    background-color: var(--bg-color);\n",
              "    border: none;\n",
              "    border-radius: 50%;\n",
              "    cursor: pointer;\n",
              "    display: none;\n",
              "    fill: var(--fill-color);\n",
              "    height: 32px;\n",
              "    padding: 0;\n",
              "    width: 32px;\n",
              "  }\n",
              "\n",
              "  .colab-df-quickchart:hover {\n",
              "    background-color: var(--hover-bg-color);\n",
              "    box-shadow: 0 1px 2px rgba(60, 64, 67, 0.3), 0 1px 3px 1px rgba(60, 64, 67, 0.15);\n",
              "    fill: var(--button-hover-fill-color);\n",
              "  }\n",
              "\n",
              "  .colab-df-quickchart-complete:disabled,\n",
              "  .colab-df-quickchart-complete:disabled:hover {\n",
              "    background-color: var(--disabled-bg-color);\n",
              "    fill: var(--disabled-fill-color);\n",
              "    box-shadow: none;\n",
              "  }\n",
              "\n",
              "  .colab-df-spinner {\n",
              "    border: 2px solid var(--fill-color);\n",
              "    border-color: transparent;\n",
              "    border-bottom-color: var(--fill-color);\n",
              "    animation:\n",
              "      spin 1s steps(1) infinite;\n",
              "  }\n",
              "\n",
              "  @keyframes spin {\n",
              "    0% {\n",
              "      border-color: transparent;\n",
              "      border-bottom-color: var(--fill-color);\n",
              "      border-left-color: var(--fill-color);\n",
              "    }\n",
              "    20% {\n",
              "      border-color: transparent;\n",
              "      border-left-color: var(--fill-color);\n",
              "      border-top-color: var(--fill-color);\n",
              "    }\n",
              "    30% {\n",
              "      border-color: transparent;\n",
              "      border-left-color: var(--fill-color);\n",
              "      border-top-color: var(--fill-color);\n",
              "      border-right-color: var(--fill-color);\n",
              "    }\n",
              "    40% {\n",
              "      border-color: transparent;\n",
              "      border-right-color: var(--fill-color);\n",
              "      border-top-color: var(--fill-color);\n",
              "    }\n",
              "    60% {\n",
              "      border-color: transparent;\n",
              "      border-right-color: var(--fill-color);\n",
              "    }\n",
              "    80% {\n",
              "      border-color: transparent;\n",
              "      border-right-color: var(--fill-color);\n",
              "      border-bottom-color: var(--fill-color);\n",
              "    }\n",
              "    90% {\n",
              "      border-color: transparent;\n",
              "      border-bottom-color: var(--fill-color);\n",
              "    }\n",
              "  }\n",
              "</style>\n",
              "\n",
              "      <script>\n",
              "        async function quickchart(key) {\n",
              "          const quickchartButtonEl =\n",
              "            document.querySelector('#' + key + ' button');\n",
              "          quickchartButtonEl.disabled = true;  // To prevent multiple clicks.\n",
              "          quickchartButtonEl.classList.add('colab-df-spinner');\n",
              "          try {\n",
              "            const charts = await google.colab.kernel.invokeFunction(\n",
              "                'suggestCharts', [key], {});\n",
              "          } catch (error) {\n",
              "            console.error('Error during call to suggestCharts:', error);\n",
              "          }\n",
              "          quickchartButtonEl.classList.remove('colab-df-spinner');\n",
              "          quickchartButtonEl.classList.add('colab-df-quickchart-complete');\n",
              "        }\n",
              "        (() => {\n",
              "          let quickchartButtonEl =\n",
              "            document.querySelector('#df-aab6c6d1-1e1c-4d48-bf44-4952c3c37b2b button');\n",
              "          quickchartButtonEl.style.display =\n",
              "            google.colab.kernel.accessAllowed ? 'block' : 'none';\n",
              "        })();\n",
              "      </script>\n",
              "    </div>\n",
              "    </div>\n",
              "  </div>\n"
            ],
            "application/vnd.google.colaboratory.intrinsic+json": {
              "type": "dataframe",
              "variable_name": "Xy_train"
            }
          },
          "metadata": {},
          "execution_count": 484
        }
      ]
    },
    {
      "cell_type": "markdown",
      "source": [
        "## Imputer"
      ],
      "metadata": {
        "id": "BHiZ4d--oj6u"
      }
    },
    {
      "cell_type": "code",
      "source": [
        "imputer = SimpleImputer(strategy=\"mean\")\n",
        "\n",
        "imputer.fit(Xy_train[imputer_cols])"
      ],
      "metadata": {
        "colab": {
          "base_uri": "https://localhost:8080/",
          "height": 109
        },
        "id": "D3b-fWzVooIF",
        "outputId": "2fb488ad-9a8c-4584-f27d-67d681e3e6a0"
      },
      "execution_count": 485,
      "outputs": [
        {
          "output_type": "execute_result",
          "data": {
            "text/plain": [
              "SimpleImputer()"
            ],
            "text/html": [
              "<style>#sk-container-id-10 {\n",
              "  /* Definition of color scheme common for light and dark mode */\n",
              "  --sklearn-color-text: #000;\n",
              "  --sklearn-color-text-muted: #666;\n",
              "  --sklearn-color-line: gray;\n",
              "  /* Definition of color scheme for unfitted estimators */\n",
              "  --sklearn-color-unfitted-level-0: #fff5e6;\n",
              "  --sklearn-color-unfitted-level-1: #f6e4d2;\n",
              "  --sklearn-color-unfitted-level-2: #ffe0b3;\n",
              "  --sklearn-color-unfitted-level-3: chocolate;\n",
              "  /* Definition of color scheme for fitted estimators */\n",
              "  --sklearn-color-fitted-level-0: #f0f8ff;\n",
              "  --sklearn-color-fitted-level-1: #d4ebff;\n",
              "  --sklearn-color-fitted-level-2: #b3dbfd;\n",
              "  --sklearn-color-fitted-level-3: cornflowerblue;\n",
              "\n",
              "  /* Specific color for light theme */\n",
              "  --sklearn-color-text-on-default-background: var(--sg-text-color, var(--theme-code-foreground, var(--jp-content-font-color1, black)));\n",
              "  --sklearn-color-background: var(--sg-background-color, var(--theme-background, var(--jp-layout-color0, white)));\n",
              "  --sklearn-color-border-box: var(--sg-text-color, var(--theme-code-foreground, var(--jp-content-font-color1, black)));\n",
              "  --sklearn-color-icon: #696969;\n",
              "\n",
              "  @media (prefers-color-scheme: dark) {\n",
              "    /* Redefinition of color scheme for dark theme */\n",
              "    --sklearn-color-text-on-default-background: var(--sg-text-color, var(--theme-code-foreground, var(--jp-content-font-color1, white)));\n",
              "    --sklearn-color-background: var(--sg-background-color, var(--theme-background, var(--jp-layout-color0, #111)));\n",
              "    --sklearn-color-border-box: var(--sg-text-color, var(--theme-code-foreground, var(--jp-content-font-color1, white)));\n",
              "    --sklearn-color-icon: #878787;\n",
              "  }\n",
              "}\n",
              "\n",
              "#sk-container-id-10 {\n",
              "  color: var(--sklearn-color-text);\n",
              "}\n",
              "\n",
              "#sk-container-id-10 pre {\n",
              "  padding: 0;\n",
              "}\n",
              "\n",
              "#sk-container-id-10 input.sk-hidden--visually {\n",
              "  border: 0;\n",
              "  clip: rect(1px 1px 1px 1px);\n",
              "  clip: rect(1px, 1px, 1px, 1px);\n",
              "  height: 1px;\n",
              "  margin: -1px;\n",
              "  overflow: hidden;\n",
              "  padding: 0;\n",
              "  position: absolute;\n",
              "  width: 1px;\n",
              "}\n",
              "\n",
              "#sk-container-id-10 div.sk-dashed-wrapped {\n",
              "  border: 1px dashed var(--sklearn-color-line);\n",
              "  margin: 0 0.4em 0.5em 0.4em;\n",
              "  box-sizing: border-box;\n",
              "  padding-bottom: 0.4em;\n",
              "  background-color: var(--sklearn-color-background);\n",
              "}\n",
              "\n",
              "#sk-container-id-10 div.sk-container {\n",
              "  /* jupyter's `normalize.less` sets `[hidden] { display: none; }`\n",
              "     but bootstrap.min.css set `[hidden] { display: none !important; }`\n",
              "     so we also need the `!important` here to be able to override the\n",
              "     default hidden behavior on the sphinx rendered scikit-learn.org.\n",
              "     See: https://github.com/scikit-learn/scikit-learn/issues/21755 */\n",
              "  display: inline-block !important;\n",
              "  position: relative;\n",
              "}\n",
              "\n",
              "#sk-container-id-10 div.sk-text-repr-fallback {\n",
              "  display: none;\n",
              "}\n",
              "\n",
              "div.sk-parallel-item,\n",
              "div.sk-serial,\n",
              "div.sk-item {\n",
              "  /* draw centered vertical line to link estimators */\n",
              "  background-image: linear-gradient(var(--sklearn-color-text-on-default-background), var(--sklearn-color-text-on-default-background));\n",
              "  background-size: 2px 100%;\n",
              "  background-repeat: no-repeat;\n",
              "  background-position: center center;\n",
              "}\n",
              "\n",
              "/* Parallel-specific style estimator block */\n",
              "\n",
              "#sk-container-id-10 div.sk-parallel-item::after {\n",
              "  content: \"\";\n",
              "  width: 100%;\n",
              "  border-bottom: 2px solid var(--sklearn-color-text-on-default-background);\n",
              "  flex-grow: 1;\n",
              "}\n",
              "\n",
              "#sk-container-id-10 div.sk-parallel {\n",
              "  display: flex;\n",
              "  align-items: stretch;\n",
              "  justify-content: center;\n",
              "  background-color: var(--sklearn-color-background);\n",
              "  position: relative;\n",
              "}\n",
              "\n",
              "#sk-container-id-10 div.sk-parallel-item {\n",
              "  display: flex;\n",
              "  flex-direction: column;\n",
              "}\n",
              "\n",
              "#sk-container-id-10 div.sk-parallel-item:first-child::after {\n",
              "  align-self: flex-end;\n",
              "  width: 50%;\n",
              "}\n",
              "\n",
              "#sk-container-id-10 div.sk-parallel-item:last-child::after {\n",
              "  align-self: flex-start;\n",
              "  width: 50%;\n",
              "}\n",
              "\n",
              "#sk-container-id-10 div.sk-parallel-item:only-child::after {\n",
              "  width: 0;\n",
              "}\n",
              "\n",
              "/* Serial-specific style estimator block */\n",
              "\n",
              "#sk-container-id-10 div.sk-serial {\n",
              "  display: flex;\n",
              "  flex-direction: column;\n",
              "  align-items: center;\n",
              "  background-color: var(--sklearn-color-background);\n",
              "  padding-right: 1em;\n",
              "  padding-left: 1em;\n",
              "}\n",
              "\n",
              "\n",
              "/* Toggleable style: style used for estimator/Pipeline/ColumnTransformer box that is\n",
              "clickable and can be expanded/collapsed.\n",
              "- Pipeline and ColumnTransformer use this feature and define the default style\n",
              "- Estimators will overwrite some part of the style using the `sk-estimator` class\n",
              "*/\n",
              "\n",
              "/* Pipeline and ColumnTransformer style (default) */\n",
              "\n",
              "#sk-container-id-10 div.sk-toggleable {\n",
              "  /* Default theme specific background. It is overwritten whether we have a\n",
              "  specific estimator or a Pipeline/ColumnTransformer */\n",
              "  background-color: var(--sklearn-color-background);\n",
              "}\n",
              "\n",
              "/* Toggleable label */\n",
              "#sk-container-id-10 label.sk-toggleable__label {\n",
              "  cursor: pointer;\n",
              "  display: flex;\n",
              "  width: 100%;\n",
              "  margin-bottom: 0;\n",
              "  padding: 0.5em;\n",
              "  box-sizing: border-box;\n",
              "  text-align: center;\n",
              "  align-items: start;\n",
              "  justify-content: space-between;\n",
              "  gap: 0.5em;\n",
              "}\n",
              "\n",
              "#sk-container-id-10 label.sk-toggleable__label .caption {\n",
              "  font-size: 0.6rem;\n",
              "  font-weight: lighter;\n",
              "  color: var(--sklearn-color-text-muted);\n",
              "}\n",
              "\n",
              "#sk-container-id-10 label.sk-toggleable__label-arrow:before {\n",
              "  /* Arrow on the left of the label */\n",
              "  content: \"▸\";\n",
              "  float: left;\n",
              "  margin-right: 0.25em;\n",
              "  color: var(--sklearn-color-icon);\n",
              "}\n",
              "\n",
              "#sk-container-id-10 label.sk-toggleable__label-arrow:hover:before {\n",
              "  color: var(--sklearn-color-text);\n",
              "}\n",
              "\n",
              "/* Toggleable content - dropdown */\n",
              "\n",
              "#sk-container-id-10 div.sk-toggleable__content {\n",
              "  max-height: 0;\n",
              "  max-width: 0;\n",
              "  overflow: hidden;\n",
              "  text-align: left;\n",
              "  /* unfitted */\n",
              "  background-color: var(--sklearn-color-unfitted-level-0);\n",
              "}\n",
              "\n",
              "#sk-container-id-10 div.sk-toggleable__content.fitted {\n",
              "  /* fitted */\n",
              "  background-color: var(--sklearn-color-fitted-level-0);\n",
              "}\n",
              "\n",
              "#sk-container-id-10 div.sk-toggleable__content pre {\n",
              "  margin: 0.2em;\n",
              "  border-radius: 0.25em;\n",
              "  color: var(--sklearn-color-text);\n",
              "  /* unfitted */\n",
              "  background-color: var(--sklearn-color-unfitted-level-0);\n",
              "}\n",
              "\n",
              "#sk-container-id-10 div.sk-toggleable__content.fitted pre {\n",
              "  /* unfitted */\n",
              "  background-color: var(--sklearn-color-fitted-level-0);\n",
              "}\n",
              "\n",
              "#sk-container-id-10 input.sk-toggleable__control:checked~div.sk-toggleable__content {\n",
              "  /* Expand drop-down */\n",
              "  max-height: 200px;\n",
              "  max-width: 100%;\n",
              "  overflow: auto;\n",
              "}\n",
              "\n",
              "#sk-container-id-10 input.sk-toggleable__control:checked~label.sk-toggleable__label-arrow:before {\n",
              "  content: \"▾\";\n",
              "}\n",
              "\n",
              "/* Pipeline/ColumnTransformer-specific style */\n",
              "\n",
              "#sk-container-id-10 div.sk-label input.sk-toggleable__control:checked~label.sk-toggleable__label {\n",
              "  color: var(--sklearn-color-text);\n",
              "  background-color: var(--sklearn-color-unfitted-level-2);\n",
              "}\n",
              "\n",
              "#sk-container-id-10 div.sk-label.fitted input.sk-toggleable__control:checked~label.sk-toggleable__label {\n",
              "  background-color: var(--sklearn-color-fitted-level-2);\n",
              "}\n",
              "\n",
              "/* Estimator-specific style */\n",
              "\n",
              "/* Colorize estimator box */\n",
              "#sk-container-id-10 div.sk-estimator input.sk-toggleable__control:checked~label.sk-toggleable__label {\n",
              "  /* unfitted */\n",
              "  background-color: var(--sklearn-color-unfitted-level-2);\n",
              "}\n",
              "\n",
              "#sk-container-id-10 div.sk-estimator.fitted input.sk-toggleable__control:checked~label.sk-toggleable__label {\n",
              "  /* fitted */\n",
              "  background-color: var(--sklearn-color-fitted-level-2);\n",
              "}\n",
              "\n",
              "#sk-container-id-10 div.sk-label label.sk-toggleable__label,\n",
              "#sk-container-id-10 div.sk-label label {\n",
              "  /* The background is the default theme color */\n",
              "  color: var(--sklearn-color-text-on-default-background);\n",
              "}\n",
              "\n",
              "/* On hover, darken the color of the background */\n",
              "#sk-container-id-10 div.sk-label:hover label.sk-toggleable__label {\n",
              "  color: var(--sklearn-color-text);\n",
              "  background-color: var(--sklearn-color-unfitted-level-2);\n",
              "}\n",
              "\n",
              "/* Label box, darken color on hover, fitted */\n",
              "#sk-container-id-10 div.sk-label.fitted:hover label.sk-toggleable__label.fitted {\n",
              "  color: var(--sklearn-color-text);\n",
              "  background-color: var(--sklearn-color-fitted-level-2);\n",
              "}\n",
              "\n",
              "/* Estimator label */\n",
              "\n",
              "#sk-container-id-10 div.sk-label label {\n",
              "  font-family: monospace;\n",
              "  font-weight: bold;\n",
              "  display: inline-block;\n",
              "  line-height: 1.2em;\n",
              "}\n",
              "\n",
              "#sk-container-id-10 div.sk-label-container {\n",
              "  text-align: center;\n",
              "}\n",
              "\n",
              "/* Estimator-specific */\n",
              "#sk-container-id-10 div.sk-estimator {\n",
              "  font-family: monospace;\n",
              "  border: 1px dotted var(--sklearn-color-border-box);\n",
              "  border-radius: 0.25em;\n",
              "  box-sizing: border-box;\n",
              "  margin-bottom: 0.5em;\n",
              "  /* unfitted */\n",
              "  background-color: var(--sklearn-color-unfitted-level-0);\n",
              "}\n",
              "\n",
              "#sk-container-id-10 div.sk-estimator.fitted {\n",
              "  /* fitted */\n",
              "  background-color: var(--sklearn-color-fitted-level-0);\n",
              "}\n",
              "\n",
              "/* on hover */\n",
              "#sk-container-id-10 div.sk-estimator:hover {\n",
              "  /* unfitted */\n",
              "  background-color: var(--sklearn-color-unfitted-level-2);\n",
              "}\n",
              "\n",
              "#sk-container-id-10 div.sk-estimator.fitted:hover {\n",
              "  /* fitted */\n",
              "  background-color: var(--sklearn-color-fitted-level-2);\n",
              "}\n",
              "\n",
              "/* Specification for estimator info (e.g. \"i\" and \"?\") */\n",
              "\n",
              "/* Common style for \"i\" and \"?\" */\n",
              "\n",
              ".sk-estimator-doc-link,\n",
              "a:link.sk-estimator-doc-link,\n",
              "a:visited.sk-estimator-doc-link {\n",
              "  float: right;\n",
              "  font-size: smaller;\n",
              "  line-height: 1em;\n",
              "  font-family: monospace;\n",
              "  background-color: var(--sklearn-color-background);\n",
              "  border-radius: 1em;\n",
              "  height: 1em;\n",
              "  width: 1em;\n",
              "  text-decoration: none !important;\n",
              "  margin-left: 0.5em;\n",
              "  text-align: center;\n",
              "  /* unfitted */\n",
              "  border: var(--sklearn-color-unfitted-level-1) 1pt solid;\n",
              "  color: var(--sklearn-color-unfitted-level-1);\n",
              "}\n",
              "\n",
              ".sk-estimator-doc-link.fitted,\n",
              "a:link.sk-estimator-doc-link.fitted,\n",
              "a:visited.sk-estimator-doc-link.fitted {\n",
              "  /* fitted */\n",
              "  border: var(--sklearn-color-fitted-level-1) 1pt solid;\n",
              "  color: var(--sklearn-color-fitted-level-1);\n",
              "}\n",
              "\n",
              "/* On hover */\n",
              "div.sk-estimator:hover .sk-estimator-doc-link:hover,\n",
              ".sk-estimator-doc-link:hover,\n",
              "div.sk-label-container:hover .sk-estimator-doc-link:hover,\n",
              ".sk-estimator-doc-link:hover {\n",
              "  /* unfitted */\n",
              "  background-color: var(--sklearn-color-unfitted-level-3);\n",
              "  color: var(--sklearn-color-background);\n",
              "  text-decoration: none;\n",
              "}\n",
              "\n",
              "div.sk-estimator.fitted:hover .sk-estimator-doc-link.fitted:hover,\n",
              ".sk-estimator-doc-link.fitted:hover,\n",
              "div.sk-label-container:hover .sk-estimator-doc-link.fitted:hover,\n",
              ".sk-estimator-doc-link.fitted:hover {\n",
              "  /* fitted */\n",
              "  background-color: var(--sklearn-color-fitted-level-3);\n",
              "  color: var(--sklearn-color-background);\n",
              "  text-decoration: none;\n",
              "}\n",
              "\n",
              "/* Span, style for the box shown on hovering the info icon */\n",
              ".sk-estimator-doc-link span {\n",
              "  display: none;\n",
              "  z-index: 9999;\n",
              "  position: relative;\n",
              "  font-weight: normal;\n",
              "  right: .2ex;\n",
              "  padding: .5ex;\n",
              "  margin: .5ex;\n",
              "  width: min-content;\n",
              "  min-width: 20ex;\n",
              "  max-width: 50ex;\n",
              "  color: var(--sklearn-color-text);\n",
              "  box-shadow: 2pt 2pt 4pt #999;\n",
              "  /* unfitted */\n",
              "  background: var(--sklearn-color-unfitted-level-0);\n",
              "  border: .5pt solid var(--sklearn-color-unfitted-level-3);\n",
              "}\n",
              "\n",
              ".sk-estimator-doc-link.fitted span {\n",
              "  /* fitted */\n",
              "  background: var(--sklearn-color-fitted-level-0);\n",
              "  border: var(--sklearn-color-fitted-level-3);\n",
              "}\n",
              "\n",
              ".sk-estimator-doc-link:hover span {\n",
              "  display: block;\n",
              "}\n",
              "\n",
              "/* \"?\"-specific style due to the `<a>` HTML tag */\n",
              "\n",
              "#sk-container-id-10 a.estimator_doc_link {\n",
              "  float: right;\n",
              "  font-size: 1rem;\n",
              "  line-height: 1em;\n",
              "  font-family: monospace;\n",
              "  background-color: var(--sklearn-color-background);\n",
              "  border-radius: 1rem;\n",
              "  height: 1rem;\n",
              "  width: 1rem;\n",
              "  text-decoration: none;\n",
              "  /* unfitted */\n",
              "  color: var(--sklearn-color-unfitted-level-1);\n",
              "  border: var(--sklearn-color-unfitted-level-1) 1pt solid;\n",
              "}\n",
              "\n",
              "#sk-container-id-10 a.estimator_doc_link.fitted {\n",
              "  /* fitted */\n",
              "  border: var(--sklearn-color-fitted-level-1) 1pt solid;\n",
              "  color: var(--sklearn-color-fitted-level-1);\n",
              "}\n",
              "\n",
              "/* On hover */\n",
              "#sk-container-id-10 a.estimator_doc_link:hover {\n",
              "  /* unfitted */\n",
              "  background-color: var(--sklearn-color-unfitted-level-3);\n",
              "  color: var(--sklearn-color-background);\n",
              "  text-decoration: none;\n",
              "}\n",
              "\n",
              "#sk-container-id-10 a.estimator_doc_link.fitted:hover {\n",
              "  /* fitted */\n",
              "  background-color: var(--sklearn-color-fitted-level-3);\n",
              "}\n",
              "</style><div id=\"sk-container-id-10\" class=\"sk-top-container\"><div class=\"sk-text-repr-fallback\"><pre>SimpleImputer()</pre><b>In a Jupyter environment, please rerun this cell to show the HTML representation or trust the notebook. <br />On GitHub, the HTML representation is unable to render, please try loading this page with nbviewer.org.</b></div><div class=\"sk-container\" hidden><div class=\"sk-item\"><div class=\"sk-estimator fitted sk-toggleable\"><input class=\"sk-toggleable__control sk-hidden--visually\" id=\"sk-estimator-id-10\" type=\"checkbox\" checked><label for=\"sk-estimator-id-10\" class=\"sk-toggleable__label fitted sk-toggleable__label-arrow\"><div><div>SimpleImputer</div></div><div><a class=\"sk-estimator-doc-link fitted\" rel=\"noreferrer\" target=\"_blank\" href=\"https://scikit-learn.org/1.6/modules/generated/sklearn.impute.SimpleImputer.html\">?<span>Documentation for SimpleImputer</span></a><span class=\"sk-estimator-doc-link fitted\">i<span>Fitted</span></span></div></label><div class=\"sk-toggleable__content fitted\"><pre>SimpleImputer()</pre></div> </div></div></div></div>"
            ]
          },
          "metadata": {},
          "execution_count": 485
        }
      ]
    },
    {
      "cell_type": "code",
      "source": [
        "Xy_train[imputer_cols] = imputer.transform(Xy_train[imputer_cols])\n",
        "Xy_val[imputer_cols] = imputer.transform(Xy_val[imputer_cols])"
      ],
      "metadata": {
        "id": "De4qPtcHpDy5"
      },
      "execution_count": 486,
      "outputs": []
    },
    {
      "cell_type": "code",
      "source": [
        "Xy_train.isna().sum()"
      ],
      "metadata": {
        "colab": {
          "base_uri": "https://localhost:8080/",
          "height": 780
        },
        "id": "PhzzQbHcp1Fc",
        "outputId": "a0721318-9cae-4cad-f81f-e4741d1f3f14"
      },
      "execution_count": 487,
      "outputs": [
        {
          "output_type": "execute_result",
          "data": {
            "text/plain": [
              "Store                             0\n",
              "DayOfWeek                         0\n",
              "Date                              0\n",
              "Sales                             0\n",
              "Customers                         0\n",
              "Open                              0\n",
              "Promo                             0\n",
              "StateHoliday                      0\n",
              "SchoolHoliday                     0\n",
              "StoreType                         0\n",
              "Assortment                        0\n",
              "CompetitionDistance               0\n",
              "CompetitionOpenSinceMonth    201494\n",
              "CompetitionOpenSinceYear     201494\n",
              "Promo2                            0\n",
              "Promo2SinceWeek              318791\n",
              "Promo2SinceYear              318791\n",
              "PromoInterval                318791\n",
              "Year                              0\n",
              "Month                             0\n",
              "Day                               0\n",
              "dtype: int64"
            ],
            "text/html": [
              "<div>\n",
              "<style scoped>\n",
              "    .dataframe tbody tr th:only-of-type {\n",
              "        vertical-align: middle;\n",
              "    }\n",
              "\n",
              "    .dataframe tbody tr th {\n",
              "        vertical-align: top;\n",
              "    }\n",
              "\n",
              "    .dataframe thead th {\n",
              "        text-align: right;\n",
              "    }\n",
              "</style>\n",
              "<table border=\"1\" class=\"dataframe\">\n",
              "  <thead>\n",
              "    <tr style=\"text-align: right;\">\n",
              "      <th></th>\n",
              "      <th>0</th>\n",
              "    </tr>\n",
              "  </thead>\n",
              "  <tbody>\n",
              "    <tr>\n",
              "      <th>Store</th>\n",
              "      <td>0</td>\n",
              "    </tr>\n",
              "    <tr>\n",
              "      <th>DayOfWeek</th>\n",
              "      <td>0</td>\n",
              "    </tr>\n",
              "    <tr>\n",
              "      <th>Date</th>\n",
              "      <td>0</td>\n",
              "    </tr>\n",
              "    <tr>\n",
              "      <th>Sales</th>\n",
              "      <td>0</td>\n",
              "    </tr>\n",
              "    <tr>\n",
              "      <th>Customers</th>\n",
              "      <td>0</td>\n",
              "    </tr>\n",
              "    <tr>\n",
              "      <th>Open</th>\n",
              "      <td>0</td>\n",
              "    </tr>\n",
              "    <tr>\n",
              "      <th>Promo</th>\n",
              "      <td>0</td>\n",
              "    </tr>\n",
              "    <tr>\n",
              "      <th>StateHoliday</th>\n",
              "      <td>0</td>\n",
              "    </tr>\n",
              "    <tr>\n",
              "      <th>SchoolHoliday</th>\n",
              "      <td>0</td>\n",
              "    </tr>\n",
              "    <tr>\n",
              "      <th>StoreType</th>\n",
              "      <td>0</td>\n",
              "    </tr>\n",
              "    <tr>\n",
              "      <th>Assortment</th>\n",
              "      <td>0</td>\n",
              "    </tr>\n",
              "    <tr>\n",
              "      <th>CompetitionDistance</th>\n",
              "      <td>0</td>\n",
              "    </tr>\n",
              "    <tr>\n",
              "      <th>CompetitionOpenSinceMonth</th>\n",
              "      <td>201494</td>\n",
              "    </tr>\n",
              "    <tr>\n",
              "      <th>CompetitionOpenSinceYear</th>\n",
              "      <td>201494</td>\n",
              "    </tr>\n",
              "    <tr>\n",
              "      <th>Promo2</th>\n",
              "      <td>0</td>\n",
              "    </tr>\n",
              "    <tr>\n",
              "      <th>Promo2SinceWeek</th>\n",
              "      <td>318791</td>\n",
              "    </tr>\n",
              "    <tr>\n",
              "      <th>Promo2SinceYear</th>\n",
              "      <td>318791</td>\n",
              "    </tr>\n",
              "    <tr>\n",
              "      <th>PromoInterval</th>\n",
              "      <td>318791</td>\n",
              "    </tr>\n",
              "    <tr>\n",
              "      <th>Year</th>\n",
              "      <td>0</td>\n",
              "    </tr>\n",
              "    <tr>\n",
              "      <th>Month</th>\n",
              "      <td>0</td>\n",
              "    </tr>\n",
              "    <tr>\n",
              "      <th>Day</th>\n",
              "      <td>0</td>\n",
              "    </tr>\n",
              "  </tbody>\n",
              "</table>\n",
              "</div><br><label><b>dtype:</b> int64</label>"
            ]
          },
          "metadata": {},
          "execution_count": 487
        }
      ]
    },
    {
      "cell_type": "markdown",
      "source": [
        "## One Hot Encoding"
      ],
      "metadata": {
        "id": "uXM-YHVklWUx"
      }
    },
    {
      "cell_type": "code",
      "source": [
        "# Before encoding replace np.nan with string\n",
        "Xy_train[categorical_cols] = Xy_train[categorical_cols].astype(str).replace(\"NaN\", \"Missing\").replace(\"nan\", \"Missing\")\n",
        "Xy_val[categorical_cols] = Xy_val[categorical_cols].astype(str).replace(\"NaN\", \"Missing\").replace(\"nan\", \"Missing\")"
      ],
      "metadata": {
        "id": "lg3XDlYDHBWQ"
      },
      "execution_count": 488,
      "outputs": []
    },
    {
      "cell_type": "code",
      "source": [
        "encoder = OneHotEncoder(sparse_output=False, handle_unknown='ignore')\n",
        "encoder.fit(Xy_train[categorical_cols])"
      ],
      "metadata": {
        "colab": {
          "base_uri": "https://localhost:8080/",
          "height": 100
        },
        "id": "ZqJAA9aAlTeA",
        "outputId": "42bda870-8018-4b44-a2c4-8df51cbfe9e9"
      },
      "execution_count": 489,
      "outputs": [
        {
          "output_type": "execute_result",
          "data": {
            "text/plain": [
              "OneHotEncoder(handle_unknown='ignore', sparse_output=False)"
            ],
            "text/html": [
              "<style>#sk-container-id-11 {\n",
              "  /* Definition of color scheme common for light and dark mode */\n",
              "  --sklearn-color-text: #000;\n",
              "  --sklearn-color-text-muted: #666;\n",
              "  --sklearn-color-line: gray;\n",
              "  /* Definition of color scheme for unfitted estimators */\n",
              "  --sklearn-color-unfitted-level-0: #fff5e6;\n",
              "  --sklearn-color-unfitted-level-1: #f6e4d2;\n",
              "  --sklearn-color-unfitted-level-2: #ffe0b3;\n",
              "  --sklearn-color-unfitted-level-3: chocolate;\n",
              "  /* Definition of color scheme for fitted estimators */\n",
              "  --sklearn-color-fitted-level-0: #f0f8ff;\n",
              "  --sklearn-color-fitted-level-1: #d4ebff;\n",
              "  --sklearn-color-fitted-level-2: #b3dbfd;\n",
              "  --sklearn-color-fitted-level-3: cornflowerblue;\n",
              "\n",
              "  /* Specific color for light theme */\n",
              "  --sklearn-color-text-on-default-background: var(--sg-text-color, var(--theme-code-foreground, var(--jp-content-font-color1, black)));\n",
              "  --sklearn-color-background: var(--sg-background-color, var(--theme-background, var(--jp-layout-color0, white)));\n",
              "  --sklearn-color-border-box: var(--sg-text-color, var(--theme-code-foreground, var(--jp-content-font-color1, black)));\n",
              "  --sklearn-color-icon: #696969;\n",
              "\n",
              "  @media (prefers-color-scheme: dark) {\n",
              "    /* Redefinition of color scheme for dark theme */\n",
              "    --sklearn-color-text-on-default-background: var(--sg-text-color, var(--theme-code-foreground, var(--jp-content-font-color1, white)));\n",
              "    --sklearn-color-background: var(--sg-background-color, var(--theme-background, var(--jp-layout-color0, #111)));\n",
              "    --sklearn-color-border-box: var(--sg-text-color, var(--theme-code-foreground, var(--jp-content-font-color1, white)));\n",
              "    --sklearn-color-icon: #878787;\n",
              "  }\n",
              "}\n",
              "\n",
              "#sk-container-id-11 {\n",
              "  color: var(--sklearn-color-text);\n",
              "}\n",
              "\n",
              "#sk-container-id-11 pre {\n",
              "  padding: 0;\n",
              "}\n",
              "\n",
              "#sk-container-id-11 input.sk-hidden--visually {\n",
              "  border: 0;\n",
              "  clip: rect(1px 1px 1px 1px);\n",
              "  clip: rect(1px, 1px, 1px, 1px);\n",
              "  height: 1px;\n",
              "  margin: -1px;\n",
              "  overflow: hidden;\n",
              "  padding: 0;\n",
              "  position: absolute;\n",
              "  width: 1px;\n",
              "}\n",
              "\n",
              "#sk-container-id-11 div.sk-dashed-wrapped {\n",
              "  border: 1px dashed var(--sklearn-color-line);\n",
              "  margin: 0 0.4em 0.5em 0.4em;\n",
              "  box-sizing: border-box;\n",
              "  padding-bottom: 0.4em;\n",
              "  background-color: var(--sklearn-color-background);\n",
              "}\n",
              "\n",
              "#sk-container-id-11 div.sk-container {\n",
              "  /* jupyter's `normalize.less` sets `[hidden] { display: none; }`\n",
              "     but bootstrap.min.css set `[hidden] { display: none !important; }`\n",
              "     so we also need the `!important` here to be able to override the\n",
              "     default hidden behavior on the sphinx rendered scikit-learn.org.\n",
              "     See: https://github.com/scikit-learn/scikit-learn/issues/21755 */\n",
              "  display: inline-block !important;\n",
              "  position: relative;\n",
              "}\n",
              "\n",
              "#sk-container-id-11 div.sk-text-repr-fallback {\n",
              "  display: none;\n",
              "}\n",
              "\n",
              "div.sk-parallel-item,\n",
              "div.sk-serial,\n",
              "div.sk-item {\n",
              "  /* draw centered vertical line to link estimators */\n",
              "  background-image: linear-gradient(var(--sklearn-color-text-on-default-background), var(--sklearn-color-text-on-default-background));\n",
              "  background-size: 2px 100%;\n",
              "  background-repeat: no-repeat;\n",
              "  background-position: center center;\n",
              "}\n",
              "\n",
              "/* Parallel-specific style estimator block */\n",
              "\n",
              "#sk-container-id-11 div.sk-parallel-item::after {\n",
              "  content: \"\";\n",
              "  width: 100%;\n",
              "  border-bottom: 2px solid var(--sklearn-color-text-on-default-background);\n",
              "  flex-grow: 1;\n",
              "}\n",
              "\n",
              "#sk-container-id-11 div.sk-parallel {\n",
              "  display: flex;\n",
              "  align-items: stretch;\n",
              "  justify-content: center;\n",
              "  background-color: var(--sklearn-color-background);\n",
              "  position: relative;\n",
              "}\n",
              "\n",
              "#sk-container-id-11 div.sk-parallel-item {\n",
              "  display: flex;\n",
              "  flex-direction: column;\n",
              "}\n",
              "\n",
              "#sk-container-id-11 div.sk-parallel-item:first-child::after {\n",
              "  align-self: flex-end;\n",
              "  width: 50%;\n",
              "}\n",
              "\n",
              "#sk-container-id-11 div.sk-parallel-item:last-child::after {\n",
              "  align-self: flex-start;\n",
              "  width: 50%;\n",
              "}\n",
              "\n",
              "#sk-container-id-11 div.sk-parallel-item:only-child::after {\n",
              "  width: 0;\n",
              "}\n",
              "\n",
              "/* Serial-specific style estimator block */\n",
              "\n",
              "#sk-container-id-11 div.sk-serial {\n",
              "  display: flex;\n",
              "  flex-direction: column;\n",
              "  align-items: center;\n",
              "  background-color: var(--sklearn-color-background);\n",
              "  padding-right: 1em;\n",
              "  padding-left: 1em;\n",
              "}\n",
              "\n",
              "\n",
              "/* Toggleable style: style used for estimator/Pipeline/ColumnTransformer box that is\n",
              "clickable and can be expanded/collapsed.\n",
              "- Pipeline and ColumnTransformer use this feature and define the default style\n",
              "- Estimators will overwrite some part of the style using the `sk-estimator` class\n",
              "*/\n",
              "\n",
              "/* Pipeline and ColumnTransformer style (default) */\n",
              "\n",
              "#sk-container-id-11 div.sk-toggleable {\n",
              "  /* Default theme specific background. It is overwritten whether we have a\n",
              "  specific estimator or a Pipeline/ColumnTransformer */\n",
              "  background-color: var(--sklearn-color-background);\n",
              "}\n",
              "\n",
              "/* Toggleable label */\n",
              "#sk-container-id-11 label.sk-toggleable__label {\n",
              "  cursor: pointer;\n",
              "  display: flex;\n",
              "  width: 100%;\n",
              "  margin-bottom: 0;\n",
              "  padding: 0.5em;\n",
              "  box-sizing: border-box;\n",
              "  text-align: center;\n",
              "  align-items: start;\n",
              "  justify-content: space-between;\n",
              "  gap: 0.5em;\n",
              "}\n",
              "\n",
              "#sk-container-id-11 label.sk-toggleable__label .caption {\n",
              "  font-size: 0.6rem;\n",
              "  font-weight: lighter;\n",
              "  color: var(--sklearn-color-text-muted);\n",
              "}\n",
              "\n",
              "#sk-container-id-11 label.sk-toggleable__label-arrow:before {\n",
              "  /* Arrow on the left of the label */\n",
              "  content: \"▸\";\n",
              "  float: left;\n",
              "  margin-right: 0.25em;\n",
              "  color: var(--sklearn-color-icon);\n",
              "}\n",
              "\n",
              "#sk-container-id-11 label.sk-toggleable__label-arrow:hover:before {\n",
              "  color: var(--sklearn-color-text);\n",
              "}\n",
              "\n",
              "/* Toggleable content - dropdown */\n",
              "\n",
              "#sk-container-id-11 div.sk-toggleable__content {\n",
              "  max-height: 0;\n",
              "  max-width: 0;\n",
              "  overflow: hidden;\n",
              "  text-align: left;\n",
              "  /* unfitted */\n",
              "  background-color: var(--sklearn-color-unfitted-level-0);\n",
              "}\n",
              "\n",
              "#sk-container-id-11 div.sk-toggleable__content.fitted {\n",
              "  /* fitted */\n",
              "  background-color: var(--sklearn-color-fitted-level-0);\n",
              "}\n",
              "\n",
              "#sk-container-id-11 div.sk-toggleable__content pre {\n",
              "  margin: 0.2em;\n",
              "  border-radius: 0.25em;\n",
              "  color: var(--sklearn-color-text);\n",
              "  /* unfitted */\n",
              "  background-color: var(--sklearn-color-unfitted-level-0);\n",
              "}\n",
              "\n",
              "#sk-container-id-11 div.sk-toggleable__content.fitted pre {\n",
              "  /* unfitted */\n",
              "  background-color: var(--sklearn-color-fitted-level-0);\n",
              "}\n",
              "\n",
              "#sk-container-id-11 input.sk-toggleable__control:checked~div.sk-toggleable__content {\n",
              "  /* Expand drop-down */\n",
              "  max-height: 200px;\n",
              "  max-width: 100%;\n",
              "  overflow: auto;\n",
              "}\n",
              "\n",
              "#sk-container-id-11 input.sk-toggleable__control:checked~label.sk-toggleable__label-arrow:before {\n",
              "  content: \"▾\";\n",
              "}\n",
              "\n",
              "/* Pipeline/ColumnTransformer-specific style */\n",
              "\n",
              "#sk-container-id-11 div.sk-label input.sk-toggleable__control:checked~label.sk-toggleable__label {\n",
              "  color: var(--sklearn-color-text);\n",
              "  background-color: var(--sklearn-color-unfitted-level-2);\n",
              "}\n",
              "\n",
              "#sk-container-id-11 div.sk-label.fitted input.sk-toggleable__control:checked~label.sk-toggleable__label {\n",
              "  background-color: var(--sklearn-color-fitted-level-2);\n",
              "}\n",
              "\n",
              "/* Estimator-specific style */\n",
              "\n",
              "/* Colorize estimator box */\n",
              "#sk-container-id-11 div.sk-estimator input.sk-toggleable__control:checked~label.sk-toggleable__label {\n",
              "  /* unfitted */\n",
              "  background-color: var(--sklearn-color-unfitted-level-2);\n",
              "}\n",
              "\n",
              "#sk-container-id-11 div.sk-estimator.fitted input.sk-toggleable__control:checked~label.sk-toggleable__label {\n",
              "  /* fitted */\n",
              "  background-color: var(--sklearn-color-fitted-level-2);\n",
              "}\n",
              "\n",
              "#sk-container-id-11 div.sk-label label.sk-toggleable__label,\n",
              "#sk-container-id-11 div.sk-label label {\n",
              "  /* The background is the default theme color */\n",
              "  color: var(--sklearn-color-text-on-default-background);\n",
              "}\n",
              "\n",
              "/* On hover, darken the color of the background */\n",
              "#sk-container-id-11 div.sk-label:hover label.sk-toggleable__label {\n",
              "  color: var(--sklearn-color-text);\n",
              "  background-color: var(--sklearn-color-unfitted-level-2);\n",
              "}\n",
              "\n",
              "/* Label box, darken color on hover, fitted */\n",
              "#sk-container-id-11 div.sk-label.fitted:hover label.sk-toggleable__label.fitted {\n",
              "  color: var(--sklearn-color-text);\n",
              "  background-color: var(--sklearn-color-fitted-level-2);\n",
              "}\n",
              "\n",
              "/* Estimator label */\n",
              "\n",
              "#sk-container-id-11 div.sk-label label {\n",
              "  font-family: monospace;\n",
              "  font-weight: bold;\n",
              "  display: inline-block;\n",
              "  line-height: 1.2em;\n",
              "}\n",
              "\n",
              "#sk-container-id-11 div.sk-label-container {\n",
              "  text-align: center;\n",
              "}\n",
              "\n",
              "/* Estimator-specific */\n",
              "#sk-container-id-11 div.sk-estimator {\n",
              "  font-family: monospace;\n",
              "  border: 1px dotted var(--sklearn-color-border-box);\n",
              "  border-radius: 0.25em;\n",
              "  box-sizing: border-box;\n",
              "  margin-bottom: 0.5em;\n",
              "  /* unfitted */\n",
              "  background-color: var(--sklearn-color-unfitted-level-0);\n",
              "}\n",
              "\n",
              "#sk-container-id-11 div.sk-estimator.fitted {\n",
              "  /* fitted */\n",
              "  background-color: var(--sklearn-color-fitted-level-0);\n",
              "}\n",
              "\n",
              "/* on hover */\n",
              "#sk-container-id-11 div.sk-estimator:hover {\n",
              "  /* unfitted */\n",
              "  background-color: var(--sklearn-color-unfitted-level-2);\n",
              "}\n",
              "\n",
              "#sk-container-id-11 div.sk-estimator.fitted:hover {\n",
              "  /* fitted */\n",
              "  background-color: var(--sklearn-color-fitted-level-2);\n",
              "}\n",
              "\n",
              "/* Specification for estimator info (e.g. \"i\" and \"?\") */\n",
              "\n",
              "/* Common style for \"i\" and \"?\" */\n",
              "\n",
              ".sk-estimator-doc-link,\n",
              "a:link.sk-estimator-doc-link,\n",
              "a:visited.sk-estimator-doc-link {\n",
              "  float: right;\n",
              "  font-size: smaller;\n",
              "  line-height: 1em;\n",
              "  font-family: monospace;\n",
              "  background-color: var(--sklearn-color-background);\n",
              "  border-radius: 1em;\n",
              "  height: 1em;\n",
              "  width: 1em;\n",
              "  text-decoration: none !important;\n",
              "  margin-left: 0.5em;\n",
              "  text-align: center;\n",
              "  /* unfitted */\n",
              "  border: var(--sklearn-color-unfitted-level-1) 1pt solid;\n",
              "  color: var(--sklearn-color-unfitted-level-1);\n",
              "}\n",
              "\n",
              ".sk-estimator-doc-link.fitted,\n",
              "a:link.sk-estimator-doc-link.fitted,\n",
              "a:visited.sk-estimator-doc-link.fitted {\n",
              "  /* fitted */\n",
              "  border: var(--sklearn-color-fitted-level-1) 1pt solid;\n",
              "  color: var(--sklearn-color-fitted-level-1);\n",
              "}\n",
              "\n",
              "/* On hover */\n",
              "div.sk-estimator:hover .sk-estimator-doc-link:hover,\n",
              ".sk-estimator-doc-link:hover,\n",
              "div.sk-label-container:hover .sk-estimator-doc-link:hover,\n",
              ".sk-estimator-doc-link:hover {\n",
              "  /* unfitted */\n",
              "  background-color: var(--sklearn-color-unfitted-level-3);\n",
              "  color: var(--sklearn-color-background);\n",
              "  text-decoration: none;\n",
              "}\n",
              "\n",
              "div.sk-estimator.fitted:hover .sk-estimator-doc-link.fitted:hover,\n",
              ".sk-estimator-doc-link.fitted:hover,\n",
              "div.sk-label-container:hover .sk-estimator-doc-link.fitted:hover,\n",
              ".sk-estimator-doc-link.fitted:hover {\n",
              "  /* fitted */\n",
              "  background-color: var(--sklearn-color-fitted-level-3);\n",
              "  color: var(--sklearn-color-background);\n",
              "  text-decoration: none;\n",
              "}\n",
              "\n",
              "/* Span, style for the box shown on hovering the info icon */\n",
              ".sk-estimator-doc-link span {\n",
              "  display: none;\n",
              "  z-index: 9999;\n",
              "  position: relative;\n",
              "  font-weight: normal;\n",
              "  right: .2ex;\n",
              "  padding: .5ex;\n",
              "  margin: .5ex;\n",
              "  width: min-content;\n",
              "  min-width: 20ex;\n",
              "  max-width: 50ex;\n",
              "  color: var(--sklearn-color-text);\n",
              "  box-shadow: 2pt 2pt 4pt #999;\n",
              "  /* unfitted */\n",
              "  background: var(--sklearn-color-unfitted-level-0);\n",
              "  border: .5pt solid var(--sklearn-color-unfitted-level-3);\n",
              "}\n",
              "\n",
              ".sk-estimator-doc-link.fitted span {\n",
              "  /* fitted */\n",
              "  background: var(--sklearn-color-fitted-level-0);\n",
              "  border: var(--sklearn-color-fitted-level-3);\n",
              "}\n",
              "\n",
              ".sk-estimator-doc-link:hover span {\n",
              "  display: block;\n",
              "}\n",
              "\n",
              "/* \"?\"-specific style due to the `<a>` HTML tag */\n",
              "\n",
              "#sk-container-id-11 a.estimator_doc_link {\n",
              "  float: right;\n",
              "  font-size: 1rem;\n",
              "  line-height: 1em;\n",
              "  font-family: monospace;\n",
              "  background-color: var(--sklearn-color-background);\n",
              "  border-radius: 1rem;\n",
              "  height: 1rem;\n",
              "  width: 1rem;\n",
              "  text-decoration: none;\n",
              "  /* unfitted */\n",
              "  color: var(--sklearn-color-unfitted-level-1);\n",
              "  border: var(--sklearn-color-unfitted-level-1) 1pt solid;\n",
              "}\n",
              "\n",
              "#sk-container-id-11 a.estimator_doc_link.fitted {\n",
              "  /* fitted */\n",
              "  border: var(--sklearn-color-fitted-level-1) 1pt solid;\n",
              "  color: var(--sklearn-color-fitted-level-1);\n",
              "}\n",
              "\n",
              "/* On hover */\n",
              "#sk-container-id-11 a.estimator_doc_link:hover {\n",
              "  /* unfitted */\n",
              "  background-color: var(--sklearn-color-unfitted-level-3);\n",
              "  color: var(--sklearn-color-background);\n",
              "  text-decoration: none;\n",
              "}\n",
              "\n",
              "#sk-container-id-11 a.estimator_doc_link.fitted:hover {\n",
              "  /* fitted */\n",
              "  background-color: var(--sklearn-color-fitted-level-3);\n",
              "}\n",
              "</style><div id=\"sk-container-id-11\" class=\"sk-top-container\"><div class=\"sk-text-repr-fallback\"><pre>OneHotEncoder(handle_unknown=&#x27;ignore&#x27;, sparse_output=False)</pre><b>In a Jupyter environment, please rerun this cell to show the HTML representation or trust the notebook. <br />On GitHub, the HTML representation is unable to render, please try loading this page with nbviewer.org.</b></div><div class=\"sk-container\" hidden><div class=\"sk-item\"><div class=\"sk-estimator fitted sk-toggleable\"><input class=\"sk-toggleable__control sk-hidden--visually\" id=\"sk-estimator-id-11\" type=\"checkbox\" checked><label for=\"sk-estimator-id-11\" class=\"sk-toggleable__label fitted sk-toggleable__label-arrow\"><div><div>OneHotEncoder</div></div><div><a class=\"sk-estimator-doc-link fitted\" rel=\"noreferrer\" target=\"_blank\" href=\"https://scikit-learn.org/1.6/modules/generated/sklearn.preprocessing.OneHotEncoder.html\">?<span>Documentation for OneHotEncoder</span></a><span class=\"sk-estimator-doc-link fitted\">i<span>Fitted</span></span></div></label><div class=\"sk-toggleable__content fitted\"><pre>OneHotEncoder(handle_unknown=&#x27;ignore&#x27;, sparse_output=False)</pre></div> </div></div></div></div>"
            ]
          },
          "metadata": {},
          "execution_count": 489
        }
      ]
    },
    {
      "cell_type": "code",
      "source": [
        "encoder.categories_"
      ],
      "metadata": {
        "colab": {
          "base_uri": "https://localhost:8080/"
        },
        "id": "L4s1gB_flmKp",
        "outputId": "9ea5aa83-ba06-416a-8804-a56c6c0e5d8b"
      },
      "execution_count": 490,
      "outputs": [
        {
          "output_type": "execute_result",
          "data": {
            "text/plain": [
              "[array(['1', '2', '3', '4', '5', '6', '7'], dtype=object),\n",
              " array(['0', 'a', 'b', 'c'], dtype=object),\n",
              " array(['a', 'b', 'c', 'd'], dtype=object),\n",
              " array(['a', 'b', 'c'], dtype=object),\n",
              " array(['Feb,May,Aug,Nov', 'Jan,Apr,Jul,Oct', 'Mar,Jun,Sept,Dec',\n",
              "        'Missing'], dtype=object),\n",
              " array(['2009.0', '2010.0', '2011.0', '2012.0', '2013.0', '2014.0',\n",
              "        '2015.0', 'Missing'], dtype=object)]"
            ]
          },
          "metadata": {},
          "execution_count": 490
        }
      ]
    },
    {
      "cell_type": "markdown",
      "source": [
        "instead of CompetitionOpenSinceMonth_nan set all CompetitionOpenSinceMonth columns zero"
      ],
      "metadata": {
        "id": "VRFVUbTySXwI"
      }
    },
    {
      "cell_type": "code",
      "source": [
        "encoded_cols = list(encoder.get_feature_names_out(categorical_cols))\n",
        "\n",
        "# Replace commas and dots with safe characters (e.g., '_' or empty)\n",
        "encoded_cols = [col.replace(',', '_').replace('.', '_') for col in encoded_cols]\n",
        "print(encoded_cols)"
      ],
      "metadata": {
        "colab": {
          "base_uri": "https://localhost:8080/"
        },
        "id": "EgoeN0xTluog",
        "outputId": "9251c42d-a5ea-41ca-8132-3456e00143d6"
      },
      "execution_count": 491,
      "outputs": [
        {
          "output_type": "stream",
          "name": "stdout",
          "text": [
            "['DayOfWeek_1', 'DayOfWeek_2', 'DayOfWeek_3', 'DayOfWeek_4', 'DayOfWeek_5', 'DayOfWeek_6', 'DayOfWeek_7', 'StateHoliday_0', 'StateHoliday_a', 'StateHoliday_b', 'StateHoliday_c', 'StoreType_a', 'StoreType_b', 'StoreType_c', 'StoreType_d', 'Assortment_a', 'Assortment_b', 'Assortment_c', 'PromoInterval_Feb_May_Aug_Nov', 'PromoInterval_Jan_Apr_Jul_Oct', 'PromoInterval_Mar_Jun_Sept_Dec', 'PromoInterval_Missing', 'Promo2SinceYear_2009_0', 'Promo2SinceYear_2010_0', 'Promo2SinceYear_2011_0', 'Promo2SinceYear_2012_0', 'Promo2SinceYear_2013_0', 'Promo2SinceYear_2014_0', 'Promo2SinceYear_2015_0', 'Promo2SinceYear_Missing']\n"
          ]
        }
      ]
    },
    {
      "cell_type": "code",
      "source": [
        "# Assuming encoder.transform returns a DataFrame with the same column names\n",
        "Xy_train = pd.concat([\n",
        "    Xy_train.drop(columns=categorical_cols),\n",
        "    pd.DataFrame(encoder.transform(Xy_train[categorical_cols]), index=Xy_train.index, columns=encoded_cols)\n",
        "], axis=1)\n",
        "\n",
        "Xy_val = pd.concat([\n",
        "    Xy_val.drop(columns=categorical_cols),\n",
        "    pd.DataFrame(encoder.transform(Xy_val[categorical_cols]), index=Xy_val.index, columns=encoded_cols)\n",
        "], axis=1)"
      ],
      "metadata": {
        "id": "UhdNXFCPlyGw"
      },
      "execution_count": 492,
      "outputs": []
    },
    {
      "cell_type": "code",
      "source": [
        "print(Xy_train.columns.tolist())"
      ],
      "metadata": {
        "colab": {
          "base_uri": "https://localhost:8080/"
        },
        "id": "CUkjNk4-l9yo",
        "outputId": "e4799c63-e72e-441d-dd04-3da6490e7298"
      },
      "execution_count": 493,
      "outputs": [
        {
          "output_type": "stream",
          "name": "stdout",
          "text": [
            "['Store', 'Date', 'Sales', 'Customers', 'Open', 'Promo', 'SchoolHoliday', 'CompetitionDistance', 'CompetitionOpenSinceMonth', 'CompetitionOpenSinceYear', 'Promo2', 'Promo2SinceWeek', 'Year', 'Month', 'Day', 'DayOfWeek_1', 'DayOfWeek_2', 'DayOfWeek_3', 'DayOfWeek_4', 'DayOfWeek_5', 'DayOfWeek_6', 'DayOfWeek_7', 'StateHoliday_0', 'StateHoliday_a', 'StateHoliday_b', 'StateHoliday_c', 'StoreType_a', 'StoreType_b', 'StoreType_c', 'StoreType_d', 'Assortment_a', 'Assortment_b', 'Assortment_c', 'PromoInterval_Feb_May_Aug_Nov', 'PromoInterval_Jan_Apr_Jul_Oct', 'PromoInterval_Mar_Jun_Sept_Dec', 'PromoInterval_Missing', 'Promo2SinceYear_2009_0', 'Promo2SinceYear_2010_0', 'Promo2SinceYear_2011_0', 'Promo2SinceYear_2012_0', 'Promo2SinceYear_2013_0', 'Promo2SinceYear_2014_0', 'Promo2SinceYear_2015_0', 'Promo2SinceYear_Missing']\n"
          ]
        }
      ]
    },
    {
      "cell_type": "code",
      "source": [
        "Xy_train.head()"
      ],
      "metadata": {
        "colab": {
          "base_uri": "https://localhost:8080/",
          "height": 255
        },
        "id": "-2qAf7MdmgHG",
        "outputId": "742f04db-163a-46b1-ccd4-adcd2779e0ce"
      },
      "execution_count": 494,
      "outputs": [
        {
          "output_type": "execute_result",
          "data": {
            "text/plain": [
              "         Store       Date  Sales  Customers  Open  Promo  SchoolHoliday  \\\n",
              "1017190   1097 2013-01-01   5961       1405     1      0              1   \n",
              "1016179     85 2013-01-01   4220        619     1      0              1   \n",
              "1016353    259 2013-01-01   6851       1444     1      0              1   \n",
              "1016356    262 2013-01-01  17267       2875     1      0              1   \n",
              "1016368    274 2013-01-01   3102        729     1      0              1   \n",
              "\n",
              "         CompetitionDistance  CompetitionOpenSinceMonth  \\\n",
              "1017190                720.0                        3.0   \n",
              "1016179               1870.0                       10.0   \n",
              "1016353                210.0                        NaN   \n",
              "1016356               1180.0                        5.0   \n",
              "1016368               3640.0                        NaN   \n",
              "\n",
              "         CompetitionOpenSinceYear  ...  PromoInterval_Mar_Jun_Sept_Dec  \\\n",
              "1017190                    2002.0  ...                             0.0   \n",
              "1016179                    2011.0  ...                             0.0   \n",
              "1016353                       NaN  ...                             0.0   \n",
              "1016356                    2013.0  ...                             0.0   \n",
              "1016368                       NaN  ...                             0.0   \n",
              "\n",
              "         PromoInterval_Missing  Promo2SinceYear_2009_0  \\\n",
              "1017190                    1.0                     0.0   \n",
              "1016179                    1.0                     0.0   \n",
              "1016353                    1.0                     0.0   \n",
              "1016356                    1.0                     0.0   \n",
              "1016368                    0.0                     0.0   \n",
              "\n",
              "         Promo2SinceYear_2010_0  Promo2SinceYear_2011_0  \\\n",
              "1017190                     0.0                     0.0   \n",
              "1016179                     0.0                     0.0   \n",
              "1016353                     0.0                     0.0   \n",
              "1016356                     0.0                     0.0   \n",
              "1016368                     0.0                     0.0   \n",
              "\n",
              "         Promo2SinceYear_2012_0  Promo2SinceYear_2013_0  \\\n",
              "1017190                     0.0                     0.0   \n",
              "1016179                     0.0                     0.0   \n",
              "1016353                     0.0                     0.0   \n",
              "1016356                     0.0                     0.0   \n",
              "1016368                     0.0                     1.0   \n",
              "\n",
              "         Promo2SinceYear_2014_0  Promo2SinceYear_2015_0  \\\n",
              "1017190                     0.0                     0.0   \n",
              "1016179                     0.0                     0.0   \n",
              "1016353                     0.0                     0.0   \n",
              "1016356                     0.0                     0.0   \n",
              "1016368                     0.0                     0.0   \n",
              "\n",
              "         Promo2SinceYear_Missing  \n",
              "1017190                      1.0  \n",
              "1016179                      1.0  \n",
              "1016353                      1.0  \n",
              "1016356                      1.0  \n",
              "1016368                      0.0  \n",
              "\n",
              "[5 rows x 45 columns]"
            ],
            "text/html": [
              "\n",
              "  <div id=\"df-8e9220b7-7a58-4ee9-8c07-a753284b2da2\" class=\"colab-df-container\">\n",
              "    <div>\n",
              "<style scoped>\n",
              "    .dataframe tbody tr th:only-of-type {\n",
              "        vertical-align: middle;\n",
              "    }\n",
              "\n",
              "    .dataframe tbody tr th {\n",
              "        vertical-align: top;\n",
              "    }\n",
              "\n",
              "    .dataframe thead th {\n",
              "        text-align: right;\n",
              "    }\n",
              "</style>\n",
              "<table border=\"1\" class=\"dataframe\">\n",
              "  <thead>\n",
              "    <tr style=\"text-align: right;\">\n",
              "      <th></th>\n",
              "      <th>Store</th>\n",
              "      <th>Date</th>\n",
              "      <th>Sales</th>\n",
              "      <th>Customers</th>\n",
              "      <th>Open</th>\n",
              "      <th>Promo</th>\n",
              "      <th>SchoolHoliday</th>\n",
              "      <th>CompetitionDistance</th>\n",
              "      <th>CompetitionOpenSinceMonth</th>\n",
              "      <th>CompetitionOpenSinceYear</th>\n",
              "      <th>...</th>\n",
              "      <th>PromoInterval_Mar_Jun_Sept_Dec</th>\n",
              "      <th>PromoInterval_Missing</th>\n",
              "      <th>Promo2SinceYear_2009_0</th>\n",
              "      <th>Promo2SinceYear_2010_0</th>\n",
              "      <th>Promo2SinceYear_2011_0</th>\n",
              "      <th>Promo2SinceYear_2012_0</th>\n",
              "      <th>Promo2SinceYear_2013_0</th>\n",
              "      <th>Promo2SinceYear_2014_0</th>\n",
              "      <th>Promo2SinceYear_2015_0</th>\n",
              "      <th>Promo2SinceYear_Missing</th>\n",
              "    </tr>\n",
              "  </thead>\n",
              "  <tbody>\n",
              "    <tr>\n",
              "      <th>1017190</th>\n",
              "      <td>1097</td>\n",
              "      <td>2013-01-01</td>\n",
              "      <td>5961</td>\n",
              "      <td>1405</td>\n",
              "      <td>1</td>\n",
              "      <td>0</td>\n",
              "      <td>1</td>\n",
              "      <td>720.0</td>\n",
              "      <td>3.0</td>\n",
              "      <td>2002.0</td>\n",
              "      <td>...</td>\n",
              "      <td>0.0</td>\n",
              "      <td>1.0</td>\n",
              "      <td>0.0</td>\n",
              "      <td>0.0</td>\n",
              "      <td>0.0</td>\n",
              "      <td>0.0</td>\n",
              "      <td>0.0</td>\n",
              "      <td>0.0</td>\n",
              "      <td>0.0</td>\n",
              "      <td>1.0</td>\n",
              "    </tr>\n",
              "    <tr>\n",
              "      <th>1016179</th>\n",
              "      <td>85</td>\n",
              "      <td>2013-01-01</td>\n",
              "      <td>4220</td>\n",
              "      <td>619</td>\n",
              "      <td>1</td>\n",
              "      <td>0</td>\n",
              "      <td>1</td>\n",
              "      <td>1870.0</td>\n",
              "      <td>10.0</td>\n",
              "      <td>2011.0</td>\n",
              "      <td>...</td>\n",
              "      <td>0.0</td>\n",
              "      <td>1.0</td>\n",
              "      <td>0.0</td>\n",
              "      <td>0.0</td>\n",
              "      <td>0.0</td>\n",
              "      <td>0.0</td>\n",
              "      <td>0.0</td>\n",
              "      <td>0.0</td>\n",
              "      <td>0.0</td>\n",
              "      <td>1.0</td>\n",
              "    </tr>\n",
              "    <tr>\n",
              "      <th>1016353</th>\n",
              "      <td>259</td>\n",
              "      <td>2013-01-01</td>\n",
              "      <td>6851</td>\n",
              "      <td>1444</td>\n",
              "      <td>1</td>\n",
              "      <td>0</td>\n",
              "      <td>1</td>\n",
              "      <td>210.0</td>\n",
              "      <td>NaN</td>\n",
              "      <td>NaN</td>\n",
              "      <td>...</td>\n",
              "      <td>0.0</td>\n",
              "      <td>1.0</td>\n",
              "      <td>0.0</td>\n",
              "      <td>0.0</td>\n",
              "      <td>0.0</td>\n",
              "      <td>0.0</td>\n",
              "      <td>0.0</td>\n",
              "      <td>0.0</td>\n",
              "      <td>0.0</td>\n",
              "      <td>1.0</td>\n",
              "    </tr>\n",
              "    <tr>\n",
              "      <th>1016356</th>\n",
              "      <td>262</td>\n",
              "      <td>2013-01-01</td>\n",
              "      <td>17267</td>\n",
              "      <td>2875</td>\n",
              "      <td>1</td>\n",
              "      <td>0</td>\n",
              "      <td>1</td>\n",
              "      <td>1180.0</td>\n",
              "      <td>5.0</td>\n",
              "      <td>2013.0</td>\n",
              "      <td>...</td>\n",
              "      <td>0.0</td>\n",
              "      <td>1.0</td>\n",
              "      <td>0.0</td>\n",
              "      <td>0.0</td>\n",
              "      <td>0.0</td>\n",
              "      <td>0.0</td>\n",
              "      <td>0.0</td>\n",
              "      <td>0.0</td>\n",
              "      <td>0.0</td>\n",
              "      <td>1.0</td>\n",
              "    </tr>\n",
              "    <tr>\n",
              "      <th>1016368</th>\n",
              "      <td>274</td>\n",
              "      <td>2013-01-01</td>\n",
              "      <td>3102</td>\n",
              "      <td>729</td>\n",
              "      <td>1</td>\n",
              "      <td>0</td>\n",
              "      <td>1</td>\n",
              "      <td>3640.0</td>\n",
              "      <td>NaN</td>\n",
              "      <td>NaN</td>\n",
              "      <td>...</td>\n",
              "      <td>0.0</td>\n",
              "      <td>0.0</td>\n",
              "      <td>0.0</td>\n",
              "      <td>0.0</td>\n",
              "      <td>0.0</td>\n",
              "      <td>0.0</td>\n",
              "      <td>1.0</td>\n",
              "      <td>0.0</td>\n",
              "      <td>0.0</td>\n",
              "      <td>0.0</td>\n",
              "    </tr>\n",
              "  </tbody>\n",
              "</table>\n",
              "<p>5 rows × 45 columns</p>\n",
              "</div>\n",
              "    <div class=\"colab-df-buttons\">\n",
              "\n",
              "  <div class=\"colab-df-container\">\n",
              "    <button class=\"colab-df-convert\" onclick=\"convertToInteractive('df-8e9220b7-7a58-4ee9-8c07-a753284b2da2')\"\n",
              "            title=\"Convert this dataframe to an interactive table.\"\n",
              "            style=\"display:none;\">\n",
              "\n",
              "  <svg xmlns=\"http://www.w3.org/2000/svg\" height=\"24px\" viewBox=\"0 -960 960 960\">\n",
              "    <path d=\"M120-120v-720h720v720H120Zm60-500h600v-160H180v160Zm220 220h160v-160H400v160Zm0 220h160v-160H400v160ZM180-400h160v-160H180v160Zm440 0h160v-160H620v160ZM180-180h160v-160H180v160Zm440 0h160v-160H620v160Z\"/>\n",
              "  </svg>\n",
              "    </button>\n",
              "\n",
              "  <style>\n",
              "    .colab-df-container {\n",
              "      display:flex;\n",
              "      gap: 12px;\n",
              "    }\n",
              "\n",
              "    .colab-df-convert {\n",
              "      background-color: #E8F0FE;\n",
              "      border: none;\n",
              "      border-radius: 50%;\n",
              "      cursor: pointer;\n",
              "      display: none;\n",
              "      fill: #1967D2;\n",
              "      height: 32px;\n",
              "      padding: 0 0 0 0;\n",
              "      width: 32px;\n",
              "    }\n",
              "\n",
              "    .colab-df-convert:hover {\n",
              "      background-color: #E2EBFA;\n",
              "      box-shadow: 0px 1px 2px rgba(60, 64, 67, 0.3), 0px 1px 3px 1px rgba(60, 64, 67, 0.15);\n",
              "      fill: #174EA6;\n",
              "    }\n",
              "\n",
              "    .colab-df-buttons div {\n",
              "      margin-bottom: 4px;\n",
              "    }\n",
              "\n",
              "    [theme=dark] .colab-df-convert {\n",
              "      background-color: #3B4455;\n",
              "      fill: #D2E3FC;\n",
              "    }\n",
              "\n",
              "    [theme=dark] .colab-df-convert:hover {\n",
              "      background-color: #434B5C;\n",
              "      box-shadow: 0px 1px 3px 1px rgba(0, 0, 0, 0.15);\n",
              "      filter: drop-shadow(0px 1px 2px rgba(0, 0, 0, 0.3));\n",
              "      fill: #FFFFFF;\n",
              "    }\n",
              "  </style>\n",
              "\n",
              "    <script>\n",
              "      const buttonEl =\n",
              "        document.querySelector('#df-8e9220b7-7a58-4ee9-8c07-a753284b2da2 button.colab-df-convert');\n",
              "      buttonEl.style.display =\n",
              "        google.colab.kernel.accessAllowed ? 'block' : 'none';\n",
              "\n",
              "      async function convertToInteractive(key) {\n",
              "        const element = document.querySelector('#df-8e9220b7-7a58-4ee9-8c07-a753284b2da2');\n",
              "        const dataTable =\n",
              "          await google.colab.kernel.invokeFunction('convertToInteractive',\n",
              "                                                    [key], {});\n",
              "        if (!dataTable) return;\n",
              "\n",
              "        const docLinkHtml = 'Like what you see? Visit the ' +\n",
              "          '<a target=\"_blank\" href=https://colab.research.google.com/notebooks/data_table.ipynb>data table notebook</a>'\n",
              "          + ' to learn more about interactive tables.';\n",
              "        element.innerHTML = '';\n",
              "        dataTable['output_type'] = 'display_data';\n",
              "        await google.colab.output.renderOutput(dataTable, element);\n",
              "        const docLink = document.createElement('div');\n",
              "        docLink.innerHTML = docLinkHtml;\n",
              "        element.appendChild(docLink);\n",
              "      }\n",
              "    </script>\n",
              "  </div>\n",
              "\n",
              "\n",
              "    <div id=\"df-34b8d750-bcb1-49a9-8b68-6a5e950bc091\">\n",
              "      <button class=\"colab-df-quickchart\" onclick=\"quickchart('df-34b8d750-bcb1-49a9-8b68-6a5e950bc091')\"\n",
              "                title=\"Suggest charts\"\n",
              "                style=\"display:none;\">\n",
              "\n",
              "<svg xmlns=\"http://www.w3.org/2000/svg\" height=\"24px\"viewBox=\"0 0 24 24\"\n",
              "     width=\"24px\">\n",
              "    <g>\n",
              "        <path d=\"M19 3H5c-1.1 0-2 .9-2 2v14c0 1.1.9 2 2 2h14c1.1 0 2-.9 2-2V5c0-1.1-.9-2-2-2zM9 17H7v-7h2v7zm4 0h-2V7h2v10zm4 0h-2v-4h2v4z\"/>\n",
              "    </g>\n",
              "</svg>\n",
              "      </button>\n",
              "\n",
              "<style>\n",
              "  .colab-df-quickchart {\n",
              "      --bg-color: #E8F0FE;\n",
              "      --fill-color: #1967D2;\n",
              "      --hover-bg-color: #E2EBFA;\n",
              "      --hover-fill-color: #174EA6;\n",
              "      --disabled-fill-color: #AAA;\n",
              "      --disabled-bg-color: #DDD;\n",
              "  }\n",
              "\n",
              "  [theme=dark] .colab-df-quickchart {\n",
              "      --bg-color: #3B4455;\n",
              "      --fill-color: #D2E3FC;\n",
              "      --hover-bg-color: #434B5C;\n",
              "      --hover-fill-color: #FFFFFF;\n",
              "      --disabled-bg-color: #3B4455;\n",
              "      --disabled-fill-color: #666;\n",
              "  }\n",
              "\n",
              "  .colab-df-quickchart {\n",
              "    background-color: var(--bg-color);\n",
              "    border: none;\n",
              "    border-radius: 50%;\n",
              "    cursor: pointer;\n",
              "    display: none;\n",
              "    fill: var(--fill-color);\n",
              "    height: 32px;\n",
              "    padding: 0;\n",
              "    width: 32px;\n",
              "  }\n",
              "\n",
              "  .colab-df-quickchart:hover {\n",
              "    background-color: var(--hover-bg-color);\n",
              "    box-shadow: 0 1px 2px rgba(60, 64, 67, 0.3), 0 1px 3px 1px rgba(60, 64, 67, 0.15);\n",
              "    fill: var(--button-hover-fill-color);\n",
              "  }\n",
              "\n",
              "  .colab-df-quickchart-complete:disabled,\n",
              "  .colab-df-quickchart-complete:disabled:hover {\n",
              "    background-color: var(--disabled-bg-color);\n",
              "    fill: var(--disabled-fill-color);\n",
              "    box-shadow: none;\n",
              "  }\n",
              "\n",
              "  .colab-df-spinner {\n",
              "    border: 2px solid var(--fill-color);\n",
              "    border-color: transparent;\n",
              "    border-bottom-color: var(--fill-color);\n",
              "    animation:\n",
              "      spin 1s steps(1) infinite;\n",
              "  }\n",
              "\n",
              "  @keyframes spin {\n",
              "    0% {\n",
              "      border-color: transparent;\n",
              "      border-bottom-color: var(--fill-color);\n",
              "      border-left-color: var(--fill-color);\n",
              "    }\n",
              "    20% {\n",
              "      border-color: transparent;\n",
              "      border-left-color: var(--fill-color);\n",
              "      border-top-color: var(--fill-color);\n",
              "    }\n",
              "    30% {\n",
              "      border-color: transparent;\n",
              "      border-left-color: var(--fill-color);\n",
              "      border-top-color: var(--fill-color);\n",
              "      border-right-color: var(--fill-color);\n",
              "    }\n",
              "    40% {\n",
              "      border-color: transparent;\n",
              "      border-right-color: var(--fill-color);\n",
              "      border-top-color: var(--fill-color);\n",
              "    }\n",
              "    60% {\n",
              "      border-color: transparent;\n",
              "      border-right-color: var(--fill-color);\n",
              "    }\n",
              "    80% {\n",
              "      border-color: transparent;\n",
              "      border-right-color: var(--fill-color);\n",
              "      border-bottom-color: var(--fill-color);\n",
              "    }\n",
              "    90% {\n",
              "      border-color: transparent;\n",
              "      border-bottom-color: var(--fill-color);\n",
              "    }\n",
              "  }\n",
              "</style>\n",
              "\n",
              "      <script>\n",
              "        async function quickchart(key) {\n",
              "          const quickchartButtonEl =\n",
              "            document.querySelector('#' + key + ' button');\n",
              "          quickchartButtonEl.disabled = true;  // To prevent multiple clicks.\n",
              "          quickchartButtonEl.classList.add('colab-df-spinner');\n",
              "          try {\n",
              "            const charts = await google.colab.kernel.invokeFunction(\n",
              "                'suggestCharts', [key], {});\n",
              "          } catch (error) {\n",
              "            console.error('Error during call to suggestCharts:', error);\n",
              "          }\n",
              "          quickchartButtonEl.classList.remove('colab-df-spinner');\n",
              "          quickchartButtonEl.classList.add('colab-df-quickchart-complete');\n",
              "        }\n",
              "        (() => {\n",
              "          let quickchartButtonEl =\n",
              "            document.querySelector('#df-34b8d750-bcb1-49a9-8b68-6a5e950bc091 button');\n",
              "          quickchartButtonEl.style.display =\n",
              "            google.colab.kernel.accessAllowed ? 'block' : 'none';\n",
              "        })();\n",
              "      </script>\n",
              "    </div>\n",
              "    </div>\n",
              "  </div>\n"
            ],
            "application/vnd.google.colaboratory.intrinsic+json": {
              "type": "dataframe",
              "variable_name": "Xy_train"
            }
          },
          "metadata": {},
          "execution_count": 494
        }
      ]
    },
    {
      "cell_type": "markdown",
      "source": [
        "## Normalization"
      ],
      "metadata": {
        "id": "6QEpysaakjE1"
      }
    },
    {
      "cell_type": "code",
      "source": [
        "scalar_model = StandardScaler().fit(Xy_train[scalar_cols])\n",
        "\n",
        "Xy_train[scalar_cols] = scalar_model.transform(Xy_train[scalar_cols])\n",
        "Xy_val[scalar_cols] = scalar_model.transform(Xy_val[scalar_cols])"
      ],
      "metadata": {
        "id": "-XVNlYcZknQt"
      },
      "execution_count": 495,
      "outputs": []
    },
    {
      "cell_type": "code",
      "source": [
        "Xy_train.isna().sum().sum()"
      ],
      "metadata": {
        "colab": {
          "base_uri": "https://localhost:8080/"
        },
        "id": "7S_Zx047nk4e",
        "outputId": "b36968fe-bea6-4d12-edea-405e19b0f9fd"
      },
      "execution_count": 496,
      "outputs": [
        {
          "output_type": "execute_result",
          "data": {
            "text/plain": [
              "np.int64(721779)"
            ]
          },
          "metadata": {},
          "execution_count": 496
        }
      ]
    },
    {
      "cell_type": "code",
      "source": [
        "Xy_train.head()"
      ],
      "metadata": {
        "colab": {
          "base_uri": "https://localhost:8080/",
          "height": 255
        },
        "id": "F-Qij-CclQHy",
        "outputId": "e52b57d4-ed34-454c-862b-ccd8241fd63b"
      },
      "execution_count": 497,
      "outputs": [
        {
          "output_type": "execute_result",
          "data": {
            "text/plain": [
              "            Store       Date  Sales  Customers  Open  Promo  SchoolHoliday  \\\n",
              "1017190  1.673933 2013-01-01   5961       1405     1      0              1   \n",
              "1016179 -1.471676 2013-01-01   4220        619     1      0              1   \n",
              "1016353 -0.930830 2013-01-01   6851       1444     1      0              1   \n",
              "1016356 -0.921505 2013-01-01  17267       2875     1      0              1   \n",
              "1016368 -0.884205 2013-01-01   3102        729     1      0              1   \n",
              "\n",
              "         CompetitionDistance  CompetitionOpenSinceMonth  \\\n",
              "1017190            -0.607242                        3.0   \n",
              "1016179            -0.460009                       10.0   \n",
              "1016353            -0.672537                        NaN   \n",
              "1016356            -0.548349                        5.0   \n",
              "1016368            -0.233398                        NaN   \n",
              "\n",
              "         CompetitionOpenSinceYear  ...  PromoInterval_Mar_Jun_Sept_Dec  \\\n",
              "1017190                    2002.0  ...                             0.0   \n",
              "1016179                    2011.0  ...                             0.0   \n",
              "1016353                       NaN  ...                             0.0   \n",
              "1016356                    2013.0  ...                             0.0   \n",
              "1016368                       NaN  ...                             0.0   \n",
              "\n",
              "         PromoInterval_Missing  Promo2SinceYear_2009_0  \\\n",
              "1017190                    1.0                     0.0   \n",
              "1016179                    1.0                     0.0   \n",
              "1016353                    1.0                     0.0   \n",
              "1016356                    1.0                     0.0   \n",
              "1016368                    0.0                     0.0   \n",
              "\n",
              "         Promo2SinceYear_2010_0  Promo2SinceYear_2011_0  \\\n",
              "1017190                     0.0                     0.0   \n",
              "1016179                     0.0                     0.0   \n",
              "1016353                     0.0                     0.0   \n",
              "1016356                     0.0                     0.0   \n",
              "1016368                     0.0                     0.0   \n",
              "\n",
              "         Promo2SinceYear_2012_0  Promo2SinceYear_2013_0  \\\n",
              "1017190                     0.0                     0.0   \n",
              "1016179                     0.0                     0.0   \n",
              "1016353                     0.0                     0.0   \n",
              "1016356                     0.0                     0.0   \n",
              "1016368                     0.0                     1.0   \n",
              "\n",
              "         Promo2SinceYear_2014_0  Promo2SinceYear_2015_0  \\\n",
              "1017190                     0.0                     0.0   \n",
              "1016179                     0.0                     0.0   \n",
              "1016353                     0.0                     0.0   \n",
              "1016356                     0.0                     0.0   \n",
              "1016368                     0.0                     0.0   \n",
              "\n",
              "         Promo2SinceYear_Missing  \n",
              "1017190                      1.0  \n",
              "1016179                      1.0  \n",
              "1016353                      1.0  \n",
              "1016356                      1.0  \n",
              "1016368                      0.0  \n",
              "\n",
              "[5 rows x 45 columns]"
            ],
            "text/html": [
              "\n",
              "  <div id=\"df-85fba97b-cb35-4389-a496-22e8fdb4c8a8\" class=\"colab-df-container\">\n",
              "    <div>\n",
              "<style scoped>\n",
              "    .dataframe tbody tr th:only-of-type {\n",
              "        vertical-align: middle;\n",
              "    }\n",
              "\n",
              "    .dataframe tbody tr th {\n",
              "        vertical-align: top;\n",
              "    }\n",
              "\n",
              "    .dataframe thead th {\n",
              "        text-align: right;\n",
              "    }\n",
              "</style>\n",
              "<table border=\"1\" class=\"dataframe\">\n",
              "  <thead>\n",
              "    <tr style=\"text-align: right;\">\n",
              "      <th></th>\n",
              "      <th>Store</th>\n",
              "      <th>Date</th>\n",
              "      <th>Sales</th>\n",
              "      <th>Customers</th>\n",
              "      <th>Open</th>\n",
              "      <th>Promo</th>\n",
              "      <th>SchoolHoliday</th>\n",
              "      <th>CompetitionDistance</th>\n",
              "      <th>CompetitionOpenSinceMonth</th>\n",
              "      <th>CompetitionOpenSinceYear</th>\n",
              "      <th>...</th>\n",
              "      <th>PromoInterval_Mar_Jun_Sept_Dec</th>\n",
              "      <th>PromoInterval_Missing</th>\n",
              "      <th>Promo2SinceYear_2009_0</th>\n",
              "      <th>Promo2SinceYear_2010_0</th>\n",
              "      <th>Promo2SinceYear_2011_0</th>\n",
              "      <th>Promo2SinceYear_2012_0</th>\n",
              "      <th>Promo2SinceYear_2013_0</th>\n",
              "      <th>Promo2SinceYear_2014_0</th>\n",
              "      <th>Promo2SinceYear_2015_0</th>\n",
              "      <th>Promo2SinceYear_Missing</th>\n",
              "    </tr>\n",
              "  </thead>\n",
              "  <tbody>\n",
              "    <tr>\n",
              "      <th>1017190</th>\n",
              "      <td>1.673933</td>\n",
              "      <td>2013-01-01</td>\n",
              "      <td>5961</td>\n",
              "      <td>1405</td>\n",
              "      <td>1</td>\n",
              "      <td>0</td>\n",
              "      <td>1</td>\n",
              "      <td>-0.607242</td>\n",
              "      <td>3.0</td>\n",
              "      <td>2002.0</td>\n",
              "      <td>...</td>\n",
              "      <td>0.0</td>\n",
              "      <td>1.0</td>\n",
              "      <td>0.0</td>\n",
              "      <td>0.0</td>\n",
              "      <td>0.0</td>\n",
              "      <td>0.0</td>\n",
              "      <td>0.0</td>\n",
              "      <td>0.0</td>\n",
              "      <td>0.0</td>\n",
              "      <td>1.0</td>\n",
              "    </tr>\n",
              "    <tr>\n",
              "      <th>1016179</th>\n",
              "      <td>-1.471676</td>\n",
              "      <td>2013-01-01</td>\n",
              "      <td>4220</td>\n",
              "      <td>619</td>\n",
              "      <td>1</td>\n",
              "      <td>0</td>\n",
              "      <td>1</td>\n",
              "      <td>-0.460009</td>\n",
              "      <td>10.0</td>\n",
              "      <td>2011.0</td>\n",
              "      <td>...</td>\n",
              "      <td>0.0</td>\n",
              "      <td>1.0</td>\n",
              "      <td>0.0</td>\n",
              "      <td>0.0</td>\n",
              "      <td>0.0</td>\n",
              "      <td>0.0</td>\n",
              "      <td>0.0</td>\n",
              "      <td>0.0</td>\n",
              "      <td>0.0</td>\n",
              "      <td>1.0</td>\n",
              "    </tr>\n",
              "    <tr>\n",
              "      <th>1016353</th>\n",
              "      <td>-0.930830</td>\n",
              "      <td>2013-01-01</td>\n",
              "      <td>6851</td>\n",
              "      <td>1444</td>\n",
              "      <td>1</td>\n",
              "      <td>0</td>\n",
              "      <td>1</td>\n",
              "      <td>-0.672537</td>\n",
              "      <td>NaN</td>\n",
              "      <td>NaN</td>\n",
              "      <td>...</td>\n",
              "      <td>0.0</td>\n",
              "      <td>1.0</td>\n",
              "      <td>0.0</td>\n",
              "      <td>0.0</td>\n",
              "      <td>0.0</td>\n",
              "      <td>0.0</td>\n",
              "      <td>0.0</td>\n",
              "      <td>0.0</td>\n",
              "      <td>0.0</td>\n",
              "      <td>1.0</td>\n",
              "    </tr>\n",
              "    <tr>\n",
              "      <th>1016356</th>\n",
              "      <td>-0.921505</td>\n",
              "      <td>2013-01-01</td>\n",
              "      <td>17267</td>\n",
              "      <td>2875</td>\n",
              "      <td>1</td>\n",
              "      <td>0</td>\n",
              "      <td>1</td>\n",
              "      <td>-0.548349</td>\n",
              "      <td>5.0</td>\n",
              "      <td>2013.0</td>\n",
              "      <td>...</td>\n",
              "      <td>0.0</td>\n",
              "      <td>1.0</td>\n",
              "      <td>0.0</td>\n",
              "      <td>0.0</td>\n",
              "      <td>0.0</td>\n",
              "      <td>0.0</td>\n",
              "      <td>0.0</td>\n",
              "      <td>0.0</td>\n",
              "      <td>0.0</td>\n",
              "      <td>1.0</td>\n",
              "    </tr>\n",
              "    <tr>\n",
              "      <th>1016368</th>\n",
              "      <td>-0.884205</td>\n",
              "      <td>2013-01-01</td>\n",
              "      <td>3102</td>\n",
              "      <td>729</td>\n",
              "      <td>1</td>\n",
              "      <td>0</td>\n",
              "      <td>1</td>\n",
              "      <td>-0.233398</td>\n",
              "      <td>NaN</td>\n",
              "      <td>NaN</td>\n",
              "      <td>...</td>\n",
              "      <td>0.0</td>\n",
              "      <td>0.0</td>\n",
              "      <td>0.0</td>\n",
              "      <td>0.0</td>\n",
              "      <td>0.0</td>\n",
              "      <td>0.0</td>\n",
              "      <td>1.0</td>\n",
              "      <td>0.0</td>\n",
              "      <td>0.0</td>\n",
              "      <td>0.0</td>\n",
              "    </tr>\n",
              "  </tbody>\n",
              "</table>\n",
              "<p>5 rows × 45 columns</p>\n",
              "</div>\n",
              "    <div class=\"colab-df-buttons\">\n",
              "\n",
              "  <div class=\"colab-df-container\">\n",
              "    <button class=\"colab-df-convert\" onclick=\"convertToInteractive('df-85fba97b-cb35-4389-a496-22e8fdb4c8a8')\"\n",
              "            title=\"Convert this dataframe to an interactive table.\"\n",
              "            style=\"display:none;\">\n",
              "\n",
              "  <svg xmlns=\"http://www.w3.org/2000/svg\" height=\"24px\" viewBox=\"0 -960 960 960\">\n",
              "    <path d=\"M120-120v-720h720v720H120Zm60-500h600v-160H180v160Zm220 220h160v-160H400v160Zm0 220h160v-160H400v160ZM180-400h160v-160H180v160Zm440 0h160v-160H620v160ZM180-180h160v-160H180v160Zm440 0h160v-160H620v160Z\"/>\n",
              "  </svg>\n",
              "    </button>\n",
              "\n",
              "  <style>\n",
              "    .colab-df-container {\n",
              "      display:flex;\n",
              "      gap: 12px;\n",
              "    }\n",
              "\n",
              "    .colab-df-convert {\n",
              "      background-color: #E8F0FE;\n",
              "      border: none;\n",
              "      border-radius: 50%;\n",
              "      cursor: pointer;\n",
              "      display: none;\n",
              "      fill: #1967D2;\n",
              "      height: 32px;\n",
              "      padding: 0 0 0 0;\n",
              "      width: 32px;\n",
              "    }\n",
              "\n",
              "    .colab-df-convert:hover {\n",
              "      background-color: #E2EBFA;\n",
              "      box-shadow: 0px 1px 2px rgba(60, 64, 67, 0.3), 0px 1px 3px 1px rgba(60, 64, 67, 0.15);\n",
              "      fill: #174EA6;\n",
              "    }\n",
              "\n",
              "    .colab-df-buttons div {\n",
              "      margin-bottom: 4px;\n",
              "    }\n",
              "\n",
              "    [theme=dark] .colab-df-convert {\n",
              "      background-color: #3B4455;\n",
              "      fill: #D2E3FC;\n",
              "    }\n",
              "\n",
              "    [theme=dark] .colab-df-convert:hover {\n",
              "      background-color: #434B5C;\n",
              "      box-shadow: 0px 1px 3px 1px rgba(0, 0, 0, 0.15);\n",
              "      filter: drop-shadow(0px 1px 2px rgba(0, 0, 0, 0.3));\n",
              "      fill: #FFFFFF;\n",
              "    }\n",
              "  </style>\n",
              "\n",
              "    <script>\n",
              "      const buttonEl =\n",
              "        document.querySelector('#df-85fba97b-cb35-4389-a496-22e8fdb4c8a8 button.colab-df-convert');\n",
              "      buttonEl.style.display =\n",
              "        google.colab.kernel.accessAllowed ? 'block' : 'none';\n",
              "\n",
              "      async function convertToInteractive(key) {\n",
              "        const element = document.querySelector('#df-85fba97b-cb35-4389-a496-22e8fdb4c8a8');\n",
              "        const dataTable =\n",
              "          await google.colab.kernel.invokeFunction('convertToInteractive',\n",
              "                                                    [key], {});\n",
              "        if (!dataTable) return;\n",
              "\n",
              "        const docLinkHtml = 'Like what you see? Visit the ' +\n",
              "          '<a target=\"_blank\" href=https://colab.research.google.com/notebooks/data_table.ipynb>data table notebook</a>'\n",
              "          + ' to learn more about interactive tables.';\n",
              "        element.innerHTML = '';\n",
              "        dataTable['output_type'] = 'display_data';\n",
              "        await google.colab.output.renderOutput(dataTable, element);\n",
              "        const docLink = document.createElement('div');\n",
              "        docLink.innerHTML = docLinkHtml;\n",
              "        element.appendChild(docLink);\n",
              "      }\n",
              "    </script>\n",
              "  </div>\n",
              "\n",
              "\n",
              "    <div id=\"df-f3fb49b6-2414-4f34-a4c1-77c062af6bcb\">\n",
              "      <button class=\"colab-df-quickchart\" onclick=\"quickchart('df-f3fb49b6-2414-4f34-a4c1-77c062af6bcb')\"\n",
              "                title=\"Suggest charts\"\n",
              "                style=\"display:none;\">\n",
              "\n",
              "<svg xmlns=\"http://www.w3.org/2000/svg\" height=\"24px\"viewBox=\"0 0 24 24\"\n",
              "     width=\"24px\">\n",
              "    <g>\n",
              "        <path d=\"M19 3H5c-1.1 0-2 .9-2 2v14c0 1.1.9 2 2 2h14c1.1 0 2-.9 2-2V5c0-1.1-.9-2-2-2zM9 17H7v-7h2v7zm4 0h-2V7h2v10zm4 0h-2v-4h2v4z\"/>\n",
              "    </g>\n",
              "</svg>\n",
              "      </button>\n",
              "\n",
              "<style>\n",
              "  .colab-df-quickchart {\n",
              "      --bg-color: #E8F0FE;\n",
              "      --fill-color: #1967D2;\n",
              "      --hover-bg-color: #E2EBFA;\n",
              "      --hover-fill-color: #174EA6;\n",
              "      --disabled-fill-color: #AAA;\n",
              "      --disabled-bg-color: #DDD;\n",
              "  }\n",
              "\n",
              "  [theme=dark] .colab-df-quickchart {\n",
              "      --bg-color: #3B4455;\n",
              "      --fill-color: #D2E3FC;\n",
              "      --hover-bg-color: #434B5C;\n",
              "      --hover-fill-color: #FFFFFF;\n",
              "      --disabled-bg-color: #3B4455;\n",
              "      --disabled-fill-color: #666;\n",
              "  }\n",
              "\n",
              "  .colab-df-quickchart {\n",
              "    background-color: var(--bg-color);\n",
              "    border: none;\n",
              "    border-radius: 50%;\n",
              "    cursor: pointer;\n",
              "    display: none;\n",
              "    fill: var(--fill-color);\n",
              "    height: 32px;\n",
              "    padding: 0;\n",
              "    width: 32px;\n",
              "  }\n",
              "\n",
              "  .colab-df-quickchart:hover {\n",
              "    background-color: var(--hover-bg-color);\n",
              "    box-shadow: 0 1px 2px rgba(60, 64, 67, 0.3), 0 1px 3px 1px rgba(60, 64, 67, 0.15);\n",
              "    fill: var(--button-hover-fill-color);\n",
              "  }\n",
              "\n",
              "  .colab-df-quickchart-complete:disabled,\n",
              "  .colab-df-quickchart-complete:disabled:hover {\n",
              "    background-color: var(--disabled-bg-color);\n",
              "    fill: var(--disabled-fill-color);\n",
              "    box-shadow: none;\n",
              "  }\n",
              "\n",
              "  .colab-df-spinner {\n",
              "    border: 2px solid var(--fill-color);\n",
              "    border-color: transparent;\n",
              "    border-bottom-color: var(--fill-color);\n",
              "    animation:\n",
              "      spin 1s steps(1) infinite;\n",
              "  }\n",
              "\n",
              "  @keyframes spin {\n",
              "    0% {\n",
              "      border-color: transparent;\n",
              "      border-bottom-color: var(--fill-color);\n",
              "      border-left-color: var(--fill-color);\n",
              "    }\n",
              "    20% {\n",
              "      border-color: transparent;\n",
              "      border-left-color: var(--fill-color);\n",
              "      border-top-color: var(--fill-color);\n",
              "    }\n",
              "    30% {\n",
              "      border-color: transparent;\n",
              "      border-left-color: var(--fill-color);\n",
              "      border-top-color: var(--fill-color);\n",
              "      border-right-color: var(--fill-color);\n",
              "    }\n",
              "    40% {\n",
              "      border-color: transparent;\n",
              "      border-right-color: var(--fill-color);\n",
              "      border-top-color: var(--fill-color);\n",
              "    }\n",
              "    60% {\n",
              "      border-color: transparent;\n",
              "      border-right-color: var(--fill-color);\n",
              "    }\n",
              "    80% {\n",
              "      border-color: transparent;\n",
              "      border-right-color: var(--fill-color);\n",
              "      border-bottom-color: var(--fill-color);\n",
              "    }\n",
              "    90% {\n",
              "      border-color: transparent;\n",
              "      border-bottom-color: var(--fill-color);\n",
              "    }\n",
              "  }\n",
              "</style>\n",
              "\n",
              "      <script>\n",
              "        async function quickchart(key) {\n",
              "          const quickchartButtonEl =\n",
              "            document.querySelector('#' + key + ' button');\n",
              "          quickchartButtonEl.disabled = true;  // To prevent multiple clicks.\n",
              "          quickchartButtonEl.classList.add('colab-df-spinner');\n",
              "          try {\n",
              "            const charts = await google.colab.kernel.invokeFunction(\n",
              "                'suggestCharts', [key], {});\n",
              "          } catch (error) {\n",
              "            console.error('Error during call to suggestCharts:', error);\n",
              "          }\n",
              "          quickchartButtonEl.classList.remove('colab-df-spinner');\n",
              "          quickchartButtonEl.classList.add('colab-df-quickchart-complete');\n",
              "        }\n",
              "        (() => {\n",
              "          let quickchartButtonEl =\n",
              "            document.querySelector('#df-f3fb49b6-2414-4f34-a4c1-77c062af6bcb button');\n",
              "          quickchartButtonEl.style.display =\n",
              "            google.colab.kernel.accessAllowed ? 'block' : 'none';\n",
              "        })();\n",
              "      </script>\n",
              "    </div>\n",
              "    </div>\n",
              "  </div>\n"
            ],
            "application/vnd.google.colaboratory.intrinsic+json": {
              "type": "dataframe",
              "variable_name": "Xy_train"
            }
          },
          "metadata": {},
          "execution_count": 497
        }
      ]
    },
    {
      "cell_type": "markdown",
      "source": [
        "# **Step 4.5 - Define Target and Inputs**\n",
        "Exclude columns here for test"
      ],
      "metadata": {
        "id": "AUn_gWijY88t"
      }
    },
    {
      "cell_type": "code",
      "source": [
        "target_cols"
      ],
      "metadata": {
        "colab": {
          "base_uri": "https://localhost:8080/"
        },
        "id": "HAE87S5eakjQ",
        "outputId": "03dbc922-f0c8-42af-ef8d-8ce49c166c96"
      },
      "execution_count": 498,
      "outputs": [
        {
          "output_type": "execute_result",
          "data": {
            "text/plain": [
              "['Sales']"
            ]
          },
          "metadata": {},
          "execution_count": 498
        }
      ]
    },
    {
      "cell_type": "code",
      "source": [
        "y_train, y_val = Xy_train[target_cols].copy(), Xy_val[target_cols].copy()\n",
        "y_train.head()"
      ],
      "metadata": {
        "colab": {
          "base_uri": "https://localhost:8080/",
          "height": 226
        },
        "id": "xNAvWJmdZCtB",
        "outputId": "3628b5bd-0b59-4b06-f9c3-84d616886eae"
      },
      "execution_count": 499,
      "outputs": [
        {
          "output_type": "execute_result",
          "data": {
            "text/plain": [
              "         Sales\n",
              "1017190   5961\n",
              "1016179   4220\n",
              "1016353   6851\n",
              "1016356  17267\n",
              "1016368   3102"
            ],
            "text/html": [
              "\n",
              "  <div id=\"df-021dac66-9c20-4be8-9718-1dc56b42edb1\" class=\"colab-df-container\">\n",
              "    <div>\n",
              "<style scoped>\n",
              "    .dataframe tbody tr th:only-of-type {\n",
              "        vertical-align: middle;\n",
              "    }\n",
              "\n",
              "    .dataframe tbody tr th {\n",
              "        vertical-align: top;\n",
              "    }\n",
              "\n",
              "    .dataframe thead th {\n",
              "        text-align: right;\n",
              "    }\n",
              "</style>\n",
              "<table border=\"1\" class=\"dataframe\">\n",
              "  <thead>\n",
              "    <tr style=\"text-align: right;\">\n",
              "      <th></th>\n",
              "      <th>Sales</th>\n",
              "    </tr>\n",
              "  </thead>\n",
              "  <tbody>\n",
              "    <tr>\n",
              "      <th>1017190</th>\n",
              "      <td>5961</td>\n",
              "    </tr>\n",
              "    <tr>\n",
              "      <th>1016179</th>\n",
              "      <td>4220</td>\n",
              "    </tr>\n",
              "    <tr>\n",
              "      <th>1016353</th>\n",
              "      <td>6851</td>\n",
              "    </tr>\n",
              "    <tr>\n",
              "      <th>1016356</th>\n",
              "      <td>17267</td>\n",
              "    </tr>\n",
              "    <tr>\n",
              "      <th>1016368</th>\n",
              "      <td>3102</td>\n",
              "    </tr>\n",
              "  </tbody>\n",
              "</table>\n",
              "</div>\n",
              "    <div class=\"colab-df-buttons\">\n",
              "\n",
              "  <div class=\"colab-df-container\">\n",
              "    <button class=\"colab-df-convert\" onclick=\"convertToInteractive('df-021dac66-9c20-4be8-9718-1dc56b42edb1')\"\n",
              "            title=\"Convert this dataframe to an interactive table.\"\n",
              "            style=\"display:none;\">\n",
              "\n",
              "  <svg xmlns=\"http://www.w3.org/2000/svg\" height=\"24px\" viewBox=\"0 -960 960 960\">\n",
              "    <path d=\"M120-120v-720h720v720H120Zm60-500h600v-160H180v160Zm220 220h160v-160H400v160Zm0 220h160v-160H400v160ZM180-400h160v-160H180v160Zm440 0h160v-160H620v160ZM180-180h160v-160H180v160Zm440 0h160v-160H620v160Z\"/>\n",
              "  </svg>\n",
              "    </button>\n",
              "\n",
              "  <style>\n",
              "    .colab-df-container {\n",
              "      display:flex;\n",
              "      gap: 12px;\n",
              "    }\n",
              "\n",
              "    .colab-df-convert {\n",
              "      background-color: #E8F0FE;\n",
              "      border: none;\n",
              "      border-radius: 50%;\n",
              "      cursor: pointer;\n",
              "      display: none;\n",
              "      fill: #1967D2;\n",
              "      height: 32px;\n",
              "      padding: 0 0 0 0;\n",
              "      width: 32px;\n",
              "    }\n",
              "\n",
              "    .colab-df-convert:hover {\n",
              "      background-color: #E2EBFA;\n",
              "      box-shadow: 0px 1px 2px rgba(60, 64, 67, 0.3), 0px 1px 3px 1px rgba(60, 64, 67, 0.15);\n",
              "      fill: #174EA6;\n",
              "    }\n",
              "\n",
              "    .colab-df-buttons div {\n",
              "      margin-bottom: 4px;\n",
              "    }\n",
              "\n",
              "    [theme=dark] .colab-df-convert {\n",
              "      background-color: #3B4455;\n",
              "      fill: #D2E3FC;\n",
              "    }\n",
              "\n",
              "    [theme=dark] .colab-df-convert:hover {\n",
              "      background-color: #434B5C;\n",
              "      box-shadow: 0px 1px 3px 1px rgba(0, 0, 0, 0.15);\n",
              "      filter: drop-shadow(0px 1px 2px rgba(0, 0, 0, 0.3));\n",
              "      fill: #FFFFFF;\n",
              "    }\n",
              "  </style>\n",
              "\n",
              "    <script>\n",
              "      const buttonEl =\n",
              "        document.querySelector('#df-021dac66-9c20-4be8-9718-1dc56b42edb1 button.colab-df-convert');\n",
              "      buttonEl.style.display =\n",
              "        google.colab.kernel.accessAllowed ? 'block' : 'none';\n",
              "\n",
              "      async function convertToInteractive(key) {\n",
              "        const element = document.querySelector('#df-021dac66-9c20-4be8-9718-1dc56b42edb1');\n",
              "        const dataTable =\n",
              "          await google.colab.kernel.invokeFunction('convertToInteractive',\n",
              "                                                    [key], {});\n",
              "        if (!dataTable) return;\n",
              "\n",
              "        const docLinkHtml = 'Like what you see? Visit the ' +\n",
              "          '<a target=\"_blank\" href=https://colab.research.google.com/notebooks/data_table.ipynb>data table notebook</a>'\n",
              "          + ' to learn more about interactive tables.';\n",
              "        element.innerHTML = '';\n",
              "        dataTable['output_type'] = 'display_data';\n",
              "        await google.colab.output.renderOutput(dataTable, element);\n",
              "        const docLink = document.createElement('div');\n",
              "        docLink.innerHTML = docLinkHtml;\n",
              "        element.appendChild(docLink);\n",
              "      }\n",
              "    </script>\n",
              "  </div>\n",
              "\n",
              "\n",
              "    <div id=\"df-20b9f6ba-a0cd-4639-9ef4-5b1989098405\">\n",
              "      <button class=\"colab-df-quickchart\" onclick=\"quickchart('df-20b9f6ba-a0cd-4639-9ef4-5b1989098405')\"\n",
              "                title=\"Suggest charts\"\n",
              "                style=\"display:none;\">\n",
              "\n",
              "<svg xmlns=\"http://www.w3.org/2000/svg\" height=\"24px\"viewBox=\"0 0 24 24\"\n",
              "     width=\"24px\">\n",
              "    <g>\n",
              "        <path d=\"M19 3H5c-1.1 0-2 .9-2 2v14c0 1.1.9 2 2 2h14c1.1 0 2-.9 2-2V5c0-1.1-.9-2-2-2zM9 17H7v-7h2v7zm4 0h-2V7h2v10zm4 0h-2v-4h2v4z\"/>\n",
              "    </g>\n",
              "</svg>\n",
              "      </button>\n",
              "\n",
              "<style>\n",
              "  .colab-df-quickchart {\n",
              "      --bg-color: #E8F0FE;\n",
              "      --fill-color: #1967D2;\n",
              "      --hover-bg-color: #E2EBFA;\n",
              "      --hover-fill-color: #174EA6;\n",
              "      --disabled-fill-color: #AAA;\n",
              "      --disabled-bg-color: #DDD;\n",
              "  }\n",
              "\n",
              "  [theme=dark] .colab-df-quickchart {\n",
              "      --bg-color: #3B4455;\n",
              "      --fill-color: #D2E3FC;\n",
              "      --hover-bg-color: #434B5C;\n",
              "      --hover-fill-color: #FFFFFF;\n",
              "      --disabled-bg-color: #3B4455;\n",
              "      --disabled-fill-color: #666;\n",
              "  }\n",
              "\n",
              "  .colab-df-quickchart {\n",
              "    background-color: var(--bg-color);\n",
              "    border: none;\n",
              "    border-radius: 50%;\n",
              "    cursor: pointer;\n",
              "    display: none;\n",
              "    fill: var(--fill-color);\n",
              "    height: 32px;\n",
              "    padding: 0;\n",
              "    width: 32px;\n",
              "  }\n",
              "\n",
              "  .colab-df-quickchart:hover {\n",
              "    background-color: var(--hover-bg-color);\n",
              "    box-shadow: 0 1px 2px rgba(60, 64, 67, 0.3), 0 1px 3px 1px rgba(60, 64, 67, 0.15);\n",
              "    fill: var(--button-hover-fill-color);\n",
              "  }\n",
              "\n",
              "  .colab-df-quickchart-complete:disabled,\n",
              "  .colab-df-quickchart-complete:disabled:hover {\n",
              "    background-color: var(--disabled-bg-color);\n",
              "    fill: var(--disabled-fill-color);\n",
              "    box-shadow: none;\n",
              "  }\n",
              "\n",
              "  .colab-df-spinner {\n",
              "    border: 2px solid var(--fill-color);\n",
              "    border-color: transparent;\n",
              "    border-bottom-color: var(--fill-color);\n",
              "    animation:\n",
              "      spin 1s steps(1) infinite;\n",
              "  }\n",
              "\n",
              "  @keyframes spin {\n",
              "    0% {\n",
              "      border-color: transparent;\n",
              "      border-bottom-color: var(--fill-color);\n",
              "      border-left-color: var(--fill-color);\n",
              "    }\n",
              "    20% {\n",
              "      border-color: transparent;\n",
              "      border-left-color: var(--fill-color);\n",
              "      border-top-color: var(--fill-color);\n",
              "    }\n",
              "    30% {\n",
              "      border-color: transparent;\n",
              "      border-left-color: var(--fill-color);\n",
              "      border-top-color: var(--fill-color);\n",
              "      border-right-color: var(--fill-color);\n",
              "    }\n",
              "    40% {\n",
              "      border-color: transparent;\n",
              "      border-right-color: var(--fill-color);\n",
              "      border-top-color: var(--fill-color);\n",
              "    }\n",
              "    60% {\n",
              "      border-color: transparent;\n",
              "      border-right-color: var(--fill-color);\n",
              "    }\n",
              "    80% {\n",
              "      border-color: transparent;\n",
              "      border-right-color: var(--fill-color);\n",
              "      border-bottom-color: var(--fill-color);\n",
              "    }\n",
              "    90% {\n",
              "      border-color: transparent;\n",
              "      border-bottom-color: var(--fill-color);\n",
              "    }\n",
              "  }\n",
              "</style>\n",
              "\n",
              "      <script>\n",
              "        async function quickchart(key) {\n",
              "          const quickchartButtonEl =\n",
              "            document.querySelector('#' + key + ' button');\n",
              "          quickchartButtonEl.disabled = true;  // To prevent multiple clicks.\n",
              "          quickchartButtonEl.classList.add('colab-df-spinner');\n",
              "          try {\n",
              "            const charts = await google.colab.kernel.invokeFunction(\n",
              "                'suggestCharts', [key], {});\n",
              "          } catch (error) {\n",
              "            console.error('Error during call to suggestCharts:', error);\n",
              "          }\n",
              "          quickchartButtonEl.classList.remove('colab-df-spinner');\n",
              "          quickchartButtonEl.classList.add('colab-df-quickchart-complete');\n",
              "        }\n",
              "        (() => {\n",
              "          let quickchartButtonEl =\n",
              "            document.querySelector('#df-20b9f6ba-a0cd-4639-9ef4-5b1989098405 button');\n",
              "          quickchartButtonEl.style.display =\n",
              "            google.colab.kernel.accessAllowed ? 'block' : 'none';\n",
              "        })();\n",
              "      </script>\n",
              "    </div>\n",
              "    </div>\n",
              "  </div>\n"
            ],
            "application/vnd.google.colaboratory.intrinsic+json": {
              "type": "dataframe",
              "variable_name": "y_train"
            }
          },
          "metadata": {},
          "execution_count": 499
        }
      ]
    },
    {
      "cell_type": "code",
      "source": [
        "inputs_cols = [col for col in Xy_train.columns if col not in drop_cols + categorical_cols + target_cols]\n",
        "print(inputs_cols)"
      ],
      "metadata": {
        "id": "Z6XasxAWbLw0",
        "colab": {
          "base_uri": "https://localhost:8080/"
        },
        "outputId": "e2dc4532-9b1a-4e37-b7cf-35faf89032a3"
      },
      "execution_count": 500,
      "outputs": [
        {
          "output_type": "stream",
          "name": "stdout",
          "text": [
            "['Store', 'Promo', 'SchoolHoliday', 'CompetitionDistance', 'Promo2', 'Month', 'Day', 'DayOfWeek_1', 'DayOfWeek_2', 'DayOfWeek_3', 'DayOfWeek_4', 'DayOfWeek_5', 'DayOfWeek_6', 'DayOfWeek_7', 'StateHoliday_0', 'StateHoliday_a', 'StateHoliday_b', 'StateHoliday_c', 'StoreType_a', 'StoreType_b', 'StoreType_c', 'StoreType_d', 'Assortment_a', 'Assortment_b', 'Assortment_c', 'PromoInterval_Feb_May_Aug_Nov', 'PromoInterval_Jan_Apr_Jul_Oct', 'PromoInterval_Mar_Jun_Sept_Dec', 'PromoInterval_Missing', 'Promo2SinceYear_2009_0', 'Promo2SinceYear_2010_0', 'Promo2SinceYear_2011_0', 'Promo2SinceYear_2012_0', 'Promo2SinceYear_2013_0', 'Promo2SinceYear_2014_0', 'Promo2SinceYear_2015_0', 'Promo2SinceYear_Missing']\n"
          ]
        }
      ]
    },
    {
      "cell_type": "code",
      "source": [
        "X_train, X_val = Xy_train[inputs_cols].copy(), Xy_val[inputs_cols].copy()"
      ],
      "metadata": {
        "id": "iVGNmAP8ayxB"
      },
      "execution_count": 501,
      "outputs": []
    },
    {
      "cell_type": "markdown",
      "source": [
        "# **Step 5 - Base Models + Evaluate**"
      ],
      "metadata": {
        "id": "Jjpsk0EoWxnS"
      }
    },
    {
      "cell_type": "markdown",
      "source": [
        "`model.fit` uses the following workflow for training the model ([source](https://www.deepnetts.com/blog/from-basic-machine-learning-to-deep-learning-in-5-minutes.html)):\n",
        "\n",
        "1. We initialize a model with random parameters (weights & biases).\n",
        "2. We pass some inputs into the model to obtain predictions.\n",
        "3. We compare the model's predictions with the actual targets using the loss function.  \n",
        "4. We use an optimization technique (like least squares, gradient descent etc.) to reduce the loss by adjusting the weights & biases of the model\n",
        "5. We repeat steps 1 to 4 till the predictions from the model are good enough.\n",
        "\n",
        "\n",
        "<img src=\"https://www.deepnetts.com/blog/wp-content/uploads/2019/02/SupervisedLearning.png\" width=\"480\">"
      ],
      "metadata": {
        "id": "GOZ1SUgloq47"
      }
    },
    {
      "cell_type": "markdown",
      "source": [
        "## Evaluation"
      ],
      "metadata": {
        "id": "Dzt_zvK1hFff"
      }
    },
    {
      "cell_type": "code",
      "source": [
        "def cal_rmspe(y_true, y_pred):\n",
        "    y_true = np.array(y_true)\n",
        "    y_pred = np.array(y_pred)\n",
        "    mask = y_true != 0\n",
        "    percentage_errors = ((y_true[mask] - y_pred[mask]) / y_true[mask]) ** 2\n",
        "    return np.sqrt(np.mean(percentage_errors))\n",
        "\n",
        "def evaluate(y_true, y_pred, model_name):\n",
        "    print(f\"{'=' * 10} {model_name} {'=' * 10}\")\n",
        "    print(\"R²:\", r2_score(y_true, y_pred))\n",
        "    print(\"RMSE:\", np.sqrt(mean_squared_error(y_true, y_pred)))\n",
        "    print(\"MAE:\", mean_absolute_error(y_true, y_pred))\n",
        "    print(\"RMSPE:\", cal_rmspe(y_true, y_pred))"
      ],
      "metadata": {
        "id": "SSOp_9LZqi0b"
      },
      "execution_count": 502,
      "outputs": []
    },
    {
      "cell_type": "markdown",
      "source": [
        "## Dummy"
      ],
      "metadata": {
        "id": "9wQDw_AKhDOR"
      }
    },
    {
      "cell_type": "code",
      "source": [
        "%%time\n",
        "best_rmspe = 1\n",
        "for strat in [\"constant\", \"median\", \"quantile\", \"mean\"]:\n",
        "    dummy_model = DummyRegressor()\n",
        "\n",
        "    dummy_model.fit(X_train, y_train)\n",
        "\n",
        "    y_pred_dummy = dummy_model.predict(X_val)\n",
        "\n",
        "    best_rmspe = min(best_rmspe, cal_rmspe(y_val.iloc[:, 0], y_pred_dummy))\n",
        "\n",
        "print(mean_absolute_error(y_val.iloc[:, 0], y_pred_dummy))\n",
        "print(\"Train RMSPE:\",cal_rmspe(y_train.iloc[:, 0], dummy_model.predict(X_train)))\n",
        "print(\"Best RMSPE:\", best_rmspe)"
      ],
      "metadata": {
        "colab": {
          "base_uri": "https://localhost:8080/"
        },
        "id": "NxGrVihPe8yQ",
        "outputId": "006009d6-cdd0-4a21-a510-e9cf7c5c8be8"
      },
      "execution_count": 503,
      "outputs": [
        {
          "output_type": "stream",
          "name": "stdout",
          "text": [
            "2297.538241883713\n",
            "Train RMSPE: 0.6401654921356831\n",
            "Best RMSPE: 0.5700679024993638\n",
            "CPU times: user 56.1 ms, sys: 1 ms, total: 57.2 ms\n",
            "Wall time: 94.7 ms\n"
          ]
        }
      ]
    },
    {
      "cell_type": "markdown",
      "source": [
        "## Linear Regression"
      ],
      "metadata": {
        "id": "4lHz2NNYtvtS"
      }
    },
    {
      "cell_type": "code",
      "source": [
        "%%time\n",
        "lr_model = LinearRegression()\n",
        "\n",
        "lr_model.fit(X_train, y_train)\n",
        "\n",
        "y_pred_lr = lr_model.predict(X_val)\n",
        "\n",
        "evaluate(y_val, y_pred_lr, \"Linear Regression\")"
      ],
      "metadata": {
        "colab": {
          "base_uri": "https://localhost:8080/"
        },
        "id": "8dwjkA-0m6vz",
        "outputId": "30505cb3-bc1d-48f2-a906-d6aee7416b9c"
      },
      "execution_count": 504,
      "outputs": [
        {
          "output_type": "stream",
          "name": "stdout",
          "text": [
            "========== Linear Regression ==========\n",
            "R²: 0.22850714943516293\n",
            "RMSE: 2774.616836345802\n",
            "MAE: 1969.2716891628688\n",
            "RMSPE: 0.4496525720578469\n",
            "CPU times: user 1.89 s, sys: 178 ms, total: 2.07 s\n",
            "Wall time: 3.55 s\n"
          ]
        }
      ]
    },
    {
      "cell_type": "markdown",
      "source": [
        "# **Step 6 - Pick a strategy, train a model & tune hyperparameters**\n",
        "\n"
      ],
      "metadata": {
        "id": "pRRuGmZKg6ZP"
      }
    },
    {
      "cell_type": "markdown",
      "source": [
        "### Systematically Exploring Modeling Strategies\n",
        "\n",
        "Scikit-learn offers the following cheatsheet to decide which model to pick.\n",
        "\n",
        "Here's the general strategy to follow:\n",
        "\n",
        "- Find out which models are applicable to the problem you're solving.\n",
        "- Train a basic version for each type of model that's applicable\n",
        "- Identify the modeling approaches that work well and tune their hypeparameters\n",
        "- [Use a spreadsheet](https://docs.google.com/spreadsheets/d/1gPCAvI8nBfdIp6gs7ndkWE5nzoeVixUUJD0VW_7FB2s/edit?usp=sharing) to keep track of your experiments and results."
      ],
      "metadata": {
        "id": "qRQeOzPDpomC"
      }
    },
    {
      "cell_type": "markdown",
      "source": [
        "## ML Map"
      ],
      "metadata": {
        "id": "somaGFWbF77K"
      }
    },
    {
      "cell_type": "code",
      "source": [
        "%%capture\n",
        "import gdown\n",
        "\n",
        "# Replace with your Google Drive shareable link\n",
        "url = 'https://drive.google.com/file/d/1_nz31Y_jfxQacztVxMfNJ4gInsxXpxQH/view?usp=sharing'\n",
        "\n",
        "# Convert to the direct download link\n",
        "file_id = url.split('/d/')[1].split('/')[0]\n",
        "direct_url = f'https://drive.google.com/uc?id={file_id}'\n",
        "\n",
        "# Download\n",
        "gdown.download(direct_url, 'ml_map.svg', quiet=False)"
      ],
      "metadata": {
        "id": "QFGGJK3aDXeh"
      },
      "execution_count": 505,
      "outputs": []
    },
    {
      "cell_type": "code",
      "source": [
        "from IPython.display import SVG, display\n",
        "\n",
        "# Display from file\n",
        "display(SVG(filename=\"ml_map.svg\"))"
      ],
      "metadata": {
        "colab": {
          "base_uri": "https://localhost:8080/",
          "height": 813
        },
        "id": "SBGLnyNsFMNC",
        "outputId": "d49c57cc-77f7-46ca-e4e0-c08eefc9562a"
      },
      "execution_count": 506,
      "outputs": [
        {
          "output_type": "display_data",
          "data": {
            "text/plain": [
              "<IPython.core.display.SVG object>"
            ],
            "image/svg+xml": "<svg xmlns=\"http://www.w3.org/2000/svg\" xmlns:xlink=\"http://www.w3.org/1999/xlink\" version=\"1.1\" width=\"1423px\" height=\"772px\" viewBox=\"-0.5 -0.5 1423 772\" content=\"&lt;mxfile host=&quot;app.diagrams.net&quot; agent=&quot;Mozilla/5.0 (X11; Linux x86_64; rv:132.0) Gecko/20100101 Firefox/132.0&quot; scale=&quot;1&quot; border=&quot;15&quot; version=&quot;24.9.1&quot;&gt;\n  &lt;diagram name=&quot;第 1 页&quot; id=&quot;prGmxGi5H6ogpCY3go2q&quot;&gt;\n    &lt;mxGraphModel dx=&quot;2261&quot; dy=&quot;2085&quot; grid=&quot;1&quot; gridSize=&quot;10&quot; guides=&quot;1&quot; tooltips=&quot;1&quot; connect=&quot;1&quot; arrows=&quot;1&quot; fold=&quot;1&quot; page=&quot;1&quot; pageScale=&quot;1&quot; pageWidth=&quot;827&quot; pageHeight=&quot;1169&quot; math=&quot;0&quot; shadow=&quot;0&quot;&gt;\n      &lt;root&gt;\n        &lt;mxCell id=&quot;0&quot; /&gt;\n        &lt;mxCell id=&quot;1&quot; parent=&quot;0&quot; /&gt;\n        &lt;mxCell id=&quot;ke5fKqay8JjYpE_cKGV5-45&quot; value=&quot;&quot; style=&quot;rounded=1;whiteSpace=wrap;html=1;strokeWidth=3;strokeColor=#B3B3B3;fillColor=#FFFFCC;fillStyle=auto;shadow=0;glass=0;&quot; parent=&quot;1&quot; vertex=&quot;1&quot;&gt;\n          &lt;mxGeometry x=&quot;490&quot; y=&quot;380&quot; width=&quot;530&quot; height=&quot;250&quot; as=&quot;geometry&quot; /&gt;\n        &lt;/mxCell&gt;\n        &lt;mxCell id=&quot;ke5fKqay8JjYpE_cKGV5-26&quot; value=&quot;&quot; style=&quot;rounded=1;whiteSpace=wrap;html=1;strokeWidth=3;strokeColor=#B3B3B3;fillColor=#CCE5FF;fillStyle=auto;shadow=0;glass=0;&quot; parent=&quot;1&quot; vertex=&quot;1&quot;&gt;\n          &lt;mxGeometry x=&quot;480&quot; y=&quot;60&quot; width=&quot;540&quot; height=&quot;290&quot; as=&quot;geometry&quot; /&gt;\n        &lt;/mxCell&gt;\n        &lt;mxCell id=&quot;ZhISbIufsCQTaueA5Ebt-13&quot; value=&quot;&quot; style=&quot;rounded=1;whiteSpace=wrap;html=1;strokeWidth=3;strokeColor=#B3B3B3;fillColor=#E5CCFF;fillStyle=auto;shadow=0;glass=0;&quot; parent=&quot;1&quot; vertex=&quot;1&quot;&gt;\n          &lt;mxGeometry x=&quot;-370&quot; y=&quot;320&quot; width=&quot;560&quot; height=&quot;290&quot; as=&quot;geometry&quot; /&gt;\n        &lt;/mxCell&gt;\n        &lt;mxCell id=&quot;lidfMP7FeTC4yG16FXWw-66&quot; value=&quot;&quot; style=&quot;rounded=1;whiteSpace=wrap;html=1;strokeWidth=3;strokeColor=#B3B3B3;fillColor=#FFCCCC;fillStyle=auto;shadow=0;glass=0;&quot; parent=&quot;1&quot; vertex=&quot;1&quot;&gt;\n          &lt;mxGeometry x=&quot;-370&quot; y=&quot;-30&quot; width=&quot;560&quot; height=&quot;310&quot; as=&quot;geometry&quot; /&gt;\n        &lt;/mxCell&gt;\n        &lt;mxCell id=&quot;p-bOygNmazyrNX3Cmdq1-1&quot; value=&quot;&amp;lt;font style=&amp;quot;font-size: 20px;&amp;quot;&amp;gt;&amp;lt;b&amp;gt;START&amp;lt;/b&amp;gt;&amp;lt;/font&amp;gt;&quot; style=&quot;ellipse;whiteSpace=wrap;html=1;fontSize=16;fontFamily=Georgia;labelBorderColor=none;strokeWidth=5;gradientColor=none;fillColor=#FFE6CC;strokeColor=#FF9933;&quot; parent=&quot;1&quot; vertex=&quot;1&quot;&gt;\n          &lt;mxGeometry x=&quot;410&quot; y=&quot;-30&quot; width=&quot;80&quot; height=&quot;70&quot; as=&quot;geometry&quot; /&gt;\n        &lt;/mxCell&gt;\n        &lt;mxCell id=&quot;p-bOygNmazyrNX3Cmdq1-2&quot; value=&quot;&amp;amp;gt;50&amp;lt;div&amp;gt;&amp;lt;span style=&amp;quot;font-size: 10px; background-color: initial;&amp;quot;&amp;gt;samples&amp;lt;/span&amp;gt;&amp;lt;/div&amp;gt;&quot; style=&quot;ellipse;whiteSpace=wrap;html=1;fontSize=16;fontFamily=Georgia;labelBorderColor=none;strokeWidth=5;gradientColor=none;fillColor=#CCE5FF;strokeColor=#3399FF;&quot; parent=&quot;1&quot; vertex=&quot;1&quot;&gt;\n          &lt;mxGeometry x=&quot;330&quot; y=&quot;80&quot; width=&quot;80&quot; height=&quot;70&quot; as=&quot;geometry&quot; /&gt;\n        &lt;/mxCell&gt;\n        &lt;mxCell id=&quot;lidfMP7FeTC4yG16FXWw-1&quot; value=&quot;&amp;lt;font style=&amp;quot;font-size: 10px;&amp;quot;&amp;gt;get&amp;lt;/font&amp;gt;&amp;lt;div&amp;gt;more&amp;lt;/div&amp;gt;&amp;lt;div&amp;gt;data&amp;lt;/div&amp;gt;&quot; style=&quot;ellipse;whiteSpace=wrap;html=1;fontSize=16;fontFamily=Georgia;labelBorderColor=none;strokeWidth=5;gradientColor=none;fillColor=#CCE5FF;strokeColor=#3399FF;&quot; parent=&quot;1&quot; vertex=&quot;1&quot;&gt;\n          &lt;mxGeometry x=&quot;220&quot; y=&quot;10&quot; width=&quot;80&quot; height=&quot;70&quot; as=&quot;geometry&quot; /&gt;\n        &lt;/mxCell&gt;\n        &lt;mxCell id=&quot;lidfMP7FeTC4yG16FXWw-5&quot; value=&quot;&quot; style=&quot;endArrow=block;html=1;rounded=0;entryX=1;entryY=1;entryDx=0;entryDy=0;exitX=0;exitY=0;exitDx=0;exitDy=0;strokeColor=#FF3333;strokeWidth=3;endFill=1;endSize=5;startSize=0;&quot; parent=&quot;1&quot; source=&quot;p-bOygNmazyrNX3Cmdq1-2&quot; target=&quot;lidfMP7FeTC4yG16FXWw-1&quot; edge=&quot;1&quot;&gt;\n          &lt;mxGeometry width=&quot;50&quot; height=&quot;50&quot; relative=&quot;1&quot; as=&quot;geometry&quot;&gt;\n            &lt;mxPoint x=&quot;270&quot; y=&quot;250&quot; as=&quot;sourcePoint&quot; /&gt;\n            &lt;mxPoint x=&quot;320&quot; y=&quot;200&quot; as=&quot;targetPoint&quot; /&gt;\n          &lt;/mxGeometry&gt;\n        &lt;/mxCell&gt;\n        &lt;mxCell id=&quot;lidfMP7FeTC4yG16FXWw-6&quot; value=&quot;NO&quot; style=&quot;edgeLabel;html=1;align=center;verticalAlign=middle;resizable=0;points=[];fontFamily=Georgia;fontColor=#FF3333;fontSize=12;fontStyle=1&quot; parent=&quot;lidfMP7FeTC4yG16FXWw-5&quot; vertex=&quot;1&quot; connectable=&quot;0&quot;&gt;\n          &lt;mxGeometry x=&quot;-0.1867&quot; y=&quot;2&quot; relative=&quot;1&quot; as=&quot;geometry&quot;&gt;\n            &lt;mxPoint as=&quot;offset&quot; /&gt;\n          &lt;/mxGeometry&gt;\n        &lt;/mxCell&gt;\n        &lt;mxCell id=&quot;lidfMP7FeTC4yG16FXWw-7&quot; value=&quot;&amp;lt;font style=&amp;quot;font-size: 10px;&amp;quot;&amp;gt;predicting a&amp;lt;/font&amp;gt;&amp;lt;div&amp;gt;category&amp;lt;/div&amp;gt;&quot; style=&quot;ellipse;whiteSpace=wrap;html=1;fontSize=16;fontFamily=Georgia;labelBorderColor=none;strokeWidth=5;gradientColor=none;fillColor=#CCE5FF;strokeColor=#3399FF;&quot; parent=&quot;1&quot; vertex=&quot;1&quot;&gt;\n          &lt;mxGeometry x=&quot;300&quot; y=&quot;190&quot; width=&quot;80&quot; height=&quot;70&quot; as=&quot;geometry&quot; /&gt;\n        &lt;/mxCell&gt;\n        &lt;mxCell id=&quot;lidfMP7FeTC4yG16FXWw-8&quot; value=&quot;&quot; style=&quot;endArrow=block;html=1;rounded=0;entryX=0.5;entryY=0;entryDx=0;entryDy=0;exitX=0.5;exitY=1;exitDx=0;exitDy=0;strokeColor=#009900;strokeWidth=3;endFill=1;endSize=5;startSize=0;&quot; parent=&quot;1&quot; source=&quot;p-bOygNmazyrNX3Cmdq1-2&quot; target=&quot;lidfMP7FeTC4yG16FXWw-7&quot; edge=&quot;1&quot;&gt;\n          &lt;mxGeometry width=&quot;50&quot; height=&quot;50&quot; relative=&quot;1&quot; as=&quot;geometry&quot;&gt;\n            &lt;mxPoint x=&quot;452&quot; y=&quot;190&quot; as=&quot;sourcePoint&quot; /&gt;\n            &lt;mxPoint x=&quot;398&quot; y=&quot;155&quot; as=&quot;targetPoint&quot; /&gt;\n          &lt;/mxGeometry&gt;\n        &lt;/mxCell&gt;\n        &lt;mxCell id=&quot;lidfMP7FeTC4yG16FXWw-9&quot; value=&quot;YES&quot; style=&quot;edgeLabel;align=center;verticalAlign=middle;resizable=0;points=[];fontFamily=Georgia;fontColor=#009900;fontSize=12;fontStyle=1;html=1;labelBorderColor=none;textShadow=0;&quot; parent=&quot;lidfMP7FeTC4yG16FXWw-8&quot; vertex=&quot;1&quot; connectable=&quot;0&quot;&gt;\n          &lt;mxGeometry x=&quot;-0.1867&quot; y=&quot;2&quot; relative=&quot;1&quot; as=&quot;geometry&quot;&gt;\n            &lt;mxPoint as=&quot;offset&quot; /&gt;\n          &lt;/mxGeometry&gt;\n        &lt;/mxCell&gt;\n        &lt;mxCell id=&quot;lidfMP7FeTC4yG16FXWw-10&quot; value=&quot;&amp;lt;div&amp;gt;&amp;lt;span style=&amp;quot;font-size: 10px;&amp;quot;&amp;gt;do you have&amp;lt;/span&amp;gt;&amp;lt;/div&amp;gt;&amp;lt;div&amp;gt;labeled&amp;lt;/div&amp;gt;&amp;lt;div&amp;gt;data&amp;lt;/div&amp;gt;&quot; style=&quot;ellipse;whiteSpace=wrap;html=1;fontSize=16;fontFamily=Georgia;labelBorderColor=none;strokeWidth=5;gradientColor=none;fillColor=#CCE5FF;strokeColor=#3399FF;&quot; parent=&quot;1&quot; vertex=&quot;1&quot;&gt;\n          &lt;mxGeometry x=&quot;210&quot; y=&quot;280&quot; width=&quot;80&quot; height=&quot;70&quot; as=&quot;geometry&quot; /&gt;\n        &lt;/mxCell&gt;\n        &lt;mxCell id=&quot;lidfMP7FeTC4yG16FXWw-11&quot; value=&quot;&quot; style=&quot;endArrow=block;html=1;rounded=0;entryX=1;entryY=0;entryDx=0;entryDy=0;exitX=0;exitY=1;exitDx=0;exitDy=0;strokeColor=#009900;strokeWidth=3;endFill=1;endSize=5;startSize=0;&quot; parent=&quot;1&quot; source=&quot;lidfMP7FeTC4yG16FXWw-7&quot; target=&quot;lidfMP7FeTC4yG16FXWw-10&quot; edge=&quot;1&quot;&gt;\n          &lt;mxGeometry width=&quot;50&quot; height=&quot;50&quot; relative=&quot;1&quot; as=&quot;geometry&quot;&gt;\n            &lt;mxPoint x=&quot;452&quot; y=&quot;240&quot; as=&quot;sourcePoint&quot; /&gt;\n            &lt;mxPoint x=&quot;412&quot; y=&quot;280&quot; as=&quot;targetPoint&quot; /&gt;\n          &lt;/mxGeometry&gt;\n        &lt;/mxCell&gt;\n        &lt;mxCell id=&quot;lidfMP7FeTC4yG16FXWw-12&quot; value=&quot;YES&quot; style=&quot;edgeLabel;html=1;align=center;verticalAlign=middle;resizable=0;points=[];fontFamily=Georgia;fontColor=#009900;fontSize=12;fontStyle=1&quot; parent=&quot;lidfMP7FeTC4yG16FXWw-11&quot; vertex=&quot;1&quot; connectable=&quot;0&quot;&gt;\n          &lt;mxGeometry x=&quot;-0.1867&quot; y=&quot;2&quot; relative=&quot;1&quot; as=&quot;geometry&quot;&gt;\n            &lt;mxPoint as=&quot;offset&quot; /&gt;\n          &lt;/mxGeometry&gt;\n        &lt;/mxCell&gt;\n        &lt;mxCell id=&quot;lidfMP7FeTC4yG16FXWw-13&quot; value=&quot;&amp;lt;div&amp;gt;&amp;lt;span style=&amp;quot;font-size: 10px;&amp;quot;&amp;gt;predicting a&amp;lt;/span&amp;gt;&amp;lt;/div&amp;gt;&amp;lt;div&amp;gt;quantity&amp;lt;/div&amp;gt;&quot; style=&quot;ellipse;whiteSpace=wrap;html=1;fontSize=16;fontFamily=Georgia;labelBorderColor=none;strokeWidth=5;gradientColor=none;fillColor=#CCE5FF;strokeColor=#3399FF;&quot; parent=&quot;1&quot; vertex=&quot;1&quot;&gt;\n          &lt;mxGeometry x=&quot;374&quot; y=&quot;290&quot; width=&quot;80&quot; height=&quot;70&quot; as=&quot;geometry&quot; /&gt;\n        &lt;/mxCell&gt;\n        &lt;mxCell id=&quot;lidfMP7FeTC4yG16FXWw-14&quot; value=&quot;&quot; style=&quot;endArrow=block;html=1;rounded=0;entryX=0;entryY=0;entryDx=0;entryDy=0;exitX=1;exitY=1;exitDx=0;exitDy=0;strokeColor=#FF3333;strokeWidth=3;endFill=1;endSize=5;startSize=0;&quot; parent=&quot;1&quot; source=&quot;lidfMP7FeTC4yG16FXWw-7&quot; target=&quot;lidfMP7FeTC4yG16FXWw-13&quot; edge=&quot;1&quot;&gt;\n          &lt;mxGeometry width=&quot;50&quot; height=&quot;50&quot; relative=&quot;1&quot; as=&quot;geometry&quot;&gt;\n            &lt;mxPoint x=&quot;452&quot; y=&quot;190&quot; as=&quot;sourcePoint&quot; /&gt;\n            &lt;mxPoint x=&quot;398&quot; y=&quot;155&quot; as=&quot;targetPoint&quot; /&gt;\n          &lt;/mxGeometry&gt;\n        &lt;/mxCell&gt;\n        &lt;mxCell id=&quot;lidfMP7FeTC4yG16FXWw-15&quot; value=&quot;NO&quot; style=&quot;edgeLabel;html=1;align=center;verticalAlign=middle;resizable=0;points=[];fontFamily=Georgia;fontColor=#FF3333;fontSize=12;fontStyle=1&quot; parent=&quot;lidfMP7FeTC4yG16FXWw-14&quot; vertex=&quot;1&quot; connectable=&quot;0&quot;&gt;\n          &lt;mxGeometry x=&quot;-0.1867&quot; y=&quot;2&quot; relative=&quot;1&quot; as=&quot;geometry&quot;&gt;\n            &lt;mxPoint as=&quot;offset&quot; /&gt;\n          &lt;/mxGeometry&gt;\n        &lt;/mxCell&gt;\n        &lt;mxCell id=&quot;lidfMP7FeTC4yG16FXWw-17&quot; value=&quot;&amp;lt;div&amp;gt;&amp;lt;span style=&amp;quot;font-size: 10px;&amp;quot;&amp;gt;just&amp;lt;/span&amp;gt;&amp;lt;/div&amp;gt;&amp;lt;div&amp;gt;looking&amp;lt;/div&amp;gt;&quot; style=&quot;ellipse;whiteSpace=wrap;html=1;fontSize=16;fontFamily=Georgia;labelBorderColor=none;strokeWidth=5;gradientColor=none;fillColor=#CCE5FF;strokeColor=#3399FF;verticalAlign=middle;&quot; parent=&quot;1&quot; vertex=&quot;1&quot;&gt;\n          &lt;mxGeometry x=&quot;330&quot; y=&quot;400&quot; width=&quot;80&quot; height=&quot;70&quot; as=&quot;geometry&quot; /&gt;\n        &lt;/mxCell&gt;\n        &lt;mxCell id=&quot;lidfMP7FeTC4yG16FXWw-18&quot; value=&quot;&quot; style=&quot;endArrow=block;html=1;rounded=0;entryX=1;entryY=0;entryDx=0;entryDy=0;exitX=0.5;exitY=1;exitDx=0;exitDy=0;strokeColor=#FF3333;strokeWidth=3;endFill=1;endSize=5;startSize=0;&quot; parent=&quot;1&quot; source=&quot;lidfMP7FeTC4yG16FXWw-13&quot; target=&quot;lidfMP7FeTC4yG16FXWw-17&quot; edge=&quot;1&quot;&gt;\n          &lt;mxGeometry width=&quot;50&quot; height=&quot;50&quot; relative=&quot;1&quot; as=&quot;geometry&quot;&gt;\n            &lt;mxPoint x=&quot;384&quot; y=&quot;340&quot; as=&quot;sourcePoint&quot; /&gt;\n            &lt;mxPoint x=&quot;395&quot; y=&quot;380&quot; as=&quot;targetPoint&quot; /&gt;\n          &lt;/mxGeometry&gt;\n        &lt;/mxCell&gt;\n        &lt;mxCell id=&quot;lidfMP7FeTC4yG16FXWw-19&quot; value=&quot;NO&quot; style=&quot;edgeLabel;html=1;align=center;verticalAlign=middle;resizable=0;points=[];fontFamily=Georgia;fontColor=#FF3333;fontSize=12;fontStyle=1&quot; parent=&quot;lidfMP7FeTC4yG16FXWw-18&quot; vertex=&quot;1&quot; connectable=&quot;0&quot;&gt;\n          &lt;mxGeometry x=&quot;-0.1867&quot; y=&quot;2&quot; relative=&quot;1&quot; as=&quot;geometry&quot;&gt;\n            &lt;mxPoint as=&quot;offset&quot; /&gt;\n          &lt;/mxGeometry&gt;\n        &lt;/mxCell&gt;\n        &lt;mxCell id=&quot;lidfMP7FeTC4yG16FXWw-21&quot; value=&quot;&amp;lt;div&amp;gt;&amp;lt;span style=&amp;quot;font-size: 10px;&amp;quot;&amp;gt;predicting&amp;lt;/span&amp;gt;&amp;lt;/div&amp;gt;&amp;lt;div&amp;gt;structure&amp;lt;/div&amp;gt;&quot; style=&quot;ellipse;whiteSpace=wrap;html=1;fontSize=16;fontFamily=Georgia;labelBorderColor=none;strokeWidth=5;gradientColor=none;fillColor=#CCE5FF;strokeColor=#3399FF;verticalAlign=middle;&quot; parent=&quot;1&quot; vertex=&quot;1&quot;&gt;\n          &lt;mxGeometry x=&quot;334&quot; y=&quot;510&quot; width=&quot;80&quot; height=&quot;70&quot; as=&quot;geometry&quot; /&gt;\n        &lt;/mxCell&gt;\n        &lt;mxCell id=&quot;lidfMP7FeTC4yG16FXWw-22&quot; value=&quot;&quot; style=&quot;endArrow=block;html=1;rounded=0;exitX=0.5;exitY=1;exitDx=0;exitDy=0;strokeColor=#FF3333;strokeWidth=3;endFill=1;endSize=5;startSize=0;entryX=0.5;entryY=0;entryDx=0;entryDy=0;&quot; parent=&quot;1&quot; source=&quot;lidfMP7FeTC4yG16FXWw-17&quot; target=&quot;lidfMP7FeTC4yG16FXWw-21&quot; edge=&quot;1&quot;&gt;\n          &lt;mxGeometry width=&quot;50&quot; height=&quot;50&quot; relative=&quot;1&quot; as=&quot;geometry&quot;&gt;\n            &lt;mxPoint x=&quot;395&quot; y=&quot;430&quot; as=&quot;sourcePoint&quot; /&gt;\n            &lt;mxPoint x=&quot;380&quot; y=&quot;570&quot; as=&quot;targetPoint&quot; /&gt;\n          &lt;/mxGeometry&gt;\n        &lt;/mxCell&gt;\n        &lt;mxCell id=&quot;lidfMP7FeTC4yG16FXWw-23&quot; value=&quot;NO&quot; style=&quot;edgeLabel;html=1;align=center;verticalAlign=middle;resizable=0;points=[];fontFamily=Georgia;fontColor=#FF3333;fontSize=12;fontStyle=1&quot; parent=&quot;lidfMP7FeTC4yG16FXWw-22&quot; vertex=&quot;1&quot; connectable=&quot;0&quot;&gt;\n          &lt;mxGeometry x=&quot;-0.1867&quot; y=&quot;2&quot; relative=&quot;1&quot; as=&quot;geometry&quot;&gt;\n            &lt;mxPoint as=&quot;offset&quot; /&gt;\n          &lt;/mxGeometry&gt;\n        &lt;/mxCell&gt;\n        &lt;mxCell id=&quot;lidfMP7FeTC4yG16FXWw-24&quot; value=&quot;&quot; style=&quot;endArrow=block;html=1;rounded=0;entryX=0.5;entryY=0;entryDx=0;entryDy=0;exitX=0;exitY=1;exitDx=0;exitDy=0;strokeColor=#FF9933;strokeWidth=3;endFill=1;endSize=5;startSize=0;&quot; parent=&quot;1&quot; source=&quot;p-bOygNmazyrNX3Cmdq1-1&quot; target=&quot;p-bOygNmazyrNX3Cmdq1-2&quot; edge=&quot;1&quot;&gt;\n          &lt;mxGeometry width=&quot;50&quot; height=&quot;50&quot; relative=&quot;1&quot; as=&quot;geometry&quot;&gt;\n            &lt;mxPoint x=&quot;331&quot; y=&quot;141&quot; as=&quot;sourcePoint&quot; /&gt;\n            &lt;mxPoint x=&quot;279&quot; y=&quot;104&quot; as=&quot;targetPoint&quot; /&gt;\n          &lt;/mxGeometry&gt;\n        &lt;/mxCell&gt;\n        &lt;mxCell id=&quot;lidfMP7FeTC4yG16FXWw-26&quot; value=&quot;&amp;lt;div&amp;gt;&amp;lt;span style=&amp;quot;background-color: initial;&amp;quot;&amp;gt;tough&amp;lt;/span&amp;gt;&amp;lt;br&amp;gt;&amp;lt;/div&amp;gt;&amp;lt;div&amp;gt;&amp;lt;span style=&amp;quot;background-color: initial;&amp;quot;&amp;gt;luck&amp;lt;/span&amp;gt;&amp;lt;/div&amp;gt;&quot; style=&quot;ellipse;whiteSpace=wrap;html=1;fontSize=16;fontFamily=Georgia;labelBorderColor=none;strokeWidth=5;gradientColor=none;fillColor=#CCE5FF;strokeColor=#3399FF;verticalAlign=middle;&quot; parent=&quot;1&quot; vertex=&quot;1&quot;&gt;\n          &lt;mxGeometry x=&quot;200&quot; y=&quot;500&quot; width=&quot;80&quot; height=&quot;70&quot; as=&quot;geometry&quot; /&gt;\n        &lt;/mxCell&gt;\n        &lt;mxCell id=&quot;lidfMP7FeTC4yG16FXWw-27&quot; value=&quot;&quot; style=&quot;endArrow=block;html=1;rounded=0;entryX=1;entryY=0.5;entryDx=0;entryDy=0;exitX=0;exitY=0.5;exitDx=0;exitDy=0;strokeColor=#FF9933;strokeWidth=3;endFill=1;endSize=5;startSize=0;&quot; parent=&quot;1&quot; source=&quot;lidfMP7FeTC4yG16FXWw-21&quot; target=&quot;lidfMP7FeTC4yG16FXWw-26&quot; edge=&quot;1&quot;&gt;\n          &lt;mxGeometry width=&quot;50&quot; height=&quot;50&quot; relative=&quot;1&quot; as=&quot;geometry&quot;&gt;\n            &lt;mxPoint x=&quot;562&quot; y=&quot;120&quot; as=&quot;sourcePoint&quot; /&gt;\n            &lt;mxPoint x=&quot;508&quot; y=&quot;190&quot; as=&quot;targetPoint&quot; /&gt;\n          &lt;/mxGeometry&gt;\n        &lt;/mxCell&gt;\n        &lt;mxCell id=&quot;lidfMP7FeTC4yG16FXWw-28&quot; value=&quot;&amp;lt;font style=&amp;quot;font-size: 16px;&amp;quot;&amp;gt;&amp;amp;lt;100K&amp;lt;/font&amp;gt;&amp;lt;div style=&amp;quot;&amp;quot;&amp;gt;&amp;lt;span style=&amp;quot;&amp;quot;&amp;gt;&amp;lt;font style=&amp;quot;font-size: 10px;&amp;quot;&amp;gt;samples&amp;lt;/font&amp;gt;&amp;lt;/span&amp;gt;&amp;lt;/div&amp;gt;&quot; style=&quot;ellipse;whiteSpace=wrap;html=1;fontSize=16;fontFamily=Georgia;labelBorderColor=none;strokeWidth=5;gradientColor=none;fillColor=#CCE5FF;strokeColor=#3399FF;&quot; parent=&quot;1&quot; vertex=&quot;1&quot;&gt;\n          &lt;mxGeometry x=&quot;90&quot; y=&quot;170&quot; width=&quot;80&quot; height=&quot;70&quot; as=&quot;geometry&quot; /&gt;\n        &lt;/mxCell&gt;\n        &lt;mxCell id=&quot;lidfMP7FeTC4yG16FXWw-29&quot; value=&quot;&quot; style=&quot;endArrow=block;html=1;rounded=0;entryX=1;entryY=1;entryDx=0;entryDy=0;exitX=0;exitY=0;exitDx=0;exitDy=0;strokeColor=#009900;strokeWidth=3;endFill=1;endSize=5;startSize=0;&quot; parent=&quot;1&quot; source=&quot;lidfMP7FeTC4yG16FXWw-10&quot; target=&quot;lidfMP7FeTC4yG16FXWw-28&quot; edge=&quot;1&quot;&gt;\n          &lt;mxGeometry width=&quot;50&quot; height=&quot;50&quot; relative=&quot;1&quot; as=&quot;geometry&quot;&gt;\n            &lt;mxPoint x=&quot;356&quot; y=&quot;330&quot; as=&quot;sourcePoint&quot; /&gt;\n            &lt;mxPoint x=&quot;300&quot; y=&quot;345&quot; as=&quot;targetPoint&quot; /&gt;\n          &lt;/mxGeometry&gt;\n        &lt;/mxCell&gt;\n        &lt;mxCell id=&quot;lidfMP7FeTC4yG16FXWw-30&quot; value=&quot;YES&quot; style=&quot;edgeLabel;html=1;align=center;verticalAlign=middle;resizable=0;points=[];fontFamily=Georgia;fontColor=#009900;fontSize=12;fontStyle=1;labelBackgroundColor=default;&quot; parent=&quot;lidfMP7FeTC4yG16FXWw-29&quot; vertex=&quot;1&quot; connectable=&quot;0&quot;&gt;\n          &lt;mxGeometry x=&quot;-0.1867&quot; y=&quot;2&quot; relative=&quot;1&quot; as=&quot;geometry&quot;&gt;\n            &lt;mxPoint as=&quot;offset&quot; /&gt;\n          &lt;/mxGeometry&gt;\n        &lt;/mxCell&gt;\n        &lt;UserObject label=&quot;SGD&amp;lt;div&amp;gt;Classifier&amp;lt;/div&amp;gt;&quot; link=&quot;./modules/sgd.html#classification&quot; id=&quot;lidfMP7FeTC4yG16FXWw-33&quot;&gt;\n          &lt;mxCell style=&quot;rounded=1;whiteSpace=wrap;html=1;strokeWidth=5;strokeColor=#00CC66;fillColor=#CCFFE6;fontFamily=Georgia;fontSize=16;&quot; parent=&quot;1&quot; vertex=&quot;1&quot;&gt;\n            &lt;mxGeometry x=&quot;54&quot; y=&quot;60&quot; width=&quot;80&quot; height=&quot;50&quot; as=&quot;geometry&quot; /&gt;\n          &lt;/mxCell&gt;\n        &lt;/UserObject&gt;\n        &lt;mxCell id=&quot;lidfMP7FeTC4yG16FXWw-34&quot; value=&quot;&quot; style=&quot;endArrow=block;html=1;rounded=0;entryX=0.75;entryY=1;entryDx=0;entryDy=0;exitX=0.5;exitY=0;exitDx=0;exitDy=0;strokeColor=#FF3333;strokeWidth=3;endFill=1;endSize=5;startSize=0;&quot; parent=&quot;1&quot; source=&quot;lidfMP7FeTC4yG16FXWw-28&quot; target=&quot;lidfMP7FeTC4yG16FXWw-33&quot; edge=&quot;1&quot;&gt;\n          &lt;mxGeometry width=&quot;50&quot; height=&quot;50&quot; relative=&quot;1&quot; as=&quot;geometry&quot;&gt;\n            &lt;mxPoint x=&quot;382&quot; y=&quot;170&quot; as=&quot;sourcePoint&quot; /&gt;\n            &lt;mxPoint x=&quot;358&quot; y=&quot;130&quot; as=&quot;targetPoint&quot; /&gt;\n          &lt;/mxGeometry&gt;\n        &lt;/mxCell&gt;\n        &lt;mxCell id=&quot;lidfMP7FeTC4yG16FXWw-35&quot; value=&quot;NO&quot; style=&quot;edgeLabel;html=1;align=center;verticalAlign=middle;resizable=0;points=[];fontFamily=Georgia;fontColor=#FF3333;fontSize=12;fontStyle=1;labelBackgroundColor=#FFCCCC;&quot; parent=&quot;lidfMP7FeTC4yG16FXWw-34&quot; vertex=&quot;1&quot; connectable=&quot;0&quot;&gt;\n          &lt;mxGeometry x=&quot;-0.1867&quot; y=&quot;2&quot; relative=&quot;1&quot; as=&quot;geometry&quot;&gt;\n            &lt;mxPoint as=&quot;offset&quot; /&gt;\n          &lt;/mxGeometry&gt;\n        &lt;/mxCell&gt;\n        &lt;UserObject label=&quot;Linear&amp;lt;div&amp;gt;SVC&amp;lt;/div&amp;gt;&quot; link=&quot;./modules/svm.html#classification&quot; id=&quot;lidfMP7FeTC4yG16FXWw-36&quot;&gt;\n          &lt;mxCell style=&quot;rounded=1;whiteSpace=wrap;html=1;strokeWidth=5;strokeColor=#00CC66;fillColor=#CCFFE6;fontFamily=Georgia;fontSize=16;&quot; parent=&quot;1&quot; vertex=&quot;1&quot;&gt;\n            &lt;mxGeometry x=&quot;-30&quot; y=&quot;210&quot; width=&quot;60&quot; height=&quot;50&quot; as=&quot;geometry&quot; /&gt;\n          &lt;/mxCell&gt;\n        &lt;/UserObject&gt;\n        &lt;mxCell id=&quot;lidfMP7FeTC4yG16FXWw-38&quot; value=&quot;&quot; style=&quot;endArrow=block;html=1;rounded=0;entryX=1;entryY=0.5;entryDx=0;entryDy=0;exitX=0;exitY=0.5;exitDx=0;exitDy=0;strokeColor=#009900;strokeWidth=3;endFill=1;endSize=5;startSize=0;&quot; parent=&quot;1&quot; source=&quot;lidfMP7FeTC4yG16FXWw-28&quot; target=&quot;lidfMP7FeTC4yG16FXWw-36&quot; edge=&quot;1&quot;&gt;\n          &lt;mxGeometry width=&quot;50&quot; height=&quot;50&quot; relative=&quot;1&quot; as=&quot;geometry&quot;&gt;\n            &lt;mxPoint x=&quot;162&quot; y=&quot;300&quot; as=&quot;sourcePoint&quot; /&gt;\n            &lt;mxPoint x=&quot;140&quot; y=&quot;250&quot; as=&quot;targetPoint&quot; /&gt;\n          &lt;/mxGeometry&gt;\n        &lt;/mxCell&gt;\n        &lt;mxCell id=&quot;lidfMP7FeTC4yG16FXWw-39&quot; value=&quot;YES&quot; style=&quot;edgeLabel;html=1;align=center;verticalAlign=middle;resizable=0;points=[];fontFamily=Georgia;fontColor=#009900;fontSize=12;fontStyle=1;labelBackgroundColor=#FFCCCC;&quot; parent=&quot;lidfMP7FeTC4yG16FXWw-38&quot; vertex=&quot;1&quot; connectable=&quot;0&quot;&gt;\n          &lt;mxGeometry x=&quot;-0.1867&quot; y=&quot;2&quot; relative=&quot;1&quot; as=&quot;geometry&quot;&gt;\n            &lt;mxPoint as=&quot;offset&quot; /&gt;\n          &lt;/mxGeometry&gt;\n        &lt;/mxCell&gt;\n        &lt;mxCell id=&quot;lidfMP7FeTC4yG16FXWw-42&quot; value=&quot;&amp;lt;div&amp;gt;&amp;lt;span style=&amp;quot;background-color: initial;&amp;quot;&amp;gt;text&amp;lt;/span&amp;gt;&amp;lt;br&amp;gt;&amp;lt;/div&amp;gt;&amp;lt;div&amp;gt;data&amp;lt;/div&amp;gt;&quot; style=&quot;ellipse;whiteSpace=wrap;html=1;fontSize=16;fontFamily=Georgia;labelBorderColor=none;strokeWidth=5;gradientColor=none;fillColor=#CCE5FF;strokeColor=#3399FF;&quot; parent=&quot;1&quot; vertex=&quot;1&quot;&gt;\n          &lt;mxGeometry x=&quot;-190&quot; y=&quot;170&quot; width=&quot;80&quot; height=&quot;70&quot; as=&quot;geometry&quot; /&gt;\n        &lt;/mxCell&gt;\n        &lt;mxCell id=&quot;lidfMP7FeTC4yG16FXWw-43&quot; value=&quot;&quot; style=&quot;endArrow=block;html=1;rounded=0;entryX=1;entryY=0.5;entryDx=0;entryDy=0;exitX=0;exitY=0.25;exitDx=0;exitDy=0;strokeColor=#FF9933;strokeWidth=3;endFill=1;endSize=5;startSize=0;&quot; parent=&quot;1&quot; source=&quot;lidfMP7FeTC4yG16FXWw-36&quot; target=&quot;lidfMP7FeTC4yG16FXWw-42&quot; edge=&quot;1&quot;&gt;\n          &lt;mxGeometry width=&quot;50&quot; height=&quot;50&quot; relative=&quot;1&quot; as=&quot;geometry&quot;&gt;\n            &lt;mxPoint x=&quot;492&quot; y=&quot;100&quot; as=&quot;sourcePoint&quot; /&gt;\n            &lt;mxPoint x=&quot;438&quot; y=&quot;170&quot; as=&quot;targetPoint&quot; /&gt;\n          &lt;/mxGeometry&gt;\n        &lt;/mxCell&gt;\n        &lt;UserObject label=&quot;Kernel&amp;lt;div&amp;gt;Approximation&amp;lt;/div&amp;gt;&quot; link=&quot;./modules/kernel_approximation.html&quot; id=&quot;lidfMP7FeTC4yG16FXWw-46&quot;&gt;\n          &lt;mxCell style=&quot;rounded=1;whiteSpace=wrap;html=1;strokeWidth=5;strokeColor=#00CC66;fillColor=#CCFFE6;fontFamily=Georgia;fontSize=16;&quot; parent=&quot;1&quot; vertex=&quot;1&quot;&gt;\n            &lt;mxGeometry x=&quot;-136&quot; width=&quot;120&quot; height=&quot;50&quot; as=&quot;geometry&quot; /&gt;\n          &lt;/mxCell&gt;\n        &lt;/UserObject&gt;\n        &lt;mxCell id=&quot;lidfMP7FeTC4yG16FXWw-47&quot; value=&quot;&quot; style=&quot;endArrow=block;html=1;rounded=0;entryX=1;entryY=0.75;entryDx=0;entryDy=0;exitX=0;exitY=0.25;exitDx=0;exitDy=0;strokeColor=#FF9933;strokeWidth=3;endFill=1;endSize=5;startSize=0;&quot; parent=&quot;1&quot; source=&quot;lidfMP7FeTC4yG16FXWw-33&quot; target=&quot;lidfMP7FeTC4yG16FXWw-46&quot; edge=&quot;1&quot;&gt;\n          &lt;mxGeometry width=&quot;50&quot; height=&quot;50&quot; relative=&quot;1&quot; as=&quot;geometry&quot;&gt;\n            &lt;mxPoint x=&quot;-30&quot; y=&quot;213&quot; as=&quot;sourcePoint&quot; /&gt;\n            &lt;mxPoint x=&quot;-140&quot; y=&quot;195&quot; as=&quot;targetPoint&quot; /&gt;\n          &lt;/mxGeometry&gt;\n        &lt;/mxCell&gt;\n        &lt;UserObject label=&quot;KNeighbors&amp;lt;div&amp;gt;Classifier&amp;lt;/div&amp;gt;&quot; link=&quot;./modules/neighbors.html&quot; id=&quot;lidfMP7FeTC4yG16FXWw-49&quot;&gt;\n          &lt;mxCell style=&quot;rounded=1;whiteSpace=wrap;html=1;strokeWidth=5;strokeColor=#00CC66;fillColor=#CCFFE6;fontFamily=Georgia;fontSize=16;&quot; parent=&quot;1&quot; vertex=&quot;1&quot;&gt;\n            &lt;mxGeometry x=&quot;-170&quot; y=&quot;80&quot; width=&quot;100&quot; height=&quot;50&quot; as=&quot;geometry&quot; /&gt;\n          &lt;/mxCell&gt;\n        &lt;/UserObject&gt;\n        &lt;mxCell id=&quot;lidfMP7FeTC4yG16FXWw-50&quot; value=&quot;&quot; style=&quot;endArrow=block;html=1;rounded=0;entryX=0.25;entryY=1;entryDx=0;entryDy=0;exitX=0.5;exitY=0;exitDx=0;exitDy=0;strokeColor=#FF3333;strokeWidth=3;endFill=1;endSize=5;startSize=0;&quot; parent=&quot;1&quot; source=&quot;lidfMP7FeTC4yG16FXWw-42&quot; target=&quot;lidfMP7FeTC4yG16FXWw-49&quot; edge=&quot;1&quot;&gt;\n          &lt;mxGeometry width=&quot;50&quot; height=&quot;50&quot; relative=&quot;1&quot; as=&quot;geometry&quot;&gt;\n            &lt;mxPoint x=&quot;140&quot; y=&quot;180&quot; as=&quot;sourcePoint&quot; /&gt;\n            &lt;mxPoint x=&quot;120&quot; y=&quot;120&quot; as=&quot;targetPoint&quot; /&gt;\n          &lt;/mxGeometry&gt;\n        &lt;/mxCell&gt;\n        &lt;mxCell id=&quot;lidfMP7FeTC4yG16FXWw-51&quot; value=&quot;NO&quot; style=&quot;edgeLabel;html=1;align=center;verticalAlign=middle;resizable=0;points=[];fontFamily=Georgia;fontColor=#FF3333;fontSize=12;fontStyle=1;labelBackgroundColor=#FFCCCC;&quot; parent=&quot;lidfMP7FeTC4yG16FXWw-50&quot; vertex=&quot;1&quot; connectable=&quot;0&quot;&gt;\n          &lt;mxGeometry x=&quot;-0.1867&quot; y=&quot;2&quot; relative=&quot;1&quot; as=&quot;geometry&quot;&gt;\n            &lt;mxPoint as=&quot;offset&quot; /&gt;\n          &lt;/mxGeometry&gt;\n        &lt;/mxCell&gt;\n        &lt;UserObject label=&quot;SVC&quot; link=&quot;./modules/svm.html#classification&quot; id=&quot;lidfMP7FeTC4yG16FXWw-52&quot;&gt;\n          &lt;mxCell style=&quot;rounded=1;whiteSpace=wrap;html=1;strokeWidth=5;strokeColor=#00CC66;fillColor=#CCFFE6;fontFamily=Georgia;fontSize=16;&quot; parent=&quot;1&quot; vertex=&quot;1&quot;&gt;\n            &lt;mxGeometry x=&quot;-328.51&quot; y=&quot;55&quot; width=&quot;90&quot; height=&quot;30&quot; as=&quot;geometry&quot; /&gt;\n          &lt;/mxCell&gt;\n        &lt;/UserObject&gt;\n        &lt;UserObject label=&quot;Ensemble&amp;lt;div&amp;gt;Classifiers&amp;lt;/div&amp;gt;&quot; link=&quot;./modules/ensemble.html&quot; id=&quot;lidfMP7FeTC4yG16FXWw-54&quot;&gt;\n          &lt;mxCell style=&quot;rounded=1;whiteSpace=wrap;html=1;strokeWidth=5;strokeColor=#00CC66;fillColor=#CCFFE6;fontFamily=Georgia;fontSize=16;&quot; parent=&quot;1&quot; vertex=&quot;1&quot;&gt;\n            &lt;mxGeometry x=&quot;-328.51&quot; y=&quot;85&quot; width=&quot;90&quot; height=&quot;50&quot; as=&quot;geometry&quot; /&gt;\n          &lt;/mxCell&gt;\n        &lt;/UserObject&gt;\n        &lt;mxCell id=&quot;lidfMP7FeTC4yG16FXWw-56&quot; value=&quot;&quot; style=&quot;endArrow=block;html=1;rounded=0;entryX=1;entryY=0.25;entryDx=0;entryDy=0;exitX=0;exitY=0.5;exitDx=0;exitDy=0;strokeColor=#FF9933;strokeWidth=3;endFill=1;endSize=5;startSize=0;&quot; parent=&quot;1&quot; source=&quot;lidfMP7FeTC4yG16FXWw-49&quot; target=&quot;lidfMP7FeTC4yG16FXWw-54&quot; edge=&quot;1&quot;&gt;\n          &lt;mxGeometry width=&quot;50&quot; height=&quot;50&quot; relative=&quot;1&quot; as=&quot;geometry&quot;&gt;\n            &lt;mxPoint x=&quot;-20&quot; y=&quot;233&quot; as=&quot;sourcePoint&quot; /&gt;\n            &lt;mxPoint x=&quot;-90&quot; y=&quot;225&quot; as=&quot;targetPoint&quot; /&gt;\n          &lt;/mxGeometry&gt;\n        &lt;/mxCell&gt;\n        &lt;UserObject label=&quot;Naive&amp;lt;div&amp;gt;Bayes&amp;lt;/div&amp;gt;&quot; link=&quot;./modules/naive_bayes.html&quot; id=&quot;lidfMP7FeTC4yG16FXWw-58&quot;&gt;\n          &lt;mxCell style=&quot;rounded=1;whiteSpace=wrap;html=1;strokeWidth=5;strokeColor=#00CC66;fillColor=#CCFFE6;fontFamily=Georgia;fontSize=16;&quot; parent=&quot;1&quot; vertex=&quot;1&quot;&gt;\n            &lt;mxGeometry x=&quot;-313.51&quot; y=&quot;170&quot; width=&quot;60&quot; height=&quot;50&quot; as=&quot;geometry&quot; /&gt;\n          &lt;/mxCell&gt;\n        &lt;/UserObject&gt;\n        &lt;mxCell id=&quot;lidfMP7FeTC4yG16FXWw-60&quot; value=&quot;&quot; style=&quot;endArrow=block;html=1;rounded=0;entryX=1;entryY=0.5;entryDx=0;entryDy=0;exitX=0;exitY=0.5;exitDx=0;exitDy=0;strokeColor=#009900;strokeWidth=3;endFill=1;endSize=5;startSize=0;&quot; parent=&quot;1&quot; source=&quot;lidfMP7FeTC4yG16FXWw-42&quot; target=&quot;lidfMP7FeTC4yG16FXWw-58&quot; edge=&quot;1&quot;&gt;\n          &lt;mxGeometry width=&quot;50&quot; height=&quot;50&quot; relative=&quot;1&quot; as=&quot;geometry&quot;&gt;\n            &lt;mxPoint x=&quot;100&quot; y=&quot;215&quot; as=&quot;sourcePoint&quot; /&gt;\n            &lt;mxPoint x=&quot;40&quot; y=&quot;233&quot; as=&quot;targetPoint&quot; /&gt;\n          &lt;/mxGeometry&gt;\n        &lt;/mxCell&gt;\n        &lt;mxCell id=&quot;lidfMP7FeTC4yG16FXWw-61&quot; value=&quot;YES&quot; style=&quot;edgeLabel;html=1;align=center;verticalAlign=middle;resizable=0;points=[];fontFamily=Georgia;fontColor=#009900;fontSize=12;fontStyle=1;labelBackgroundColor=#FFCCCC;&quot; parent=&quot;lidfMP7FeTC4yG16FXWw-60&quot; vertex=&quot;1&quot; connectable=&quot;0&quot;&gt;\n          &lt;mxGeometry x=&quot;-0.1867&quot; y=&quot;2&quot; relative=&quot;1&quot; as=&quot;geometry&quot;&gt;\n            &lt;mxPoint as=&quot;offset&quot; /&gt;\n          &lt;/mxGeometry&gt;\n        &lt;/mxCell&gt;\n        &lt;mxCell id=&quot;lidfMP7FeTC4yG16FXWw-62&quot; value=&quot;&amp;lt;span style=&amp;quot;font-size: 24px;&amp;quot;&amp;gt;&amp;lt;font face=&amp;quot;Georgia&amp;quot; style=&amp;quot;font-size: 24px;&amp;quot;&amp;gt;classification&amp;lt;/font&amp;gt;&amp;lt;/span&amp;gt;&quot; style=&quot;text;html=1;align=center;verticalAlign=middle;whiteSpace=wrap;rounded=0;fontSize=24;fontStyle=1&quot; parent=&quot;1&quot; vertex=&quot;1&quot;&gt;\n          &lt;mxGeometry x=&quot;-350&quot; y=&quot;-10&quot; width=&quot;170&quot; height=&quot;40&quot; as=&quot;geometry&quot; /&gt;\n        &lt;/mxCell&gt;\n        &lt;mxCell id=&quot;ZhISbIufsCQTaueA5Ebt-10&quot; value=&quot;&amp;lt;div style=&amp;quot;font-size: 12px;&amp;quot;&amp;gt;&amp;lt;font style=&amp;quot;font-size: 12px;&amp;quot;&amp;gt;&amp;lt;span style=&amp;quot;background-color: initial; font-size: 12px;&amp;quot;&amp;gt;number of&amp;lt;/span&amp;gt;&amp;lt;br style=&amp;quot;font-size: 12px;&amp;quot;&amp;gt;&amp;lt;/font&amp;gt;&amp;lt;/div&amp;gt;&amp;lt;div style=&amp;quot;font-size: 12px;&amp;quot;&amp;gt;&amp;lt;font style=&amp;quot;font-size: 12px;&amp;quot;&amp;gt;categories&amp;lt;/font&amp;gt;&amp;lt;/div&amp;gt;&amp;lt;div style=&amp;quot;font-size: 12px;&amp;quot;&amp;gt;&amp;lt;font style=&amp;quot;font-size: 12px;&amp;quot;&amp;gt;known&amp;lt;/font&amp;gt;&amp;lt;/div&amp;gt;&quot; style=&quot;ellipse;whiteSpace=wrap;html=1;fontSize=12;fontFamily=Georgia;labelBorderColor=none;strokeWidth=5;gradientColor=none;fillColor=#CCE5FF;strokeColor=#3399FF;&quot; parent=&quot;1&quot; vertex=&quot;1&quot;&gt;\n          &lt;mxGeometry x=&quot;14&quot; y=&quot;358&quot; width=&quot;80&quot; height=&quot;70&quot; as=&quot;geometry&quot; /&gt;\n        &lt;/mxCell&gt;\n        &lt;mxCell id=&quot;ZhISbIufsCQTaueA5Ebt-11&quot; value=&quot;&quot; style=&quot;endArrow=block;html=1;rounded=0;entryX=1;entryY=0;entryDx=0;entryDy=0;exitX=0;exitY=0.5;exitDx=0;exitDy=0;strokeColor=#FF3333;strokeWidth=3;endFill=1;endSize=5;startSize=0;&quot; parent=&quot;1&quot; source=&quot;lidfMP7FeTC4yG16FXWw-10&quot; target=&quot;ZhISbIufsCQTaueA5Ebt-10&quot; edge=&quot;1&quot;&gt;\n          &lt;mxGeometry width=&quot;50&quot; height=&quot;50&quot; relative=&quot;1&quot; as=&quot;geometry&quot;&gt;\n            &lt;mxPoint x=&quot;395&quot; y=&quot;430&quot; as=&quot;sourcePoint&quot; /&gt;\n            &lt;mxPoint x=&quot;370&quot; y=&quot;470&quot; as=&quot;targetPoint&quot; /&gt;\n          &lt;/mxGeometry&gt;\n        &lt;/mxCell&gt;\n        &lt;mxCell id=&quot;ZhISbIufsCQTaueA5Ebt-12&quot; value=&quot;NO&quot; style=&quot;edgeLabel;html=1;align=center;verticalAlign=middle;resizable=0;points=[];fontFamily=Georgia;fontColor=#FF3333;fontSize=12;fontStyle=1;labelBackgroundColor=#E5CCFF;&quot; parent=&quot;ZhISbIufsCQTaueA5Ebt-11&quot; vertex=&quot;1&quot; connectable=&quot;0&quot;&gt;\n          &lt;mxGeometry x=&quot;-0.1867&quot; y=&quot;2&quot; relative=&quot;1&quot; as=&quot;geometry&quot;&gt;\n            &lt;mxPoint as=&quot;offset&quot; /&gt;\n          &lt;/mxGeometry&gt;\n        &lt;/mxCell&gt;\n        &lt;mxCell id=&quot;ZhISbIufsCQTaueA5Ebt-14&quot; value=&quot;&amp;lt;font style=&amp;quot;font-size: 16px;&amp;quot;&amp;gt;&amp;amp;lt;10K&amp;lt;/font&amp;gt;&amp;lt;div style=&amp;quot;&amp;quot;&amp;gt;&amp;lt;span style=&amp;quot;&amp;quot;&amp;gt;&amp;lt;font style=&amp;quot;font-size: 10px;&amp;quot;&amp;gt;samples&amp;lt;/font&amp;gt;&amp;lt;/span&amp;gt;&amp;lt;/div&amp;gt;&quot; style=&quot;ellipse;whiteSpace=wrap;html=1;fontSize=16;fontFamily=Georgia;labelBorderColor=none;strokeWidth=5;gradientColor=none;fillColor=#CCE5FF;strokeColor=#3399FF;&quot; parent=&quot;1&quot; vertex=&quot;1&quot;&gt;\n          &lt;mxGeometry x=&quot;78&quot; y=&quot;463&quot; width=&quot;80&quot; height=&quot;70&quot; as=&quot;geometry&quot; /&gt;\n        &lt;/mxCell&gt;\n        &lt;mxCell id=&quot;ZhISbIufsCQTaueA5Ebt-15&quot; value=&quot;&amp;lt;font style=&amp;quot;font-size: 16px;&amp;quot;&amp;gt;&amp;amp;lt;10K&amp;lt;/font&amp;gt;&amp;lt;div style=&amp;quot;&amp;quot;&amp;gt;&amp;lt;span style=&amp;quot;&amp;quot;&amp;gt;&amp;lt;font style=&amp;quot;font-size: 10px;&amp;quot;&amp;gt;samples&amp;lt;/font&amp;gt;&amp;lt;/span&amp;gt;&amp;lt;/div&amp;gt;&quot; style=&quot;ellipse;whiteSpace=wrap;html=1;fontSize=16;fontFamily=Georgia;labelBorderColor=none;strokeWidth=5;gradientColor=none;fillColor=#CCE5FF;strokeColor=#3399FF;&quot; parent=&quot;1&quot; vertex=&quot;1&quot;&gt;\n          &lt;mxGeometry x=&quot;-140&quot; y=&quot;410&quot; width=&quot;80&quot; height=&quot;70&quot; as=&quot;geometry&quot; /&gt;\n        &lt;/mxCell&gt;\n        &lt;mxCell id=&quot;ZhISbIufsCQTaueA5Ebt-16&quot; value=&quot;&quot; style=&quot;endArrow=block;html=1;rounded=0;entryX=0;entryY=0;entryDx=0;entryDy=0;exitX=1;exitY=0.5;exitDx=0;exitDy=0;strokeColor=#FF3333;strokeWidth=3;endFill=1;endSize=5;startSize=0;&quot; parent=&quot;1&quot; source=&quot;ZhISbIufsCQTaueA5Ebt-14&quot; target=&quot;lidfMP7FeTC4yG16FXWw-26&quot; edge=&quot;1&quot;&gt;\n          &lt;mxGeometry width=&quot;50&quot; height=&quot;50&quot; relative=&quot;1&quot; as=&quot;geometry&quot;&gt;\n            &lt;mxPoint x=&quot;370&quot; y=&quot;540&quot; as=&quot;sourcePoint&quot; /&gt;\n            &lt;mxPoint x=&quot;395&quot; y=&quot;600&quot; as=&quot;targetPoint&quot; /&gt;\n          &lt;/mxGeometry&gt;\n        &lt;/mxCell&gt;\n        &lt;mxCell id=&quot;ZhISbIufsCQTaueA5Ebt-17&quot; value=&quot;NO&quot; style=&quot;edgeLabel;html=1;align=center;verticalAlign=middle;resizable=0;points=[];fontFamily=Georgia;fontColor=#FF3333;fontSize=12;fontStyle=1;labelBackgroundColor=#E5CCFF;&quot; parent=&quot;ZhISbIufsCQTaueA5Ebt-16&quot; vertex=&quot;1&quot; connectable=&quot;0&quot;&gt;\n          &lt;mxGeometry x=&quot;-0.1867&quot; y=&quot;2&quot; relative=&quot;1&quot; as=&quot;geometry&quot;&gt;\n            &lt;mxPoint as=&quot;offset&quot; /&gt;\n          &lt;/mxGeometry&gt;\n        &lt;/mxCell&gt;\n        &lt;mxCell id=&quot;ZhISbIufsCQTaueA5Ebt-18&quot; value=&quot;&quot; style=&quot;endArrow=block;html=1;rounded=0;entryX=0;entryY=0;entryDx=0;entryDy=0;exitX=1;exitY=1;exitDx=0;exitDy=0;strokeColor=#FF3333;strokeWidth=3;endFill=1;endSize=5;startSize=0;&quot; parent=&quot;1&quot; source=&quot;ZhISbIufsCQTaueA5Ebt-10&quot; target=&quot;ZhISbIufsCQTaueA5Ebt-14&quot; edge=&quot;1&quot;&gt;\n          &lt;mxGeometry width=&quot;50&quot; height=&quot;50&quot; relative=&quot;1&quot; as=&quot;geometry&quot;&gt;\n            &lt;mxPoint x=&quot;120&quot; y=&quot;550&quot; as=&quot;sourcePoint&quot; /&gt;\n            &lt;mxPoint x=&quot;202&quot; y=&quot;620&quot; as=&quot;targetPoint&quot; /&gt;\n          &lt;/mxGeometry&gt;\n        &lt;/mxCell&gt;\n        &lt;mxCell id=&quot;ZhISbIufsCQTaueA5Ebt-19&quot; value=&quot;NO&quot; style=&quot;edgeLabel;html=1;align=center;verticalAlign=middle;resizable=0;points=[];fontFamily=Georgia;fontColor=#FF3333;fontSize=12;fontStyle=1;labelBackgroundColor=#E5CCFF;&quot; parent=&quot;ZhISbIufsCQTaueA5Ebt-18&quot; vertex=&quot;1&quot; connectable=&quot;0&quot;&gt;\n          &lt;mxGeometry x=&quot;-0.1867&quot; y=&quot;2&quot; relative=&quot;1&quot; as=&quot;geometry&quot;&gt;\n            &lt;mxPoint as=&quot;offset&quot; /&gt;\n          &lt;/mxGeometry&gt;\n        &lt;/mxCell&gt;\n        &lt;mxCell id=&quot;ZhISbIufsCQTaueA5Ebt-20&quot; value=&quot;&quot; style=&quot;endArrow=block;html=1;rounded=0;entryX=1;entryY=0;entryDx=0;entryDy=0;exitX=0;exitY=0.5;exitDx=0;exitDy=0;strokeColor=#009900;strokeWidth=3;endFill=1;endSize=5;startSize=0;&quot; parent=&quot;1&quot; source=&quot;ZhISbIufsCQTaueA5Ebt-10&quot; target=&quot;ZhISbIufsCQTaueA5Ebt-15&quot; edge=&quot;1&quot;&gt;\n          &lt;mxGeometry width=&quot;50&quot; height=&quot;50&quot; relative=&quot;1&quot; as=&quot;geometry&quot;&gt;\n            &lt;mxPoint x=&quot;355&quot; y=&quot;330&quot; as=&quot;sourcePoint&quot; /&gt;\n            &lt;mxPoint x=&quot;300&quot; y=&quot;345&quot; as=&quot;targetPoint&quot; /&gt;\n          &lt;/mxGeometry&gt;\n        &lt;/mxCell&gt;\n        &lt;mxCell id=&quot;ZhISbIufsCQTaueA5Ebt-21&quot; value=&quot;YES&quot; style=&quot;edgeLabel;html=1;align=center;verticalAlign=middle;resizable=0;points=[];fontFamily=Georgia;fontColor=#009900;fontSize=12;fontStyle=1;labelBackgroundColor=#E5CCFF;&quot; parent=&quot;ZhISbIufsCQTaueA5Ebt-20&quot; vertex=&quot;1&quot; connectable=&quot;0&quot;&gt;\n          &lt;mxGeometry x=&quot;-0.1867&quot; y=&quot;2&quot; relative=&quot;1&quot; as=&quot;geometry&quot;&gt;\n            &lt;mxPoint as=&quot;offset&quot; /&gt;\n          &lt;/mxGeometry&gt;\n        &lt;/mxCell&gt;\n        &lt;UserObject label=&quot;MeanShift&quot; link=&quot;./modules/clustering.html#mean-shift&quot; id=&quot;ZhISbIufsCQTaueA5Ebt-22&quot;&gt;\n          &lt;mxCell style=&quot;rounded=1;whiteSpace=wrap;html=1;strokeWidth=5;strokeColor=#00CC66;fillColor=#CCFFE6;fontFamily=Georgia;fontSize=16;&quot; parent=&quot;1&quot; vertex=&quot;1&quot;&gt;\n            &lt;mxGeometry x=&quot;-55&quot; y=&quot;530&quot; width=&quot;90&quot; height=&quot;30&quot; as=&quot;geometry&quot; /&gt;\n          &lt;/mxCell&gt;\n        &lt;/UserObject&gt;\n        &lt;UserObject label=&quot;VBGMM&quot; link=&quot;./modules/mixture.html#bgmm&quot; id=&quot;ZhISbIufsCQTaueA5Ebt-23&quot;&gt;\n          &lt;mxCell style=&quot;rounded=1;whiteSpace=wrap;html=1;strokeWidth=5;strokeColor=#00CC66;fillColor=#CCFFE6;fontFamily=Georgia;fontSize=16;&quot; parent=&quot;1&quot; vertex=&quot;1&quot;&gt;\n            &lt;mxGeometry x=&quot;-55&quot; y=&quot;560&quot; width=&quot;90&quot; height=&quot;30&quot; as=&quot;geometry&quot; /&gt;\n          &lt;/mxCell&gt;\n        &lt;/UserObject&gt;\n        &lt;mxCell id=&quot;ZhISbIufsCQTaueA5Ebt-24&quot; value=&quot;&quot; style=&quot;endArrow=block;html=1;rounded=0;entryX=1;entryY=0.75;entryDx=0;entryDy=0;exitX=0;exitY=1;exitDx=0;exitDy=0;strokeColor=#009900;strokeWidth=3;endFill=1;endSize=5;startSize=0;&quot; parent=&quot;1&quot; source=&quot;ZhISbIufsCQTaueA5Ebt-14&quot; target=&quot;ZhISbIufsCQTaueA5Ebt-22&quot; edge=&quot;1&quot;&gt;\n          &lt;mxGeometry width=&quot;50&quot; height=&quot;50&quot; relative=&quot;1&quot; as=&quot;geometry&quot;&gt;\n            &lt;mxPoint x=&quot;10&quot; y=&quot;405&quot; as=&quot;sourcePoint&quot; /&gt;\n            &lt;mxPoint x=&quot;-61&quot; y=&quot;430&quot; as=&quot;targetPoint&quot; /&gt;\n          &lt;/mxGeometry&gt;\n        &lt;/mxCell&gt;\n        &lt;mxCell id=&quot;ZhISbIufsCQTaueA5Ebt-25&quot; value=&quot;YES&quot; style=&quot;edgeLabel;html=1;align=center;verticalAlign=middle;resizable=0;points=[];fontFamily=Georgia;fontColor=#009900;fontSize=12;fontStyle=1;labelBackgroundColor=#E5CCFF;&quot; parent=&quot;ZhISbIufsCQTaueA5Ebt-24&quot; vertex=&quot;1&quot; connectable=&quot;0&quot;&gt;\n          &lt;mxGeometry x=&quot;-0.1867&quot; y=&quot;2&quot; relative=&quot;1&quot; as=&quot;geometry&quot;&gt;\n            &lt;mxPoint as=&quot;offset&quot; /&gt;\n          &lt;/mxGeometry&gt;\n        &lt;/mxCell&gt;\n        &lt;UserObject label=&quot;MiniBatch&amp;lt;div&amp;gt;KMeans&amp;lt;/div&amp;gt;&quot; link=&quot;./modules/clustering.html#mini-batch-k-means&quot; id=&quot;ZhISbIufsCQTaueA5Ebt-26&quot;&gt;\n          &lt;mxCell style=&quot;rounded=1;whiteSpace=wrap;html=1;strokeWidth=5;strokeColor=#00CC66;fillColor=#CCFFE6;fontFamily=Georgia;fontSize=16;&quot; parent=&quot;1&quot; vertex=&quot;1&quot;&gt;\n            &lt;mxGeometry x=&quot;-195&quot; y=&quot;520&quot; width=&quot;90&quot; height=&quot;50&quot; as=&quot;geometry&quot; /&gt;\n          &lt;/mxCell&gt;\n        &lt;/UserObject&gt;\n        &lt;mxCell id=&quot;ZhISbIufsCQTaueA5Ebt-27&quot; value=&quot;&quot; style=&quot;endArrow=block;html=1;rounded=0;entryX=0.5;entryY=0;entryDx=0;entryDy=0;exitX=0;exitY=1;exitDx=0;exitDy=0;strokeColor=#FF3333;strokeWidth=3;endFill=1;endSize=5;startSize=0;&quot; parent=&quot;1&quot; source=&quot;ZhISbIufsCQTaueA5Ebt-15&quot; target=&quot;ZhISbIufsCQTaueA5Ebt-26&quot; edge=&quot;1&quot;&gt;\n          &lt;mxGeometry width=&quot;50&quot; height=&quot;50&quot; relative=&quot;1&quot; as=&quot;geometry&quot;&gt;\n            &lt;mxPoint x=&quot;79&quot; y=&quot;430&quot; as=&quot;sourcePoint&quot; /&gt;\n            &lt;mxPoint x=&quot;91&quot; y=&quot;480&quot; as=&quot;targetPoint&quot; /&gt;\n          &lt;/mxGeometry&gt;\n        &lt;/mxCell&gt;\n        &lt;mxCell id=&quot;ZhISbIufsCQTaueA5Ebt-28&quot; value=&quot;NO&quot; style=&quot;edgeLabel;html=1;align=center;verticalAlign=middle;resizable=0;points=[];fontFamily=Georgia;fontColor=#FF3333;fontSize=12;fontStyle=1;labelBackgroundColor=#E5CCFF;&quot; parent=&quot;ZhISbIufsCQTaueA5Ebt-27&quot; vertex=&quot;1&quot; connectable=&quot;0&quot;&gt;\n          &lt;mxGeometry x=&quot;-0.1867&quot; y=&quot;2&quot; relative=&quot;1&quot; as=&quot;geometry&quot;&gt;\n            &lt;mxPoint as=&quot;offset&quot; /&gt;\n          &lt;/mxGeometry&gt;\n        &lt;/mxCell&gt;\n        &lt;mxCell id=&quot;ZhISbIufsCQTaueA5Ebt-29&quot; value=&quot;&amp;lt;span style=&amp;quot;font-size: 24px;&amp;quot;&amp;gt;&amp;lt;font face=&amp;quot;Georgia&amp;quot; style=&amp;quot;font-size: 24px;&amp;quot;&amp;gt;clustering&amp;lt;/font&amp;gt;&amp;lt;/span&amp;gt;&quot; style=&quot;text;html=1;align=center;verticalAlign=middle;whiteSpace=wrap;rounded=0;fontSize=24;fontStyle=1&quot; parent=&quot;1&quot; vertex=&quot;1&quot;&gt;\n          &lt;mxGeometry x=&quot;-347.02&quot; y=&quot;480&quot; width=&quot;138.51&quot; height=&quot;40&quot; as=&quot;geometry&quot; /&gt;\n        &lt;/mxCell&gt;\n        &lt;UserObject label=&quot;KMeans&quot; link=&quot;./modules/clustering.html#k-means&quot; id=&quot;ZhISbIufsCQTaueA5Ebt-30&quot;&gt;\n          &lt;mxCell style=&quot;rounded=1;whiteSpace=wrap;html=1;strokeWidth=5;strokeColor=#00CC66;fillColor=#CCFFE6;fontFamily=Georgia;fontSize=16;&quot; parent=&quot;1&quot; vertex=&quot;1&quot;&gt;\n            &lt;mxGeometry x=&quot;-196.51&quot; y=&quot;340&quot; width=&quot;78.51&quot; height=&quot;30&quot; as=&quot;geometry&quot; /&gt;\n          &lt;/mxCell&gt;\n        &lt;/UserObject&gt;\n        &lt;mxCell id=&quot;ZhISbIufsCQTaueA5Ebt-31&quot; value=&quot;&quot; style=&quot;endArrow=block;html=1;rounded=0;entryX=0.75;entryY=1;entryDx=0;entryDy=0;exitX=0;exitY=0;exitDx=0;exitDy=0;strokeColor=#009900;strokeWidth=3;endFill=1;endSize=5;startSize=0;&quot; parent=&quot;1&quot; source=&quot;ZhISbIufsCQTaueA5Ebt-15&quot; target=&quot;ZhISbIufsCQTaueA5Ebt-30&quot; edge=&quot;1&quot;&gt;\n          &lt;mxGeometry width=&quot;50&quot; height=&quot;50&quot; relative=&quot;1&quot; as=&quot;geometry&quot;&gt;\n            &lt;mxPoint x=&quot;10&quot; y=&quot;405&quot; as=&quot;sourcePoint&quot; /&gt;\n            &lt;mxPoint x=&quot;-61&quot; y=&quot;430&quot; as=&quot;targetPoint&quot; /&gt;\n          &lt;/mxGeometry&gt;\n        &lt;/mxCell&gt;\n        &lt;mxCell id=&quot;ZhISbIufsCQTaueA5Ebt-32&quot; value=&quot;YES&quot; style=&quot;edgeLabel;html=1;align=center;verticalAlign=middle;resizable=0;points=[];fontFamily=Georgia;fontColor=#009900;fontSize=12;fontStyle=1;labelBackgroundColor=#E5CCFF;&quot; parent=&quot;ZhISbIufsCQTaueA5Ebt-31&quot; vertex=&quot;1&quot; connectable=&quot;0&quot;&gt;\n          &lt;mxGeometry x=&quot;-0.1867&quot; y=&quot;2&quot; relative=&quot;1&quot; as=&quot;geometry&quot;&gt;\n            &lt;mxPoint as=&quot;offset&quot; /&gt;\n          &lt;/mxGeometry&gt;\n        &lt;/mxCell&gt;\n        &lt;UserObject label=&quot;&amp;lt;div&amp;gt;Spectral&amp;lt;/div&amp;gt;&amp;lt;div&amp;gt;Clustering&amp;lt;/div&amp;gt;&quot; link=&quot;./modules/clustering.html#spectral-clustering&quot; id=&quot;ZhISbIufsCQTaueA5Ebt-33&quot;&gt;\n          &lt;mxCell style=&quot;rounded=1;whiteSpace=wrap;html=1;strokeWidth=5;strokeColor=#00CC66;fillColor=#CCFFE6;fontFamily=Georgia;fontSize=16;&quot; parent=&quot;1&quot; vertex=&quot;1&quot;&gt;\n            &lt;mxGeometry x=&quot;-350&quot; y=&quot;380&quot; width=&quot;90&quot; height=&quot;50&quot; as=&quot;geometry&quot; /&gt;\n          &lt;/mxCell&gt;\n        &lt;/UserObject&gt;\n        &lt;UserObject label=&quot;GMM&quot; link=&quot;./modules/mixture.html&quot; id=&quot;ZhISbIufsCQTaueA5Ebt-34&quot;&gt;\n          &lt;mxCell style=&quot;rounded=1;whiteSpace=wrap;html=1;strokeWidth=5;strokeColor=#00CC66;fillColor=#CCFFE6;fontFamily=Georgia;fontSize=16;&quot; parent=&quot;1&quot; vertex=&quot;1&quot;&gt;\n            &lt;mxGeometry x=&quot;-350&quot; y=&quot;430&quot; width=&quot;90&quot; height=&quot;30&quot; as=&quot;geometry&quot; /&gt;\n          &lt;/mxCell&gt;\n        &lt;/UserObject&gt;\n        &lt;mxCell id=&quot;ZhISbIufsCQTaueA5Ebt-35&quot; value=&quot;&quot; style=&quot;endArrow=block;html=1;rounded=0;entryX=1;entryY=0.25;entryDx=0;entryDy=0;exitX=0;exitY=0.75;exitDx=0;exitDy=0;strokeColor=#FF9933;strokeWidth=3;endFill=1;endSize=5;startSize=0;&quot; parent=&quot;1&quot; source=&quot;ZhISbIufsCQTaueA5Ebt-30&quot; target=&quot;ZhISbIufsCQTaueA5Ebt-33&quot; edge=&quot;1&quot;&gt;\n          &lt;mxGeometry width=&quot;50&quot; height=&quot;50&quot; relative=&quot;1&quot; as=&quot;geometry&quot;&gt;\n            &lt;mxPoint x=&quot;-20&quot; y=&quot;233&quot; as=&quot;sourcePoint&quot; /&gt;\n            &lt;mxPoint x=&quot;-100&quot; y=&quot;215&quot; as=&quot;targetPoint&quot; /&gt;\n          &lt;/mxGeometry&gt;\n        &lt;/mxCell&gt;\n        &lt;mxCell id=&quot;ke5fKqay8JjYpE_cKGV5-1&quot; value=&quot;&amp;lt;font style=&amp;quot;font-size: 16px;&amp;quot;&amp;gt;&amp;amp;lt;100K&amp;lt;/font&amp;gt;&amp;lt;div style=&amp;quot;&amp;quot;&amp;gt;&amp;lt;span style=&amp;quot;&amp;quot;&amp;gt;&amp;lt;font style=&amp;quot;font-size: 10px;&amp;quot;&amp;gt;samples&amp;lt;/font&amp;gt;&amp;lt;/span&amp;gt;&amp;lt;/div&amp;gt;&quot; style=&quot;ellipse;whiteSpace=wrap;html=1;fontSize=16;fontFamily=Georgia;labelBorderColor=none;strokeWidth=5;gradientColor=none;fillColor=#CCE5FF;strokeColor=#3399FF;&quot; parent=&quot;1&quot; vertex=&quot;1&quot;&gt;\n          &lt;mxGeometry x=&quot;500&quot; y=&quot;210&quot; width=&quot;80&quot; height=&quot;70&quot; as=&quot;geometry&quot; /&gt;\n        &lt;/mxCell&gt;\n        &lt;mxCell id=&quot;ke5fKqay8JjYpE_cKGV5-2&quot; value=&quot;&quot; style=&quot;endArrow=block;html=1;rounded=0;entryX=0;entryY=0.5;entryDx=0;entryDy=0;exitX=1;exitY=0;exitDx=0;exitDy=0;strokeColor=#009900;strokeWidth=3;endFill=1;endSize=5;startSize=0;&quot; parent=&quot;1&quot; source=&quot;lidfMP7FeTC4yG16FXWw-13&quot; target=&quot;ke5fKqay8JjYpE_cKGV5-1&quot; edge=&quot;1&quot;&gt;\n          &lt;mxGeometry width=&quot;50&quot; height=&quot;50&quot; relative=&quot;1&quot; as=&quot;geometry&quot;&gt;\n            &lt;mxPoint x=&quot;350&quot; y=&quot;210&quot; as=&quot;sourcePoint&quot; /&gt;\n            &lt;mxPoint x=&quot;384&quot; y=&quot;260&quot; as=&quot;targetPoint&quot; /&gt;\n          &lt;/mxGeometry&gt;\n        &lt;/mxCell&gt;\n        &lt;mxCell id=&quot;ke5fKqay8JjYpE_cKGV5-3&quot; value=&quot;YES&quot; style=&quot;edgeLabel;html=1;align=center;verticalAlign=middle;resizable=0;points=[];fontFamily=Georgia;fontColor=#009900;fontSize=12;fontStyle=1&quot; parent=&quot;ke5fKqay8JjYpE_cKGV5-2&quot; vertex=&quot;1&quot; connectable=&quot;0&quot;&gt;\n          &lt;mxGeometry x=&quot;-0.1867&quot; y=&quot;2&quot; relative=&quot;1&quot; as=&quot;geometry&quot;&gt;\n            &lt;mxPoint as=&quot;offset&quot; /&gt;\n          &lt;/mxGeometry&gt;\n        &lt;/mxCell&gt;\n        &lt;mxCell id=&quot;ke5fKqay8JjYpE_cKGV5-5&quot; value=&quot;&amp;lt;div style=&amp;quot;font-size: 12px;&amp;quot;&amp;gt;few features&amp;lt;/div&amp;gt;&amp;lt;div style=&amp;quot;font-size: 12px;&amp;quot;&amp;gt;should be&amp;lt;/div&amp;gt;&amp;lt;div style=&amp;quot;font-size: 12px;&amp;quot;&amp;gt;important&amp;lt;/div&amp;gt;&quot; style=&quot;ellipse;whiteSpace=wrap;html=1;fontSize=12;fontFamily=Georgia;labelBorderColor=none;strokeWidth=5;gradientColor=none;fillColor=#CCE5FF;strokeColor=#3399FF;&quot; parent=&quot;1&quot; vertex=&quot;1&quot;&gt;\n          &lt;mxGeometry x=&quot;650&quot; y=&quot;220&quot; width=&quot;80&quot; height=&quot;70&quot; as=&quot;geometry&quot; /&gt;\n        &lt;/mxCell&gt;\n        &lt;mxCell id=&quot;ke5fKqay8JjYpE_cKGV5-6&quot; value=&quot;&quot; style=&quot;endArrow=block;html=1;rounded=0;entryX=0;entryY=0.5;entryDx=0;entryDy=0;exitX=1;exitY=0.5;exitDx=0;exitDy=0;strokeColor=#009900;strokeWidth=3;endFill=1;endSize=5;startSize=0;&quot; parent=&quot;1&quot; source=&quot;ke5fKqay8JjYpE_cKGV5-1&quot; target=&quot;ke5fKqay8JjYpE_cKGV5-5&quot; edge=&quot;1&quot;&gt;\n          &lt;mxGeometry width=&quot;50&quot; height=&quot;50&quot; relative=&quot;1&quot; as=&quot;geometry&quot;&gt;\n            &lt;mxPoint x=&quot;424&quot; y=&quot;315&quot; as=&quot;sourcePoint&quot; /&gt;\n            &lt;mxPoint x=&quot;522&quot; y=&quot;280&quot; as=&quot;targetPoint&quot; /&gt;\n          &lt;/mxGeometry&gt;\n        &lt;/mxCell&gt;\n        &lt;mxCell id=&quot;ke5fKqay8JjYpE_cKGV5-7&quot; value=&quot;YES&quot; style=&quot;edgeLabel;html=1;align=center;verticalAlign=middle;resizable=0;points=[];fontFamily=Georgia;fontColor=#009900;fontSize=12;fontStyle=1;labelBackgroundColor=#CCE5FF;&quot; parent=&quot;ke5fKqay8JjYpE_cKGV5-6&quot; vertex=&quot;1&quot; connectable=&quot;0&quot;&gt;\n          &lt;mxGeometry x=&quot;-0.1867&quot; y=&quot;2&quot; relative=&quot;1&quot; as=&quot;geometry&quot;&gt;\n            &lt;mxPoint as=&quot;offset&quot; /&gt;\n          &lt;/mxGeometry&gt;\n        &lt;/mxCell&gt;\n        &lt;UserObject label=&quot;&amp;lt;div&amp;gt;SGD&amp;lt;/div&amp;gt;&amp;lt;div&amp;gt;Regressor&amp;lt;/div&amp;gt;&quot; link=&quot;./modules/sgd.html#regression&quot; id=&quot;ke5fKqay8JjYpE_cKGV5-8&quot;&gt;\n          &lt;mxCell style=&quot;rounded=1;whiteSpace=wrap;html=1;strokeWidth=5;strokeColor=#00CC66;fillColor=#CCFFE6;fontFamily=Georgia;fontSize=16;&quot; parent=&quot;1&quot; vertex=&quot;1&quot;&gt;\n            &lt;mxGeometry x=&quot;590&quot; y=&quot;135&quot; width=&quot;90&quot; height=&quot;50&quot; as=&quot;geometry&quot; /&gt;\n          &lt;/mxCell&gt;\n        &lt;/UserObject&gt;\n        &lt;mxCell id=&quot;ke5fKqay8JjYpE_cKGV5-9&quot; value=&quot;&quot; style=&quot;endArrow=block;html=1;rounded=0;entryX=0.25;entryY=1;entryDx=0;entryDy=0;exitX=1;exitY=0;exitDx=0;exitDy=0;strokeColor=#FF3333;strokeWidth=3;endFill=1;endSize=5;startSize=0;&quot; parent=&quot;1&quot; source=&quot;ke5fKqay8JjYpE_cKGV5-1&quot; target=&quot;ke5fKqay8JjYpE_cKGV5-8&quot; edge=&quot;1&quot;&gt;\n          &lt;mxGeometry width=&quot;50&quot; height=&quot;50&quot; relative=&quot;1&quot; as=&quot;geometry&quot;&gt;\n            &lt;mxPoint x=&quot;384&quot; y=&quot;350&quot; as=&quot;sourcePoint&quot; /&gt;\n            &lt;mxPoint x=&quot;396&quot; y=&quot;400&quot; as=&quot;targetPoint&quot; /&gt;\n          &lt;/mxGeometry&gt;\n        &lt;/mxCell&gt;\n        &lt;mxCell id=&quot;ke5fKqay8JjYpE_cKGV5-10&quot; value=&quot;NO&quot; style=&quot;edgeLabel;html=1;align=center;verticalAlign=middle;resizable=0;points=[];fontFamily=Georgia;fontColor=#FF3333;fontSize=12;fontStyle=1;labelBackgroundColor=#CCE5FF;&quot; parent=&quot;ke5fKqay8JjYpE_cKGV5-9&quot; vertex=&quot;1&quot; connectable=&quot;0&quot;&gt;\n          &lt;mxGeometry x=&quot;-0.1867&quot; y=&quot;2&quot; relative=&quot;1&quot; as=&quot;geometry&quot;&gt;\n            &lt;mxPoint as=&quot;offset&quot; /&gt;\n          &lt;/mxGeometry&gt;\n        &lt;/mxCell&gt;\n        &lt;UserObject label=&quot;Lasso&quot; link=&quot;./modules/linear_model.html#lasso&quot; id=&quot;ke5fKqay8JjYpE_cKGV5-13&quot;&gt;\n          &lt;mxCell style=&quot;rounded=1;whiteSpace=wrap;html=1;strokeWidth=5;strokeColor=#00CC66;fillColor=#CCFFE6;fontFamily=Georgia;fontSize=16;&quot; parent=&quot;1&quot; vertex=&quot;1&quot;&gt;\n            &lt;mxGeometry x=&quot;720&quot; y=&quot;105&quot; width=&quot;90&quot; height=&quot;30&quot; as=&quot;geometry&quot; /&gt;\n          &lt;/mxCell&gt;\n        &lt;/UserObject&gt;\n        &lt;UserObject label=&quot;ElasticNet&quot; link=&quot;./modules/linear_model.html#elastic-net&quot; id=&quot;ke5fKqay8JjYpE_cKGV5-14&quot;&gt;\n          &lt;mxCell style=&quot;rounded=1;whiteSpace=wrap;html=1;strokeWidth=5;strokeColor=#00CC66;fillColor=#CCFFE6;fontFamily=Georgia;fontSize=16;&quot; parent=&quot;1&quot; vertex=&quot;1&quot;&gt;\n            &lt;mxGeometry x=&quot;720&quot; y=&quot;135&quot; width=&quot;90&quot; height=&quot;30&quot; as=&quot;geometry&quot; /&gt;\n          &lt;/mxCell&gt;\n        &lt;/UserObject&gt;\n        &lt;mxCell id=&quot;ke5fKqay8JjYpE_cKGV5-15&quot; value=&quot;&quot; style=&quot;endArrow=block;html=1;rounded=0;entryX=0.25;entryY=1;entryDx=0;entryDy=0;exitX=1;exitY=0;exitDx=0;exitDy=0;strokeColor=#009900;strokeWidth=3;endFill=1;endSize=5;startSize=0;&quot; parent=&quot;1&quot; source=&quot;ke5fKqay8JjYpE_cKGV5-5&quot; target=&quot;ke5fKqay8JjYpE_cKGV5-14&quot; edge=&quot;1&quot;&gt;\n          &lt;mxGeometry width=&quot;50&quot; height=&quot;50&quot; relative=&quot;1&quot; as=&quot;geometry&quot;&gt;\n            &lt;mxPoint x=&quot;590&quot; y=&quot;255&quot; as=&quot;sourcePoint&quot; /&gt;\n            &lt;mxPoint x=&quot;660&quot; y=&quot;265&quot; as=&quot;targetPoint&quot; /&gt;\n          &lt;/mxGeometry&gt;\n        &lt;/mxCell&gt;\n        &lt;mxCell id=&quot;ke5fKqay8JjYpE_cKGV5-16&quot; value=&quot;YES&quot; style=&quot;edgeLabel;html=1;align=center;verticalAlign=middle;resizable=0;points=[];fontFamily=Georgia;fontColor=#009900;fontSize=12;fontStyle=1;labelBackgroundColor=#CCE5FF;&quot; parent=&quot;ke5fKqay8JjYpE_cKGV5-15&quot; vertex=&quot;1&quot; connectable=&quot;0&quot;&gt;\n          &lt;mxGeometry x=&quot;-0.1867&quot; y=&quot;2&quot; relative=&quot;1&quot; as=&quot;geometry&quot;&gt;\n            &lt;mxPoint as=&quot;offset&quot; /&gt;\n          &lt;/mxGeometry&gt;\n        &lt;/mxCell&gt;\n        &lt;UserObject label=&quot;RidgeRegression&quot; link=&quot;./modules/linear_model.html#ridge-regression&quot; id=&quot;ke5fKqay8JjYpE_cKGV5-17&quot;&gt;\n          &lt;mxCell style=&quot;rounded=1;whiteSpace=wrap;html=1;strokeWidth=5;strokeColor=#00CC66;fillColor=#CCFFE6;fontFamily=Georgia;fontSize=16;&quot; parent=&quot;1&quot; vertex=&quot;1&quot;&gt;\n            &lt;mxGeometry x=&quot;790&quot; y=&quot;270&quot; width=&quot;140&quot; height=&quot;30&quot; as=&quot;geometry&quot; /&gt;\n          &lt;/mxCell&gt;\n        &lt;/UserObject&gt;\n        &lt;UserObject label=&quot;SVR&amp;lt;font style=&amp;quot;font-size: 12px;&amp;quot;&amp;gt;(kernel=&amp;quot;linear&amp;quot;)&amp;lt;/font&amp;gt;&quot; link=&quot;./modules/svm.html#regression&quot; id=&quot;ke5fKqay8JjYpE_cKGV5-18&quot;&gt;\n          &lt;mxCell style=&quot;rounded=1;whiteSpace=wrap;html=1;strokeWidth=5;strokeColor=#00CC66;fillColor=#CCFFE6;fontFamily=Georgia;fontSize=16;&quot; parent=&quot;1&quot; vertex=&quot;1&quot;&gt;\n            &lt;mxGeometry x=&quot;790&quot; y=&quot;300&quot; width=&quot;140&quot; height=&quot;30&quot; as=&quot;geometry&quot; /&gt;\n          &lt;/mxCell&gt;\n        &lt;/UserObject&gt;\n        &lt;mxCell id=&quot;ke5fKqay8JjYpE_cKGV5-19&quot; value=&quot;&quot; style=&quot;endArrow=block;html=1;rounded=0;entryX=0;entryY=0.5;entryDx=0;entryDy=0;exitX=1;exitY=0.5;exitDx=0;exitDy=0;strokeColor=#FF3333;strokeWidth=3;endFill=1;endSize=5;startSize=0;&quot; parent=&quot;1&quot; source=&quot;ke5fKqay8JjYpE_cKGV5-5&quot; target=&quot;ke5fKqay8JjYpE_cKGV5-17&quot; edge=&quot;1&quot;&gt;\n          &lt;mxGeometry width=&quot;50&quot; height=&quot;50&quot; relative=&quot;1&quot; as=&quot;geometry&quot;&gt;\n            &lt;mxPoint x=&quot;578&quot; y=&quot;230&quot; as=&quot;sourcePoint&quot; /&gt;\n            &lt;mxPoint x=&quot;613&quot; y=&quot;180&quot; as=&quot;targetPoint&quot; /&gt;\n          &lt;/mxGeometry&gt;\n        &lt;/mxCell&gt;\n        &lt;mxCell id=&quot;ke5fKqay8JjYpE_cKGV5-20&quot; value=&quot;NO&quot; style=&quot;edgeLabel;html=1;align=center;verticalAlign=middle;resizable=0;points=[];fontFamily=Georgia;fontColor=#FF3333;fontSize=12;fontStyle=1;labelBackgroundColor=#CCE5FF;&quot; parent=&quot;ke5fKqay8JjYpE_cKGV5-19&quot; vertex=&quot;1&quot; connectable=&quot;0&quot;&gt;\n          &lt;mxGeometry x=&quot;-0.1867&quot; y=&quot;2&quot; relative=&quot;1&quot; as=&quot;geometry&quot;&gt;\n            &lt;mxPoint as=&quot;offset&quot; /&gt;\n          &lt;/mxGeometry&gt;\n        &lt;/mxCell&gt;\n        &lt;UserObject label=&quot;SVR&amp;lt;font style=&amp;quot;font-size: 12px;&amp;quot;&amp;gt;(kernel=&amp;quot;rbf&amp;quot;)&amp;lt;/font&amp;gt;&quot; link=&quot;./modules/svm.html#regression&quot; id=&quot;ke5fKqay8JjYpE_cKGV5-21&quot;&gt;\n          &lt;mxCell style=&quot;rounded=1;whiteSpace=wrap;html=1;strokeWidth=5;strokeColor=#00CC66;fillColor=#CCFFE6;fontFamily=Georgia;fontSize=16;&quot; parent=&quot;1&quot; vertex=&quot;1&quot;&gt;\n            &lt;mxGeometry x=&quot;880&quot; y=&quot;120&quot; width=&quot;120&quot; height=&quot;30&quot; as=&quot;geometry&quot; /&gt;\n          &lt;/mxCell&gt;\n        &lt;/UserObject&gt;\n        &lt;UserObject label=&quot;Ensemble&amp;lt;div&amp;gt;Regressors&amp;lt;/div&amp;gt;&quot; link=&quot;./modules/ensemble.html&quot; id=&quot;ke5fKqay8JjYpE_cKGV5-23&quot;&gt;\n          &lt;mxCell style=&quot;rounded=1;whiteSpace=wrap;html=1;strokeWidth=5;strokeColor=#00CC66;fillColor=#CCFFE6;fontFamily=Georgia;fontSize=16;&quot; parent=&quot;1&quot; vertex=&quot;1&quot;&gt;\n            &lt;mxGeometry x=&quot;880&quot; y=&quot;150&quot; width=&quot;120&quot; height=&quot;50&quot; as=&quot;geometry&quot; /&gt;\n          &lt;/mxCell&gt;\n        &lt;/UserObject&gt;\n        &lt;mxCell id=&quot;ke5fKqay8JjYpE_cKGV5-24&quot; value=&quot;&quot; style=&quot;endArrow=block;html=1;rounded=0;entryX=0.25;entryY=1;entryDx=0;entryDy=0;exitX=0.75;exitY=0;exitDx=0;exitDy=0;strokeColor=#FF9933;strokeWidth=3;endFill=1;endSize=5;startSize=0;&quot; parent=&quot;1&quot; source=&quot;ke5fKqay8JjYpE_cKGV5-17&quot; target=&quot;ke5fKqay8JjYpE_cKGV5-23&quot; edge=&quot;1&quot;&gt;\n          &lt;mxGeometry width=&quot;50&quot; height=&quot;50&quot; relative=&quot;1&quot; as=&quot;geometry&quot;&gt;\n            &lt;mxPoint x=&quot;990&quot; y=&quot;255&quot; as=&quot;sourcePoint&quot; /&gt;\n            &lt;mxPoint x=&quot;930&quot; y=&quot;220&quot; as=&quot;targetPoint&quot; /&gt;\n          &lt;/mxGeometry&gt;\n        &lt;/mxCell&gt;\n        &lt;mxCell id=&quot;ke5fKqay8JjYpE_cKGV5-27&quot; value=&quot;&amp;lt;span style=&amp;quot;font-size: 24px;&amp;quot;&amp;gt;&amp;lt;font face=&amp;quot;Georgia&amp;quot; style=&amp;quot;font-size: 24px;&amp;quot;&amp;gt;regression&amp;lt;/font&amp;gt;&amp;lt;/span&amp;gt;&quot; style=&quot;text;html=1;align=center;verticalAlign=middle;whiteSpace=wrap;rounded=0;fontSize=24;fontStyle=1&quot; parent=&quot;1&quot; vertex=&quot;1&quot;&gt;\n          &lt;mxGeometry x=&quot;500&quot; y=&quot;80&quot; width=&quot;140&quot; height=&quot;40&quot; as=&quot;geometry&quot; /&gt;\n        &lt;/mxCell&gt;\n        &lt;UserObject label=&quot;&amp;lt;div&amp;gt;&amp;lt;span style=&amp;quot;background-color: initial;&amp;quot;&amp;gt;Ramdomized&amp;lt;/span&amp;gt;&amp;lt;br&amp;gt;&amp;lt;/div&amp;gt;&amp;lt;div&amp;gt;&amp;lt;span style=&amp;quot;background-color: initial;&amp;quot;&amp;gt;PCA&amp;lt;/span&amp;gt;&amp;lt;/div&amp;gt;&quot; link=&quot;./modules/decomposition.html#principal-component-analysis-pca&quot; id=&quot;ke5fKqay8JjYpE_cKGV5-28&quot;&gt;\n          &lt;mxCell style=&quot;rounded=1;whiteSpace=wrap;html=1;strokeWidth=5;strokeColor=#00CC66;fillColor=#CCFFE6;fontFamily=Georgia;fontSize=16;&quot; parent=&quot;1&quot; vertex=&quot;1&quot;&gt;\n            &lt;mxGeometry x=&quot;515&quot; y=&quot;410&quot; width=&quot;110&quot; height=&quot;50&quot; as=&quot;geometry&quot; /&gt;\n          &lt;/mxCell&gt;\n        &lt;/UserObject&gt;\n        &lt;mxCell id=&quot;ke5fKqay8JjYpE_cKGV5-29&quot; value=&quot;&quot; style=&quot;endArrow=block;html=1;rounded=0;entryX=0;entryY=0.5;entryDx=0;entryDy=0;exitX=1;exitY=0.5;exitDx=0;exitDy=0;strokeColor=#009900;strokeWidth=3;endFill=1;endSize=5;startSize=0;&quot; parent=&quot;1&quot; source=&quot;lidfMP7FeTC4yG16FXWw-17&quot; target=&quot;ke5fKqay8JjYpE_cKGV5-28&quot; edge=&quot;1&quot;&gt;\n          &lt;mxGeometry width=&quot;50&quot; height=&quot;50&quot; relative=&quot;1&quot; as=&quot;geometry&quot;&gt;\n            &lt;mxPoint x=&quot;424&quot; y=&quot;295&quot; as=&quot;sourcePoint&quot; /&gt;\n            &lt;mxPoint x=&quot;521&quot; y=&quot;260&quot; as=&quot;targetPoint&quot; /&gt;\n          &lt;/mxGeometry&gt;\n        &lt;/mxCell&gt;\n        &lt;mxCell id=&quot;ke5fKqay8JjYpE_cKGV5-30&quot; value=&quot;YES&quot; style=&quot;edgeLabel;html=1;align=center;verticalAlign=middle;resizable=0;points=[];fontFamily=Georgia;fontColor=#009900;fontSize=12;fontStyle=1&quot; parent=&quot;ke5fKqay8JjYpE_cKGV5-29&quot; vertex=&quot;1&quot; connectable=&quot;0&quot;&gt;\n          &lt;mxGeometry x=&quot;-0.1867&quot; y=&quot;2&quot; relative=&quot;1&quot; as=&quot;geometry&quot;&gt;\n            &lt;mxPoint as=&quot;offset&quot; /&gt;\n          &lt;/mxGeometry&gt;\n        &lt;/mxCell&gt;\n        &lt;mxCell id=&quot;ke5fKqay8JjYpE_cKGV5-31&quot; value=&quot;&amp;lt;font style=&amp;quot;font-size: 16px;&amp;quot;&amp;gt;&amp;amp;lt;10K&amp;lt;/font&amp;gt;&amp;lt;div style=&amp;quot;&amp;quot;&amp;gt;&amp;lt;span style=&amp;quot;&amp;quot;&amp;gt;&amp;lt;font style=&amp;quot;font-size: 10px;&amp;quot;&amp;gt;samples&amp;lt;/font&amp;gt;&amp;lt;/span&amp;gt;&amp;lt;/div&amp;gt;&quot; style=&quot;ellipse;whiteSpace=wrap;html=1;fontSize=16;fontFamily=Georgia;labelBorderColor=none;strokeWidth=5;gradientColor=none;fillColor=#CCE5FF;strokeColor=#3399FF;&quot; parent=&quot;1&quot; vertex=&quot;1&quot;&gt;\n          &lt;mxGeometry x=&quot;515&quot; y=&quot;528&quot; width=&quot;80&quot; height=&quot;70&quot; as=&quot;geometry&quot; /&gt;\n        &lt;/mxCell&gt;\n        &lt;mxCell id=&quot;ke5fKqay8JjYpE_cKGV5-32&quot; value=&quot;&quot; style=&quot;endArrow=block;html=1;rounded=0;entryX=0.5;entryY=0;entryDx=0;entryDy=0;exitX=0.5;exitY=1;exitDx=0;exitDy=0;strokeColor=#FF9933;strokeWidth=3;endFill=1;endSize=5;startSize=0;&quot; parent=&quot;1&quot; source=&quot;ke5fKqay8JjYpE_cKGV5-28&quot; target=&quot;ke5fKqay8JjYpE_cKGV5-31&quot; edge=&quot;1&quot;&gt;\n          &lt;mxGeometry width=&quot;50&quot; height=&quot;50&quot; relative=&quot;1&quot; as=&quot;geometry&quot;&gt;\n            &lt;mxPoint x=&quot;541&quot; y=&quot;490&quot; as=&quot;sourcePoint&quot; /&gt;\n            &lt;mxPoint x=&quot;490&quot; y=&quot;520&quot; as=&quot;targetPoint&quot; /&gt;\n          &lt;/mxGeometry&gt;\n        &lt;/mxCell&gt;\n        &lt;UserObject label=&quot;Kernel&amp;lt;div&amp;gt;Approximation&amp;lt;/div&amp;gt;&quot; link=&quot;./modules/kernel_approximation.html&quot; id=&quot;ke5fKqay8JjYpE_cKGV5-34&quot;&gt;\n          &lt;mxCell style=&quot;rounded=1;whiteSpace=wrap;html=1;strokeWidth=5;strokeColor=#00CC66;fillColor=#CCFFE6;fontFamily=Georgia;fontSize=16;&quot; parent=&quot;1&quot; vertex=&quot;1&quot;&gt;\n            &lt;mxGeometry x=&quot;670&quot; y=&quot;550&quot; width=&quot;120&quot; height=&quot;50&quot; as=&quot;geometry&quot; /&gt;\n          &lt;/mxCell&gt;\n        &lt;/UserObject&gt;\n        &lt;mxCell id=&quot;ke5fKqay8JjYpE_cKGV5-35&quot; value=&quot;&quot; style=&quot;endArrow=block;html=1;rounded=0;exitX=1;exitY=0.5;exitDx=0;exitDy=0;strokeColor=#FF3333;strokeWidth=3;endFill=1;endSize=5;startSize=0;entryX=0;entryY=0.25;entryDx=0;entryDy=0;&quot; parent=&quot;1&quot; source=&quot;ke5fKqay8JjYpE_cKGV5-31&quot; target=&quot;ke5fKqay8JjYpE_cKGV5-34&quot; edge=&quot;1&quot;&gt;\n          &lt;mxGeometry width=&quot;50&quot; height=&quot;50&quot; relative=&quot;1&quot; as=&quot;geometry&quot;&gt;\n            &lt;mxPoint x=&quot;415&quot; y=&quot;530&quot; as=&quot;sourcePoint&quot; /&gt;\n            &lt;mxPoint x=&quot;429&quot; y=&quot;570&quot; as=&quot;targetPoint&quot; /&gt;\n          &lt;/mxGeometry&gt;\n        &lt;/mxCell&gt;\n        &lt;mxCell id=&quot;ke5fKqay8JjYpE_cKGV5-36&quot; value=&quot;NO&quot; style=&quot;edgeLabel;html=1;align=center;verticalAlign=middle;resizable=0;points=[];fontFamily=Georgia;fontColor=#FF3333;fontSize=12;fontStyle=1;labelBackgroundColor=#FFFFCC;&quot; parent=&quot;ke5fKqay8JjYpE_cKGV5-35&quot; vertex=&quot;1&quot; connectable=&quot;0&quot;&gt;\n          &lt;mxGeometry x=&quot;-0.1867&quot; y=&quot;2&quot; relative=&quot;1&quot; as=&quot;geometry&quot;&gt;\n            &lt;mxPoint as=&quot;offset&quot; /&gt;\n          &lt;/mxGeometry&gt;\n        &lt;/mxCell&gt;\n        &lt;UserObject label=&quot;IsoMap&quot; link=&quot;./modules/manifold.html#isomap&quot; id=&quot;ke5fKqay8JjYpE_cKGV5-37&quot;&gt;\n          &lt;mxCell style=&quot;rounded=1;whiteSpace=wrap;html=1;strokeWidth=5;strokeColor=#00CC66;fillColor=#CCFFE6;fontFamily=Georgia;fontSize=16;&quot; parent=&quot;1&quot; vertex=&quot;1&quot;&gt;\n            &lt;mxGeometry x=&quot;680&quot; y=&quot;430&quot; width=&quot;100&quot; height=&quot;30&quot; as=&quot;geometry&quot; /&gt;\n          &lt;/mxCell&gt;\n        &lt;/UserObject&gt;\n        &lt;UserObject label=&quot;&amp;lt;div&amp;gt;Spectral&amp;lt;/div&amp;gt;&amp;lt;div&amp;gt;Embedding&amp;lt;/div&amp;gt;&quot; link=&quot;./modules/manifold.html#spectral-embedding&quot; id=&quot;ke5fKqay8JjYpE_cKGV5-38&quot;&gt;\n          &lt;mxCell style=&quot;rounded=1;whiteSpace=wrap;html=1;strokeWidth=5;strokeColor=#00CC66;fillColor=#CCFFE6;fontFamily=Georgia;fontSize=16;&quot; parent=&quot;1&quot; vertex=&quot;1&quot;&gt;\n            &lt;mxGeometry x=&quot;680&quot; y=&quot;460&quot; width=&quot;100&quot; height=&quot;50&quot; as=&quot;geometry&quot; /&gt;\n          &lt;/mxCell&gt;\n        &lt;/UserObject&gt;\n        &lt;mxCell id=&quot;ke5fKqay8JjYpE_cKGV5-39&quot; value=&quot;&quot; style=&quot;endArrow=block;html=1;rounded=0;entryX=0;entryY=0.75;entryDx=0;entryDy=0;exitX=1;exitY=0;exitDx=0;exitDy=0;strokeColor=#009900;strokeWidth=3;endFill=1;endSize=5;startSize=0;&quot; parent=&quot;1&quot; source=&quot;ke5fKqay8JjYpE_cKGV5-31&quot; target=&quot;ke5fKqay8JjYpE_cKGV5-38&quot; edge=&quot;1&quot;&gt;\n          &lt;mxGeometry width=&quot;50&quot; height=&quot;50&quot; relative=&quot;1&quot; as=&quot;geometry&quot;&gt;\n            &lt;mxPoint x=&quot;410&quot; y=&quot;495&quot; as=&quot;sourcePoint&quot; /&gt;\n            &lt;mxPoint x=&quot;525&quot; y=&quot;458&quot; as=&quot;targetPoint&quot; /&gt;\n          &lt;/mxGeometry&gt;\n        &lt;/mxCell&gt;\n        &lt;mxCell id=&quot;ke5fKqay8JjYpE_cKGV5-40&quot; value=&quot;YES&quot; style=&quot;edgeLabel;html=1;align=center;verticalAlign=middle;resizable=0;points=[];fontFamily=Georgia;fontColor=#009900;fontSize=12;fontStyle=1;labelBackgroundColor=#FFFFCC;&quot; parent=&quot;ke5fKqay8JjYpE_cKGV5-39&quot; vertex=&quot;1&quot; connectable=&quot;0&quot;&gt;\n          &lt;mxGeometry x=&quot;-0.1867&quot; y=&quot;2&quot; relative=&quot;1&quot; as=&quot;geometry&quot;&gt;\n            &lt;mxPoint as=&quot;offset&quot; /&gt;\n          &lt;/mxGeometry&gt;\n        &lt;/mxCell&gt;\n        &lt;UserObject label=&quot;LLE&quot; link=&quot;./modules/manifold.html#locally-linear-embedding&quot; id=&quot;ke5fKqay8JjYpE_cKGV5-41&quot;&gt;\n          &lt;mxCell style=&quot;rounded=1;whiteSpace=wrap;html=1;strokeWidth=5;strokeColor=#00CC66;fillColor=#CCFFE6;fontFamily=Georgia;fontSize=16;&quot; parent=&quot;1&quot; vertex=&quot;1&quot;&gt;\n            &lt;mxGeometry x=&quot;860&quot; y=&quot;490&quot; width=&quot;50&quot; height=&quot;30&quot; as=&quot;geometry&quot; /&gt;\n          &lt;/mxCell&gt;\n        &lt;/UserObject&gt;\n        &lt;mxCell id=&quot;ke5fKqay8JjYpE_cKGV5-42&quot; value=&quot;&quot; style=&quot;endArrow=block;html=1;rounded=0;entryX=0;entryY=0.5;entryDx=0;entryDy=0;exitX=1;exitY=0.5;exitDx=0;exitDy=0;strokeColor=#FF9933;strokeWidth=3;endFill=1;endSize=5;startSize=0;&quot; parent=&quot;1&quot; source=&quot;ke5fKqay8JjYpE_cKGV5-38&quot; target=&quot;ke5fKqay8JjYpE_cKGV5-41&quot; edge=&quot;1&quot;&gt;\n          &lt;mxGeometry width=&quot;50&quot; height=&quot;50&quot; relative=&quot;1&quot; as=&quot;geometry&quot;&gt;\n            &lt;mxPoint x=&quot;580&quot; y=&quot;470&quot; as=&quot;sourcePoint&quot; /&gt;\n            &lt;mxPoint x=&quot;565&quot; y=&quot;530&quot; as=&quot;targetPoint&quot; /&gt;\n          &lt;/mxGeometry&gt;\n        &lt;/mxCell&gt;\n        &lt;mxCell id=&quot;ke5fKqay8JjYpE_cKGV5-44&quot; value=&quot;&amp;lt;span style=&amp;quot;font-size: 24px;&amp;quot;&amp;gt;&amp;lt;font face=&amp;quot;Georgia&amp;quot; style=&amp;quot;font-size: 24px;&amp;quot;&amp;gt;dimensionality&amp;lt;/font&amp;gt;&amp;lt;/span&amp;gt;&amp;lt;div&amp;gt;&amp;lt;span style=&amp;quot;font-size: 24px;&amp;quot;&amp;gt;&amp;lt;font face=&amp;quot;Georgia&amp;quot; style=&amp;quot;font-size: 24px;&amp;quot;&amp;gt;reduction&amp;lt;/font&amp;gt;&amp;lt;/span&amp;gt;&amp;lt;/div&amp;gt;&quot; style=&quot;text;html=1;align=center;verticalAlign=middle;whiteSpace=wrap;rounded=0;fontSize=24;fontStyle=1&quot; parent=&quot;1&quot; vertex=&quot;1&quot;&gt;\n          &lt;mxGeometry x=&quot;810&quot; y=&quot;542&quot; width=&quot;210&quot; height=&quot;65&quot; as=&quot;geometry&quot; /&gt;\n        &lt;/mxCell&gt;\n        &lt;UserObject label=&quot;&quot; id=&quot;ke5fKqay8JjYpE_cKGV5-47&quot;&gt;\n          &lt;mxCell style=&quot;shape=image;verticalLabelPosition=bottom;labelBackgroundColor=default;verticalAlign=top;aspect=fixed;imageAspect=0;image=data:image/svg+xml,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;&quot; parent=&quot;1&quot; vertex=&quot;1&quot;&gt;\n            &lt;mxGeometry x=&quot;780&quot; y=&quot;-110&quot; width=&quot;166.92&quot; height=&quot;90&quot; as=&quot;geometry&quot; /&gt;\n          &lt;/mxCell&gt;\n        &lt;/UserObject&gt;\n        &lt;mxCell id=&quot;ke5fKqay8JjYpE_cKGV5-48&quot; value=&quot;&amp;lt;span style=&amp;quot;font-size: 32px;&amp;quot;&amp;gt;&amp;lt;font face=&amp;quot;Georgia&amp;quot; style=&amp;quot;font-size: 32px;&amp;quot;&amp;gt;scikit-learn&amp;lt;/font&amp;gt;&amp;lt;/span&amp;gt;&amp;lt;div style=&amp;quot;font-size: 32px;&amp;quot;&amp;gt;&amp;lt;span style=&amp;quot;font-size: 32px;&amp;quot;&amp;gt;&amp;lt;font face=&amp;quot;Georgia&amp;quot; style=&amp;quot;font-size: 32px;&amp;quot;&amp;gt;algorithm cheat sheet&amp;lt;/font&amp;gt;&amp;lt;/span&amp;gt;&amp;lt;/div&amp;gt;&quot; style=&quot;text;html=1;align=left;verticalAlign=middle;whiteSpace=wrap;rounded=0;fontSize=32;fontStyle=1&quot; parent=&quot;1&quot; vertex=&quot;1&quot;&gt;\n          &lt;mxGeometry x=&quot;567.5&quot; y=&quot;-60&quot; width=&quot;375&quot; height=&quot;90&quot; as=&quot;geometry&quot; /&gt;\n        &lt;/mxCell&gt;\n        &lt;mxCell id=&quot;pls1sffmf6aF35CQXLI_-1&quot; value=&quot;&amp;lt;div&amp;gt;&amp;lt;font color=&amp;quot;#ff9933&amp;quot;&amp;gt;TRY&amp;lt;/font&amp;gt;&amp;lt;/div&amp;gt;&amp;lt;div&amp;gt;&amp;lt;font color=&amp;quot;#ff9933&amp;quot;&amp;gt;NEXT&amp;lt;br&amp;gt;&amp;lt;/font&amp;gt;&amp;lt;/div&amp;gt;&quot; style=&quot;edgeLabel;html=1;align=center;verticalAlign=middle;resizable=0;points=[];fontFamily=Georgia;fontColor=#009900;fontSize=12;fontStyle=1;labelBackgroundColor=#FFCCCC;&quot; parent=&quot;1&quot; vertex=&quot;1&quot; connectable=&quot;0&quot;&gt;\n          &lt;mxGeometry x=&quot;-195.0046510562188&quot; y=&quot;210.00163918393565&quot; as=&quot;geometry&quot;&gt;\n            &lt;mxPoint x=&quot;-5&quot; y=&quot;-109&quot; as=&quot;offset&quot; /&gt;\n          &lt;/mxGeometry&gt;\n        &lt;/mxCell&gt;\n        &lt;mxCell id=&quot;pls1sffmf6aF35CQXLI_-4&quot; value=&quot;&amp;lt;div&amp;gt;&amp;lt;font color=&amp;quot;#ff9933&amp;quot;&amp;gt;TRY&amp;lt;/font&amp;gt;&amp;lt;/div&amp;gt;&amp;lt;div&amp;gt;&amp;lt;font color=&amp;quot;#ff9933&amp;quot;&amp;gt;NEXT&amp;lt;br&amp;gt;&amp;lt;/font&amp;gt;&amp;lt;/div&amp;gt;&quot; style=&quot;edgeLabel;html=1;align=center;verticalAlign=middle;resizable=0;points=[];fontFamily=Georgia;fontColor=#009900;fontSize=12;fontStyle=1;labelBackgroundColor=#FFCCCC;&quot; parent=&quot;1&quot; vertex=&quot;1&quot; connectable=&quot;0&quot;&gt;\n          &lt;mxGeometry x=&quot;29.99534894378121&quot; y=&quot;165.00163918393565&quot; as=&quot;geometry&quot;&gt;\n            &lt;mxPoint x=&quot;-5&quot; y=&quot;-109&quot; as=&quot;offset&quot; /&gt;\n          &lt;/mxGeometry&gt;\n        &lt;/mxCell&gt;\n        &lt;mxCell id=&quot;pls1sffmf6aF35CQXLI_-6&quot; value=&quot;&amp;lt;div&amp;gt;&amp;lt;font color=&amp;quot;#ff9933&amp;quot;&amp;gt;TRY&amp;lt;/font&amp;gt;&amp;lt;/div&amp;gt;&amp;lt;div&amp;gt;&amp;lt;font color=&amp;quot;#ff9933&amp;quot;&amp;gt;NEXT&amp;lt;br&amp;gt;&amp;lt;/font&amp;gt;&amp;lt;/div&amp;gt;&quot; style=&quot;edgeLabel;html=1;align=center;verticalAlign=middle;resizable=0;points=[];fontFamily=Georgia;fontColor=#009900;fontSize=12;fontStyle=1;labelBackgroundColor=#FFCCCC;&quot; parent=&quot;1&quot; vertex=&quot;1&quot; connectable=&quot;0&quot;&gt;\n          &lt;mxGeometry x=&quot;-60.00465105621879&quot; y=&quot;320.00163918393565&quot; as=&quot;geometry&quot;&gt;\n            &lt;mxPoint x=&quot;-5&quot; y=&quot;-109&quot; as=&quot;offset&quot; /&gt;\n          &lt;/mxGeometry&gt;\n        &lt;/mxCell&gt;\n        &lt;mxCell id=&quot;GKrketicI9-l3KOTIM3X-1&quot; value=&quot;&amp;lt;div&amp;gt;&amp;lt;font color=&amp;quot;#ff9933&amp;quot;&amp;gt;TRY&amp;lt;/font&amp;gt;&amp;lt;/div&amp;gt;&amp;lt;div&amp;gt;&amp;lt;font color=&amp;quot;#ff9933&amp;quot;&amp;gt;NEXT&amp;lt;br&amp;gt;&amp;lt;/font&amp;gt;&amp;lt;/div&amp;gt;&quot; style=&quot;edgeLabel;html=1;align=center;verticalAlign=middle;resizable=0;points=[];fontFamily=Georgia;fontColor=#009900;fontSize=12;fontStyle=1;labelBackgroundColor=#e5ccff;&quot; vertex=&quot;1&quot; connectable=&quot;0&quot; parent=&quot;1&quot;&gt;\n          &lt;mxGeometry x=&quot;-218.01510562188&quot; y=&quot;485.00163918393565&quot; as=&quot;geometry&quot;&gt;\n            &lt;mxPoint x=&quot;-5&quot; y=&quot;-109&quot; as=&quot;offset&quot; /&gt;\n          &lt;/mxGeometry&gt;\n        &lt;/mxCell&gt;\n        &lt;mxCell id=&quot;GKrketicI9-l3KOTIM3X-2&quot; value=&quot;&amp;lt;div&amp;gt;&amp;lt;font&amp;gt;TRY&amp;lt;/font&amp;gt;&amp;lt;/div&amp;gt;&amp;lt;div&amp;gt;&amp;lt;font&amp;gt;NEXT&amp;lt;br&amp;gt;&amp;lt;/font&amp;gt;&amp;lt;/div&amp;gt;&quot; style=&quot;edgeLabel;html=1;align=center;verticalAlign=middle;resizable=0;points=[];fontFamily=Georgia;fontColor=#ff9933;fontSize=12;fontStyle=1;labelBackgroundColor=#cce5ff;&quot; vertex=&quot;1&quot; connectable=&quot;0&quot; parent=&quot;1&quot;&gt;\n          &lt;mxGeometry x=&quot;906.9953489437812&quot; y=&quot;347.00163918393565&quot; as=&quot;geometry&quot;&gt;\n            &lt;mxPoint x=&quot;-5&quot; y=&quot;-109&quot; as=&quot;offset&quot; /&gt;\n          &lt;/mxGeometry&gt;\n        &lt;/mxCell&gt;\n        &lt;mxCell id=&quot;GKrketicI9-l3KOTIM3X-4&quot; value=&quot;&amp;lt;div&amp;gt;&amp;lt;font&amp;gt;TRY&amp;lt;/font&amp;gt;&amp;lt;/div&amp;gt;&amp;lt;div&amp;gt;&amp;lt;font&amp;gt;NEXT&amp;lt;br&amp;gt;&amp;lt;/font&amp;gt;&amp;lt;/div&amp;gt;&quot; style=&quot;edgeLabel;html=1;align=center;verticalAlign=middle;resizable=0;points=[];fontFamily=Georgia;fontColor=#ff9933;fontSize=12;fontStyle=1;labelBackgroundColor=#ffffcc;&quot; vertex=&quot;1&quot; connectable=&quot;0&quot; parent=&quot;1&quot;&gt;\n          &lt;mxGeometry x=&quot;823.9953489437812&quot; y=&quot;602.0016391839356&quot; as=&quot;geometry&quot;&gt;\n            &lt;mxPoint x=&quot;-5&quot; y=&quot;-109&quot; as=&quot;offset&quot; /&gt;\n          &lt;/mxGeometry&gt;\n        &lt;/mxCell&gt;\n        &lt;mxCell id=&quot;GKrketicI9-l3KOTIM3X-5&quot; value=&quot;&amp;lt;div&amp;gt;&amp;lt;font&amp;gt;TRY&amp;lt;/font&amp;gt;&amp;lt;/div&amp;gt;&amp;lt;div&amp;gt;&amp;lt;font&amp;gt;NEXT&amp;lt;br&amp;gt;&amp;lt;/font&amp;gt;&amp;lt;/div&amp;gt;&quot; style=&quot;edgeLabel;html=1;align=center;verticalAlign=middle;resizable=0;points=[];fontFamily=Georgia;fontColor=#ff9933;fontSize=12;fontStyle=1;labelBackgroundColor=#ffffcc;&quot; vertex=&quot;1&quot; connectable=&quot;0&quot; parent=&quot;1&quot;&gt;\n          &lt;mxGeometry x=&quot;566.4953489437812&quot; y=&quot;597.0016391839356&quot; as=&quot;geometry&quot;&gt;\n            &lt;mxPoint x=&quot;-5&quot; y=&quot;-109&quot; as=&quot;offset&quot; /&gt;\n          &lt;/mxGeometry&gt;\n        &lt;/mxCell&gt;\n      &lt;/root&gt;\n    &lt;/mxGraphModel&gt;\n  &lt;/diagram&gt;\n&lt;/mxfile&gt;\n\" resource=\"https://app.diagrams.net/#Hlesteve%2Fdrawio-playground%2Fmain%2Fml_map.svg#%7B%22pageId%22%3A%22prGmxGi5H6ogpCY3go2q%22%7D\"><defs/><g><g data-cell-id=\"0\"><g data-cell-id=\"1\"><g data-cell-id=\"ke5fKqay8JjYpE_cKGV5-45\"><g><rect x=\"876\" y=\"505\" width=\"530\" height=\"250\" rx=\"37.5\" ry=\"37.5\" fill=\"#ffffcc\" stroke=\"#b3b3b3\" stroke-width=\"3\" pointer-events=\"all\"/></g></g><g data-cell-id=\"ke5fKqay8JjYpE_cKGV5-26\"><g><rect x=\"866\" y=\"185\" width=\"540\" height=\"290\" rx=\"43.5\" ry=\"43.5\" fill=\"#cce5ff\" stroke=\"#b3b3b3\" stroke-width=\"3\" pointer-events=\"all\"/></g></g><g data-cell-id=\"ZhISbIufsCQTaueA5Ebt-13\"><g><rect x=\"16\" y=\"445\" width=\"560\" height=\"290\" rx=\"43.5\" ry=\"43.5\" fill=\"#e5ccff\" stroke=\"#b3b3b3\" stroke-width=\"3\" pointer-events=\"all\"/></g></g><g data-cell-id=\"lidfMP7FeTC4yG16FXWw-66\"><g><rect x=\"16\" y=\"95\" width=\"560\" height=\"310\" rx=\"46.5\" ry=\"46.5\" fill=\"#ffcccc\" stroke=\"#b3b3b3\" stroke-width=\"3\" pointer-events=\"all\"/></g></g><g data-cell-id=\"p-bOygNmazyrNX3Cmdq1-1\"><g><ellipse cx=\"836\" cy=\"130\" rx=\"40\" ry=\"35\" fill=\"#ffe6cc\" stroke=\"#ff9933\" stroke-width=\"5\" pointer-events=\"all\"/></g><g><g transform=\"translate(-0.5 -0.5)\"><switch><foreignObject style=\"overflow: visible; text-align: left;\" pointer-events=\"none\" width=\"100%\" height=\"100%\" requiredFeatures=\"http://www.w3.org/TR/SVG11/feature#Extensibility\"><div xmlns=\"http://www.w3.org/1999/xhtml\" style=\"display: flex; align-items: unsafe center; justify-content: unsafe center; width: 78px; height: 1px; padding-top: 130px; margin-left: 797px;\"><div style=\"box-sizing: border-box; font-size: 0px; text-align: center;\" data-drawio-colors=\"color: rgb(0, 0, 0); \"><div style=\"display: inline-block; font-size: 16px; font-family: &quot;Georgia&quot;; color: rgb(0, 0, 0); line-height: 1.2; pointer-events: all; white-space: normal; overflow-wrap: normal;\"><font style=\"font-size: 20px;\"><b>START</b></font></div></div></div></foreignObject><text x=\"836\" y=\"135\" fill=\"rgb(0, 0, 0)\" font-family=\"&quot;Georgia&quot;\" font-size=\"16px\" text-anchor=\"middle\">START</text></switch></g></g></g><g data-cell-id=\"p-bOygNmazyrNX3Cmdq1-2\"><g><ellipse cx=\"756\" cy=\"240\" rx=\"40\" ry=\"35\" fill=\"#cce5ff\" stroke=\"#3399ff\" stroke-width=\"5\" pointer-events=\"all\"/></g><g><g transform=\"translate(-0.5 -0.5)\"><switch><foreignObject style=\"overflow: visible; text-align: left;\" pointer-events=\"none\" width=\"100%\" height=\"100%\" requiredFeatures=\"http://www.w3.org/TR/SVG11/feature#Extensibility\"><div xmlns=\"http://www.w3.org/1999/xhtml\" style=\"display: flex; align-items: unsafe center; justify-content: unsafe center; width: 78px; height: 1px; padding-top: 240px; margin-left: 717px;\"><div style=\"box-sizing: border-box; font-size: 0px; text-align: center;\" data-drawio-colors=\"color: rgb(0, 0, 0); \"><div style=\"display: inline-block; font-size: 16px; font-family: &quot;Georgia&quot;; color: rgb(0, 0, 0); line-height: 1.2; pointer-events: all; white-space: normal; overflow-wrap: normal;\">&gt;50<div><span style=\"font-size: 10px; background-color: initial;\">samples</span></div></div></div></div></foreignObject><text x=\"756\" y=\"245\" fill=\"rgb(0, 0, 0)\" font-family=\"&quot;Georgia&quot;\" font-size=\"16px\" text-anchor=\"middle\">&gt;50...</text></switch></g></g></g><g data-cell-id=\"lidfMP7FeTC4yG16FXWw-1\"><g><ellipse cx=\"646\" cy=\"170\" rx=\"40\" ry=\"35\" fill=\"#cce5ff\" stroke=\"#3399ff\" stroke-width=\"5\" pointer-events=\"all\"/></g><g><g transform=\"translate(-0.5 -0.5)\"><switch><foreignObject style=\"overflow: visible; text-align: left;\" pointer-events=\"none\" width=\"100%\" height=\"100%\" requiredFeatures=\"http://www.w3.org/TR/SVG11/feature#Extensibility\"><div xmlns=\"http://www.w3.org/1999/xhtml\" style=\"display: flex; align-items: unsafe center; justify-content: unsafe center; width: 78px; height: 1px; padding-top: 170px; margin-left: 607px;\"><div style=\"box-sizing: border-box; font-size: 0px; text-align: center;\" data-drawio-colors=\"color: rgb(0, 0, 0); \"><div style=\"display: inline-block; font-size: 16px; font-family: &quot;Georgia&quot;; color: rgb(0, 0, 0); line-height: 1.2; pointer-events: all; white-space: normal; overflow-wrap: normal;\"><font style=\"font-size: 10px;\">get</font><div>more</div><div>data</div></div></div></div></foreignObject><text x=\"646\" y=\"175\" fill=\"rgb(0, 0, 0)\" font-family=\"&quot;Georgia&quot;\" font-size=\"16px\" text-anchor=\"middle\">get...</text></switch></g></g></g><g data-cell-id=\"lidfMP7FeTC4yG16FXWw-5\"><g><path d=\"M 727.72 215.25 L 684.88 198.82\" fill=\"none\" stroke=\"#ff3333\" stroke-width=\"3\" stroke-miterlimit=\"10\" pointer-events=\"stroke\"/><path d=\"M 677.42 195.95 L 686.32 195.08 L 683.45 202.55 Z\" fill=\"#ff3333\" stroke=\"#ff3333\" stroke-width=\"3\" stroke-miterlimit=\"10\" pointer-events=\"all\"/></g><g data-cell-id=\"lidfMP7FeTC4yG16FXWw-6\"><g><g transform=\"translate(-0.5 -0.5)\"><switch><foreignObject style=\"overflow: visible; text-align: left;\" pointer-events=\"none\" width=\"100%\" height=\"100%\" requiredFeatures=\"http://www.w3.org/TR/SVG11/feature#Extensibility\"><div xmlns=\"http://www.w3.org/1999/xhtml\" style=\"display: flex; align-items: unsafe center; justify-content: unsafe center; width: 1px; height: 1px; padding-top: 209px; margin-left: 706px;\"><div style=\"box-sizing: border-box; font-size: 0px; text-align: center;\" data-drawio-colors=\"color: #FF3333; background-color: rgb(255, 255, 255); \"><div style=\"display: inline-block; font-size: 12px; font-family: &quot;Georgia&quot;; color: rgb(255, 51, 51); line-height: 1.2; pointer-events: all; font-weight: bold; background-color: rgb(255, 255, 255); white-space: nowrap;\">NO</div></div></div></foreignObject><text x=\"706\" y=\"213\" fill=\"#FF3333\" font-family=\"&quot;Georgia&quot;\" font-size=\"12px\" text-anchor=\"middle\" font-weight=\"bold\">NO</text></switch></g></g></g></g><g data-cell-id=\"lidfMP7FeTC4yG16FXWw-7\"><g><ellipse cx=\"726\" cy=\"350\" rx=\"40\" ry=\"35\" fill=\"#cce5ff\" stroke=\"#3399ff\" stroke-width=\"5\" pointer-events=\"all\"/></g><g><g transform=\"translate(-0.5 -0.5)\"><switch><foreignObject style=\"overflow: visible; text-align: left;\" pointer-events=\"none\" width=\"100%\" height=\"100%\" requiredFeatures=\"http://www.w3.org/TR/SVG11/feature#Extensibility\"><div xmlns=\"http://www.w3.org/1999/xhtml\" style=\"display: flex; align-items: unsafe center; justify-content: unsafe center; width: 78px; height: 1px; padding-top: 350px; margin-left: 687px;\"><div style=\"box-sizing: border-box; font-size: 0px; text-align: center;\" data-drawio-colors=\"color: rgb(0, 0, 0); \"><div style=\"display: inline-block; font-size: 16px; font-family: &quot;Georgia&quot;; color: rgb(0, 0, 0); line-height: 1.2; pointer-events: all; white-space: normal; overflow-wrap: normal;\"><font style=\"font-size: 10px;\">predicting a</font><div>category</div></div></div></div></foreignObject><text x=\"726\" y=\"355\" fill=\"rgb(0, 0, 0)\" font-family=\"&quot;Georgia&quot;\" font-size=\"16px\" text-anchor=\"middle\">predicting...</text></switch></g></g></g><g data-cell-id=\"lidfMP7FeTC4yG16FXWw-8\"><g><path d=\"M 756 275 L 732.81 305.92\" fill=\"none\" stroke=\"#009900\" stroke-width=\"3\" stroke-miterlimit=\"10\" pointer-events=\"stroke\"/><path d=\"M 728.01 312.32 L 729.61 303.52 L 736.01 308.32 Z\" fill=\"#009900\" stroke=\"#009900\" stroke-width=\"3\" stroke-miterlimit=\"10\" pointer-events=\"all\"/></g><g data-cell-id=\"lidfMP7FeTC4yG16FXWw-9\"><g><g transform=\"translate(-0.5 -0.5)\"><switch><foreignObject style=\"overflow: visible; text-align: left;\" pointer-events=\"none\" width=\"100%\" height=\"100%\" requiredFeatures=\"http://www.w3.org/TR/SVG11/feature#Extensibility\"><div xmlns=\"http://www.w3.org/1999/xhtml\" style=\"display: flex; align-items: unsafe center; justify-content: unsafe center; width: 1px; height: 1px; padding-top: 293px; margin-left: 746px;\"><div style=\"box-sizing: border-box; font-size: 0px; text-align: center;\" data-drawio-colors=\"color: #009900; background-color: rgb(255, 255, 255); \"><div style=\"display: inline-block; font-size: 12px; font-family: &quot;Georgia&quot;; color: rgb(0, 153, 0); line-height: 1.2; pointer-events: all; font-weight: bold; background-color: rgb(255, 255, 255); white-space: nowrap;\">YES</div></div></div></foreignObject><text x=\"746\" y=\"296\" fill=\"#009900\" font-family=\"&quot;Georgia&quot;\" font-size=\"12px\" text-anchor=\"middle\" font-weight=\"bold\">YES</text></switch></g></g></g></g><g data-cell-id=\"lidfMP7FeTC4yG16FXWw-10\"><g><ellipse cx=\"636\" cy=\"440\" rx=\"40\" ry=\"35\" fill=\"#cce5ff\" stroke=\"#3399ff\" stroke-width=\"5\" pointer-events=\"all\"/></g><g><g transform=\"translate(-0.5 -0.5)\"><switch><foreignObject style=\"overflow: visible; text-align: left;\" pointer-events=\"none\" width=\"100%\" height=\"100%\" requiredFeatures=\"http://www.w3.org/TR/SVG11/feature#Extensibility\"><div xmlns=\"http://www.w3.org/1999/xhtml\" style=\"display: flex; align-items: unsafe center; justify-content: unsafe center; width: 78px; height: 1px; padding-top: 440px; margin-left: 597px;\"><div style=\"box-sizing: border-box; font-size: 0px; text-align: center;\" data-drawio-colors=\"color: rgb(0, 0, 0); \"><div style=\"display: inline-block; font-size: 16px; font-family: &quot;Georgia&quot;; color: rgb(0, 0, 0); line-height: 1.2; pointer-events: all; white-space: normal; overflow-wrap: normal;\"><div><span style=\"font-size: 10px;\">do you have</span></div><div>labeled</div><div>data</div></div></div></div></foreignObject><text x=\"636\" y=\"445\" fill=\"rgb(0, 0, 0)\" font-family=\"&quot;Georgia&quot;\" font-size=\"16px\" text-anchor=\"middle\">do you hav...</text></switch></g></g></g><g data-cell-id=\"lidfMP7FeTC4yG16FXWw-11\"><g><path d=\"M 697.72 374.75 L 671.51 406.49\" fill=\"none\" stroke=\"#009900\" stroke-width=\"3\" stroke-miterlimit=\"10\" pointer-events=\"stroke\"/><path d=\"M 666.42 412.66 L 668.43 403.95 L 674.6 409.04 Z\" fill=\"#009900\" stroke=\"#009900\" stroke-width=\"3\" stroke-miterlimit=\"10\" pointer-events=\"all\"/></g><g data-cell-id=\"lidfMP7FeTC4yG16FXWw-12\"><g><g transform=\"translate(-0.5 -0.5)\"><switch><foreignObject style=\"overflow: visible; text-align: left;\" pointer-events=\"none\" width=\"100%\" height=\"100%\" requiredFeatures=\"http://www.w3.org/TR/SVG11/feature#Extensibility\"><div xmlns=\"http://www.w3.org/1999/xhtml\" style=\"display: flex; align-items: unsafe center; justify-content: unsafe center; width: 1px; height: 1px; padding-top: 393px; margin-left: 686px;\"><div style=\"box-sizing: border-box; font-size: 0px; text-align: center;\" data-drawio-colors=\"color: #009900; background-color: rgb(255, 255, 255); \"><div style=\"display: inline-block; font-size: 12px; font-family: &quot;Georgia&quot;; color: rgb(0, 153, 0); line-height: 1.2; pointer-events: all; font-weight: bold; background-color: rgb(255, 255, 255); white-space: nowrap;\">YES</div></div></div></foreignObject><text x=\"686\" y=\"396\" fill=\"#009900\" font-family=\"&quot;Georgia&quot;\" font-size=\"12px\" text-anchor=\"middle\" font-weight=\"bold\">YES</text></switch></g></g></g></g><g data-cell-id=\"lidfMP7FeTC4yG16FXWw-13\"><g><ellipse cx=\"800\" cy=\"450\" rx=\"40\" ry=\"35\" fill=\"#cce5ff\" stroke=\"#3399ff\" stroke-width=\"5\" pointer-events=\"all\"/></g><g><g transform=\"translate(-0.5 -0.5)\"><switch><foreignObject style=\"overflow: visible; text-align: left;\" pointer-events=\"none\" width=\"100%\" height=\"100%\" requiredFeatures=\"http://www.w3.org/TR/SVG11/feature#Extensibility\"><div xmlns=\"http://www.w3.org/1999/xhtml\" style=\"display: flex; align-items: unsafe center; justify-content: unsafe center; width: 78px; height: 1px; padding-top: 450px; margin-left: 761px;\"><div style=\"box-sizing: border-box; font-size: 0px; text-align: center;\" data-drawio-colors=\"color: rgb(0, 0, 0); \"><div style=\"display: inline-block; font-size: 16px; font-family: &quot;Georgia&quot;; color: rgb(0, 0, 0); line-height: 1.2; pointer-events: all; white-space: normal; overflow-wrap: normal;\"><div><span style=\"font-size: 10px;\">predicting a</span></div><div>quantity</div></div></div></div></foreignObject><text x=\"800\" y=\"455\" fill=\"rgb(0, 0, 0)\" font-family=\"&quot;Georgia&quot;\" font-size=\"16px\" text-anchor=\"middle\">predicting...</text></switch></g></g></g><g data-cell-id=\"lidfMP7FeTC4yG16FXWw-14\"><g><path d=\"M 754.28 374.75 L 768.01 414.52\" fill=\"none\" stroke=\"#ff3333\" stroke-width=\"3\" stroke-miterlimit=\"10\" pointer-events=\"stroke\"/><path d=\"M 770.62 422.08 L 764.23 415.82 L 771.79 413.21 Z\" fill=\"#ff3333\" stroke=\"#ff3333\" stroke-width=\"3\" stroke-miterlimit=\"10\" pointer-events=\"all\"/></g><g data-cell-id=\"lidfMP7FeTC4yG16FXWw-15\"><g><g transform=\"translate(-0.5 -0.5)\"><switch><foreignObject style=\"overflow: visible; text-align: left;\" pointer-events=\"none\" width=\"100%\" height=\"100%\" requiredFeatures=\"http://www.w3.org/TR/SVG11/feature#Extensibility\"><div xmlns=\"http://www.w3.org/1999/xhtml\" style=\"display: flex; align-items: unsafe center; justify-content: unsafe center; width: 1px; height: 1px; padding-top: 395px; margin-left: 764px;\"><div style=\"box-sizing: border-box; font-size: 0px; text-align: center;\" data-drawio-colors=\"color: #FF3333; background-color: rgb(255, 255, 255); \"><div style=\"display: inline-block; font-size: 12px; font-family: &quot;Georgia&quot;; color: rgb(255, 51, 51); line-height: 1.2; pointer-events: all; font-weight: bold; background-color: rgb(255, 255, 255); white-space: nowrap;\">NO</div></div></div></foreignObject><text x=\"764\" y=\"399\" fill=\"#FF3333\" font-family=\"&quot;Georgia&quot;\" font-size=\"12px\" text-anchor=\"middle\" font-weight=\"bold\">NO</text></switch></g></g></g></g><g data-cell-id=\"lidfMP7FeTC4yG16FXWw-17\"><g><ellipse cx=\"756\" cy=\"560\" rx=\"40\" ry=\"35\" fill=\"#cce5ff\" stroke=\"#3399ff\" stroke-width=\"5\" pointer-events=\"all\"/></g><g><g transform=\"translate(-0.5 -0.5)\"><switch><foreignObject style=\"overflow: visible; text-align: left;\" pointer-events=\"none\" width=\"100%\" height=\"100%\" requiredFeatures=\"http://www.w3.org/TR/SVG11/feature#Extensibility\"><div xmlns=\"http://www.w3.org/1999/xhtml\" style=\"display: flex; align-items: unsafe center; justify-content: unsafe center; width: 78px; height: 1px; padding-top: 560px; margin-left: 717px;\"><div style=\"box-sizing: border-box; font-size: 0px; text-align: center;\" data-drawio-colors=\"color: rgb(0, 0, 0); \"><div style=\"display: inline-block; font-size: 16px; font-family: &quot;Georgia&quot;; color: rgb(0, 0, 0); line-height: 1.2; pointer-events: all; white-space: normal; overflow-wrap: normal;\"><div><span style=\"font-size: 10px;\">just</span></div><div>looking</div></div></div></div></foreignObject><text x=\"756\" y=\"565\" fill=\"rgb(0, 0, 0)\" font-family=\"&quot;Georgia&quot;\" font-size=\"16px\" text-anchor=\"middle\">just...</text></switch></g></g></g><g data-cell-id=\"lidfMP7FeTC4yG16FXWw-18\"><g><path d=\"M 800 485 L 787.67 524.41\" fill=\"none\" stroke=\"#ff3333\" stroke-width=\"3\" stroke-miterlimit=\"10\" pointer-events=\"stroke\"/><path d=\"M 785.29 532.05 L 783.86 523.22 L 791.49 525.61 Z\" fill=\"#ff3333\" stroke=\"#ff3333\" stroke-width=\"3\" stroke-miterlimit=\"10\" pointer-events=\"all\"/></g><g data-cell-id=\"lidfMP7FeTC4yG16FXWw-19\"><g><g transform=\"translate(-0.5 -0.5)\"><switch><foreignObject style=\"overflow: visible; text-align: left;\" pointer-events=\"none\" width=\"100%\" height=\"100%\" requiredFeatures=\"http://www.w3.org/TR/SVG11/feature#Extensibility\"><div xmlns=\"http://www.w3.org/1999/xhtml\" style=\"display: flex; align-items: unsafe center; justify-content: unsafe center; width: 1px; height: 1px; padding-top: 506px; margin-left: 796px;\"><div style=\"box-sizing: border-box; font-size: 0px; text-align: center;\" data-drawio-colors=\"color: #FF3333; background-color: rgb(255, 255, 255); \"><div style=\"display: inline-block; font-size: 12px; font-family: &quot;Georgia&quot;; color: rgb(255, 51, 51); line-height: 1.2; pointer-events: all; font-weight: bold; background-color: rgb(255, 255, 255); white-space: nowrap;\">NO</div></div></div></foreignObject><text x=\"796\" y=\"510\" fill=\"#FF3333\" font-family=\"&quot;Georgia&quot;\" font-size=\"12px\" text-anchor=\"middle\" font-weight=\"bold\">NO</text></switch></g></g></g></g><g data-cell-id=\"lidfMP7FeTC4yG16FXWw-21\"><g><ellipse cx=\"760\" cy=\"670\" rx=\"40\" ry=\"35\" fill=\"#cce5ff\" stroke=\"#3399ff\" stroke-width=\"5\" pointer-events=\"all\"/></g><g><g transform=\"translate(-0.5 -0.5)\"><switch><foreignObject style=\"overflow: visible; text-align: left;\" pointer-events=\"none\" width=\"100%\" height=\"100%\" requiredFeatures=\"http://www.w3.org/TR/SVG11/feature#Extensibility\"><div xmlns=\"http://www.w3.org/1999/xhtml\" style=\"display: flex; align-items: unsafe center; justify-content: unsafe center; width: 78px; height: 1px; padding-top: 670px; margin-left: 721px;\"><div style=\"box-sizing: border-box; font-size: 0px; text-align: center;\" data-drawio-colors=\"color: rgb(0, 0, 0); \"><div style=\"display: inline-block; font-size: 16px; font-family: &quot;Georgia&quot;; color: rgb(0, 0, 0); line-height: 1.2; pointer-events: all; white-space: normal; overflow-wrap: normal;\"><div><span style=\"font-size: 10px;\">predicting</span></div><div>structure</div></div></div></div></foreignObject><text x=\"760\" y=\"675\" fill=\"rgb(0, 0, 0)\" font-family=\"&quot;Georgia&quot;\" font-size=\"16px\" text-anchor=\"middle\">predicting...</text></switch></g></g></g><g data-cell-id=\"lidfMP7FeTC4yG16FXWw-22\"><g><path d=\"M 756 595 L 758.87 623.7\" fill=\"none\" stroke=\"#ff3333\" stroke-width=\"3\" stroke-miterlimit=\"10\" pointer-events=\"stroke\"/><path d=\"M 759.67 631.66 L 754.89 624.1 L 762.85 623.3 Z\" fill=\"#ff3333\" stroke=\"#ff3333\" stroke-width=\"3\" stroke-miterlimit=\"10\" pointer-events=\"all\"/></g><g data-cell-id=\"lidfMP7FeTC4yG16FXWw-23\"><g><g transform=\"translate(-0.5 -0.5)\"><switch><foreignObject style=\"overflow: visible; text-align: left;\" pointer-events=\"none\" width=\"100%\" height=\"100%\" requiredFeatures=\"http://www.w3.org/TR/SVG11/feature#Extensibility\"><div xmlns=\"http://www.w3.org/1999/xhtml\" style=\"display: flex; align-items: unsafe center; justify-content: unsafe center; width: 1px; height: 1px; padding-top: 611px; margin-left: 760px;\"><div style=\"box-sizing: border-box; font-size: 0px; text-align: center;\" data-drawio-colors=\"color: #FF3333; background-color: rgb(255, 255, 255); \"><div style=\"display: inline-block; font-size: 12px; font-family: &quot;Georgia&quot;; color: rgb(255, 51, 51); line-height: 1.2; pointer-events: all; font-weight: bold; background-color: rgb(255, 255, 255); white-space: nowrap;\">NO</div></div></div></foreignObject><text x=\"760\" y=\"615\" fill=\"#FF3333\" font-family=\"&quot;Georgia&quot;\" font-size=\"12px\" text-anchor=\"middle\" font-weight=\"bold\">NO</text></switch></g></g></g></g><g data-cell-id=\"lidfMP7FeTC4yG16FXWw-24\"><g><path d=\"M 807.72 154.75 L 764.14 197.09\" fill=\"none\" stroke=\"#ff9933\" stroke-width=\"3\" stroke-miterlimit=\"10\" pointer-events=\"stroke\"/><path d=\"M 758.41 202.66 L 761.36 194.22 L 766.93 199.96 Z\" fill=\"#ff9933\" stroke=\"#ff9933\" stroke-width=\"3\" stroke-miterlimit=\"10\" pointer-events=\"all\"/></g></g><g data-cell-id=\"lidfMP7FeTC4yG16FXWw-26\"><g><ellipse cx=\"626\" cy=\"660\" rx=\"40\" ry=\"35\" fill=\"#cce5ff\" stroke=\"#3399ff\" stroke-width=\"5\" pointer-events=\"all\"/></g><g><g transform=\"translate(-0.5 -0.5)\"><switch><foreignObject style=\"overflow: visible; text-align: left;\" pointer-events=\"none\" width=\"100%\" height=\"100%\" requiredFeatures=\"http://www.w3.org/TR/SVG11/feature#Extensibility\"><div xmlns=\"http://www.w3.org/1999/xhtml\" style=\"display: flex; align-items: unsafe center; justify-content: unsafe center; width: 78px; height: 1px; padding-top: 660px; margin-left: 587px;\"><div style=\"box-sizing: border-box; font-size: 0px; text-align: center;\" data-drawio-colors=\"color: rgb(0, 0, 0); \"><div style=\"display: inline-block; font-size: 16px; font-family: &quot;Georgia&quot;; color: rgb(0, 0, 0); line-height: 1.2; pointer-events: all; white-space: normal; overflow-wrap: normal;\"><div><span style=\"background-color: initial;\">tough</span><br/></div><div><span style=\"background-color: initial;\">luck</span></div></div></div></div></foreignObject><text x=\"626\" y=\"665\" fill=\"rgb(0, 0, 0)\" font-family=\"&quot;Georgia&quot;\" font-size=\"16px\" text-anchor=\"middle\">tough...</text></switch></g></g></g><g data-cell-id=\"lidfMP7FeTC4yG16FXWw-27\"><g><path d=\"M 720 670 L 677.16 662.07\" fill=\"none\" stroke=\"#ff9933\" stroke-width=\"3\" stroke-miterlimit=\"10\" pointer-events=\"stroke\"/><path d=\"M 669.3 660.61 L 677.89 658.13 L 676.44 666 Z\" fill=\"#ff9933\" stroke=\"#ff9933\" stroke-width=\"3\" stroke-miterlimit=\"10\" pointer-events=\"all\"/></g></g><g data-cell-id=\"lidfMP7FeTC4yG16FXWw-28\"><g><ellipse cx=\"516\" cy=\"330\" rx=\"40\" ry=\"35\" fill=\"#cce5ff\" stroke=\"#3399ff\" stroke-width=\"5\" pointer-events=\"all\"/></g><g><g transform=\"translate(-0.5 -0.5)\"><switch><foreignObject style=\"overflow: visible; text-align: left;\" pointer-events=\"none\" width=\"100%\" height=\"100%\" requiredFeatures=\"http://www.w3.org/TR/SVG11/feature#Extensibility\"><div xmlns=\"http://www.w3.org/1999/xhtml\" style=\"display: flex; align-items: unsafe center; justify-content: unsafe center; width: 78px; height: 1px; padding-top: 330px; margin-left: 477px;\"><div style=\"box-sizing: border-box; font-size: 0px; text-align: center;\" data-drawio-colors=\"color: rgb(0, 0, 0); \"><div style=\"display: inline-block; font-size: 16px; font-family: &quot;Georgia&quot;; color: rgb(0, 0, 0); line-height: 1.2; pointer-events: all; white-space: normal; overflow-wrap: normal;\"><font style=\"font-size: 16px;\">&lt;100K</font><div style=\"\"><span style=\"\"><font style=\"font-size: 10px;\">samples</font></span></div></div></div></div></foreignObject><text x=\"516\" y=\"335\" fill=\"rgb(0, 0, 0)\" font-family=\"&quot;Georgia&quot;\" font-size=\"16px\" text-anchor=\"middle\">&lt;100K...</text></switch></g></g></g><g data-cell-id=\"lidfMP7FeTC4yG16FXWw-29\"><g><path d=\"M 607.72 415.25 L 552.5 362.59\" fill=\"none\" stroke=\"#009900\" stroke-width=\"3\" stroke-miterlimit=\"10\" pointer-events=\"stroke\"/><path d=\"M 546.71 357.06 L 555.26 359.69 L 549.74 365.48 Z\" fill=\"#009900\" stroke=\"#009900\" stroke-width=\"3\" stroke-miterlimit=\"10\" pointer-events=\"all\"/></g><g data-cell-id=\"lidfMP7FeTC4yG16FXWw-30\"><g><g transform=\"translate(-0.5 -0.5)\"><switch><foreignObject style=\"overflow: visible; text-align: left;\" pointer-events=\"none\" width=\"100%\" height=\"100%\" requiredFeatures=\"http://www.w3.org/TR/SVG11/feature#Extensibility\"><div xmlns=\"http://www.w3.org/1999/xhtml\" style=\"display: flex; align-items: unsafe center; justify-content: unsafe center; width: 1px; height: 1px; padding-top: 392px; margin-left: 581px;\"><div style=\"box-sizing: border-box; font-size: 0px; text-align: center;\" data-drawio-colors=\"color: #009900; background-color: rgb(255, 255, 255); \"><div style=\"display: inline-block; font-size: 12px; font-family: &quot;Georgia&quot;; color: rgb(0, 153, 0); line-height: 1.2; pointer-events: all; font-weight: bold; background-color: rgb(255, 255, 255); white-space: nowrap;\">YES</div></div></div></foreignObject><text x=\"581\" y=\"396\" fill=\"#009900\" font-family=\"&quot;Georgia&quot;\" font-size=\"12px\" text-anchor=\"middle\" font-weight=\"bold\">YES</text></switch></g></g></g></g><g data-cell-id=\"lidfMP7FeTC4yG16FXWw-33\"><a xlink:href=\"./modules/sgd.html#classification\"><g><rect x=\"440\" y=\"185\" width=\"80\" height=\"50\" rx=\"7.5\" ry=\"7.5\" fill=\"#ccffe6\" stroke=\"#00cc66\" stroke-width=\"5\" pointer-events=\"all\"/></g><g><g transform=\"translate(-0.5 -0.5)\"><switch><foreignObject style=\"overflow: visible; text-align: left;\" pointer-events=\"none\" width=\"100%\" height=\"100%\" requiredFeatures=\"http://www.w3.org/TR/SVG11/feature#Extensibility\"><div xmlns=\"http://www.w3.org/1999/xhtml\" style=\"display: flex; align-items: unsafe center; justify-content: unsafe center; width: 78px; height: 1px; padding-top: 210px; margin-left: 441px;\"><div style=\"box-sizing: border-box; font-size: 0px; text-align: center;\" data-drawio-colors=\"color: rgb(0, 0, 0); \"><div style=\"display: inline-block; font-size: 16px; font-family: &quot;Georgia&quot;; color: rgb(0, 0, 0); line-height: 1.2; pointer-events: all; white-space: normal; overflow-wrap: normal;\">SGD<div>Classifier</div></div></div></div></foreignObject><text x=\"480\" y=\"215\" fill=\"rgb(0, 0, 0)\" font-family=\"&quot;Georgia&quot;\" font-size=\"16px\" text-anchor=\"middle\">SGD...</text></switch></g></g></a></g><g data-cell-id=\"lidfMP7FeTC4yG16FXWw-34\"><g><path d=\"M 516 295 L 502.93 245.97\" fill=\"none\" stroke=\"#ff3333\" stroke-width=\"3\" stroke-miterlimit=\"10\" pointer-events=\"stroke\"/><path d=\"M 500.86 238.24 L 506.79 244.94 L 499.06 247 Z\" fill=\"#ff3333\" stroke=\"#ff3333\" stroke-width=\"3\" stroke-miterlimit=\"10\" pointer-events=\"all\"/></g><g data-cell-id=\"lidfMP7FeTC4yG16FXWw-35\"><g><g transform=\"translate(-0.5 -0.5)\"><switch><foreignObject style=\"overflow: visible; text-align: left;\" pointer-events=\"none\" width=\"100%\" height=\"100%\" requiredFeatures=\"http://www.w3.org/TR/SVG11/feature#Extensibility\"><div xmlns=\"http://www.w3.org/1999/xhtml\" style=\"display: flex; align-items: unsafe center; justify-content: unsafe center; width: 1px; height: 1px; padding-top: 272px; margin-left: 508px;\"><div style=\"box-sizing: border-box; font-size: 0px; text-align: center;\" data-drawio-colors=\"color: #FF3333; background-color: #FFCCCC; \"><div style=\"display: inline-block; font-size: 12px; font-family: &quot;Georgia&quot;; color: rgb(255, 51, 51); line-height: 1.2; pointer-events: all; font-weight: bold; background-color: rgb(255, 204, 204); white-space: nowrap;\">NO</div></div></div></foreignObject><text x=\"508\" y=\"275\" fill=\"#FF3333\" font-family=\"&quot;Georgia&quot;\" font-size=\"12px\" text-anchor=\"middle\" font-weight=\"bold\">NO</text></switch></g></g></g></g><g data-cell-id=\"lidfMP7FeTC4yG16FXWw-36\"><a xlink:href=\"./modules/svm.html#classification\"><g><rect x=\"356\" y=\"335\" width=\"60\" height=\"50\" rx=\"7.5\" ry=\"7.5\" fill=\"#ccffe6\" stroke=\"#00cc66\" stroke-width=\"5\" pointer-events=\"all\"/></g><g><g transform=\"translate(-0.5 -0.5)\"><switch><foreignObject style=\"overflow: visible; text-align: left;\" pointer-events=\"none\" width=\"100%\" height=\"100%\" requiredFeatures=\"http://www.w3.org/TR/SVG11/feature#Extensibility\"><div xmlns=\"http://www.w3.org/1999/xhtml\" style=\"display: flex; align-items: unsafe center; justify-content: unsafe center; width: 58px; height: 1px; padding-top: 360px; margin-left: 357px;\"><div style=\"box-sizing: border-box; font-size: 0px; text-align: center;\" data-drawio-colors=\"color: rgb(0, 0, 0); \"><div style=\"display: inline-block; font-size: 16px; font-family: &quot;Georgia&quot;; color: rgb(0, 0, 0); line-height: 1.2; pointer-events: all; white-space: normal; overflow-wrap: normal;\">Linear<div>SVC</div></div></div></div></foreignObject><text x=\"386\" y=\"365\" fill=\"rgb(0, 0, 0)\" font-family=\"&quot;Georgia&quot;\" font-size=\"16px\" text-anchor=\"middle\">Linear...</text></switch></g></g></a></g><g data-cell-id=\"lidfMP7FeTC4yG16FXWw-38\"><g><path d=\"M 476 330 L 426.16 354.92\" fill=\"none\" stroke=\"#009900\" stroke-width=\"3\" stroke-miterlimit=\"10\" pointer-events=\"stroke\"/><path d=\"M 419 358.5 L 424.37 351.34 L 427.94 358.5 Z\" fill=\"#009900\" stroke=\"#009900\" stroke-width=\"3\" stroke-miterlimit=\"10\" pointer-events=\"all\"/></g><g data-cell-id=\"lidfMP7FeTC4yG16FXWw-39\"><g><g transform=\"translate(-0.5 -0.5)\"><switch><foreignObject style=\"overflow: visible; text-align: left;\" pointer-events=\"none\" width=\"100%\" height=\"100%\" requiredFeatures=\"http://www.w3.org/TR/SVG11/feature#Extensibility\"><div xmlns=\"http://www.w3.org/1999/xhtml\" style=\"display: flex; align-items: unsafe center; justify-content: unsafe center; width: 1px; height: 1px; padding-top: 344px; margin-left: 453px;\"><div style=\"box-sizing: border-box; font-size: 0px; text-align: center;\" data-drawio-colors=\"color: #009900; background-color: #FFCCCC; \"><div style=\"display: inline-block; font-size: 12px; font-family: &quot;Georgia&quot;; color: rgb(0, 153, 0); line-height: 1.2; pointer-events: all; font-weight: bold; background-color: rgb(255, 204, 204); white-space: nowrap;\">YES</div></div></div></foreignObject><text x=\"453\" y=\"348\" fill=\"#009900\" font-family=\"&quot;Georgia&quot;\" font-size=\"12px\" text-anchor=\"middle\" font-weight=\"bold\">YES</text></switch></g></g></g></g><g data-cell-id=\"lidfMP7FeTC4yG16FXWw-42\"><g><ellipse cx=\"236\" cy=\"330\" rx=\"40\" ry=\"35\" fill=\"#cce5ff\" stroke=\"#3399ff\" stroke-width=\"5\" pointer-events=\"all\"/></g><g><g transform=\"translate(-0.5 -0.5)\"><switch><foreignObject style=\"overflow: visible; text-align: left;\" pointer-events=\"none\" width=\"100%\" height=\"100%\" requiredFeatures=\"http://www.w3.org/TR/SVG11/feature#Extensibility\"><div xmlns=\"http://www.w3.org/1999/xhtml\" style=\"display: flex; align-items: unsafe center; justify-content: unsafe center; width: 78px; height: 1px; padding-top: 330px; margin-left: 197px;\"><div style=\"box-sizing: border-box; font-size: 0px; text-align: center;\" data-drawio-colors=\"color: rgb(0, 0, 0); \"><div style=\"display: inline-block; font-size: 16px; font-family: &quot;Georgia&quot;; color: rgb(0, 0, 0); line-height: 1.2; pointer-events: all; white-space: normal; overflow-wrap: normal;\"><div><span style=\"background-color: initial;\">text</span><br/></div><div>data</div></div></div></div></foreignObject><text x=\"236\" y=\"335\" fill=\"rgb(0, 0, 0)\" font-family=\"&quot;Georgia&quot;\" font-size=\"16px\" text-anchor=\"middle\">text...</text></switch></g></g></g><g data-cell-id=\"lidfMP7FeTC4yG16FXWw-43\"><g><path d=\"M 356 347.5 L 287.09 332.43\" fill=\"none\" stroke=\"#ff9933\" stroke-width=\"3\" stroke-miterlimit=\"10\" pointer-events=\"stroke\"/><path d=\"M 279.28 330.72 L 287.95 328.52 L 286.24 336.33 Z\" fill=\"#ff9933\" stroke=\"#ff9933\" stroke-width=\"3\" stroke-miterlimit=\"10\" pointer-events=\"all\"/></g></g><g data-cell-id=\"lidfMP7FeTC4yG16FXWw-46\"><a xlink:href=\"./modules/kernel_approximation.html\"><g><rect x=\"250\" y=\"125\" width=\"120\" height=\"50\" rx=\"7.5\" ry=\"7.5\" fill=\"#ccffe6\" stroke=\"#00cc66\" stroke-width=\"5\" pointer-events=\"all\"/></g><g><g transform=\"translate(-0.5 -0.5)\"><switch><foreignObject style=\"overflow: visible; text-align: left;\" pointer-events=\"none\" width=\"100%\" height=\"100%\" requiredFeatures=\"http://www.w3.org/TR/SVG11/feature#Extensibility\"><div xmlns=\"http://www.w3.org/1999/xhtml\" style=\"display: flex; align-items: unsafe center; justify-content: unsafe center; width: 118px; height: 1px; padding-top: 150px; margin-left: 251px;\"><div style=\"box-sizing: border-box; font-size: 0px; text-align: center;\" data-drawio-colors=\"color: rgb(0, 0, 0); \"><div style=\"display: inline-block; font-size: 16px; font-family: &quot;Georgia&quot;; color: rgb(0, 0, 0); line-height: 1.2; pointer-events: all; white-space: normal; overflow-wrap: normal;\">Kernel<div>Approximation</div></div></div></div></foreignObject><text x=\"310\" y=\"155\" fill=\"rgb(0, 0, 0)\" font-family=\"&quot;Georgia&quot;\" font-size=\"16px\" text-anchor=\"middle\">Kernel...</text></switch></g></g></a></g><g data-cell-id=\"lidfMP7FeTC4yG16FXWw-47\"><g><path d=\"M 440 197.5 L 380.16 167.58\" fill=\"none\" stroke=\"#ff9933\" stroke-width=\"3\" stroke-miterlimit=\"10\" pointer-events=\"stroke\"/><path d=\"M 373 164 L 381.94 164 L 378.37 171.16 Z\" fill=\"#ff9933\" stroke=\"#ff9933\" stroke-width=\"3\" stroke-miterlimit=\"10\" pointer-events=\"all\"/></g></g><g data-cell-id=\"lidfMP7FeTC4yG16FXWw-49\"><a xlink:href=\"./modules/neighbors.html\"><g><rect x=\"216\" y=\"205\" width=\"100\" height=\"50\" rx=\"7.5\" ry=\"7.5\" fill=\"#ccffe6\" stroke=\"#00cc66\" stroke-width=\"5\" pointer-events=\"all\"/></g><g><g transform=\"translate(-0.5 -0.5)\"><switch><foreignObject style=\"overflow: visible; text-align: left;\" pointer-events=\"none\" width=\"100%\" height=\"100%\" requiredFeatures=\"http://www.w3.org/TR/SVG11/feature#Extensibility\"><div xmlns=\"http://www.w3.org/1999/xhtml\" style=\"display: flex; align-items: unsafe center; justify-content: unsafe center; width: 98px; height: 1px; padding-top: 230px; margin-left: 217px;\"><div style=\"box-sizing: border-box; font-size: 0px; text-align: center;\" data-drawio-colors=\"color: rgb(0, 0, 0); \"><div style=\"display: inline-block; font-size: 16px; font-family: &quot;Georgia&quot;; color: rgb(0, 0, 0); line-height: 1.2; pointer-events: all; white-space: normal; overflow-wrap: normal;\">KNeighbors<div>Classifier</div></div></div></div></foreignObject><text x=\"266\" y=\"235\" fill=\"rgb(0, 0, 0)\" font-family=\"&quot;Georgia&quot;\" font-size=\"16px\" text-anchor=\"middle\">KNeighbors...</text></switch></g></g></a></g><g data-cell-id=\"lidfMP7FeTC4yG16FXWw-50\"><g><path d=\"M 236 295 L 239.59 266.27\" fill=\"none\" stroke=\"#ff3333\" stroke-width=\"3\" stroke-miterlimit=\"10\" pointer-events=\"stroke\"/><path d=\"M 240.58 258.33 L 243.56 266.76 L 235.62 265.77 Z\" fill=\"#ff3333\" stroke=\"#ff3333\" stroke-width=\"3\" stroke-miterlimit=\"10\" pointer-events=\"all\"/></g><g data-cell-id=\"lidfMP7FeTC4yG16FXWw-51\"><g><g transform=\"translate(-0.5 -0.5)\"><switch><foreignObject style=\"overflow: visible; text-align: left;\" pointer-events=\"none\" width=\"100%\" height=\"100%\" requiredFeatures=\"http://www.w3.org/TR/SVG11/feature#Extensibility\"><div xmlns=\"http://www.w3.org/1999/xhtml\" style=\"display: flex; align-items: unsafe center; justify-content: unsafe center; width: 1px; height: 1px; padding-top: 279px; margin-left: 237px;\"><div style=\"box-sizing: border-box; font-size: 0px; text-align: center;\" data-drawio-colors=\"color: #FF3333; background-color: #FFCCCC; \"><div style=\"display: inline-block; font-size: 12px; font-family: &quot;Georgia&quot;; color: rgb(255, 51, 51); line-height: 1.2; pointer-events: all; font-weight: bold; background-color: rgb(255, 204, 204); white-space: nowrap;\">NO</div></div></div></foreignObject><text x=\"237\" y=\"283\" fill=\"#FF3333\" font-family=\"&quot;Georgia&quot;\" font-size=\"12px\" text-anchor=\"middle\" font-weight=\"bold\">NO</text></switch></g></g></g></g><g data-cell-id=\"lidfMP7FeTC4yG16FXWw-52\"><a xlink:href=\"./modules/svm.html#classification\"><g><rect x=\"57.49\" y=\"180\" width=\"90\" height=\"30\" rx=\"4.5\" ry=\"4.5\" fill=\"#ccffe6\" stroke=\"#00cc66\" stroke-width=\"5\" pointer-events=\"all\"/></g><g><g transform=\"translate(-0.5 -0.5)\"><switch><foreignObject style=\"overflow: visible; text-align: left;\" pointer-events=\"none\" width=\"100%\" height=\"100%\" requiredFeatures=\"http://www.w3.org/TR/SVG11/feature#Extensibility\"><div xmlns=\"http://www.w3.org/1999/xhtml\" style=\"display: flex; align-items: unsafe center; justify-content: unsafe center; width: 88px; height: 1px; padding-top: 195px; margin-left: 58px;\"><div style=\"box-sizing: border-box; font-size: 0px; text-align: center;\" data-drawio-colors=\"color: rgb(0, 0, 0); \"><div style=\"display: inline-block; font-size: 16px; font-family: &quot;Georgia&quot;; color: rgb(0, 0, 0); line-height: 1.2; pointer-events: all; white-space: normal; overflow-wrap: normal;\">SVC</div></div></div></foreignObject><text x=\"102\" y=\"200\" fill=\"rgb(0, 0, 0)\" font-family=\"&quot;Georgia&quot;\" font-size=\"16px\" text-anchor=\"middle\">SVC</text></switch></g></g></a></g><g data-cell-id=\"lidfMP7FeTC4yG16FXWw-54\"><a xlink:href=\"./modules/ensemble.html\"><g><rect x=\"57.49\" y=\"210\" width=\"90\" height=\"50\" rx=\"7.5\" ry=\"7.5\" fill=\"#ccffe6\" stroke=\"#00cc66\" stroke-width=\"5\" pointer-events=\"all\"/></g><g><g transform=\"translate(-0.5 -0.5)\"><switch><foreignObject style=\"overflow: visible; text-align: left;\" pointer-events=\"none\" width=\"100%\" height=\"100%\" requiredFeatures=\"http://www.w3.org/TR/SVG11/feature#Extensibility\"><div xmlns=\"http://www.w3.org/1999/xhtml\" style=\"display: flex; align-items: unsafe center; justify-content: unsafe center; width: 88px; height: 1px; padding-top: 235px; margin-left: 58px;\"><div style=\"box-sizing: border-box; font-size: 0px; text-align: center;\" data-drawio-colors=\"color: rgb(0, 0, 0); \"><div style=\"display: inline-block; font-size: 16px; font-family: &quot;Georgia&quot;; color: rgb(0, 0, 0); line-height: 1.2; pointer-events: all; white-space: normal; overflow-wrap: normal;\">Ensemble<div>Classifiers</div></div></div></div></foreignObject><text x=\"102\" y=\"240\" fill=\"rgb(0, 0, 0)\" font-family=\"&quot;Georgia&quot;\" font-size=\"16px\" text-anchor=\"middle\">Ensemble...</text></switch></g></g></a></g><g data-cell-id=\"lidfMP7FeTC4yG16FXWw-56\"><g><path d=\"M 216 230 L 158.78 223.74\" fill=\"none\" stroke=\"#ff9933\" stroke-width=\"3\" stroke-miterlimit=\"10\" pointer-events=\"stroke\"/><path d=\"M 150.82 222.86 L 159.21 219.76 L 158.34 227.71 Z\" fill=\"#ff9933\" stroke=\"#ff9933\" stroke-width=\"3\" stroke-miterlimit=\"10\" pointer-events=\"all\"/></g></g><g data-cell-id=\"lidfMP7FeTC4yG16FXWw-58\"><a xlink:href=\"./modules/naive_bayes.html\"><g><rect x=\"72.49\" y=\"295\" width=\"60\" height=\"50\" rx=\"7.5\" ry=\"7.5\" fill=\"#ccffe6\" stroke=\"#00cc66\" stroke-width=\"5\" pointer-events=\"all\"/></g><g><g transform=\"translate(-0.5 -0.5)\"><switch><foreignObject style=\"overflow: visible; text-align: left;\" pointer-events=\"none\" width=\"100%\" height=\"100%\" requiredFeatures=\"http://www.w3.org/TR/SVG11/feature#Extensibility\"><div xmlns=\"http://www.w3.org/1999/xhtml\" style=\"display: flex; align-items: unsafe center; justify-content: unsafe center; width: 58px; height: 1px; padding-top: 320px; margin-left: 73px;\"><div style=\"box-sizing: border-box; font-size: 0px; text-align: center;\" data-drawio-colors=\"color: rgb(0, 0, 0); \"><div style=\"display: inline-block; font-size: 16px; font-family: &quot;Georgia&quot;; color: rgb(0, 0, 0); line-height: 1.2; pointer-events: all; white-space: normal; overflow-wrap: normal;\">Naive<div>Bayes</div></div></div></div></foreignObject><text x=\"102\" y=\"325\" fill=\"rgb(0, 0, 0)\" font-family=\"&quot;Georgia&quot;\" font-size=\"16px\" text-anchor=\"middle\">Naive...</text></switch></g></g></a></g><g data-cell-id=\"lidfMP7FeTC4yG16FXWw-60\"><g><path d=\"M 196 330 L 143.71 321.77\" fill=\"none\" stroke=\"#009900\" stroke-width=\"3\" stroke-miterlimit=\"10\" pointer-events=\"stroke\"/><path d=\"M 135.8 320.52 L 144.33 317.81 L 143.08 325.72 Z\" fill=\"#009900\" stroke=\"#009900\" stroke-width=\"3\" stroke-miterlimit=\"10\" pointer-events=\"all\"/></g><g data-cell-id=\"lidfMP7FeTC4yG16FXWw-61\"><g><g transform=\"translate(-0.5 -0.5)\"><switch><foreignObject style=\"overflow: visible; text-align: left;\" pointer-events=\"none\" width=\"100%\" height=\"100%\" requiredFeatures=\"http://www.w3.org/TR/SVG11/feature#Extensibility\"><div xmlns=\"http://www.w3.org/1999/xhtml\" style=\"display: flex; align-items: unsafe center; justify-content: unsafe center; width: 1px; height: 1px; padding-top: 328px; margin-left: 171px;\"><div style=\"box-sizing: border-box; font-size: 0px; text-align: center;\" data-drawio-colors=\"color: #009900; background-color: #FFCCCC; \"><div style=\"display: inline-block; font-size: 12px; font-family: &quot;Georgia&quot;; color: rgb(0, 153, 0); line-height: 1.2; pointer-events: all; font-weight: bold; background-color: rgb(255, 204, 204); white-space: nowrap;\">YES</div></div></div></foreignObject><text x=\"171\" y=\"332\" fill=\"#009900\" font-family=\"&quot;Georgia&quot;\" font-size=\"12px\" text-anchor=\"middle\" font-weight=\"bold\">YES</text></switch></g></g></g></g><g data-cell-id=\"lidfMP7FeTC4yG16FXWw-62\"><g><rect x=\"36\" y=\"115\" width=\"170\" height=\"40\" fill=\"none\" stroke=\"none\" pointer-events=\"all\"/></g><g><g transform=\"translate(-0.5 -0.5)\"><switch><foreignObject style=\"overflow: visible; text-align: left;\" pointer-events=\"none\" width=\"100%\" height=\"100%\" requiredFeatures=\"http://www.w3.org/TR/SVG11/feature#Extensibility\"><div xmlns=\"http://www.w3.org/1999/xhtml\" style=\"display: flex; align-items: unsafe center; justify-content: unsafe center; width: 168px; height: 1px; padding-top: 135px; margin-left: 37px;\"><div style=\"box-sizing: border-box; font-size: 0px; text-align: center;\" data-drawio-colors=\"color: rgb(0, 0, 0); \"><div style=\"display: inline-block; font-size: 24px; font-family: &quot;Helvetica&quot;; color: rgb(0, 0, 0); line-height: 1.2; pointer-events: all; font-weight: bold; white-space: normal; overflow-wrap: normal;\"><span style=\"font-size: 24px;\"><font style=\"font-size: 24px;\" face=\"Georgia\">classification</font></span></div></div></div></foreignObject><text x=\"121\" y=\"142\" fill=\"rgb(0, 0, 0)\" font-family=\"&quot;Helvetica&quot;\" font-size=\"24px\" text-anchor=\"middle\" font-weight=\"bold\">classification</text></switch></g></g></g><g data-cell-id=\"ZhISbIufsCQTaueA5Ebt-10\"><g><ellipse cx=\"440\" cy=\"518\" rx=\"40\" ry=\"35\" fill=\"#cce5ff\" stroke=\"#3399ff\" stroke-width=\"5\" pointer-events=\"all\"/></g><g><g transform=\"translate(-0.5 -0.5)\"><switch><foreignObject style=\"overflow: visible; text-align: left;\" pointer-events=\"none\" width=\"100%\" height=\"100%\" requiredFeatures=\"http://www.w3.org/TR/SVG11/feature#Extensibility\"><div xmlns=\"http://www.w3.org/1999/xhtml\" style=\"display: flex; align-items: unsafe center; justify-content: unsafe center; width: 78px; height: 1px; padding-top: 518px; margin-left: 401px;\"><div style=\"box-sizing: border-box; font-size: 0px; text-align: center;\" data-drawio-colors=\"color: rgb(0, 0, 0); \"><div style=\"display: inline-block; font-size: 12px; font-family: &quot;Georgia&quot;; color: rgb(0, 0, 0); line-height: 1.2; pointer-events: all; white-space: normal; overflow-wrap: normal;\"><div style=\"font-size: 12px;\"><font style=\"font-size: 12px;\"><span style=\"background-color: initial; font-size: 12px;\">number of</span><br style=\"font-size: 12px;\"/></font></div><div style=\"font-size: 12px;\"><font style=\"font-size: 12px;\">categories</font></div><div style=\"font-size: 12px;\"><font style=\"font-size: 12px;\">known</font></div></div></div></div></foreignObject><text x=\"440\" y=\"522\" fill=\"rgb(0, 0, 0)\" font-family=\"&quot;Georgia&quot;\" font-size=\"12px\" text-anchor=\"middle\">number of...</text></switch></g></g></g><g data-cell-id=\"ZhISbIufsCQTaueA5Ebt-11\"><g><path d=\"M 596 440 L 478.76 488.88\" fill=\"none\" stroke=\"#ff3333\" stroke-width=\"3\" stroke-miterlimit=\"10\" pointer-events=\"stroke\"/><path d=\"M 471.38 491.96 L 477.22 485.19 L 480.3 492.57 Z\" fill=\"#ff3333\" stroke=\"#ff3333\" stroke-width=\"3\" stroke-miterlimit=\"10\" pointer-events=\"all\"/></g><g data-cell-id=\"ZhISbIufsCQTaueA5Ebt-12\"><g><g transform=\"translate(-0.5 -0.5)\"><switch><foreignObject style=\"overflow: visible; text-align: left;\" pointer-events=\"none\" width=\"100%\" height=\"100%\" requiredFeatures=\"http://www.w3.org/TR/SVG11/feature#Extensibility\"><div xmlns=\"http://www.w3.org/1999/xhtml\" style=\"display: flex; align-items: unsafe center; justify-content: unsafe center; width: 1px; height: 1px; padding-top: 464px; margin-left: 546px;\"><div style=\"box-sizing: border-box; font-size: 0px; text-align: center;\" data-drawio-colors=\"color: #FF3333; background-color: #E5CCFF; \"><div style=\"display: inline-block; font-size: 12px; font-family: &quot;Georgia&quot;; color: rgb(255, 51, 51); line-height: 1.2; pointer-events: all; font-weight: bold; background-color: rgb(229, 204, 255); white-space: nowrap;\">NO</div></div></div></foreignObject><text x=\"546\" y=\"467\" fill=\"#FF3333\" font-family=\"&quot;Georgia&quot;\" font-size=\"12px\" text-anchor=\"middle\" font-weight=\"bold\">NO</text></switch></g></g></g></g><g data-cell-id=\"ZhISbIufsCQTaueA5Ebt-14\"><g><ellipse cx=\"504\" cy=\"623\" rx=\"40\" ry=\"35\" fill=\"#cce5ff\" stroke=\"#3399ff\" stroke-width=\"5\" pointer-events=\"all\"/></g><g><g transform=\"translate(-0.5 -0.5)\"><switch><foreignObject style=\"overflow: visible; text-align: left;\" pointer-events=\"none\" width=\"100%\" height=\"100%\" requiredFeatures=\"http://www.w3.org/TR/SVG11/feature#Extensibility\"><div xmlns=\"http://www.w3.org/1999/xhtml\" style=\"display: flex; align-items: unsafe center; justify-content: unsafe center; width: 78px; height: 1px; padding-top: 623px; margin-left: 465px;\"><div style=\"box-sizing: border-box; font-size: 0px; text-align: center;\" data-drawio-colors=\"color: rgb(0, 0, 0); \"><div style=\"display: inline-block; font-size: 16px; font-family: &quot;Georgia&quot;; color: rgb(0, 0, 0); line-height: 1.2; pointer-events: all; white-space: normal; overflow-wrap: normal;\"><font style=\"font-size: 16px;\">&lt;10K</font><div style=\"\"><span style=\"\"><font style=\"font-size: 10px;\">samples</font></span></div></div></div></div></foreignObject><text x=\"504\" y=\"628\" fill=\"rgb(0, 0, 0)\" font-family=\"&quot;Georgia&quot;\" font-size=\"16px\" text-anchor=\"middle\">&lt;10K...</text></switch></g></g></g><g data-cell-id=\"ZhISbIufsCQTaueA5Ebt-15\"><g><ellipse cx=\"286\" cy=\"570\" rx=\"40\" ry=\"35\" fill=\"#cce5ff\" stroke=\"#3399ff\" stroke-width=\"5\" pointer-events=\"all\"/></g><g><g transform=\"translate(-0.5 -0.5)\"><switch><foreignObject style=\"overflow: visible; text-align: left;\" pointer-events=\"none\" width=\"100%\" height=\"100%\" requiredFeatures=\"http://www.w3.org/TR/SVG11/feature#Extensibility\"><div xmlns=\"http://www.w3.org/1999/xhtml\" style=\"display: flex; align-items: unsafe center; justify-content: unsafe center; width: 78px; height: 1px; padding-top: 570px; margin-left: 247px;\"><div style=\"box-sizing: border-box; font-size: 0px; text-align: center;\" data-drawio-colors=\"color: rgb(0, 0, 0); \"><div style=\"display: inline-block; font-size: 16px; font-family: &quot;Georgia&quot;; color: rgb(0, 0, 0); line-height: 1.2; pointer-events: all; white-space: normal; overflow-wrap: normal;\"><font style=\"font-size: 16px;\">&lt;10K</font><div style=\"\"><span style=\"\"><font style=\"font-size: 10px;\">samples</font></span></div></div></div></div></foreignObject><text x=\"286\" y=\"575\" fill=\"rgb(0, 0, 0)\" font-family=\"&quot;Georgia&quot;\" font-size=\"16px\" text-anchor=\"middle\">&lt;10K...</text></switch></g></g></g><g data-cell-id=\"ZhISbIufsCQTaueA5Ebt-16\"><g><path d=\"M 544 623 L 586.65 632.73\" fill=\"none\" stroke=\"#ff3333\" stroke-width=\"3\" stroke-miterlimit=\"10\" pointer-events=\"stroke\"/><path d=\"M 594.45 634.51 L 585.76 636.63 L 587.54 628.83 Z\" fill=\"#ff3333\" stroke=\"#ff3333\" stroke-width=\"3\" stroke-miterlimit=\"10\" pointer-events=\"all\"/></g><g data-cell-id=\"ZhISbIufsCQTaueA5Ebt-17\"><g><g transform=\"translate(-0.5 -0.5)\"><switch><foreignObject style=\"overflow: visible; text-align: left;\" pointer-events=\"none\" width=\"100%\" height=\"100%\" requiredFeatures=\"http://www.w3.org/TR/SVG11/feature#Extensibility\"><div xmlns=\"http://www.w3.org/1999/xhtml\" style=\"display: flex; align-items: unsafe center; justify-content: unsafe center; width: 1px; height: 1px; padding-top: 626px; margin-left: 566px;\"><div style=\"box-sizing: border-box; font-size: 0px; text-align: center;\" data-drawio-colors=\"color: #FF3333; background-color: #E5CCFF; \"><div style=\"display: inline-block; font-size: 12px; font-family: &quot;Georgia&quot;; color: rgb(255, 51, 51); line-height: 1.2; pointer-events: all; font-weight: bold; background-color: rgb(229, 204, 255); white-space: nowrap;\">NO</div></div></div></foreignObject><text x=\"566\" y=\"630\" fill=\"#FF3333\" font-family=\"&quot;Georgia&quot;\" font-size=\"12px\" text-anchor=\"middle\" font-weight=\"bold\">NO</text></switch></g></g></g></g><g data-cell-id=\"ZhISbIufsCQTaueA5Ebt-18\"><g><path d=\"M 468.28 542.75 L 474.21 587\" fill=\"none\" stroke=\"#ff3333\" stroke-width=\"3\" stroke-miterlimit=\"10\" pointer-events=\"stroke\"/><path d=\"M 475.27 594.93 L 470.24 587.53 L 478.17 586.47 Z\" fill=\"#ff3333\" stroke=\"#ff3333\" stroke-width=\"3\" stroke-miterlimit=\"10\" pointer-events=\"all\"/></g><g data-cell-id=\"ZhISbIufsCQTaueA5Ebt-19\"><g><g transform=\"translate(-0.5 -0.5)\"><switch><foreignObject style=\"overflow: visible; text-align: left;\" pointer-events=\"none\" width=\"100%\" height=\"100%\" requiredFeatures=\"http://www.w3.org/TR/SVG11/feature#Extensibility\"><div xmlns=\"http://www.w3.org/1999/xhtml\" style=\"display: flex; align-items: unsafe center; justify-content: unsafe center; width: 1px; height: 1px; padding-top: 566px; margin-left: 474px;\"><div style=\"box-sizing: border-box; font-size: 0px; text-align: center;\" data-drawio-colors=\"color: #FF3333; background-color: #E5CCFF; \"><div style=\"display: inline-block; font-size: 12px; font-family: &quot;Georgia&quot;; color: rgb(255, 51, 51); line-height: 1.2; pointer-events: all; font-weight: bold; background-color: rgb(229, 204, 255); white-space: nowrap;\">NO</div></div></div></foreignObject><text x=\"474\" y=\"569\" fill=\"#FF3333\" font-family=\"&quot;Georgia&quot;\" font-size=\"12px\" text-anchor=\"middle\" font-weight=\"bold\">NO</text></switch></g></g></g></g><g data-cell-id=\"ZhISbIufsCQTaueA5Ebt-20\"><g><path d=\"M 400 518 L 325.1 541.81\" fill=\"none\" stroke=\"#009900\" stroke-width=\"3\" stroke-miterlimit=\"10\" pointer-events=\"stroke\"/><path d=\"M 317.48 544.24 L 323.89 538 L 326.32 545.62 Z\" fill=\"#009900\" stroke=\"#009900\" stroke-width=\"3\" stroke-miterlimit=\"10\" pointer-events=\"all\"/></g><g data-cell-id=\"ZhISbIufsCQTaueA5Ebt-21\"><g><g transform=\"translate(-0.5 -0.5)\"><switch><foreignObject style=\"overflow: visible; text-align: left;\" pointer-events=\"none\" width=\"100%\" height=\"100%\" requiredFeatures=\"http://www.w3.org/TR/SVG11/feature#Extensibility\"><div xmlns=\"http://www.w3.org/1999/xhtml\" style=\"display: flex; align-items: unsafe center; justify-content: unsafe center; width: 1px; height: 1px; padding-top: 532px; margin-left: 366px;\"><div style=\"box-sizing: border-box; font-size: 0px; text-align: center;\" data-drawio-colors=\"color: #009900; background-color: #E5CCFF; \"><div style=\"display: inline-block; font-size: 12px; font-family: &quot;Georgia&quot;; color: rgb(0, 153, 0); line-height: 1.2; pointer-events: all; font-weight: bold; background-color: rgb(229, 204, 255); white-space: nowrap;\">YES</div></div></div></foreignObject><text x=\"366\" y=\"535\" fill=\"#009900\" font-family=\"&quot;Georgia&quot;\" font-size=\"12px\" text-anchor=\"middle\" font-weight=\"bold\">YES</text></switch></g></g></g></g><g data-cell-id=\"ZhISbIufsCQTaueA5Ebt-22\"><a xlink:href=\"./modules/clustering.html#mean-shift\"><g><rect x=\"331\" y=\"655\" width=\"90\" height=\"30\" rx=\"4.5\" ry=\"4.5\" fill=\"#ccffe6\" stroke=\"#00cc66\" stroke-width=\"5\" pointer-events=\"all\"/></g><g><g transform=\"translate(-0.5 -0.5)\"><switch><foreignObject style=\"overflow: visible; text-align: left;\" pointer-events=\"none\" width=\"100%\" height=\"100%\" requiredFeatures=\"http://www.w3.org/TR/SVG11/feature#Extensibility\"><div xmlns=\"http://www.w3.org/1999/xhtml\" style=\"display: flex; align-items: unsafe center; justify-content: unsafe center; width: 88px; height: 1px; padding-top: 670px; margin-left: 332px;\"><div style=\"box-sizing: border-box; font-size: 0px; text-align: center;\" data-drawio-colors=\"color: rgb(0, 0, 0); \"><div style=\"display: inline-block; font-size: 16px; font-family: &quot;Georgia&quot;; color: rgb(0, 0, 0); line-height: 1.2; pointer-events: all; white-space: normal; overflow-wrap: normal;\">MeanShift</div></div></div></foreignObject><text x=\"376\" y=\"675\" fill=\"rgb(0, 0, 0)\" font-family=\"&quot;Georgia&quot;\" font-size=\"16px\" text-anchor=\"middle\">MeanShift</text></switch></g></g></a></g><g data-cell-id=\"ZhISbIufsCQTaueA5Ebt-23\"><a xlink:href=\"./modules/mixture.html#bgmm\"><g><rect x=\"331\" y=\"685\" width=\"90\" height=\"30\" rx=\"4.5\" ry=\"4.5\" fill=\"#ccffe6\" stroke=\"#00cc66\" stroke-width=\"5\" pointer-events=\"all\"/></g><g><g transform=\"translate(-0.5 -0.5)\"><switch><foreignObject style=\"overflow: visible; text-align: left;\" pointer-events=\"none\" width=\"100%\" height=\"100%\" requiredFeatures=\"http://www.w3.org/TR/SVG11/feature#Extensibility\"><div xmlns=\"http://www.w3.org/1999/xhtml\" style=\"display: flex; align-items: unsafe center; justify-content: unsafe center; width: 88px; height: 1px; padding-top: 700px; margin-left: 332px;\"><div style=\"box-sizing: border-box; font-size: 0px; text-align: center;\" data-drawio-colors=\"color: rgb(0, 0, 0); \"><div style=\"display: inline-block; font-size: 16px; font-family: &quot;Georgia&quot;; color: rgb(0, 0, 0); line-height: 1.2; pointer-events: all; white-space: normal; overflow-wrap: normal;\">VBGMM</div></div></div></foreignObject><text x=\"376\" y=\"705\" fill=\"rgb(0, 0, 0)\" font-family=\"&quot;Georgia&quot;\" font-size=\"16px\" text-anchor=\"middle\">VBGMM</text></switch></g></g></a></g><g data-cell-id=\"ZhISbIufsCQTaueA5Ebt-24\"><g><path d=\"M 475.72 647.75 L 430.97 672.08\" fill=\"none\" stroke=\"#009900\" stroke-width=\"3\" stroke-miterlimit=\"10\" pointer-events=\"stroke\"/><path d=\"M 423.95 675.9 L 429.06 668.56 L 432.89 675.59 Z\" fill=\"#009900\" stroke=\"#009900\" stroke-width=\"3\" stroke-miterlimit=\"10\" pointer-events=\"all\"/></g><g data-cell-id=\"ZhISbIufsCQTaueA5Ebt-25\"><g><g transform=\"translate(-0.5 -0.5)\"><switch><foreignObject style=\"overflow: visible; text-align: left;\" pointer-events=\"none\" width=\"100%\" height=\"100%\" requiredFeatures=\"http://www.w3.org/TR/SVG11/feature#Extensibility\"><div xmlns=\"http://www.w3.org/1999/xhtml\" style=\"display: flex; align-items: unsafe center; justify-content: unsafe center; width: 1px; height: 1px; padding-top: 662px; margin-left: 455px;\"><div style=\"box-sizing: border-box; font-size: 0px; text-align: center;\" data-drawio-colors=\"color: #009900; background-color: #E5CCFF; \"><div style=\"display: inline-block; font-size: 12px; font-family: &quot;Georgia&quot;; color: rgb(0, 153, 0); line-height: 1.2; pointer-events: all; font-weight: bold; background-color: rgb(229, 204, 255); white-space: nowrap;\">YES</div></div></div></foreignObject><text x=\"455\" y=\"666\" fill=\"#009900\" font-family=\"&quot;Georgia&quot;\" font-size=\"12px\" text-anchor=\"middle\" font-weight=\"bold\">YES</text></switch></g></g></g></g><g data-cell-id=\"ZhISbIufsCQTaueA5Ebt-26\"><a xlink:href=\"./modules/clustering.html#mini-batch-k-means\"><g><rect x=\"191\" y=\"645\" width=\"90\" height=\"50\" rx=\"7.5\" ry=\"7.5\" fill=\"#ccffe6\" stroke=\"#00cc66\" stroke-width=\"5\" pointer-events=\"all\"/></g><g><g transform=\"translate(-0.5 -0.5)\"><switch><foreignObject style=\"overflow: visible; text-align: left;\" pointer-events=\"none\" width=\"100%\" height=\"100%\" requiredFeatures=\"http://www.w3.org/TR/SVG11/feature#Extensibility\"><div xmlns=\"http://www.w3.org/1999/xhtml\" style=\"display: flex; align-items: unsafe center; justify-content: unsafe center; width: 88px; height: 1px; padding-top: 670px; margin-left: 192px;\"><div style=\"box-sizing: border-box; font-size: 0px; text-align: center;\" data-drawio-colors=\"color: rgb(0, 0, 0); \"><div style=\"display: inline-block; font-size: 16px; font-family: &quot;Georgia&quot;; color: rgb(0, 0, 0); line-height: 1.2; pointer-events: all; white-space: normal; overflow-wrap: normal;\">MiniBatch<div>KMeans</div></div></div></div></foreignObject><text x=\"236\" y=\"675\" fill=\"rgb(0, 0, 0)\" font-family=\"&quot;Georgia&quot;\" font-size=\"16px\" text-anchor=\"middle\">MiniBatch...</text></switch></g></g></a></g><g data-cell-id=\"ZhISbIufsCQTaueA5Ebt-27\"><g><path d=\"M 257.72 594.75 L 240.5 634.58\" fill=\"none\" stroke=\"#ff3333\" stroke-width=\"3\" stroke-miterlimit=\"10\" pointer-events=\"stroke\"/><path d=\"M 237.33 641.92 L 236.83 632.99 L 244.18 636.16 Z\" fill=\"#ff3333\" stroke=\"#ff3333\" stroke-width=\"3\" stroke-miterlimit=\"10\" pointer-events=\"all\"/></g><g data-cell-id=\"ZhISbIufsCQTaueA5Ebt-28\"><g><g transform=\"translate(-0.5 -0.5)\"><switch><foreignObject style=\"overflow: visible; text-align: left;\" pointer-events=\"none\" width=\"100%\" height=\"100%\" requiredFeatures=\"http://www.w3.org/TR/SVG11/feature#Extensibility\"><div xmlns=\"http://www.w3.org/1999/xhtml\" style=\"display: flex; align-items: unsafe center; justify-content: unsafe center; width: 1px; height: 1px; padding-top: 616px; margin-left: 251px;\"><div style=\"box-sizing: border-box; font-size: 0px; text-align: center;\" data-drawio-colors=\"color: #FF3333; background-color: #E5CCFF; \"><div style=\"display: inline-block; font-size: 12px; font-family: &quot;Georgia&quot;; color: rgb(255, 51, 51); line-height: 1.2; pointer-events: all; font-weight: bold; background-color: rgb(229, 204, 255); white-space: nowrap;\">NO</div></div></div></foreignObject><text x=\"251\" y=\"620\" fill=\"#FF3333\" font-family=\"&quot;Georgia&quot;\" font-size=\"12px\" text-anchor=\"middle\" font-weight=\"bold\">NO</text></switch></g></g></g></g><g data-cell-id=\"ZhISbIufsCQTaueA5Ebt-29\"><g><rect x=\"38.98\" y=\"605\" width=\"138.51\" height=\"40\" fill=\"none\" stroke=\"none\" pointer-events=\"all\"/></g><g><g transform=\"translate(-0.5 -0.5)\"><switch><foreignObject style=\"overflow: visible; text-align: left;\" pointer-events=\"none\" width=\"100%\" height=\"100%\" requiredFeatures=\"http://www.w3.org/TR/SVG11/feature#Extensibility\"><div xmlns=\"http://www.w3.org/1999/xhtml\" style=\"display: flex; align-items: unsafe center; justify-content: unsafe center; width: 137px; height: 1px; padding-top: 625px; margin-left: 40px;\"><div style=\"box-sizing: border-box; font-size: 0px; text-align: center;\" data-drawio-colors=\"color: rgb(0, 0, 0); \"><div style=\"display: inline-block; font-size: 24px; font-family: &quot;Helvetica&quot;; color: rgb(0, 0, 0); line-height: 1.2; pointer-events: all; font-weight: bold; white-space: normal; overflow-wrap: normal;\"><span style=\"font-size: 24px;\"><font style=\"font-size: 24px;\" face=\"Georgia\">clustering</font></span></div></div></div></foreignObject><text x=\"108\" y=\"632\" fill=\"rgb(0, 0, 0)\" font-family=\"&quot;Helvetica&quot;\" font-size=\"24px\" text-anchor=\"middle\" font-weight=\"bold\">clustering</text></switch></g></g></g><g data-cell-id=\"ZhISbIufsCQTaueA5Ebt-30\"><a xlink:href=\"./modules/clustering.html#k-means\"><g><rect x=\"189.49\" y=\"465\" width=\"78.51\" height=\"30\" rx=\"4.5\" ry=\"4.5\" fill=\"#ccffe6\" stroke=\"#00cc66\" stroke-width=\"5\" pointer-events=\"all\"/></g><g><g transform=\"translate(-0.5 -0.5)\"><switch><foreignObject style=\"overflow: visible; text-align: left;\" pointer-events=\"none\" width=\"100%\" height=\"100%\" requiredFeatures=\"http://www.w3.org/TR/SVG11/feature#Extensibility\"><div xmlns=\"http://www.w3.org/1999/xhtml\" style=\"display: flex; align-items: unsafe center; justify-content: unsafe center; width: 77px; height: 1px; padding-top: 480px; margin-left: 190px;\"><div style=\"box-sizing: border-box; font-size: 0px; text-align: center;\" data-drawio-colors=\"color: rgb(0, 0, 0); \"><div style=\"display: inline-block; font-size: 16px; font-family: &quot;Georgia&quot;; color: rgb(0, 0, 0); line-height: 1.2; pointer-events: all; white-space: normal; overflow-wrap: normal;\">KMeans</div></div></div></foreignObject><text x=\"229\" y=\"485\" fill=\"rgb(0, 0, 0)\" font-family=\"&quot;Georgia&quot;\" font-size=\"16px\" text-anchor=\"middle\">KMeans</text></switch></g></g></a></g><g data-cell-id=\"ZhISbIufsCQTaueA5Ebt-31\"><g><path d=\"M 257.72 545.25 L 250.45 506.16\" fill=\"none\" stroke=\"#009900\" stroke-width=\"3\" stroke-miterlimit=\"10\" pointer-events=\"stroke\"/><path d=\"M 248.99 498.3 L 254.38 505.43 L 246.52 506.89 Z\" fill=\"#009900\" stroke=\"#009900\" stroke-width=\"3\" stroke-miterlimit=\"10\" pointer-events=\"all\"/></g><g data-cell-id=\"ZhISbIufsCQTaueA5Ebt-32\"><g><g transform=\"translate(-0.5 -0.5)\"><switch><foreignObject style=\"overflow: visible; text-align: left;\" pointer-events=\"none\" width=\"100%\" height=\"100%\" requiredFeatures=\"http://www.w3.org/TR/SVG11/feature#Extensibility\"><div xmlns=\"http://www.w3.org/1999/xhtml\" style=\"display: flex; align-items: unsafe center; justify-content: unsafe center; width: 1px; height: 1px; padding-top: 525px; margin-left: 252px;\"><div style=\"box-sizing: border-box; font-size: 0px; text-align: center;\" data-drawio-colors=\"color: #009900; background-color: #E5CCFF; \"><div style=\"display: inline-block; font-size: 12px; font-family: &quot;Georgia&quot;; color: rgb(0, 153, 0); line-height: 1.2; pointer-events: all; font-weight: bold; background-color: rgb(229, 204, 255); white-space: nowrap;\">YES</div></div></div></foreignObject><text x=\"252\" y=\"529\" fill=\"#009900\" font-family=\"&quot;Georgia&quot;\" font-size=\"12px\" text-anchor=\"middle\" font-weight=\"bold\">YES</text></switch></g></g></g></g><g data-cell-id=\"ZhISbIufsCQTaueA5Ebt-33\"><a xlink:href=\"./modules/clustering.html#spectral-clustering\"><g><rect x=\"36\" y=\"505\" width=\"90\" height=\"50\" rx=\"7.5\" ry=\"7.5\" fill=\"#ccffe6\" stroke=\"#00cc66\" stroke-width=\"5\" pointer-events=\"all\"/></g><g><g transform=\"translate(-0.5 -0.5)\"><switch><foreignObject style=\"overflow: visible; text-align: left;\" pointer-events=\"none\" width=\"100%\" height=\"100%\" requiredFeatures=\"http://www.w3.org/TR/SVG11/feature#Extensibility\"><div xmlns=\"http://www.w3.org/1999/xhtml\" style=\"display: flex; align-items: unsafe center; justify-content: unsafe center; width: 88px; height: 1px; padding-top: 530px; margin-left: 37px;\"><div style=\"box-sizing: border-box; font-size: 0px; text-align: center;\" data-drawio-colors=\"color: rgb(0, 0, 0); \"><div style=\"display: inline-block; font-size: 16px; font-family: &quot;Georgia&quot;; color: rgb(0, 0, 0); line-height: 1.2; pointer-events: all; white-space: normal; overflow-wrap: normal;\"><div>Spectral</div><div>Clustering</div></div></div></div></foreignObject><text x=\"81\" y=\"535\" fill=\"rgb(0, 0, 0)\" font-family=\"&quot;Georgia&quot;\" font-size=\"16px\" text-anchor=\"middle\">Spectral...</text></switch></g></g></a></g><g data-cell-id=\"ZhISbIufsCQTaueA5Ebt-34\"><a xlink:href=\"./modules/mixture.html\"><g><rect x=\"36\" y=\"555\" width=\"90\" height=\"30\" rx=\"4.5\" ry=\"4.5\" fill=\"#ccffe6\" stroke=\"#00cc66\" stroke-width=\"5\" pointer-events=\"all\"/></g><g><g transform=\"translate(-0.5 -0.5)\"><switch><foreignObject style=\"overflow: visible; text-align: left;\" pointer-events=\"none\" width=\"100%\" height=\"100%\" requiredFeatures=\"http://www.w3.org/TR/SVG11/feature#Extensibility\"><div xmlns=\"http://www.w3.org/1999/xhtml\" style=\"display: flex; align-items: unsafe center; justify-content: unsafe center; width: 88px; height: 1px; padding-top: 570px; margin-left: 37px;\"><div style=\"box-sizing: border-box; font-size: 0px; text-align: center;\" data-drawio-colors=\"color: rgb(0, 0, 0); \"><div style=\"display: inline-block; font-size: 16px; font-family: &quot;Georgia&quot;; color: rgb(0, 0, 0); line-height: 1.2; pointer-events: all; white-space: normal; overflow-wrap: normal;\">GMM</div></div></div></foreignObject><text x=\"81\" y=\"575\" fill=\"rgb(0, 0, 0)\" font-family=\"&quot;Georgia&quot;\" font-size=\"16px\" text-anchor=\"middle\">GMM</text></switch></g></g></a></g><g data-cell-id=\"ZhISbIufsCQTaueA5Ebt-35\"><g><path d=\"M 189.49 487.5 L 136.27 512.65\" fill=\"none\" stroke=\"#ff9933\" stroke-width=\"3\" stroke-miterlimit=\"10\" pointer-events=\"stroke\"/><path d=\"M 129.03 516.07 L 134.56 509.03 L 137.97 516.27 Z\" fill=\"#ff9933\" stroke=\"#ff9933\" stroke-width=\"3\" stroke-miterlimit=\"10\" pointer-events=\"all\"/></g></g><g data-cell-id=\"ke5fKqay8JjYpE_cKGV5-1\"><g><ellipse cx=\"926\" cy=\"370\" rx=\"40\" ry=\"35\" fill=\"#cce5ff\" stroke=\"#3399ff\" stroke-width=\"5\" pointer-events=\"all\"/></g><g><g transform=\"translate(-0.5 -0.5)\"><switch><foreignObject style=\"overflow: visible; text-align: left;\" pointer-events=\"none\" width=\"100%\" height=\"100%\" requiredFeatures=\"http://www.w3.org/TR/SVG11/feature#Extensibility\"><div xmlns=\"http://www.w3.org/1999/xhtml\" style=\"display: flex; align-items: unsafe center; justify-content: unsafe center; width: 78px; height: 1px; padding-top: 370px; margin-left: 887px;\"><div style=\"box-sizing: border-box; font-size: 0px; text-align: center;\" data-drawio-colors=\"color: rgb(0, 0, 0); \"><div style=\"display: inline-block; font-size: 16px; font-family: &quot;Georgia&quot;; color: rgb(0, 0, 0); line-height: 1.2; pointer-events: all; white-space: normal; overflow-wrap: normal;\"><font style=\"font-size: 16px;\">&lt;100K</font><div style=\"\"><span style=\"\"><font style=\"font-size: 10px;\">samples</font></span></div></div></div></div></foreignObject><text x=\"926\" y=\"375\" fill=\"rgb(0, 0, 0)\" font-family=\"&quot;Georgia&quot;\" font-size=\"16px\" text-anchor=\"middle\">&lt;100K...</text></switch></g></g></g><g data-cell-id=\"ke5fKqay8JjYpE_cKGV5-2\"><g><path d=\"M 828.28 425.25 L 877.8 377.85\" fill=\"none\" stroke=\"#009900\" stroke-width=\"3\" stroke-miterlimit=\"10\" pointer-events=\"stroke\"/><path d=\"M 883.58 372.32 L 880.56 380.74 L 875.03 374.96 Z\" fill=\"#009900\" stroke=\"#009900\" stroke-width=\"3\" stroke-miterlimit=\"10\" pointer-events=\"all\"/></g><g data-cell-id=\"ke5fKqay8JjYpE_cKGV5-3\"><g><g transform=\"translate(-0.5 -0.5)\"><switch><foreignObject style=\"overflow: visible; text-align: left;\" pointer-events=\"none\" width=\"100%\" height=\"100%\" requiredFeatures=\"http://www.w3.org/TR/SVG11/feature#Extensibility\"><div xmlns=\"http://www.w3.org/1999/xhtml\" style=\"display: flex; align-items: unsafe center; justify-content: unsafe center; width: 1px; height: 1px; padding-top: 402px; margin-left: 851px;\"><div style=\"box-sizing: border-box; font-size: 0px; text-align: center;\" data-drawio-colors=\"color: #009900; background-color: rgb(255, 255, 255); \"><div style=\"display: inline-block; font-size: 12px; font-family: &quot;Georgia&quot;; color: rgb(0, 153, 0); line-height: 1.2; pointer-events: all; font-weight: bold; background-color: rgb(255, 255, 255); white-space: nowrap;\">YES</div></div></div></foreignObject><text x=\"851\" y=\"406\" fill=\"#009900\" font-family=\"&quot;Georgia&quot;\" font-size=\"12px\" text-anchor=\"middle\" font-weight=\"bold\">YES</text></switch></g></g></g></g><g data-cell-id=\"ke5fKqay8JjYpE_cKGV5-5\"><g><ellipse cx=\"1076\" cy=\"380\" rx=\"40\" ry=\"35\" fill=\"#cce5ff\" stroke=\"#3399ff\" stroke-width=\"5\" pointer-events=\"all\"/></g><g><g transform=\"translate(-0.5 -0.5)\"><switch><foreignObject style=\"overflow: visible; text-align: left;\" pointer-events=\"none\" width=\"100%\" height=\"100%\" requiredFeatures=\"http://www.w3.org/TR/SVG11/feature#Extensibility\"><div xmlns=\"http://www.w3.org/1999/xhtml\" style=\"display: flex; align-items: unsafe center; justify-content: unsafe center; width: 78px; height: 1px; padding-top: 380px; margin-left: 1037px;\"><div style=\"box-sizing: border-box; font-size: 0px; text-align: center;\" data-drawio-colors=\"color: rgb(0, 0, 0); \"><div style=\"display: inline-block; font-size: 12px; font-family: &quot;Georgia&quot;; color: rgb(0, 0, 0); line-height: 1.2; pointer-events: all; white-space: normal; overflow-wrap: normal;\"><div style=\"font-size: 12px;\">few features</div><div style=\"font-size: 12px;\">should be</div><div style=\"font-size: 12px;\">important</div></div></div></div></foreignObject><text x=\"1076\" y=\"384\" fill=\"rgb(0, 0, 0)\" font-family=\"&quot;Georgia&quot;\" font-size=\"12px\" text-anchor=\"middle\">few features...</text></switch></g></g></g><g data-cell-id=\"ke5fKqay8JjYpE_cKGV5-6\"><g><path d=\"M 966 370 L 1024.76 378.39\" fill=\"none\" stroke=\"#009900\" stroke-width=\"3\" stroke-miterlimit=\"10\" pointer-events=\"stroke\"/><path d=\"M 1032.68 379.53 L 1024.19 382.35 L 1025.33 374.43 Z\" fill=\"#009900\" stroke=\"#009900\" stroke-width=\"3\" stroke-miterlimit=\"10\" pointer-events=\"all\"/></g><g data-cell-id=\"ke5fKqay8JjYpE_cKGV5-7\"><g><g transform=\"translate(-0.5 -0.5)\"><switch><foreignObject style=\"overflow: visible; text-align: left;\" pointer-events=\"none\" width=\"100%\" height=\"100%\" requiredFeatures=\"http://www.w3.org/TR/SVG11/feature#Extensibility\"><div xmlns=\"http://www.w3.org/1999/xhtml\" style=\"display: flex; align-items: unsafe center; justify-content: unsafe center; width: 1px; height: 1px; padding-top: 373px; margin-left: 995px;\"><div style=\"box-sizing: border-box; font-size: 0px; text-align: center;\" data-drawio-colors=\"color: #009900; background-color: #CCE5FF; \"><div style=\"display: inline-block; font-size: 12px; font-family: &quot;Georgia&quot;; color: rgb(0, 153, 0); line-height: 1.2; pointer-events: all; font-weight: bold; background-color: rgb(204, 229, 255); white-space: nowrap;\">YES</div></div></div></foreignObject><text x=\"995\" y=\"376\" fill=\"#009900\" font-family=\"&quot;Georgia&quot;\" font-size=\"12px\" text-anchor=\"middle\" font-weight=\"bold\">YES</text></switch></g></g></g></g><g data-cell-id=\"ke5fKqay8JjYpE_cKGV5-8\"><a xlink:href=\"./modules/sgd.html#regression\"><g><rect x=\"976\" y=\"260\" width=\"90\" height=\"50\" rx=\"7.5\" ry=\"7.5\" fill=\"#ccffe6\" stroke=\"#00cc66\" stroke-width=\"5\" pointer-events=\"all\"/></g><g><g transform=\"translate(-0.5 -0.5)\"><switch><foreignObject style=\"overflow: visible; text-align: left;\" pointer-events=\"none\" width=\"100%\" height=\"100%\" requiredFeatures=\"http://www.w3.org/TR/SVG11/feature#Extensibility\"><div xmlns=\"http://www.w3.org/1999/xhtml\" style=\"display: flex; align-items: unsafe center; justify-content: unsafe center; width: 88px; height: 1px; padding-top: 285px; margin-left: 977px;\"><div style=\"box-sizing: border-box; font-size: 0px; text-align: center;\" data-drawio-colors=\"color: rgb(0, 0, 0); \"><div style=\"display: inline-block; font-size: 16px; font-family: &quot;Georgia&quot;; color: rgb(0, 0, 0); line-height: 1.2; pointer-events: all; white-space: normal; overflow-wrap: normal;\"><div>SGD</div><div>Regressor</div></div></div></div></foreignObject><text x=\"1021\" y=\"290\" fill=\"rgb(0, 0, 0)\" font-family=\"&quot;Georgia&quot;\" font-size=\"16px\" text-anchor=\"middle\">SGD...</text></switch></g></g></a></g><g data-cell-id=\"ke5fKqay8JjYpE_cKGV5-9\"><g><path d=\"M 954.28 345.25 L 989.62 317.08\" fill=\"none\" stroke=\"#ff3333\" stroke-width=\"3\" stroke-miterlimit=\"10\" pointer-events=\"stroke\"/><path d=\"M 995.88 312.09 L 992.12 320.21 L 987.13 313.95 Z\" fill=\"#ff3333\" stroke=\"#ff3333\" stroke-width=\"3\" stroke-miterlimit=\"10\" pointer-events=\"all\"/></g><g data-cell-id=\"ke5fKqay8JjYpE_cKGV5-10\"><g><g transform=\"translate(-0.5 -0.5)\"><switch><foreignObject style=\"overflow: visible; text-align: left;\" pointer-events=\"none\" width=\"100%\" height=\"100%\" requiredFeatures=\"http://www.w3.org/TR/SVG11/feature#Extensibility\"><div xmlns=\"http://www.w3.org/1999/xhtml\" style=\"display: flex; align-items: unsafe center; justify-content: unsafe center; width: 1px; height: 1px; padding-top: 330px; margin-left: 972px;\"><div style=\"box-sizing: border-box; font-size: 0px; text-align: center;\" data-drawio-colors=\"color: #FF3333; background-color: #CCE5FF; \"><div style=\"display: inline-block; font-size: 12px; font-family: &quot;Georgia&quot;; color: rgb(255, 51, 51); line-height: 1.2; pointer-events: all; font-weight: bold; background-color: rgb(204, 229, 255); white-space: nowrap;\">NO</div></div></div></foreignObject><text x=\"972\" y=\"333\" fill=\"#FF3333\" font-family=\"&quot;Georgia&quot;\" font-size=\"12px\" text-anchor=\"middle\" font-weight=\"bold\">NO</text></switch></g></g></g></g><g data-cell-id=\"ke5fKqay8JjYpE_cKGV5-13\"><a xlink:href=\"./modules/linear_model.html#lasso\"><g><rect x=\"1106\" y=\"230\" width=\"90\" height=\"30\" rx=\"4.5\" ry=\"4.5\" fill=\"#ccffe6\" stroke=\"#00cc66\" stroke-width=\"5\" pointer-events=\"all\"/></g><g><g transform=\"translate(-0.5 -0.5)\"><switch><foreignObject style=\"overflow: visible; text-align: left;\" pointer-events=\"none\" width=\"100%\" height=\"100%\" requiredFeatures=\"http://www.w3.org/TR/SVG11/feature#Extensibility\"><div xmlns=\"http://www.w3.org/1999/xhtml\" style=\"display: flex; align-items: unsafe center; justify-content: unsafe center; width: 88px; height: 1px; padding-top: 245px; margin-left: 1107px;\"><div style=\"box-sizing: border-box; font-size: 0px; text-align: center;\" data-drawio-colors=\"color: rgb(0, 0, 0); \"><div style=\"display: inline-block; font-size: 16px; font-family: &quot;Georgia&quot;; color: rgb(0, 0, 0); line-height: 1.2; pointer-events: all; white-space: normal; overflow-wrap: normal;\">Lasso</div></div></div></foreignObject><text x=\"1151\" y=\"250\" fill=\"rgb(0, 0, 0)\" font-family=\"&quot;Georgia&quot;\" font-size=\"16px\" text-anchor=\"middle\">Lasso</text></switch></g></g></a></g><g data-cell-id=\"ke5fKqay8JjYpE_cKGV5-14\"><a xlink:href=\"./modules/linear_model.html#elastic-net\"><g><rect x=\"1106\" y=\"260\" width=\"90\" height=\"30\" rx=\"4.5\" ry=\"4.5\" fill=\"#ccffe6\" stroke=\"#00cc66\" stroke-width=\"5\" pointer-events=\"all\"/></g><g><g transform=\"translate(-0.5 -0.5)\"><switch><foreignObject style=\"overflow: visible; text-align: left;\" pointer-events=\"none\" width=\"100%\" height=\"100%\" requiredFeatures=\"http://www.w3.org/TR/SVG11/feature#Extensibility\"><div xmlns=\"http://www.w3.org/1999/xhtml\" style=\"display: flex; align-items: unsafe center; justify-content: unsafe center; width: 88px; height: 1px; padding-top: 275px; margin-left: 1107px;\"><div style=\"box-sizing: border-box; font-size: 0px; text-align: center;\" data-drawio-colors=\"color: rgb(0, 0, 0); \"><div style=\"display: inline-block; font-size: 16px; font-family: &quot;Georgia&quot;; color: rgb(0, 0, 0); line-height: 1.2; pointer-events: all; white-space: normal; overflow-wrap: normal;\">ElasticNet</div></div></div></foreignObject><text x=\"1151\" y=\"280\" fill=\"rgb(0, 0, 0)\" font-family=\"&quot;Georgia&quot;\" font-size=\"16px\" text-anchor=\"middle\">ElasticNet</text></switch></g></g></a></g><g data-cell-id=\"ke5fKqay8JjYpE_cKGV5-15\"><g><path d=\"M 1104.28 355.25 L 1124.55 300.64\" fill=\"none\" stroke=\"#009900\" stroke-width=\"3\" stroke-miterlimit=\"10\" pointer-events=\"stroke\"/><path d=\"M 1127.33 293.14 L 1128.3 302.04 L 1120.8 299.25 Z\" fill=\"#009900\" stroke=\"#009900\" stroke-width=\"3\" stroke-miterlimit=\"10\" pointer-events=\"all\"/></g><g data-cell-id=\"ke5fKqay8JjYpE_cKGV5-16\"><g><g transform=\"translate(-0.5 -0.5)\"><switch><foreignObject style=\"overflow: visible; text-align: left;\" pointer-events=\"none\" width=\"100%\" height=\"100%\" requiredFeatures=\"http://www.w3.org/TR/SVG11/feature#Extensibility\"><div xmlns=\"http://www.w3.org/1999/xhtml\" style=\"display: flex; align-items: unsafe center; justify-content: unsafe center; width: 1px; height: 1px; padding-top: 329px; margin-left: 1113px;\"><div style=\"box-sizing: border-box; font-size: 0px; text-align: center;\" data-drawio-colors=\"color: #009900; background-color: #CCE5FF; \"><div style=\"display: inline-block; font-size: 12px; font-family: &quot;Georgia&quot;; color: rgb(0, 153, 0); line-height: 1.2; pointer-events: all; font-weight: bold; background-color: rgb(204, 229, 255); white-space: nowrap;\">YES</div></div></div></foreignObject><text x=\"1113\" y=\"332\" fill=\"#009900\" font-family=\"&quot;Georgia&quot;\" font-size=\"12px\" text-anchor=\"middle\" font-weight=\"bold\">YES</text></switch></g></g></g></g><g data-cell-id=\"ke5fKqay8JjYpE_cKGV5-17\"><a xlink:href=\"./modules/linear_model.html#ridge-regression\"><g><rect x=\"1176\" y=\"395\" width=\"140\" height=\"30\" rx=\"4.5\" ry=\"4.5\" fill=\"#ccffe6\" stroke=\"#00cc66\" stroke-width=\"5\" pointer-events=\"all\"/></g><g><g transform=\"translate(-0.5 -0.5)\"><switch><foreignObject style=\"overflow: visible; text-align: left;\" pointer-events=\"none\" width=\"100%\" height=\"100%\" requiredFeatures=\"http://www.w3.org/TR/SVG11/feature#Extensibility\"><div xmlns=\"http://www.w3.org/1999/xhtml\" style=\"display: flex; align-items: unsafe center; justify-content: unsafe center; width: 138px; height: 1px; padding-top: 410px; margin-left: 1177px;\"><div style=\"box-sizing: border-box; font-size: 0px; text-align: center;\" data-drawio-colors=\"color: rgb(0, 0, 0); \"><div style=\"display: inline-block; font-size: 16px; font-family: &quot;Georgia&quot;; color: rgb(0, 0, 0); line-height: 1.2; pointer-events: all; white-space: normal; overflow-wrap: normal;\">RidgeRegression</div></div></div></foreignObject><text x=\"1246\" y=\"415\" fill=\"rgb(0, 0, 0)\" font-family=\"&quot;Georgia&quot;\" font-size=\"16px\" text-anchor=\"middle\">RidgeRegression</text></switch></g></g></a></g><g data-cell-id=\"ke5fKqay8JjYpE_cKGV5-18\"><a xlink:href=\"./modules/svm.html#regression\"><g><rect x=\"1176\" y=\"425\" width=\"140\" height=\"30\" rx=\"4.5\" ry=\"4.5\" fill=\"#ccffe6\" stroke=\"#00cc66\" stroke-width=\"5\" pointer-events=\"all\"/></g><g><g transform=\"translate(-0.5 -0.5)\"><switch><foreignObject style=\"overflow: visible; text-align: left;\" pointer-events=\"none\" width=\"100%\" height=\"100%\" requiredFeatures=\"http://www.w3.org/TR/SVG11/feature#Extensibility\"><div xmlns=\"http://www.w3.org/1999/xhtml\" style=\"display: flex; align-items: unsafe center; justify-content: unsafe center; width: 138px; height: 1px; padding-top: 440px; margin-left: 1177px;\"><div style=\"box-sizing: border-box; font-size: 0px; text-align: center;\" data-drawio-colors=\"color: rgb(0, 0, 0); \"><div style=\"display: inline-block; font-size: 16px; font-family: &quot;Georgia&quot;; color: rgb(0, 0, 0); line-height: 1.2; pointer-events: all; white-space: normal; overflow-wrap: normal;\">SVR<font style=\"font-size: 12px;\">(kernel=&quot;linear&quot;)</font></div></div></div></foreignObject><text x=\"1246\" y=\"445\" fill=\"rgb(0, 0, 0)\" font-family=\"&quot;Georgia&quot;\" font-size=\"16px\" text-anchor=\"middle\">SVR(kernel=&quot;linea...</text></switch></g></g></a></g><g data-cell-id=\"ke5fKqay8JjYpE_cKGV5-19\"><g><path d=\"M 1116 380 L 1165.84 404.92\" fill=\"none\" stroke=\"#ff3333\" stroke-width=\"3\" stroke-miterlimit=\"10\" pointer-events=\"stroke\"/><path d=\"M 1173 408.5 L 1164.06 408.5 L 1167.63 401.34 Z\" fill=\"#ff3333\" stroke=\"#ff3333\" stroke-width=\"3\" stroke-miterlimit=\"10\" pointer-events=\"all\"/></g><g data-cell-id=\"ke5fKqay8JjYpE_cKGV5-20\"><g><g transform=\"translate(-0.5 -0.5)\"><switch><foreignObject style=\"overflow: visible; text-align: left;\" pointer-events=\"none\" width=\"100%\" height=\"100%\" requiredFeatures=\"http://www.w3.org/TR/SVG11/feature#Extensibility\"><div xmlns=\"http://www.w3.org/1999/xhtml\" style=\"display: flex; align-items: unsafe center; justify-content: unsafe center; width: 1px; height: 1px; padding-top: 391px; margin-left: 1142px;\"><div style=\"box-sizing: border-box; font-size: 0px; text-align: center;\" data-drawio-colors=\"color: #FF3333; background-color: #CCE5FF; \"><div style=\"display: inline-block; font-size: 12px; font-family: &quot;Georgia&quot;; color: rgb(255, 51, 51); line-height: 1.2; pointer-events: all; font-weight: bold; background-color: rgb(204, 229, 255); white-space: nowrap;\">NO</div></div></div></foreignObject><text x=\"1142\" y=\"394\" fill=\"#FF3333\" font-family=\"&quot;Georgia&quot;\" font-size=\"12px\" text-anchor=\"middle\" font-weight=\"bold\">NO</text></switch></g></g></g></g><g data-cell-id=\"ke5fKqay8JjYpE_cKGV5-21\"><a xlink:href=\"./modules/svm.html#regression\"><g><rect x=\"1266\" y=\"245\" width=\"120\" height=\"30\" rx=\"4.5\" ry=\"4.5\" fill=\"#ccffe6\" stroke=\"#00cc66\" stroke-width=\"5\" pointer-events=\"all\"/></g><g><g transform=\"translate(-0.5 -0.5)\"><switch><foreignObject style=\"overflow: visible; text-align: left;\" pointer-events=\"none\" width=\"100%\" height=\"100%\" requiredFeatures=\"http://www.w3.org/TR/SVG11/feature#Extensibility\"><div xmlns=\"http://www.w3.org/1999/xhtml\" style=\"display: flex; align-items: unsafe center; justify-content: unsafe center; width: 118px; height: 1px; padding-top: 260px; margin-left: 1267px;\"><div style=\"box-sizing: border-box; font-size: 0px; text-align: center;\" data-drawio-colors=\"color: rgb(0, 0, 0); \"><div style=\"display: inline-block; font-size: 16px; font-family: &quot;Georgia&quot;; color: rgb(0, 0, 0); line-height: 1.2; pointer-events: all; white-space: normal; overflow-wrap: normal;\">SVR<font style=\"font-size: 12px;\">(kernel=&quot;rbf&quot;)</font></div></div></div></foreignObject><text x=\"1326\" y=\"265\" fill=\"rgb(0, 0, 0)\" font-family=\"&quot;Georgia&quot;\" font-size=\"16px\" text-anchor=\"middle\">SVR(kernel=&quot;rbf...</text></switch></g></g></a></g><g data-cell-id=\"ke5fKqay8JjYpE_cKGV5-23\"><a xlink:href=\"./modules/ensemble.html\"><g><rect x=\"1266\" y=\"275\" width=\"120\" height=\"50\" rx=\"7.5\" ry=\"7.5\" fill=\"#ccffe6\" stroke=\"#00cc66\" stroke-width=\"5\" pointer-events=\"all\"/></g><g><g transform=\"translate(-0.5 -0.5)\"><switch><foreignObject style=\"overflow: visible; text-align: left;\" pointer-events=\"none\" width=\"100%\" height=\"100%\" requiredFeatures=\"http://www.w3.org/TR/SVG11/feature#Extensibility\"><div xmlns=\"http://www.w3.org/1999/xhtml\" style=\"display: flex; align-items: unsafe center; justify-content: unsafe center; width: 118px; height: 1px; padding-top: 300px; margin-left: 1267px;\"><div style=\"box-sizing: border-box; font-size: 0px; text-align: center;\" data-drawio-colors=\"color: rgb(0, 0, 0); \"><div style=\"display: inline-block; font-size: 16px; font-family: &quot;Georgia&quot;; color: rgb(0, 0, 0); line-height: 1.2; pointer-events: all; white-space: normal; overflow-wrap: normal;\">Ensemble<div>Regressors</div></div></div></div></foreignObject><text x=\"1326\" y=\"305\" fill=\"rgb(0, 0, 0)\" font-family=\"&quot;Georgia&quot;\" font-size=\"16px\" text-anchor=\"middle\">Ensemble...</text></switch></g></g></a></g><g data-cell-id=\"ke5fKqay8JjYpE_cKGV5-24\"><g><path d=\"M 1281 395 L 1293.62 336.1\" fill=\"none\" stroke=\"#ff9933\" stroke-width=\"3\" stroke-miterlimit=\"10\" pointer-events=\"stroke\"/><path d=\"M 1295.3 328.28 L 1297.53 336.94 L 1289.71 335.26 Z\" fill=\"#ff9933\" stroke=\"#ff9933\" stroke-width=\"3\" stroke-miterlimit=\"10\" pointer-events=\"all\"/></g></g><g data-cell-id=\"ke5fKqay8JjYpE_cKGV5-27\"><g><rect x=\"886\" y=\"205\" width=\"140\" height=\"40\" fill=\"none\" stroke=\"none\" pointer-events=\"all\"/></g><g><g transform=\"translate(-0.5 -0.5)\"><switch><foreignObject style=\"overflow: visible; text-align: left;\" pointer-events=\"none\" width=\"100%\" height=\"100%\" requiredFeatures=\"http://www.w3.org/TR/SVG11/feature#Extensibility\"><div xmlns=\"http://www.w3.org/1999/xhtml\" style=\"display: flex; align-items: unsafe center; justify-content: unsafe center; width: 138px; height: 1px; padding-top: 225px; margin-left: 887px;\"><div style=\"box-sizing: border-box; font-size: 0px; text-align: center;\" data-drawio-colors=\"color: rgb(0, 0, 0); \"><div style=\"display: inline-block; font-size: 24px; font-family: &quot;Helvetica&quot;; color: rgb(0, 0, 0); line-height: 1.2; pointer-events: all; font-weight: bold; white-space: normal; overflow-wrap: normal;\"><span style=\"font-size: 24px;\"><font style=\"font-size: 24px;\" face=\"Georgia\">regression</font></span></div></div></div></foreignObject><text x=\"956\" y=\"232\" fill=\"rgb(0, 0, 0)\" font-family=\"&quot;Helvetica&quot;\" font-size=\"24px\" text-anchor=\"middle\" font-weight=\"bold\">regression</text></switch></g></g></g><g data-cell-id=\"ke5fKqay8JjYpE_cKGV5-28\"><a xlink:href=\"./modules/decomposition.html#principal-component-analysis-pca\"><g><rect x=\"901\" y=\"535\" width=\"110\" height=\"50\" rx=\"7.5\" ry=\"7.5\" fill=\"#ccffe6\" stroke=\"#00cc66\" stroke-width=\"5\" pointer-events=\"all\"/></g><g><g transform=\"translate(-0.5 -0.5)\"><switch><foreignObject style=\"overflow: visible; text-align: left;\" pointer-events=\"none\" width=\"100%\" height=\"100%\" requiredFeatures=\"http://www.w3.org/TR/SVG11/feature#Extensibility\"><div xmlns=\"http://www.w3.org/1999/xhtml\" style=\"display: flex; align-items: unsafe center; justify-content: unsafe center; width: 108px; height: 1px; padding-top: 560px; margin-left: 902px;\"><div style=\"box-sizing: border-box; font-size: 0px; text-align: center;\" data-drawio-colors=\"color: rgb(0, 0, 0); \"><div style=\"display: inline-block; font-size: 16px; font-family: &quot;Georgia&quot;; color: rgb(0, 0, 0); line-height: 1.2; pointer-events: all; white-space: normal; overflow-wrap: normal;\"><div><span style=\"background-color: initial;\">Ramdomized</span><br/></div><div><span style=\"background-color: initial;\">PCA</span></div></div></div></div></foreignObject><text x=\"956\" y=\"565\" fill=\"rgb(0, 0, 0)\" font-family=\"&quot;Georgia&quot;\" font-size=\"16px\" text-anchor=\"middle\">Ramdomized...</text></switch></g></g></a></g><g data-cell-id=\"ke5fKqay8JjYpE_cKGV5-29\"><g><path d=\"M 796 560 L 889.65 560\" fill=\"none\" stroke=\"#009900\" stroke-width=\"3\" stroke-miterlimit=\"10\" pointer-events=\"stroke\"/><path d=\"M 897.65 560 L 889.65 564 L 889.65 556 Z\" fill=\"#009900\" stroke=\"#009900\" stroke-width=\"3\" stroke-miterlimit=\"10\" pointer-events=\"all\"/></g><g data-cell-id=\"ke5fKqay8JjYpE_cKGV5-30\"><g><g transform=\"translate(-0.5 -0.5)\"><switch><foreignObject style=\"overflow: visible; text-align: left;\" pointer-events=\"none\" width=\"100%\" height=\"100%\" requiredFeatures=\"http://www.w3.org/TR/SVG11/feature#Extensibility\"><div xmlns=\"http://www.w3.org/1999/xhtml\" style=\"display: flex; align-items: unsafe center; justify-content: unsafe center; width: 1px; height: 1px; padding-top: 559px; margin-left: 840px;\"><div style=\"box-sizing: border-box; font-size: 0px; text-align: center;\" data-drawio-colors=\"color: #009900; background-color: rgb(255, 255, 255); \"><div style=\"display: inline-block; font-size: 12px; font-family: &quot;Georgia&quot;; color: rgb(0, 153, 0); line-height: 1.2; pointer-events: all; font-weight: bold; background-color: rgb(255, 255, 255); white-space: nowrap;\">YES</div></div></div></foreignObject><text x=\"840\" y=\"562\" fill=\"#009900\" font-family=\"&quot;Georgia&quot;\" font-size=\"12px\" text-anchor=\"middle\" font-weight=\"bold\">YES</text></switch></g></g></g></g><g data-cell-id=\"ke5fKqay8JjYpE_cKGV5-31\"><g><ellipse cx=\"941\" cy=\"688\" rx=\"40\" ry=\"35\" fill=\"#cce5ff\" stroke=\"#3399ff\" stroke-width=\"5\" pointer-events=\"all\"/></g><g><g transform=\"translate(-0.5 -0.5)\"><switch><foreignObject style=\"overflow: visible; text-align: left;\" pointer-events=\"none\" width=\"100%\" height=\"100%\" requiredFeatures=\"http://www.w3.org/TR/SVG11/feature#Extensibility\"><div xmlns=\"http://www.w3.org/1999/xhtml\" style=\"display: flex; align-items: unsafe center; justify-content: unsafe center; width: 78px; height: 1px; padding-top: 688px; margin-left: 902px;\"><div style=\"box-sizing: border-box; font-size: 0px; text-align: center;\" data-drawio-colors=\"color: rgb(0, 0, 0); \"><div style=\"display: inline-block; font-size: 16px; font-family: &quot;Georgia&quot;; color: rgb(0, 0, 0); line-height: 1.2; pointer-events: all; white-space: normal; overflow-wrap: normal;\"><font style=\"font-size: 16px;\">&lt;10K</font><div style=\"\"><span style=\"\"><font style=\"font-size: 10px;\">samples</font></span></div></div></div></div></foreignObject><text x=\"941\" y=\"693\" fill=\"rgb(0, 0, 0)\" font-family=\"&quot;Georgia&quot;\" font-size=\"16px\" text-anchor=\"middle\">&lt;10K...</text></switch></g></g></g><g data-cell-id=\"ke5fKqay8JjYpE_cKGV5-32\"><g><path d=\"M 956 585 L 943.45 641.91\" fill=\"none\" stroke=\"#ff9933\" stroke-width=\"3\" stroke-miterlimit=\"10\" pointer-events=\"stroke\"/><path d=\"M 941.72 649.72 L 939.54 641.05 L 947.35 642.77 Z\" fill=\"#ff9933\" stroke=\"#ff9933\" stroke-width=\"3\" stroke-miterlimit=\"10\" pointer-events=\"all\"/></g></g><g data-cell-id=\"ke5fKqay8JjYpE_cKGV5-34\"><a xlink:href=\"./modules/kernel_approximation.html\"><g><rect x=\"1056\" y=\"675\" width=\"120\" height=\"50\" rx=\"7.5\" ry=\"7.5\" fill=\"#ccffe6\" stroke=\"#00cc66\" stroke-width=\"5\" pointer-events=\"all\"/></g><g><g transform=\"translate(-0.5 -0.5)\"><switch><foreignObject style=\"overflow: visible; text-align: left;\" pointer-events=\"none\" width=\"100%\" height=\"100%\" requiredFeatures=\"http://www.w3.org/TR/SVG11/feature#Extensibility\"><div xmlns=\"http://www.w3.org/1999/xhtml\" style=\"display: flex; align-items: unsafe center; justify-content: unsafe center; width: 118px; height: 1px; padding-top: 700px; margin-left: 1057px;\"><div style=\"box-sizing: border-box; font-size: 0px; text-align: center;\" data-drawio-colors=\"color: rgb(0, 0, 0); \"><div style=\"display: inline-block; font-size: 16px; font-family: &quot;Georgia&quot;; color: rgb(0, 0, 0); line-height: 1.2; pointer-events: all; white-space: normal; overflow-wrap: normal;\">Kernel<div>Approximation</div></div></div></div></foreignObject><text x=\"1116\" y=\"705\" fill=\"rgb(0, 0, 0)\" font-family=\"&quot;Georgia&quot;\" font-size=\"16px\" text-anchor=\"middle\">Kernel...</text></switch></g></g></a></g><g data-cell-id=\"ke5fKqay8JjYpE_cKGV5-35\"><g><path d=\"M 981 688 L 1044.65 687.58\" fill=\"none\" stroke=\"#ff3333\" stroke-width=\"3\" stroke-miterlimit=\"10\" pointer-events=\"stroke\"/><path d=\"M 1052.65 687.52 L 1044.67 691.58 L 1044.62 683.58 Z\" fill=\"#ff3333\" stroke=\"#ff3333\" stroke-width=\"3\" stroke-miterlimit=\"10\" pointer-events=\"all\"/></g><g data-cell-id=\"ke5fKqay8JjYpE_cKGV5-36\"><g><g transform=\"translate(-0.5 -0.5)\"><switch><foreignObject style=\"overflow: visible; text-align: left;\" pointer-events=\"none\" width=\"100%\" height=\"100%\" requiredFeatures=\"http://www.w3.org/TR/SVG11/feature#Extensibility\"><div xmlns=\"http://www.w3.org/1999/xhtml\" style=\"display: flex; align-items: unsafe center; justify-content: unsafe center; width: 1px; height: 1px; padding-top: 686px; margin-left: 1011px;\"><div style=\"box-sizing: border-box; font-size: 0px; text-align: center;\" data-drawio-colors=\"color: #FF3333; background-color: #FFFFCC; \"><div style=\"display: inline-block; font-size: 12px; font-family: &quot;Georgia&quot;; color: rgb(255, 51, 51); line-height: 1.2; pointer-events: all; font-weight: bold; background-color: rgb(255, 255, 204); white-space: nowrap;\">NO</div></div></div></foreignObject><text x=\"1011\" y=\"690\" fill=\"#FF3333\" font-family=\"&quot;Georgia&quot;\" font-size=\"12px\" text-anchor=\"middle\" font-weight=\"bold\">NO</text></switch></g></g></g></g><g data-cell-id=\"ke5fKqay8JjYpE_cKGV5-37\"><a xlink:href=\"./modules/manifold.html#isomap\"><g><rect x=\"1066\" y=\"555\" width=\"100\" height=\"30\" rx=\"4.5\" ry=\"4.5\" fill=\"#ccffe6\" stroke=\"#00cc66\" stroke-width=\"5\" pointer-events=\"all\"/></g><g><g transform=\"translate(-0.5 -0.5)\"><switch><foreignObject style=\"overflow: visible; text-align: left;\" pointer-events=\"none\" width=\"100%\" height=\"100%\" requiredFeatures=\"http://www.w3.org/TR/SVG11/feature#Extensibility\"><div xmlns=\"http://www.w3.org/1999/xhtml\" style=\"display: flex; align-items: unsafe center; justify-content: unsafe center; width: 98px; height: 1px; padding-top: 570px; margin-left: 1067px;\"><div style=\"box-sizing: border-box; font-size: 0px; text-align: center;\" data-drawio-colors=\"color: rgb(0, 0, 0); \"><div style=\"display: inline-block; font-size: 16px; font-family: &quot;Georgia&quot;; color: rgb(0, 0, 0); line-height: 1.2; pointer-events: all; white-space: normal; overflow-wrap: normal;\">IsoMap</div></div></div></foreignObject><text x=\"1116\" y=\"575\" fill=\"rgb(0, 0, 0)\" font-family=\"&quot;Georgia&quot;\" font-size=\"16px\" text-anchor=\"middle\">IsoMap</text></switch></g></g></a></g><g data-cell-id=\"ke5fKqay8JjYpE_cKGV5-38\"><a xlink:href=\"./modules/manifold.html#spectral-embedding\"><g><rect x=\"1066\" y=\"585\" width=\"100\" height=\"50\" rx=\"7.5\" ry=\"7.5\" fill=\"#ccffe6\" stroke=\"#00cc66\" stroke-width=\"5\" pointer-events=\"all\"/></g><g><g transform=\"translate(-0.5 -0.5)\"><switch><foreignObject style=\"overflow: visible; text-align: left;\" pointer-events=\"none\" width=\"100%\" height=\"100%\" requiredFeatures=\"http://www.w3.org/TR/SVG11/feature#Extensibility\"><div xmlns=\"http://www.w3.org/1999/xhtml\" style=\"display: flex; align-items: unsafe center; justify-content: unsafe center; width: 98px; height: 1px; padding-top: 610px; margin-left: 1067px;\"><div style=\"box-sizing: border-box; font-size: 0px; text-align: center;\" data-drawio-colors=\"color: rgb(0, 0, 0); \"><div style=\"display: inline-block; font-size: 16px; font-family: &quot;Georgia&quot;; color: rgb(0, 0, 0); line-height: 1.2; pointer-events: all; white-space: normal; overflow-wrap: normal;\"><div>Spectral</div><div>Embedding</div></div></div></div></foreignObject><text x=\"1116\" y=\"615\" fill=\"rgb(0, 0, 0)\" font-family=\"&quot;Georgia&quot;\" font-size=\"16px\" text-anchor=\"middle\">Spectral...</text></switch></g></g></a></g><g data-cell-id=\"ke5fKqay8JjYpE_cKGV5-39\"><g><path d=\"M 969.28 663.25 L 1055.54 626.91\" fill=\"none\" stroke=\"#009900\" stroke-width=\"3\" stroke-miterlimit=\"10\" pointer-events=\"stroke\"/><path d=\"M 1062.91 623.8 L 1057.09 630.59 L 1053.98 623.22 Z\" fill=\"#009900\" stroke=\"#009900\" stroke-width=\"3\" stroke-miterlimit=\"10\" pointer-events=\"all\"/></g><g data-cell-id=\"ke5fKqay8JjYpE_cKGV5-40\"><g><g transform=\"translate(-0.5 -0.5)\"><switch><foreignObject style=\"overflow: visible; text-align: left;\" pointer-events=\"none\" width=\"100%\" height=\"100%\" requiredFeatures=\"http://www.w3.org/TR/SVG11/feature#Extensibility\"><div xmlns=\"http://www.w3.org/1999/xhtml\" style=\"display: flex; align-items: unsafe center; justify-content: unsafe center; width: 1px; height: 1px; padding-top: 645px; margin-left: 1009px;\"><div style=\"box-sizing: border-box; font-size: 0px; text-align: center;\" data-drawio-colors=\"color: #009900; background-color: #FFFFCC; \"><div style=\"display: inline-block; font-size: 12px; font-family: &quot;Georgia&quot;; color: rgb(0, 153, 0); line-height: 1.2; pointer-events: all; font-weight: bold; background-color: rgb(255, 255, 204); white-space: nowrap;\">YES</div></div></div></foreignObject><text x=\"1009\" y=\"649\" fill=\"#009900\" font-family=\"&quot;Georgia&quot;\" font-size=\"12px\" text-anchor=\"middle\" font-weight=\"bold\">YES</text></switch></g></g></g></g><g data-cell-id=\"ke5fKqay8JjYpE_cKGV5-41\"><a xlink:href=\"./modules/manifold.html#locally-linear-embedding\"><g><rect x=\"1246\" y=\"615\" width=\"50\" height=\"30\" rx=\"4.5\" ry=\"4.5\" fill=\"#ccffe6\" stroke=\"#00cc66\" stroke-width=\"5\" pointer-events=\"all\"/></g><g><g transform=\"translate(-0.5 -0.5)\"><switch><foreignObject style=\"overflow: visible; text-align: left;\" pointer-events=\"none\" width=\"100%\" height=\"100%\" requiredFeatures=\"http://www.w3.org/TR/SVG11/feature#Extensibility\"><div xmlns=\"http://www.w3.org/1999/xhtml\" style=\"display: flex; align-items: unsafe center; justify-content: unsafe center; width: 48px; height: 1px; padding-top: 630px; margin-left: 1247px;\"><div style=\"box-sizing: border-box; font-size: 0px; text-align: center;\" data-drawio-colors=\"color: rgb(0, 0, 0); \"><div style=\"display: inline-block; font-size: 16px; font-family: &quot;Georgia&quot;; color: rgb(0, 0, 0); line-height: 1.2; pointer-events: all; white-space: normal; overflow-wrap: normal;\">LLE</div></div></div></foreignObject><text x=\"1271\" y=\"635\" fill=\"rgb(0, 0, 0)\" font-family=\"&quot;Georgia&quot;\" font-size=\"16px\" text-anchor=\"middle\">LLE</text></switch></g></g></a></g><g data-cell-id=\"ke5fKqay8JjYpE_cKGV5-42\"><g><path d=\"M 1166 610 L 1234.99 627.25\" fill=\"none\" stroke=\"#ff9933\" stroke-width=\"3\" stroke-miterlimit=\"10\" pointer-events=\"stroke\"/><path d=\"M 1242.75 629.19 L 1234.01 631.13 L 1235.96 623.37 Z\" fill=\"#ff9933\" stroke=\"#ff9933\" stroke-width=\"3\" stroke-miterlimit=\"10\" pointer-events=\"all\"/></g></g><g data-cell-id=\"ke5fKqay8JjYpE_cKGV5-44\"><g><rect x=\"1196\" y=\"667\" width=\"210\" height=\"65\" fill=\"none\" stroke=\"none\" pointer-events=\"all\"/></g><g><g transform=\"translate(-0.5 -0.5)\"><switch><foreignObject style=\"overflow: visible; text-align: left;\" pointer-events=\"none\" width=\"100%\" height=\"100%\" requiredFeatures=\"http://www.w3.org/TR/SVG11/feature#Extensibility\"><div xmlns=\"http://www.w3.org/1999/xhtml\" style=\"display: flex; align-items: unsafe center; justify-content: unsafe center; width: 208px; height: 1px; padding-top: 700px; margin-left: 1197px;\"><div style=\"box-sizing: border-box; font-size: 0px; text-align: center;\" data-drawio-colors=\"color: rgb(0, 0, 0); \"><div style=\"display: inline-block; font-size: 24px; font-family: &quot;Helvetica&quot;; color: rgb(0, 0, 0); line-height: 1.2; pointer-events: all; font-weight: bold; white-space: normal; overflow-wrap: normal;\"><span style=\"font-size: 24px;\"><font style=\"font-size: 24px;\" face=\"Georgia\">dimensionality</font></span><div><span style=\"font-size: 24px;\"><font style=\"font-size: 24px;\" face=\"Georgia\">reduction</font></span></div></div></div></div></foreignObject><text x=\"1301\" y=\"707\" fill=\"rgb(0, 0, 0)\" font-family=\"&quot;Helvetica&quot;\" font-size=\"24px\" text-anchor=\"middle\" font-weight=\"bold\">dimensionality...</text></switch></g></g></g><g data-cell-id=\"ke5fKqay8JjYpE_cKGV5-47\"><g><image x=\"1165.5\" y=\"14.5\" width=\"166.92\" height=\"90\" xlink:href=\"data:image/svg+xml;base64,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\" preserveAspectRatio=\"none\"/></g></g><g data-cell-id=\"ke5fKqay8JjYpE_cKGV5-48\"><g><rect x=\"953.5\" y=\"65\" width=\"375\" height=\"90\" fill=\"none\" stroke=\"none\" pointer-events=\"all\"/></g><g><g transform=\"translate(-0.5 -0.5)\"><switch><foreignObject style=\"overflow: visible; text-align: left;\" pointer-events=\"none\" width=\"100%\" height=\"100%\" requiredFeatures=\"http://www.w3.org/TR/SVG11/feature#Extensibility\"><div xmlns=\"http://www.w3.org/1999/xhtml\" style=\"display: flex; align-items: unsafe center; justify-content: unsafe flex-start; width: 373px; height: 1px; padding-top: 110px; margin-left: 956px;\"><div style=\"box-sizing: border-box; font-size: 0px; text-align: left;\" data-drawio-colors=\"color: rgb(0, 0, 0); \"><div style=\"display: inline-block; font-size: 32px; font-family: &quot;Helvetica&quot;; color: rgb(0, 0, 0); line-height: 1.2; pointer-events: all; font-weight: bold; white-space: normal; overflow-wrap: normal;\"><span style=\"font-size: 32px;\"><font style=\"font-size: 32px;\" face=\"Georgia\">scikit-learn</font></span><div style=\"font-size: 32px;\"><span style=\"font-size: 32px;\"><font style=\"font-size: 32px;\" face=\"Georgia\">algorithm cheat sheet</font></span></div></div></div></div></foreignObject><text x=\"956\" y=\"120\" fill=\"rgb(0, 0, 0)\" font-family=\"&quot;Helvetica&quot;\" font-size=\"32px\" font-weight=\"bold\">scikit-learn...</text></switch></g></g></g><g data-cell-id=\"pls1sffmf6aF35CQXLI_-1\"><g><g transform=\"translate(-0.5 -0.5)\"><switch><foreignObject style=\"overflow: visible; text-align: left;\" pointer-events=\"none\" width=\"100%\" height=\"100%\" requiredFeatures=\"http://www.w3.org/TR/SVG11/feature#Extensibility\"><div xmlns=\"http://www.w3.org/1999/xhtml\" style=\"display: flex; align-items: unsafe center; justify-content: unsafe center; width: 1px; height: 1px; padding-top: 227px; margin-left: 186px;\"><div style=\"box-sizing: border-box; font-size: 0px; text-align: center;\" data-drawio-colors=\"color: #009900; background-color: #FFCCCC; \"><div style=\"display: inline-block; font-size: 12px; font-family: &quot;Georgia&quot;; color: rgb(0, 153, 0); line-height: 1.2; pointer-events: all; font-weight: bold; background-color: rgb(255, 204, 204); white-space: nowrap;\"><div><font color=\"#ff9933\">TRY</font></div><div><font color=\"#ff9933\">NEXT<br/></font></div></div></div></div></foreignObject><text x=\"186\" y=\"230\" fill=\"#009900\" font-family=\"&quot;Georgia&quot;\" font-size=\"12px\" text-anchor=\"middle\" font-weight=\"bold\">TRY...</text></switch></g></g></g><g data-cell-id=\"pls1sffmf6aF35CQXLI_-4\"><g><g transform=\"translate(-0.5 -0.5)\"><switch><foreignObject style=\"overflow: visible; text-align: left;\" pointer-events=\"none\" width=\"100%\" height=\"100%\" requiredFeatures=\"http://www.w3.org/TR/SVG11/feature#Extensibility\"><div xmlns=\"http://www.w3.org/1999/xhtml\" style=\"display: flex; align-items: unsafe center; justify-content: unsafe center; width: 1px; height: 1px; padding-top: 182px; margin-left: 411px;\"><div style=\"box-sizing: border-box; font-size: 0px; text-align: center;\" data-drawio-colors=\"color: #009900; background-color: #FFCCCC; \"><div style=\"display: inline-block; font-size: 12px; font-family: &quot;Georgia&quot;; color: rgb(0, 153, 0); line-height: 1.2; pointer-events: all; font-weight: bold; background-color: rgb(255, 204, 204); white-space: nowrap;\"><div><font color=\"#ff9933\">TRY</font></div><div><font color=\"#ff9933\">NEXT<br/></font></div></div></div></div></foreignObject><text x=\"411\" y=\"185\" fill=\"#009900\" font-family=\"&quot;Georgia&quot;\" font-size=\"12px\" text-anchor=\"middle\" font-weight=\"bold\">TRY...</text></switch></g></g></g><g data-cell-id=\"pls1sffmf6aF35CQXLI_-6\"><g><g transform=\"translate(-0.5 -0.5)\"><switch><foreignObject style=\"overflow: visible; text-align: left;\" pointer-events=\"none\" width=\"100%\" height=\"100%\" requiredFeatures=\"http://www.w3.org/TR/SVG11/feature#Extensibility\"><div xmlns=\"http://www.w3.org/1999/xhtml\" style=\"display: flex; align-items: unsafe center; justify-content: unsafe center; width: 1px; height: 1px; padding-top: 337px; margin-left: 321px;\"><div style=\"box-sizing: border-box; font-size: 0px; text-align: center;\" data-drawio-colors=\"color: #009900; background-color: #FFCCCC; \"><div style=\"display: inline-block; font-size: 12px; font-family: &quot;Georgia&quot;; color: rgb(0, 153, 0); line-height: 1.2; pointer-events: all; font-weight: bold; background-color: rgb(255, 204, 204); white-space: nowrap;\"><div><font color=\"#ff9933\">TRY</font></div><div><font color=\"#ff9933\">NEXT<br/></font></div></div></div></div></foreignObject><text x=\"321\" y=\"340\" fill=\"#009900\" font-family=\"&quot;Georgia&quot;\" font-size=\"12px\" text-anchor=\"middle\" font-weight=\"bold\">TRY...</text></switch></g></g></g><g data-cell-id=\"GKrketicI9-l3KOTIM3X-1\"><g><g transform=\"translate(-0.5 -0.5)\"><switch><foreignObject style=\"overflow: visible; text-align: left;\" pointer-events=\"none\" width=\"100%\" height=\"100%\" requiredFeatures=\"http://www.w3.org/TR/SVG11/feature#Extensibility\"><div xmlns=\"http://www.w3.org/1999/xhtml\" style=\"display: flex; align-items: unsafe center; justify-content: unsafe center; width: 1px; height: 1px; padding-top: 502px; margin-left: 163px;\"><div style=\"box-sizing: border-box; font-size: 0px; text-align: center;\" data-drawio-colors=\"color: #009900; background-color: #e5ccff; \"><div style=\"display: inline-block; font-size: 12px; font-family: &quot;Georgia&quot;; color: rgb(0, 153, 0); line-height: 1.2; pointer-events: all; font-weight: bold; background-color: rgb(229, 204, 255); white-space: nowrap;\"><div><font color=\"#ff9933\">TRY</font></div><div><font color=\"#ff9933\">NEXT<br/></font></div></div></div></div></foreignObject><text x=\"163\" y=\"505\" fill=\"#009900\" font-family=\"&quot;Georgia&quot;\" font-size=\"12px\" text-anchor=\"middle\" font-weight=\"bold\">TRY...</text></switch></g></g></g><g data-cell-id=\"GKrketicI9-l3KOTIM3X-2\"><g><g transform=\"translate(-0.5 -0.5)\"><switch><foreignObject style=\"overflow: visible; text-align: left;\" pointer-events=\"none\" width=\"100%\" height=\"100%\" requiredFeatures=\"http://www.w3.org/TR/SVG11/feature#Extensibility\"><div xmlns=\"http://www.w3.org/1999/xhtml\" style=\"display: flex; align-items: unsafe center; justify-content: unsafe center; width: 1px; height: 1px; padding-top: 364px; margin-left: 1288px;\"><div style=\"box-sizing: border-box; font-size: 0px; text-align: center;\" data-drawio-colors=\"color: #ff9933; background-color: #cce5ff; \"><div style=\"display: inline-block; font-size: 12px; font-family: &quot;Georgia&quot;; color: rgb(255, 153, 51); line-height: 1.2; pointer-events: all; font-weight: bold; background-color: rgb(204, 229, 255); white-space: nowrap;\"><div><font>TRY</font></div><div><font>NEXT<br/></font></div></div></div></div></foreignObject><text x=\"1288\" y=\"367\" fill=\"#ff9933\" font-family=\"&quot;Georgia&quot;\" font-size=\"12px\" text-anchor=\"middle\" font-weight=\"bold\">TRY...</text></switch></g></g></g><g data-cell-id=\"GKrketicI9-l3KOTIM3X-4\"><g><g transform=\"translate(-0.5 -0.5)\"><switch><foreignObject style=\"overflow: visible; text-align: left;\" pointer-events=\"none\" width=\"100%\" height=\"100%\" requiredFeatures=\"http://www.w3.org/TR/SVG11/feature#Extensibility\"><div xmlns=\"http://www.w3.org/1999/xhtml\" style=\"display: flex; align-items: unsafe center; justify-content: unsafe center; width: 1px; height: 1px; padding-top: 619px; margin-left: 1205px;\"><div style=\"box-sizing: border-box; font-size: 0px; text-align: center;\" data-drawio-colors=\"color: #ff9933; background-color: #ffffcc; \"><div style=\"display: inline-block; font-size: 12px; font-family: &quot;Georgia&quot;; color: rgb(255, 153, 51); line-height: 1.2; pointer-events: all; font-weight: bold; background-color: rgb(255, 255, 204); white-space: nowrap;\"><div><font>TRY</font></div><div><font>NEXT<br/></font></div></div></div></div></foreignObject><text x=\"1205\" y=\"622\" fill=\"#ff9933\" font-family=\"&quot;Georgia&quot;\" font-size=\"12px\" text-anchor=\"middle\" font-weight=\"bold\">TRY...</text></switch></g></g></g><g data-cell-id=\"GKrketicI9-l3KOTIM3X-5\"><g><g transform=\"translate(-0.5 -0.5)\"><switch><foreignObject style=\"overflow: visible; text-align: left;\" pointer-events=\"none\" width=\"100%\" height=\"100%\" requiredFeatures=\"http://www.w3.org/TR/SVG11/feature#Extensibility\"><div xmlns=\"http://www.w3.org/1999/xhtml\" style=\"display: flex; align-items: unsafe center; justify-content: unsafe center; width: 1px; height: 1px; padding-top: 614px; margin-left: 948px;\"><div style=\"box-sizing: border-box; font-size: 0px; text-align: center;\" data-drawio-colors=\"color: #ff9933; background-color: #ffffcc; \"><div style=\"display: inline-block; font-size: 12px; font-family: &quot;Georgia&quot;; color: rgb(255, 153, 51); line-height: 1.2; pointer-events: all; font-weight: bold; background-color: rgb(255, 255, 204); white-space: nowrap;\"><div><font>TRY</font></div><div><font>NEXT<br/></font></div></div></div></div></foreignObject><text x=\"948\" y=\"617\" fill=\"#ff9933\" font-family=\"&quot;Georgia&quot;\" font-size=\"12px\" text-anchor=\"middle\" font-weight=\"bold\">TRY...</text></switch></g></g></g></g></g></g><switch><g requiredFeatures=\"http://www.w3.org/TR/SVG11/feature#Extensibility\"/><a transform=\"translate(0,-5)\" xlink:href=\"https://www.drawio.com/doc/faq/svg-export-text-problems\" target=\"_blank\"><text text-anchor=\"middle\" font-size=\"10px\" x=\"50%\" y=\"100%\">Text is not SVG - cannot display</text></a></switch></svg>"
          },
          "metadata": {}
        }
      ]
    },
    {
      "cell_type": "markdown",
      "source": [
        "![](ml_map.svg)"
      ],
      "metadata": {
        "id": "L_F4jbWbEEv6"
      }
    },
    {
      "cell_type": "markdown",
      "source": [
        "## Try Model Function\n",
        "To choose a right model"
      ],
      "metadata": {
        "id": "vQG0D3yurtB0"
      }
    },
    {
      "cell_type": "code",
      "source": [
        "def try_model(model):\n",
        "    # Fit the model\n",
        "    model.fit(X_train, y_train.iloc[:, 0])\n",
        "\n",
        "    # Generate predictions\n",
        "    train_preds = model.predict(X_train)\n",
        "    val_preds = model.predict(X_val)\n",
        "\n",
        "    # Compute RMSE\n",
        "    train_rmspe = cal_rmspe(y_train.iloc[:, 0], train_preds)\n",
        "    val_rmspe = cal_rmspe(y_val.iloc[:, 0], val_preds)\n",
        "\n",
        "    print(f\"Model Parameters: {[(key, value) for key, value in model.get_params().items() if value]}\")\n",
        "    print(train_rmspe, val_rmspe)"
      ],
      "metadata": {
        "id": "B421ernRrT1I"
      },
      "execution_count": 507,
      "outputs": []
    },
    {
      "cell_type": "markdown",
      "source": [
        "For >10,000 samples, SVR becomes very slow or unusable"
      ],
      "metadata": {
        "id": "3slucbzp2tkY"
      }
    },
    {
      "cell_type": "markdown",
      "source": [
        "### Linear"
      ],
      "metadata": {
        "id": "cB1OdnFeuGqG"
      }
    },
    {
      "cell_type": "code",
      "source": [
        "# %%time\n",
        "# model = LinearRegression(n_jobs=-1)\n",
        "# try_model(model)\n",
        "\"\"\"\n",
        "Model Parameters: [('copy_X', True), ('fit_intercept', True), ('n_jobs', -1)]\n",
        "CPU times: user 2.17 s, sys: 192 ms, total: 2.36 s\n",
        "Wall time: 1.54 s\n",
        "\n",
        "(np.float64(0.5259857101725667), np.float64(0.4496525720578469))\n",
        "\"\"\""
      ],
      "metadata": {
        "colab": {
          "base_uri": "https://localhost:8080/",
          "height": 1000
        },
        "id": "dFjC6kkNvzov",
        "outputId": "7e69ade1-1672-4686-9fc7-0fd3a37d1672"
      },
      "execution_count": 508,
      "outputs": [
        {
          "output_type": "execute_result",
          "data": {
            "text/plain": [
              "\"\\nModel Parameters: [('copy_X', True), ('fit_intercept', True), ('n_jobs', -1)]\\nCPU times: user 2.17 s, sys: 192 ms, total: 2.36 s\\nWall time: 1.54 s\\n\\n(np.float64(0.5259857101725667), np.float64(0.4496525720578469))\\n\""
            ],
            "application/vnd.google.colaboratory.intrinsic+json": {
              "type": "string"
            }
          },
          "metadata": {},
          "execution_count": 508
        }
      ]
    },
    {
      "cell_type": "code",
      "source": [
        "# %%time\n",
        "# model = SGDRegressor()\n",
        "# try_model(model)\n",
        "\"\"\"\n",
        "Model Parameters: [('alpha', 0.0001), ('epsilon', 0.1), ('eta0', 0.01), ('fit_intercept', True), ('l1_ratio', 0.15), ('learning_rate', 'invscaling'), ('loss', 'squared_error'), ('max_iter', 1000), ('n_iter_no_change', 5), ('penalty', 'l2'), ('power_t', 0.25), ('shuffle', True), ('tol', 0.001), ('validation_fraction', 0.1)]\n",
        "CPU times: user 8.72 s, sys: 159 ms, total: 8.88 s\n",
        "Wall time: 9.01 s\n",
        "\n",
        "(np.float64(0.5322013387303167), np.float64(0.4540761804272999))\n",
        "\"\"\""
      ],
      "metadata": {
        "colab": {
          "base_uri": "https://localhost:8080/",
          "height": 1000
        },
        "id": "caDCHRWsuTx0",
        "outputId": "2519879a-fde0-41bb-a709-791bea56a60d"
      },
      "execution_count": 509,
      "outputs": [
        {
          "output_type": "execute_result",
          "data": {
            "text/plain": [
              "\"\\nModel Parameters: [('alpha', 0.0001), ('epsilon', 0.1), ('eta0', 0.01), ('fit_intercept', True), ('l1_ratio', 0.15), ('learning_rate', 'invscaling'), ('loss', 'squared_error'), ('max_iter', 1000), ('n_iter_no_change', 5), ('penalty', 'l2'), ('power_t', 0.25), ('shuffle', True), ('tol', 0.001), ('validation_fraction', 0.1)]\\nCPU times: user 8.72 s, sys: 159 ms, total: 8.88 s\\nWall time: 9.01 s\\n\\n(np.float64(0.5322013387303167), np.float64(0.4540761804272999))\\n\""
            ],
            "application/vnd.google.colaboratory.intrinsic+json": {
              "type": "string"
            }
          },
          "metadata": {},
          "execution_count": 509
        }
      ]
    },
    {
      "cell_type": "code",
      "source": [
        "# %%time\n",
        "# model = Ridge()\n",
        "# try_model(model)\n",
        "\"\"\"\n",
        "Model Parameters: [('alpha', 1.0), ('copy_X', True), ('fit_intercept', True), ('solver', 'auto'), ('tol', 0.0001)]\n",
        "CPU times: user 813 ms, sys: 155 ms, total: 968 ms\n",
        "Wall time: 920 ms\n",
        "\n",
        "(np.float64(0.5259862116713301), np.float64(0.44965186298064896))\n",
        "\"\"\""
      ],
      "metadata": {
        "colab": {
          "base_uri": "https://localhost:8080/",
          "height": 1000
        },
        "id": "Z3fDkuRXugP6",
        "outputId": "a59f66ec-427f-470c-cf20-665d5eb3b59f"
      },
      "execution_count": 510,
      "outputs": [
        {
          "output_type": "execute_result",
          "data": {
            "text/plain": [
              "\"\\nModel Parameters: [('alpha', 1.0), ('copy_X', True), ('fit_intercept', True), ('solver', 'auto'), ('tol', 0.0001)]\\nCPU times: user 813 ms, sys: 155 ms, total: 968 ms\\nWall time: 920 ms\\n\\n(np.float64(0.5259862116713301), np.float64(0.44965186298064896))\\n\""
            ],
            "application/vnd.google.colaboratory.intrinsic+json": {
              "type": "string"
            }
          },
          "metadata": {},
          "execution_count": 510
        }
      ]
    },
    {
      "cell_type": "markdown",
      "source": [
        "### Tree\n",
        "Best: RF\n",
        "\n",
        "Fast & Good XGBoost Regression"
      ],
      "metadata": {
        "id": "03HviGXauRmX"
      }
    },
    {
      "cell_type": "code",
      "source": [
        "# %%time\n",
        "# # max_depth = 8 default\n",
        "# model = XGBRFRegressor(learning_rate=0.1, random_state=42, n_jobs=-1)\n",
        "# try_model(model)\n",
        "\n",
        "\"\"\"\n",
        "Model Parameters: [('colsample_bynode', 0.8), ('learning_rate', 0.1), ('reg_lambda', 1e-05), ('subsample', 0.8), ('objective', 'reg:squarederror'), ('max_depth', 8), ('missing', nan), ('n_jobs', -1), ('random_state', 42)]\n",
        "CPU times: user 2min 15s, sys: 1.34 s, total: 2min 16s\n",
        "Wall time: 1min 30s\n",
        "\n",
        "(np.float64(0.5986218852276105), np.float64(0.5313916542569681))\n",
        "\"\"\""
      ],
      "metadata": {
        "colab": {
          "base_uri": "https://localhost:8080/",
          "height": 1000
        },
        "id": "D_m42UBJBbkd",
        "outputId": "f70c5571-defb-4f96-9376-3564887c6236"
      },
      "execution_count": 511,
      "outputs": [
        {
          "output_type": "execute_result",
          "data": {
            "text/plain": [
              "\"\\nModel Parameters: [('colsample_bynode', 0.8), ('learning_rate', 0.1), ('reg_lambda', 1e-05), ('subsample', 0.8), ('objective', 'reg:squarederror'), ('max_depth', 8), ('missing', nan), ('n_jobs', -1), ('random_state', 42)]\\nCPU times: user 2min 15s, sys: 1.34 s, total: 2min 16s\\nWall time: 1min 30s\\n\\n(np.float64(0.5986218852276105), np.float64(0.5313916542569681))\\n\""
            ],
            "application/vnd.google.colaboratory.intrinsic+json": {
              "type": "string"
            }
          },
          "metadata": {},
          "execution_count": 511
        }
      ]
    },
    {
      "cell_type": "code",
      "source": [
        "# %%time\n",
        "# model = lgb.LGBMRegressor(random_state=42, n_jobs=-1)\n",
        "# try_model(model)\n",
        "\"\"\"\n",
        "Model Parameters: [('boosting_type', 'gbdt'), ('colsample_bytree', 1.0), ('importance_type', 'split'), ('learning_rate', 0.1), ('max_depth', -1), ('min_child_samples', 20), ('min_child_weight', 0.001), ('n_estimators', 100), ('n_jobs', -1), ('num_leaves', 31), ('random_state', 42), ('subsample', 1.0), ('subsample_for_bin', 200000)]\n",
        "CPU times: user 21.7 s, sys: 254 ms, total: 22 s\n",
        "Wall time: 22.5 s\n",
        "\n",
        "(np.float64(0.3697072113470677), np.float64(0.331135680588256))\n",
        "\"\"\""
      ],
      "metadata": {
        "colab": {
          "base_uri": "https://localhost:8080/",
          "height": 1000
        },
        "id": "YnNkOrVHu_18",
        "outputId": "e64f9c32-77ba-4844-9e9f-8cff8e0b16bc"
      },
      "execution_count": 512,
      "outputs": [
        {
          "output_type": "execute_result",
          "data": {
            "text/plain": [
              "\"\\nModel Parameters: [('boosting_type', 'gbdt'), ('colsample_bytree', 1.0), ('importance_type', 'split'), ('learning_rate', 0.1), ('max_depth', -1), ('min_child_samples', 20), ('min_child_weight', 0.001), ('n_estimators', 100), ('n_jobs', -1), ('num_leaves', 31), ('random_state', 42), ('subsample', 1.0), ('subsample_for_bin', 200000)]\\nCPU times: user 21.7 s, sys: 254 ms, total: 22 s\\nWall time: 22.5 s\\n\\n(np.float64(0.3697072113470677), np.float64(0.331135680588256))\\n\""
            ],
            "application/vnd.google.colaboratory.intrinsic+json": {
              "type": "string"
            }
          },
          "metadata": {},
          "execution_count": 512
        }
      ]
    },
    {
      "cell_type": "code",
      "source": [
        "%%time\n",
        "xgb = XGBRegressor(random_state=42, n_jobs=-1)\n",
        "try_model(xgb)\n",
        "\"\"\"\n",
        "Model Parameters: [('objective', 'reg:squarederror'), ('missing', nan), ('n_jobs', -1), ('random_state', 42)]\n",
        "CPU times: user 18.4 s, sys: 11.6 ms, total: 18.4 s\n",
        "Wall time: 10.9 s\n",
        "\n",
        "(np.float64(0.25080511816552103), np.float64(0.22562003616016577))\n",
        "\"\"\""
      ],
      "metadata": {
        "colab": {
          "base_uri": "https://localhost:8080/",
          "height": 1000
        },
        "id": "Bhm1S4dx1fSN",
        "outputId": "2a93e56c-204e-44ec-a6d9-c40b3406194f"
      },
      "execution_count": 513,
      "outputs": [
        {
          "output_type": "stream",
          "name": "stdout",
          "text": [
            "Model Parameters: [('objective', 'reg:squarederror'), ('missing', nan), ('n_jobs', -1), ('random_state', 42)]\n",
            "0.25080511816552103 0.22562003616016577\n",
            "CPU times: user 20.2 s, sys: 88.1 ms, total: 20.3 s\n",
            "Wall time: 12.7 s\n"
          ]
        },
        {
          "output_type": "execute_result",
          "data": {
            "text/plain": [
              "\"\\nModel Parameters: [('objective', 'reg:squarederror'), ('missing', nan), ('n_jobs', -1), ('random_state', 42)]\\nCPU times: user 18.4 s, sys: 11.6 ms, total: 18.4 s\\nWall time: 10.9 s\\n\\n(np.float64(0.25080511816552103), np.float64(0.22562003616016577))\\n\""
            ],
            "application/vnd.google.colaboratory.intrinsic+json": {
              "type": "string"
            }
          },
          "metadata": {},
          "execution_count": 513
        }
      ]
    },
    {
      "cell_type": "code",
      "source": [
        "# %%time\n",
        "# model = DecisionTreeRegressor(random_state=42)\n",
        "# try_model(model)\n",
        "\"\"\"\n",
        "Model Parameters: [('criterion', 'squared_error'), ('min_samples_leaf', 1), ('min_samples_split', 2), ('random_state', 42), ('splitter', 'best')]\n",
        "CPU times: user 9.35 s, sys: 217 ms, total: 9.57 s\n",
        "Wall time: 9.6 s\n",
        "\n",
        "(np.float64(0.0), np.float64(0.23285687371722583))\n",
        "\"\"\""
      ],
      "metadata": {
        "colab": {
          "base_uri": "https://localhost:8080/",
          "height": 1000
        },
        "id": "9n5gGgc4_q40",
        "outputId": "ffdfdf16-45f4-448a-b58e-355eadc7b6f3"
      },
      "execution_count": 514,
      "outputs": [
        {
          "output_type": "execute_result",
          "data": {
            "text/plain": [
              "\"\\nModel Parameters: [('criterion', 'squared_error'), ('min_samples_leaf', 1), ('min_samples_split', 2), ('random_state', 42), ('splitter', 'best')]\\nCPU times: user 9.35 s, sys: 217 ms, total: 9.57 s\\nWall time: 9.6 s\\n\\n(np.float64(0.0), np.float64(0.23285687371722583))\\n\""
            ],
            "application/vnd.google.colaboratory.intrinsic+json": {
              "type": "string"
            }
          },
          "metadata": {},
          "execution_count": 514
        }
      ]
    },
    {
      "cell_type": "code",
      "source": [
        "# %%time\n",
        "# rf = RandomForestRegressor(random_state=42, n_jobs=-1)\n",
        "# try_model(rf)\n",
        "\n",
        "\"\"\"\n",
        "Model Parameters: [('bootstrap', True), ('criterion', 'squared_error'), ('max_features', 1.0), ('min_samples_leaf', 1), ('min_samples_split', 2), ('n_estimators', 100), ('n_jobs', -1), ('random_state', 42)]\n",
        "CPU times: user 14min 53s, sys: 11.1 s, total: 15min 4s\n",
        "Wall time: 9min 28s\n",
        "\n",
        "(np.float64(0.08625296761651248), np.float64(0.19316043876857877))\n",
        "\"\"\""
      ],
      "metadata": {
        "colab": {
          "base_uri": "https://localhost:8080/",
          "height": 1000
        },
        "id": "mi5veTxz0xXA",
        "outputId": "5d0ef977-5b62-4167-f701-6cd5d2fa820b"
      },
      "execution_count": 515,
      "outputs": [
        {
          "output_type": "execute_result",
          "data": {
            "text/plain": [
              "\"\\nModel Parameters: [('bootstrap', True), ('criterion', 'squared_error'), ('max_features', 1.0), ('min_samples_leaf', 1), ('min_samples_split', 2), ('n_estimators', 100), ('n_jobs', -1), ('random_state', 42)]\\nCPU times: user 14min 53s, sys: 11.1 s, total: 15min 4s\\nWall time: 9min 28s\\n\\n(np.float64(0.08625296761651248), np.float64(0.19316043876857877))\\n\""
            ],
            "application/vnd.google.colaboratory.intrinsic+json": {
              "type": "string"
            }
          },
          "metadata": {},
          "execution_count": 515
        }
      ]
    },
    {
      "cell_type": "markdown",
      "source": [
        "### Model importance"
      ],
      "metadata": {
        "id": "z_yRbHHUMuby"
      }
    },
    {
      "cell_type": "markdown",
      "source": [
        "    feature \t                   importance\n",
        "    3 \t CompetitionDistance \t  0.245021\n",
        "    0 \t Store               \t  0.240499\n",
        "    1 \t Promo \t                0.138890\n",
        "    6 \t Day \t                  0.057831\n",
        "    5 \t Month \t                0.049185\n",
        "    7 \t DayOfWeek_1 \t          0.033928\n",
        "    19 \tStoreType_b \t          0.025875\n",
        "    33 \tPromo2SinceYear_2013.0    0.018648\n",
        "    12 \tDayOfWeek_6 \t          0.016662\n",
        "    18 \tStoreType_a \t          0.016479"
      ],
      "metadata": {
        "id": "uxoIMb1DZJQC"
      }
    },
    {
      "cell_type": "code",
      "source": [
        "# rf_importance_df = pd.DataFrame(data={\n",
        "#     \"feature\": inputs_cols,\n",
        "#     \"importance\": rf.feature_importances_\n",
        "# }).sort_values(\"importance\", ascending=False)\n",
        "\n",
        "# rf_importance_df.head(10)"
      ],
      "metadata": {
        "id": "44FUfq96EAZn"
      },
      "execution_count": 516,
      "outputs": []
    },
    {
      "cell_type": "markdown",
      "source": [
        "## Tune the hyperparameters of the decision tree and random forest to get better results"
      ],
      "metadata": {
        "id": "joLjfAvXS4x3"
      }
    },
    {
      "cell_type": "markdown",
      "source": [
        "If size is critical, consider switching to:\n",
        "\n",
        "    XGBoost with histogram optimization\n",
        "\n",
        "    LightGBM (compact and efficient with large trees)\n",
        "\n",
        "    Neural nets if you want smaller/faster deployment"
      ],
      "metadata": {
        "id": "gRzWcWemkwXI"
      }
    },
    {
      "cell_type": "code",
      "source": [
        "# %%time\n",
        "# model = RandomForestRegressor(random_state=42, max_depth=16, n_jobs=-1)\n",
        "# try_model(model)\n",
        "\"\"\"\n",
        "Model Parameters: [('bootstrap', True), ('criterion', 'squared_error'), ('max_depth', 16), ('max_features', 1.0), ('min_samples_leaf', 1), ('min_samples_split', 2), ('n_estimators', 100), ('n_jobs', -1), ('random_state', 42)]\n",
        "CPU times: user 9min 23s, sys: 2.4 s, total: 9min 25s\n",
        "Wall time: 5min 36s\n",
        "\n",
        "(np.float64(0.33192081945501833), np.float64(0.30262369290174324))\n",
        "\"\"\""
      ],
      "metadata": {
        "colab": {
          "base_uri": "https://localhost:8080/",
          "height": 1000
        },
        "id": "QDB0uuE6LDL9",
        "outputId": "af9a967f-a9c3-4bb1-eb4f-9a95649404b2"
      },
      "execution_count": 517,
      "outputs": [
        {
          "output_type": "execute_result",
          "data": {
            "text/plain": [
              "\"\\nModel Parameters: [('bootstrap', True), ('criterion', 'squared_error'), ('max_depth', 16), ('max_features', 1.0), ('min_samples_leaf', 1), ('min_samples_split', 2), ('n_estimators', 100), ('n_jobs', -1), ('random_state', 42)]\\nCPU times: user 9min 23s, sys: 2.4 s, total: 9min 25s\\nWall time: 5min 36s\\n\\n(np.float64(0.33192081945501833), np.float64(0.30262369290174324))\\n\""
            ],
            "application/vnd.google.colaboratory.intrinsic+json": {
              "type": "string"
            }
          },
          "metadata": {},
          "execution_count": 517
        }
      ]
    },
    {
      "cell_type": "code",
      "source": [
        "# %%time\n",
        "# model = RandomForestRegressor(random_state=42, max_depth=32, n_jobs=-1)\n",
        "# try_model(model)\n",
        "\n",
        "\"\"\"\n",
        "Model Parameters: [('bootstrap', True), ('criterion', 'squared_error'), ('max_depth', 32), ('max_features', 1.0), ('min_samples_leaf', 1), ('min_samples_split', 2), ('n_estimators', 100), ('n_jobs', -1), ('random_state', 42)]\n",
        "CPU times: user 13min 55s, sys: 11.2 s, total: 14min 6s\n",
        "Wall time: 8min 13s\n",
        "\n",
        "(np.float64(0.09598599731236562), np.float64(0.1926802436343461))\n",
        "\"\"\""
      ],
      "metadata": {
        "colab": {
          "base_uri": "https://localhost:8080/",
          "height": 1000
        },
        "id": "VYS_f_eyKB1_",
        "outputId": "fabe3271-899c-4029-9fcc-eb65466be1a1"
      },
      "execution_count": 518,
      "outputs": [
        {
          "output_type": "execute_result",
          "data": {
            "text/plain": [
              "\"\\nModel Parameters: [('bootstrap', True), ('criterion', 'squared_error'), ('max_depth', 32), ('max_features', 1.0), ('min_samples_leaf', 1), ('min_samples_split', 2), ('n_estimators', 100), ('n_jobs', -1), ('random_state', 42)]\\nCPU times: user 13min 55s, sys: 11.2 s, total: 14min 6s\\nWall time: 8min 13s\\n\\n(np.float64(0.09598599731236562), np.float64(0.1926802436343461))\\n\""
            ],
            "application/vnd.google.colaboratory.intrinsic+json": {
              "type": "string"
            }
          },
          "metadata": {},
          "execution_count": 518
        }
      ]
    },
    {
      "cell_type": "code",
      "source": [
        "# %%time\n",
        "# model = RandomForestRegressor(random_state=42, max_leaf_nodes=2**16, n_jobs=-1)\n",
        "# try_model(model)\n",
        "\"\"\"\n",
        "Model Parameters: [('bootstrap', True), ('criterion', 'squared_error'), ('max_features', 1.0), ('max_leaf_nodes', 65536), ('min_samples_leaf', 1), ('min_samples_split', 2), ('n_estimators', 100), ('n_jobs', -1), ('random_state', 42)]\n",
        "CPU times: user 18min 51s, sys: 5.2 s, total: 18min 56s\n",
        "Wall time: 11min 6s\n",
        "\n",
        "(np.float64(0.11961847129497366), np.float64(0.19058534604042499))\n",
        "\"\"\""
      ],
      "metadata": {
        "colab": {
          "base_uri": "https://localhost:8080/",
          "height": 1000
        },
        "id": "oF_oGkt1bXmP",
        "outputId": "c25e8491-7c8a-48b7-a487-1cfdcc82bb0c"
      },
      "execution_count": 519,
      "outputs": [
        {
          "output_type": "execute_result",
          "data": {
            "text/plain": [
              "\"\\nModel Parameters: [('bootstrap', True), ('criterion', 'squared_error'), ('max_features', 1.0), ('max_leaf_nodes', 65536), ('min_samples_leaf', 1), ('min_samples_split', 2), ('n_estimators', 100), ('n_jobs', -1), ('random_state', 42)]\\nCPU times: user 18min 51s, sys: 5.2 s, total: 18min 56s\\nWall time: 11min 6s\\n\\n(np.float64(0.11961847129497366), np.float64(0.19058534604042499))\\n\""
            ],
            "application/vnd.google.colaboratory.intrinsic+json": {
              "type": "string"
            }
          },
          "metadata": {},
          "execution_count": 519
        }
      ]
    },
    {
      "cell_type": "code",
      "source": [
        "# %%time\n",
        "# model = RandomForestRegressor(random_state=42, max_leaf_nodes=2**16, n_jobs=-1, n_estimators=500)\n",
        "# try_model(model)\n",
        "\"\"\"\n",
        "Model Parameters: [('bootstrap', True), ('criterion', 'squared_error'), ('max_features', 1.0), ('max_leaf_nodes', 65536), ('min_samples_leaf', 1), ('min_samples_split', 2), ('n_estimators', 500), ('n_jobs', -1), ('random_state', 42)]\n",
        "CPU times: user 1h 32min 41s, sys: 21 s, total: 1h 33min 2s\n",
        "Wall time: 53min 8s\n",
        "\n",
        "(np.float64(0.11949318365655758), np.float64(0.1905309239672661))\n",
        "\"\"\""
      ],
      "metadata": {
        "colab": {
          "base_uri": "https://localhost:8080/",
          "height": 1000
        },
        "id": "ndgQRq0yIUn-",
        "outputId": "2bebe859-827c-4170-fe0f-cffdfc00c942"
      },
      "execution_count": 520,
      "outputs": [
        {
          "output_type": "execute_result",
          "data": {
            "text/plain": [
              "\"\\nModel Parameters: [('bootstrap', True), ('criterion', 'squared_error'), ('max_features', 1.0), ('max_leaf_nodes', 65536), ('min_samples_leaf', 1), ('min_samples_split', 2), ('n_estimators', 500), ('n_jobs', -1), ('random_state', 42)]\\nCPU times: user 1h 32min 41s, sys: 21 s, total: 1h 33min 2s\\nWall time: 53min 8s\\n\\n(np.float64(0.11949318365655758), np.float64(0.1905309239672661))\\n\""
            ],
            "application/vnd.google.colaboratory.intrinsic+json": {
              "type": "string"
            }
          },
          "metadata": {},
          "execution_count": 520
        }
      ]
    },
    {
      "cell_type": "code",
      "source": [
        "# %%time\n",
        "# model = RandomForestRegressor(random_state=42, max_depth=64, n_jobs=-1)\n",
        "# try_model(model)\n",
        "\"\"\"\n",
        "Model Parameters: [('bootstrap', True), ('criterion', 'squared_error'), ('max_features', 1.0), ('min_samples_leaf', 1), ('min_samples_split', 2), ('n_estimators', 100), ('n_jobs', -1), ('random_state', 42)]\n",
        "CPU times: user 14min 53s, sys: 11.1 s, total: 15min 4s\n",
        "Wall time: 9min 28s\n",
        "\n",
        "(np.float64(0.08625296761651248), np.float64(0.19316043876857877))\n",
        "\"\"\""
      ],
      "metadata": {
        "colab": {
          "base_uri": "https://localhost:8080/",
          "height": 1000
        },
        "id": "72mYTL-CJtLP",
        "outputId": "8cb575a2-090b-49d2-87d8-ad229a7c917e"
      },
      "execution_count": 521,
      "outputs": [
        {
          "output_type": "execute_result",
          "data": {
            "text/plain": [
              "\"\\nModel Parameters: [('bootstrap', True), ('criterion', 'squared_error'), ('max_features', 1.0), ('min_samples_leaf', 1), ('min_samples_split', 2), ('n_estimators', 100), ('n_jobs', -1), ('random_state', 42)]\\nCPU times: user 14min 53s, sys: 11.1 s, total: 15min 4s\\nWall time: 9min 28s\\n\\n(np.float64(0.08625296761651248), np.float64(0.19316043876857877))\\n\""
            ],
            "application/vnd.google.colaboratory.intrinsic+json": {
              "type": "string"
            }
          },
          "metadata": {},
          "execution_count": 521
        }
      ]
    },
    {
      "cell_type": "markdown",
      "source": [
        "## Examine Best Model\n",
        "    Model Parameters: [('bootstrap', True), ('criterion', 'squared_error'), ('max_features', 1.0), ('max_leaf_nodes', 65536), ('min_samples_leaf', 1), ('min_samples_split', 2), ('n_estimators', 100), ('n_jobs', -1), ('random_state', 42)]\n",
        "    CPU times: user 18min 51s, sys: 5.2 s, total: 18min 56s\n",
        "    Wall time: 11min 6s\n",
        "\n",
        "    (np.float64(0.11961847129497366), np.float64(0.19058534604042499))"
      ],
      "metadata": {
        "id": "aT4-5grpUpnM"
      }
    },
    {
      "cell_type": "code",
      "source": [
        "# mean_depth = 0\n",
        "# for estimator in model.estimators_:\n",
        "#    mean_depth += estimator.tree_.max_depth\n",
        "\n",
        "# print(mean_depth // len(model.estimators_))\n",
        "# # 46"
      ],
      "metadata": {
        "id": "vIwRtwVeUvKX"
      },
      "execution_count": 522,
      "outputs": []
    },
    {
      "cell_type": "markdown",
      "source": [
        "Best Model Importance\n",
        "\n",
        "           feature \t          importance\n",
        "    3 \t CompetitionDistance \t0.249950\n",
        "    0 \t Store \t0.245975\n",
        "    1 \t Promo \t0.142212\n",
        "    6 \t Day \t0.048914\n",
        "    5 \t Month \t0.043663\n",
        "    7 \t DayOfWeek_1 \t0.034401\n",
        "    19 \tStoreType_b \t0.026468\n",
        "    33 \tPromo2SinceYear_2013_0 \t0.019057\n",
        "    12 \tDayOfWeek_6 \t0.016931\n",
        "    18 \tStoreType_a \t0.016597\n",
        "    20 \tStoreType_c \t0.012400\n",
        "    27 \tPromoInterval_Mar_Jun_Sept_Dec \t0.011330"
      ],
      "metadata": {
        "id": "0TPG6iIiXy1d"
      }
    },
    {
      "cell_type": "code",
      "source": [
        "# model_importance_df = pd.DataFrame(data={\n",
        "#     \"feature\": inputs_cols,\n",
        "#     \"importance\": model.feature_importances_\n",
        "# }).sort_values(\"importance\", ascending=False)\n",
        "\n",
        "# model_importance_df.head(12)"
      ],
      "metadata": {
        "id": "I6HjZT1XVjLm"
      },
      "execution_count": 523,
      "outputs": []
    },
    {
      "cell_type": "markdown",
      "source": [
        "# **Step 7 - Experiment and combine results from multiple strategies**"
      ],
      "metadata": {
        "id": "VdWaQoMsTjOE"
      }
    },
    {
      "cell_type": "markdown",
      "source": [
        "In general, the following strategies can be used to improve the performance of a model:\n",
        "\n",
        "- Gather more data. A greater amount of data can let you learn more relationships and generalize the model better.\n",
        "- Include more features. The more relevant the features for predicting the target, the better the model gets.\n",
        "- Tune the hyperparameters of the model. Increase the capacity of the model while ensuring that it doesn't overfit.\n",
        "- Look at the specific examples where the model make incorrect or bad predictions and gather some insights\n",
        "- Try strategies like grid search for hyperparameter optimization and K-fold cross validation\n",
        "- Combine results from different types of models (ensembling), or train another model using their results."
      ],
      "metadata": {
        "id": "wb8V-VVLcEuK"
      }
    },
    {
      "cell_type": "markdown",
      "source": [
        "### Hyperparameter Optimization & Grid Search\n",
        "\n",
        "You can tune hyperparameters manually, our use an automated tuning strategy like random search or Grid search. Follow this tutorial for hyperparameter tuning using Grid search: https://machinelearningmastery.com/hyperparameter-optimization-with-random-search-and-grid-search/\n",
        "\n",
        "<img src=\"https://i.imgur.com/EJCrSZw.png\" width=\"360\">"
      ],
      "metadata": {
        "id": "C_CqjqjWdCk0"
      }
    },
    {
      "cell_type": "markdown",
      "source": [
        "### K-Fold Cross Validation\n",
        "\n",
        "Not good for time series data like Rossmann\n",
        "\n",
        "Here's what K-fold cross validation looks like visually ([source](https://vitalflux.com/k-fold-cross-validation-python-example/)):\n",
        "\n",
        "<img src=\"https://i.imgur.com/MxnzWwT.png\" width=\"480\">\n",
        "\n",
        "Follow this tutorial to apply K-fold cross validation: https://machinelearningmastery.com/repeated-k-fold-cross-validation-with-python/"
      ],
      "metadata": {
        "id": "i4ITRWbKwZpj"
      }
    },
    {
      "cell_type": "markdown",
      "source": [
        "### Ensembling and Stacking\n",
        "\n",
        "Ensembling refers to combining the results of multiple models. Here's what ensembling looks like visually([source](https://www.kdnuggets.com/2019/01/ensemble-learning-5-main-approaches.html)):\n",
        "\n",
        "<img src=\"https://i.imgur.com/rrOKVEd.png\" width=\"480\">"
      ],
      "metadata": {
        "id": "gi5g7fCgwy_L"
      }
    },
    {
      "cell_type": "markdown",
      "source": [
        "Stacking is a more advanced version of ensembling, where we train another model using the results from multiple models. Here's what stacking looks like visually ([source](https://medium.com/ml-research-lab/stacking-ensemble-meta-algorithms-for-improve-predictions-f4b4cf3b9237)):\n",
        "\n",
        "<img src=\"https://i.imgur.com/VVzCWNB.png\" width=\"400\">\n",
        "\n",
        "Here's a tutorial on stacking: https://machinelearningmastery.com/stacking-ensemble-machine-learning-with-python/"
      ],
      "metadata": {
        "id": "2vNHTh7P1aMi"
      }
    },
    {
      "cell_type": "markdown",
      "source": [
        "# **Step 8 - Interpret models, study individual predictions & present your findings**\n"
      ],
      "metadata": {
        "id": "aDi1ViCp1yl2"
      }
    },
    {
      "cell_type": "markdown",
      "source": [
        "### Feature Importance\n",
        "\n",
        "You'll need to explain why your model returns a particular result. Most scikit-learn models offer some kind of \"feature importance\" score."
      ],
      "metadata": {
        "id": "6qqx5scc1_WW"
      }
    },
    {
      "cell_type": "markdown",
      "source": [
        "Best Model Importance\n",
        "\n",
        "           feature \t          importance\n",
        "    3 \t CompetitionDistance \t0.249950\n",
        "    0 \t Store \t0.245975\n",
        "    1 \t Promo \t0.142212\n",
        "    6 \t Day \t0.048914\n",
        "    5 \t Month \t0.043663\n",
        "    7 \t DayOfWeek_1 \t0.034401\n",
        "    19 \tStoreType_b \t0.026468\n",
        "    33 \tPromo2SinceYear_2013_0 \t0.019057\n",
        "    12 \tDayOfWeek_6 \t0.016931\n",
        "    18 \tStoreType_a \t0.016597\n",
        "    20 \tStoreType_c \t0.012400\n",
        "    27 \tPromoInterval_Mar_Jun_Sept_Dec \t0.011330"
      ],
      "metadata": {
        "id": "PiyAnZn52E9D"
      }
    },
    {
      "cell_type": "code",
      "source": [
        "# model_importance_df = pd.DataFrame(data={\n",
        "#     \"feature\": inputs_cols,\n",
        "#     \"importance\": model.feature_importances_\n",
        "# }).sort_values(\"importance\", ascending=False)\n",
        "\n",
        "# model_importance_df.head(12)"
      ],
      "metadata": {
        "id": "M5yA4-xu2E9G"
      },
      "execution_count": 524,
      "outputs": []
    },
    {
      "cell_type": "markdown",
      "source": [
        "### Presenting your results\n",
        "\n",
        "* Create a presentation for non-technical stakeholders\n",
        "* Understand your audience - figure out what they care about most\n",
        "* Avoid showing any code or technical jargon, include visualizations\n",
        "* Focus on metrics that are relevant for the business\n",
        "* Talk about feature importance and how to interpret results\n",
        "* Explain the strengths and limitations of the model\n",
        "* Explain how the model can be improved over time"
      ],
      "metadata": {
        "id": "DagmmbIO2dlk"
      }
    },
    {
      "cell_type": "markdown",
      "source": [
        "### Looking at individual predictions\n",
        "play with each feature and see the effect on result"
      ],
      "metadata": {
        "id": "I7HDC6nn_2FG"
      }
    },
    {
      "cell_type": "code",
      "source": [
        "X_input, y_input = X_val.iloc[[-1, -2], :], y_val.iloc[[-1, -2], :]"
      ],
      "metadata": {
        "id": "8pUwMfWf_2sz"
      },
      "execution_count": 525,
      "outputs": []
    },
    {
      "cell_type": "code",
      "source": [
        "print(\"True\", y_input.Sales.to_list())\n",
        "print(\"Pred\", xgb.predict(X_input))"
      ],
      "metadata": {
        "colab": {
          "base_uri": "https://localhost:8080/"
        },
        "id": "yNhXSYHOAI5x",
        "outputId": "67a3365c-60a2-49c5-dcb8-9863347a34fa"
      },
      "execution_count": 526,
      "outputs": [
        {
          "output_type": "stream",
          "name": "stdout",
          "text": [
            "True [5263, 11253]\n",
            "Pred [6383.581 9442.231]\n"
          ]
        }
      ]
    },
    {
      "cell_type": "code",
      "source": [
        "def predict_input(model_curr, single_input):\n",
        "    if single_input['Open'] == 0:\n",
        "        return 0.\n",
        "    input_df = pd.DataFrame([single_input])\n",
        "\n",
        "    input_df['Date'] = pd.to_datetime(input_df.Date)\n",
        "    input_df['Day'] = input_df.Date.dt.day\n",
        "    input_df['Month'] = input_df.Date.dt.month\n",
        "    input_df['Year'] = input_df.Date.dt.year\n",
        "\n",
        "    input_df[imputer_cols] = imputer.transform(input_df[imputer_cols])\n",
        "    input_df[scalar_cols] = scalar_model.transform(input_df[scalar_cols])\n",
        "\n",
        "    input_df[categorical_cols] = input_df[categorical_cols].astype(str).replace(\"NaN\", \"Missing\").replace(\"nan\", \"Missing\")\n",
        "    input_df[encoded_cols] = encoder.transform(input_df[categorical_cols])\n",
        "\n",
        "    X_input = input_df[inputs_cols]\n",
        "    pred = model_curr.predict(X_input)[0]\n",
        "    return pred"
      ],
      "metadata": {
        "id": "Qyw0vUNjBXwf"
      },
      "execution_count": 531,
      "outputs": []
    },
    {
      "cell_type": "code",
      "source": [
        "sample_input = {'Id': 1,\n",
        " 'Store': 1,\n",
        " 'DayOfWeek': 4,\n",
        " 'Date': '2015-09-17 00:00:00',\n",
        " 'Open': 1.0,\n",
        " 'Promo': 1,\n",
        " 'StateHoliday': '0',\n",
        " 'SchoolHoliday': 0,\n",
        " 'StoreType': 'c',\n",
        " 'Assortment': 'a',\n",
        " 'CompetitionDistance': 1270.0,\n",
        " 'CompetitionOpenSinceMonth': 9.0,\n",
        " 'CompetitionOpenSinceYear': 2008.0,\n",
        " 'Promo2': 0,\n",
        " 'Promo2SinceWeek': np.nan,\n",
        " 'Promo2SinceYear': np.nan,\n",
        " 'PromoInterval': np.nan}\n",
        "\n",
        "# sample_input"
      ],
      "metadata": {
        "id": "OeFvZruHBpiV"
      },
      "execution_count": 535,
      "outputs": []
    },
    {
      "cell_type": "code",
      "source": [
        "predict_input(xgb, sample_input)"
      ],
      "metadata": {
        "colab": {
          "base_uri": "https://localhost:8080/"
        },
        "id": "GatojUkrCNET",
        "outputId": "2c11c3e1-6256-4c2e-d406-186146a066d5"
      },
      "execution_count": 536,
      "outputs": [
        {
          "output_type": "execute_result",
          "data": {
            "text/plain": [
              "np.float32(5140.5874)"
            ]
          },
          "metadata": {},
          "execution_count": 536
        }
      ]
    },
    {
      "cell_type": "markdown",
      "source": [
        "### Model Deployment\n",
        "\n",
        "At this point, the model can be handed over to a software developer / ML engineer who can put the model into production, as part of an existing software system. It's important to monitor the results of the model, and make improvements from time to time.\n",
        "\n",
        "Check out this tutorial on how to deploy a model to the Heroku platform using the Flask framework: https://towardsdatascience.com/create-an-api-to-deploy-machine-learning-models-using-flask-and-heroku-67a011800c50"
      ],
      "metadata": {
        "id": "XsTlOG3c2n5V"
      }
    },
    {
      "cell_type": "markdown",
      "source": [
        "# **Stop**"
      ],
      "metadata": {
        "id": "KpYMJ-YDs9qx"
      }
    },
    {
      "cell_type": "code",
      "source": [
        "Stop"
      ],
      "metadata": {
        "id": "iFCwZcJvsAJ7"
      },
      "execution_count": 539,
      "outputs": []
    },
    {
      "cell_type": "markdown",
      "source": [
        "# **Save & Load**"
      ],
      "metadata": {
        "id": "oGZJ9iPV7TAS"
      }
    },
    {
      "cell_type": "markdown",
      "source": [
        "## Save Model"
      ],
      "metadata": {
        "id": "hEOcRkjtots5"
      }
    },
    {
      "cell_type": "code",
      "source": [
        "rossmann_model_xgb = {\n",
        "    'model': xgb,\n",
        "    'imputer': imputer,\n",
        "    'scaler': scalar_model,\n",
        "    'encoder': encoder,\n",
        "    'input_cols': inputs_cols,\n",
        "    'target_cols': target_cols,\n",
        "    'scalar_cols': scalar_cols,\n",
        "    'categorical_cols': categorical_cols,\n",
        "    'encoded_cols': encoded_cols,\n",
        "    'imputer_cols': imputer_cols,\n",
        "    'binary_cols': binary_cols,\n",
        "    'drop_cols': drop_cols\n",
        "}"
      ],
      "metadata": {
        "id": "oN7BJ4F7hIQA"
      },
      "execution_count": null,
      "outputs": []
    },
    {
      "cell_type": "code",
      "source": [
        "from google.colab import drive\n",
        "drive.mount('/content/drive')"
      ],
      "metadata": {
        "id": "L4ozkmYElpXj"
      },
      "execution_count": null,
      "outputs": []
    },
    {
      "cell_type": "code",
      "source": [
        "joblib.dump(rossmann_model_xgb, \"/content/drive/MyDrive/rossmann_model_xgb_raw.joblib\")"
      ],
      "metadata": {
        "id": "Qv_jV10HimhU"
      },
      "execution_count": null,
      "outputs": []
    },
    {
      "cell_type": "markdown",
      "source": [
        "## Load"
      ],
      "metadata": {
        "id": "L7xvvR_io_RQ"
      }
    },
    {
      "cell_type": "code",
      "source": [
        "from google.colab import drive\n",
        "drive.mount('/content/drive')"
      ],
      "metadata": {
        "id": "IPHx2Fpuo89c"
      },
      "execution_count": null,
      "outputs": []
    },
    {
      "cell_type": "code",
      "source": [
        "rf_raw = joblib.load(\"/content/drive/MyDrive/rossmann_model_xgb_raw.joblib\")"
      ],
      "metadata": {
        "id": "Pm75aVsipG44"
      },
      "execution_count": null,
      "outputs": []
    },
    {
      "cell_type": "code",
      "source": [
        "y_pred = rf_raw[\"model\"].predict(X_val)\n",
        "evaluate(y_val.iloc[:, 0], y_pred, \"XGBoost\")"
      ],
      "metadata": {
        "id": "XNE6OgfRpVB8"
      },
      "execution_count": null,
      "outputs": []
    },
    {
      "cell_type": "markdown",
      "source": [
        "# **Step 9 - Process Test Data and Predict Sales**\n",
        "uncomment model=xgb to proceed or train on of above models"
      ],
      "metadata": {
        "id": "Zf8XdIVlsfPe"
      }
    },
    {
      "cell_type": "code",
      "source": [
        "model = xgb"
      ],
      "metadata": {
        "id": "EhG-iSdK6LTk"
      },
      "execution_count": 541,
      "outputs": []
    },
    {
      "cell_type": "markdown",
      "source": [
        "## Process"
      ],
      "metadata": {
        "id": "H8P-w88Ryft1"
      }
    },
    {
      "cell_type": "code",
      "source": [
        "test_store_data.info()"
      ],
      "metadata": {
        "colab": {
          "base_uri": "https://localhost:8080/"
        },
        "id": "aRGFyv5x2Pc4",
        "outputId": "99cd1197-9e2f-4363-f6c5-b8b1516f0771"
      },
      "execution_count": 542,
      "outputs": [
        {
          "output_type": "stream",
          "name": "stdout",
          "text": [
            "<class 'pandas.core.frame.DataFrame'>\n",
            "RangeIndex: 41088 entries, 0 to 41087\n",
            "Data columns (total 17 columns):\n",
            " #   Column                     Non-Null Count  Dtype  \n",
            "---  ------                     --------------  -----  \n",
            " 0   Id                         41088 non-null  int64  \n",
            " 1   Store                      41088 non-null  int64  \n",
            " 2   DayOfWeek                  41088 non-null  int64  \n",
            " 3   Date                       41088 non-null  object \n",
            " 4   Open                       41077 non-null  float64\n",
            " 5   Promo                      41088 non-null  int64  \n",
            " 6   StateHoliday               41088 non-null  object \n",
            " 7   SchoolHoliday              41088 non-null  int64  \n",
            " 8   StoreType                  41088 non-null  object \n",
            " 9   Assortment                 41088 non-null  object \n",
            " 10  CompetitionDistance        40992 non-null  float64\n",
            " 11  CompetitionOpenSinceMonth  25872 non-null  float64\n",
            " 12  CompetitionOpenSinceYear   25872 non-null  float64\n",
            " 13  Promo2                     41088 non-null  int64  \n",
            " 14  Promo2SinceWeek            23856 non-null  float64\n",
            " 15  Promo2SinceYear            23856 non-null  float64\n",
            " 16  PromoInterval              23856 non-null  object \n",
            "dtypes: float64(6), int64(6), object(5)\n",
            "memory usage: 5.3+ MB\n"
          ]
        }
      ]
    },
    {
      "cell_type": "code",
      "source": [
        "test_store_data[\"Open\"].unique()"
      ],
      "metadata": {
        "colab": {
          "base_uri": "https://localhost:8080/"
        },
        "id": "ZhyBcebK1gdh",
        "outputId": "b5ec7bff-ce17-45c6-9303-84c6c62aeb21"
      },
      "execution_count": 543,
      "outputs": [
        {
          "output_type": "execute_result",
          "data": {
            "text/plain": [
              "array([ 1., nan,  0.])"
            ]
          },
          "metadata": {},
          "execution_count": 543
        }
      ]
    },
    {
      "cell_type": "code",
      "source": [
        "scalar_model.feature_names_in_"
      ],
      "metadata": {
        "id": "-r8_IGlFdWk0",
        "colab": {
          "base_uri": "https://localhost:8080/"
        },
        "outputId": "8e1d5efc-4e82-4f28-b430-a49b0625990d"
      },
      "execution_count": 544,
      "outputs": [
        {
          "output_type": "execute_result",
          "data": {
            "text/plain": [
              "array(['Store', 'CompetitionDistance', 'Month', 'Day'], dtype=object)"
            ]
          },
          "metadata": {},
          "execution_count": 544
        }
      ]
    },
    {
      "cell_type": "code",
      "source": [
        "test_data_temp = test_store_data.copy()\n",
        "\n",
        "test_data_temp[\"Date\"] = pd.to_datetime(test_data_temp[\"Date\"])\n",
        "test_data_temp[\"Year\"] = test_data_temp[\"Date\"].dt.year\n",
        "test_data_temp[\"Month\"] = test_data_temp[\"Date\"].dt.month\n",
        "test_data_temp[\"Day\"] = test_data_temp[\"Date\"].dt.day\n",
        "\n",
        "test_data_temp[categorical_cols] = test_data_temp[categorical_cols].astype(str).replace(\"NaN\", \"Missing\").replace(\"nan\", \"Missing\")\n",
        "test_data_temp[encoded_cols] = encoder.transform(test_data_temp[categorical_cols])\n",
        "\n",
        "test_data_temp[scalar_cols] = scalar_model.transform(test_data_temp.loc[:, scalar_cols])\n",
        "\n",
        "test_data_temp = test_data_temp.loc[:, inputs_cols]"
      ],
      "metadata": {
        "id": "EY7NNbC5rNZ4"
      },
      "execution_count": 546,
      "outputs": []
    },
    {
      "cell_type": "code",
      "source": [
        "all(test_data_temp.columns == inputs_cols)"
      ],
      "metadata": {
        "id": "Gurw6n9keEgm",
        "colab": {
          "base_uri": "https://localhost:8080/"
        },
        "outputId": "6b9b6d0a-e4ba-46a7-d629-bcb0740a9647"
      },
      "execution_count": 547,
      "outputs": [
        {
          "output_type": "execute_result",
          "data": {
            "text/plain": [
              "True"
            ]
          },
          "metadata": {},
          "execution_count": 547
        }
      ]
    },
    {
      "cell_type": "markdown",
      "source": [
        "## Predict"
      ],
      "metadata": {
        "id": "LWnYMIqfyimd"
      }
    },
    {
      "cell_type": "code",
      "source": [
        "# Generate predictions\n",
        "test_preds = model.predict(test_data_temp)"
      ],
      "metadata": {
        "id": "jT-V-0czomUv"
      },
      "execution_count": 548,
      "outputs": []
    },
    {
      "cell_type": "code",
      "source": [
        "test_store_data[\"Sales\"] = test_preds"
      ],
      "metadata": {
        "id": "VIkHqILhpc22"
      },
      "execution_count": 549,
      "outputs": []
    },
    {
      "cell_type": "code",
      "source": [
        "# open = test_store_data[\"Open\"].fillna(1)\n",
        "open = test_store_data[\"Open\"].fillna(0)\n",
        "\n",
        "test_store_data['Sales'] = test_preds * open\n",
        "result_df = pd.DataFrame(data=test_store_data[[\"Id\", \"Sales\"]], columns=[\"Id\", \"Sales\"])\n",
        "result_df.set_index(\"Id\")"
      ],
      "metadata": {
        "colab": {
          "base_uri": "https://localhost:8080/",
          "height": 455
        },
        "id": "49TqB39axmSy",
        "outputId": "8690e86d-1a20-4108-d1b2-2c1edd89e335"
      },
      "execution_count": 550,
      "outputs": [
        {
          "output_type": "execute_result",
          "data": {
            "text/plain": [
              "              Sales\n",
              "Id                 \n",
              "1       5140.587402\n",
              "2       7687.089844\n",
              "3       9196.924805\n",
              "4       5895.250488\n",
              "5       6689.772949\n",
              "...             ...\n",
              "41084   3957.439453\n",
              "41085   8686.882812\n",
              "41086   5527.601562\n",
              "41087  20865.333984\n",
              "41088   6295.019531\n",
              "\n",
              "[41088 rows x 1 columns]"
            ],
            "text/html": [
              "\n",
              "  <div id=\"df-109bd866-89a8-4400-b654-3f94b93d8fd1\" class=\"colab-df-container\">\n",
              "    <div>\n",
              "<style scoped>\n",
              "    .dataframe tbody tr th:only-of-type {\n",
              "        vertical-align: middle;\n",
              "    }\n",
              "\n",
              "    .dataframe tbody tr th {\n",
              "        vertical-align: top;\n",
              "    }\n",
              "\n",
              "    .dataframe thead th {\n",
              "        text-align: right;\n",
              "    }\n",
              "</style>\n",
              "<table border=\"1\" class=\"dataframe\">\n",
              "  <thead>\n",
              "    <tr style=\"text-align: right;\">\n",
              "      <th></th>\n",
              "      <th>Sales</th>\n",
              "    </tr>\n",
              "    <tr>\n",
              "      <th>Id</th>\n",
              "      <th></th>\n",
              "    </tr>\n",
              "  </thead>\n",
              "  <tbody>\n",
              "    <tr>\n",
              "      <th>1</th>\n",
              "      <td>5140.587402</td>\n",
              "    </tr>\n",
              "    <tr>\n",
              "      <th>2</th>\n",
              "      <td>7687.089844</td>\n",
              "    </tr>\n",
              "    <tr>\n",
              "      <th>3</th>\n",
              "      <td>9196.924805</td>\n",
              "    </tr>\n",
              "    <tr>\n",
              "      <th>4</th>\n",
              "      <td>5895.250488</td>\n",
              "    </tr>\n",
              "    <tr>\n",
              "      <th>5</th>\n",
              "      <td>6689.772949</td>\n",
              "    </tr>\n",
              "    <tr>\n",
              "      <th>...</th>\n",
              "      <td>...</td>\n",
              "    </tr>\n",
              "    <tr>\n",
              "      <th>41084</th>\n",
              "      <td>3957.439453</td>\n",
              "    </tr>\n",
              "    <tr>\n",
              "      <th>41085</th>\n",
              "      <td>8686.882812</td>\n",
              "    </tr>\n",
              "    <tr>\n",
              "      <th>41086</th>\n",
              "      <td>5527.601562</td>\n",
              "    </tr>\n",
              "    <tr>\n",
              "      <th>41087</th>\n",
              "      <td>20865.333984</td>\n",
              "    </tr>\n",
              "    <tr>\n",
              "      <th>41088</th>\n",
              "      <td>6295.019531</td>\n",
              "    </tr>\n",
              "  </tbody>\n",
              "</table>\n",
              "<p>41088 rows × 1 columns</p>\n",
              "</div>\n",
              "    <div class=\"colab-df-buttons\">\n",
              "\n",
              "  <div class=\"colab-df-container\">\n",
              "    <button class=\"colab-df-convert\" onclick=\"convertToInteractive('df-109bd866-89a8-4400-b654-3f94b93d8fd1')\"\n",
              "            title=\"Convert this dataframe to an interactive table.\"\n",
              "            style=\"display:none;\">\n",
              "\n",
              "  <svg xmlns=\"http://www.w3.org/2000/svg\" height=\"24px\" viewBox=\"0 -960 960 960\">\n",
              "    <path d=\"M120-120v-720h720v720H120Zm60-500h600v-160H180v160Zm220 220h160v-160H400v160Zm0 220h160v-160H400v160ZM180-400h160v-160H180v160Zm440 0h160v-160H620v160ZM180-180h160v-160H180v160Zm440 0h160v-160H620v160Z\"/>\n",
              "  </svg>\n",
              "    </button>\n",
              "\n",
              "  <style>\n",
              "    .colab-df-container {\n",
              "      display:flex;\n",
              "      gap: 12px;\n",
              "    }\n",
              "\n",
              "    .colab-df-convert {\n",
              "      background-color: #E8F0FE;\n",
              "      border: none;\n",
              "      border-radius: 50%;\n",
              "      cursor: pointer;\n",
              "      display: none;\n",
              "      fill: #1967D2;\n",
              "      height: 32px;\n",
              "      padding: 0 0 0 0;\n",
              "      width: 32px;\n",
              "    }\n",
              "\n",
              "    .colab-df-convert:hover {\n",
              "      background-color: #E2EBFA;\n",
              "      box-shadow: 0px 1px 2px rgba(60, 64, 67, 0.3), 0px 1px 3px 1px rgba(60, 64, 67, 0.15);\n",
              "      fill: #174EA6;\n",
              "    }\n",
              "\n",
              "    .colab-df-buttons div {\n",
              "      margin-bottom: 4px;\n",
              "    }\n",
              "\n",
              "    [theme=dark] .colab-df-convert {\n",
              "      background-color: #3B4455;\n",
              "      fill: #D2E3FC;\n",
              "    }\n",
              "\n",
              "    [theme=dark] .colab-df-convert:hover {\n",
              "      background-color: #434B5C;\n",
              "      box-shadow: 0px 1px 3px 1px rgba(0, 0, 0, 0.15);\n",
              "      filter: drop-shadow(0px 1px 2px rgba(0, 0, 0, 0.3));\n",
              "      fill: #FFFFFF;\n",
              "    }\n",
              "  </style>\n",
              "\n",
              "    <script>\n",
              "      const buttonEl =\n",
              "        document.querySelector('#df-109bd866-89a8-4400-b654-3f94b93d8fd1 button.colab-df-convert');\n",
              "      buttonEl.style.display =\n",
              "        google.colab.kernel.accessAllowed ? 'block' : 'none';\n",
              "\n",
              "      async function convertToInteractive(key) {\n",
              "        const element = document.querySelector('#df-109bd866-89a8-4400-b654-3f94b93d8fd1');\n",
              "        const dataTable =\n",
              "          await google.colab.kernel.invokeFunction('convertToInteractive',\n",
              "                                                    [key], {});\n",
              "        if (!dataTable) return;\n",
              "\n",
              "        const docLinkHtml = 'Like what you see? Visit the ' +\n",
              "          '<a target=\"_blank\" href=https://colab.research.google.com/notebooks/data_table.ipynb>data table notebook</a>'\n",
              "          + ' to learn more about interactive tables.';\n",
              "        element.innerHTML = '';\n",
              "        dataTable['output_type'] = 'display_data';\n",
              "        await google.colab.output.renderOutput(dataTable, element);\n",
              "        const docLink = document.createElement('div');\n",
              "        docLink.innerHTML = docLinkHtml;\n",
              "        element.appendChild(docLink);\n",
              "      }\n",
              "    </script>\n",
              "  </div>\n",
              "\n",
              "\n",
              "    <div id=\"df-e284df82-9b0f-42f5-bd52-32c560890571\">\n",
              "      <button class=\"colab-df-quickchart\" onclick=\"quickchart('df-e284df82-9b0f-42f5-bd52-32c560890571')\"\n",
              "                title=\"Suggest charts\"\n",
              "                style=\"display:none;\">\n",
              "\n",
              "<svg xmlns=\"http://www.w3.org/2000/svg\" height=\"24px\"viewBox=\"0 0 24 24\"\n",
              "     width=\"24px\">\n",
              "    <g>\n",
              "        <path d=\"M19 3H5c-1.1 0-2 .9-2 2v14c0 1.1.9 2 2 2h14c1.1 0 2-.9 2-2V5c0-1.1-.9-2-2-2zM9 17H7v-7h2v7zm4 0h-2V7h2v10zm4 0h-2v-4h2v4z\"/>\n",
              "    </g>\n",
              "</svg>\n",
              "      </button>\n",
              "\n",
              "<style>\n",
              "  .colab-df-quickchart {\n",
              "      --bg-color: #E8F0FE;\n",
              "      --fill-color: #1967D2;\n",
              "      --hover-bg-color: #E2EBFA;\n",
              "      --hover-fill-color: #174EA6;\n",
              "      --disabled-fill-color: #AAA;\n",
              "      --disabled-bg-color: #DDD;\n",
              "  }\n",
              "\n",
              "  [theme=dark] .colab-df-quickchart {\n",
              "      --bg-color: #3B4455;\n",
              "      --fill-color: #D2E3FC;\n",
              "      --hover-bg-color: #434B5C;\n",
              "      --hover-fill-color: #FFFFFF;\n",
              "      --disabled-bg-color: #3B4455;\n",
              "      --disabled-fill-color: #666;\n",
              "  }\n",
              "\n",
              "  .colab-df-quickchart {\n",
              "    background-color: var(--bg-color);\n",
              "    border: none;\n",
              "    border-radius: 50%;\n",
              "    cursor: pointer;\n",
              "    display: none;\n",
              "    fill: var(--fill-color);\n",
              "    height: 32px;\n",
              "    padding: 0;\n",
              "    width: 32px;\n",
              "  }\n",
              "\n",
              "  .colab-df-quickchart:hover {\n",
              "    background-color: var(--hover-bg-color);\n",
              "    box-shadow: 0 1px 2px rgba(60, 64, 67, 0.3), 0 1px 3px 1px rgba(60, 64, 67, 0.15);\n",
              "    fill: var(--button-hover-fill-color);\n",
              "  }\n",
              "\n",
              "  .colab-df-quickchart-complete:disabled,\n",
              "  .colab-df-quickchart-complete:disabled:hover {\n",
              "    background-color: var(--disabled-bg-color);\n",
              "    fill: var(--disabled-fill-color);\n",
              "    box-shadow: none;\n",
              "  }\n",
              "\n",
              "  .colab-df-spinner {\n",
              "    border: 2px solid var(--fill-color);\n",
              "    border-color: transparent;\n",
              "    border-bottom-color: var(--fill-color);\n",
              "    animation:\n",
              "      spin 1s steps(1) infinite;\n",
              "  }\n",
              "\n",
              "  @keyframes spin {\n",
              "    0% {\n",
              "      border-color: transparent;\n",
              "      border-bottom-color: var(--fill-color);\n",
              "      border-left-color: var(--fill-color);\n",
              "    }\n",
              "    20% {\n",
              "      border-color: transparent;\n",
              "      border-left-color: var(--fill-color);\n",
              "      border-top-color: var(--fill-color);\n",
              "    }\n",
              "    30% {\n",
              "      border-color: transparent;\n",
              "      border-left-color: var(--fill-color);\n",
              "      border-top-color: var(--fill-color);\n",
              "      border-right-color: var(--fill-color);\n",
              "    }\n",
              "    40% {\n",
              "      border-color: transparent;\n",
              "      border-right-color: var(--fill-color);\n",
              "      border-top-color: var(--fill-color);\n",
              "    }\n",
              "    60% {\n",
              "      border-color: transparent;\n",
              "      border-right-color: var(--fill-color);\n",
              "    }\n",
              "    80% {\n",
              "      border-color: transparent;\n",
              "      border-right-color: var(--fill-color);\n",
              "      border-bottom-color: var(--fill-color);\n",
              "    }\n",
              "    90% {\n",
              "      border-color: transparent;\n",
              "      border-bottom-color: var(--fill-color);\n",
              "    }\n",
              "  }\n",
              "</style>\n",
              "\n",
              "      <script>\n",
              "        async function quickchart(key) {\n",
              "          const quickchartButtonEl =\n",
              "            document.querySelector('#' + key + ' button');\n",
              "          quickchartButtonEl.disabled = true;  // To prevent multiple clicks.\n",
              "          quickchartButtonEl.classList.add('colab-df-spinner');\n",
              "          try {\n",
              "            const charts = await google.colab.kernel.invokeFunction(\n",
              "                'suggestCharts', [key], {});\n",
              "          } catch (error) {\n",
              "            console.error('Error during call to suggestCharts:', error);\n",
              "          }\n",
              "          quickchartButtonEl.classList.remove('colab-df-spinner');\n",
              "          quickchartButtonEl.classList.add('colab-df-quickchart-complete');\n",
              "        }\n",
              "        (() => {\n",
              "          let quickchartButtonEl =\n",
              "            document.querySelector('#df-e284df82-9b0f-42f5-bd52-32c560890571 button');\n",
              "          quickchartButtonEl.style.display =\n",
              "            google.colab.kernel.accessAllowed ? 'block' : 'none';\n",
              "        })();\n",
              "      </script>\n",
              "    </div>\n",
              "    </div>\n",
              "  </div>\n"
            ],
            "application/vnd.google.colaboratory.intrinsic+json": {
              "type": "dataframe",
              "summary": "{\n  \"name\": \"result_df\",\n  \"rows\": 41088,\n  \"fields\": [\n    {\n      \"column\": \"Id\",\n      \"properties\": {\n        \"dtype\": \"number\",\n        \"std\": 11861,\n        \"min\": 1,\n        \"max\": 41088,\n        \"num_unique_values\": 41088,\n        \"samples\": [\n          29156,\n          4641,\n          9124\n        ],\n        \"semantic_type\": \"\",\n        \"description\": \"\"\n      }\n    },\n    {\n      \"column\": \"Sales\",\n      \"properties\": {\n        \"dtype\": \"number\",\n        \"std\": 3299.455537186021,\n        \"min\": 0.0,\n        \"max\": 28427.759765625,\n        \"num_unique_values\": 35030,\n        \"samples\": [\n          5647.3515625,\n          7473.87109375,\n          7254.81689453125\n        ],\n        \"semantic_type\": \"\",\n        \"description\": \"\"\n      }\n    }\n  ]\n}"
            }
          },
          "metadata": {},
          "execution_count": 550
        }
      ]
    },
    {
      "cell_type": "code",
      "source": [
        "result_df.info()"
      ],
      "metadata": {
        "colab": {
          "base_uri": "https://localhost:8080/"
        },
        "id": "9-S5mRZfyxk5",
        "outputId": "0c83fa1d-9bbe-40f8-c692-f147f0a4dde6"
      },
      "execution_count": 551,
      "outputs": [
        {
          "output_type": "stream",
          "name": "stdout",
          "text": [
            "<class 'pandas.core.frame.DataFrame'>\n",
            "RangeIndex: 41088 entries, 0 to 41087\n",
            "Data columns (total 2 columns):\n",
            " #   Column  Non-Null Count  Dtype  \n",
            "---  ------  --------------  -----  \n",
            " 0   Id      41088 non-null  int64  \n",
            " 1   Sales   41088 non-null  float64\n",
            "dtypes: float64(1), int64(1)\n",
            "memory usage: 642.1 KB\n"
          ]
        }
      ]
    },
    {
      "cell_type": "code",
      "source": [
        "result_df[\"Sales\"].astype(np.int32)"
      ],
      "metadata": {
        "colab": {
          "base_uri": "https://localhost:8080/",
          "height": 458
        },
        "id": "sBLgxuIE03Z8",
        "outputId": "f922c1c0-d372-44cb-bc4f-77c6efa47c40"
      },
      "execution_count": 552,
      "outputs": [
        {
          "output_type": "execute_result",
          "data": {
            "text/plain": [
              "0         5140\n",
              "1         7687\n",
              "2         9196\n",
              "3         5895\n",
              "4         6689\n",
              "         ...  \n",
              "41083     3957\n",
              "41084     8686\n",
              "41085     5527\n",
              "41086    20865\n",
              "41087     6295\n",
              "Name: Sales, Length: 41088, dtype: int32"
            ],
            "text/html": [
              "<div>\n",
              "<style scoped>\n",
              "    .dataframe tbody tr th:only-of-type {\n",
              "        vertical-align: middle;\n",
              "    }\n",
              "\n",
              "    .dataframe tbody tr th {\n",
              "        vertical-align: top;\n",
              "    }\n",
              "\n",
              "    .dataframe thead th {\n",
              "        text-align: right;\n",
              "    }\n",
              "</style>\n",
              "<table border=\"1\" class=\"dataframe\">\n",
              "  <thead>\n",
              "    <tr style=\"text-align: right;\">\n",
              "      <th></th>\n",
              "      <th>Sales</th>\n",
              "    </tr>\n",
              "  </thead>\n",
              "  <tbody>\n",
              "    <tr>\n",
              "      <th>0</th>\n",
              "      <td>5140</td>\n",
              "    </tr>\n",
              "    <tr>\n",
              "      <th>1</th>\n",
              "      <td>7687</td>\n",
              "    </tr>\n",
              "    <tr>\n",
              "      <th>2</th>\n",
              "      <td>9196</td>\n",
              "    </tr>\n",
              "    <tr>\n",
              "      <th>3</th>\n",
              "      <td>5895</td>\n",
              "    </tr>\n",
              "    <tr>\n",
              "      <th>4</th>\n",
              "      <td>6689</td>\n",
              "    </tr>\n",
              "    <tr>\n",
              "      <th>...</th>\n",
              "      <td>...</td>\n",
              "    </tr>\n",
              "    <tr>\n",
              "      <th>41083</th>\n",
              "      <td>3957</td>\n",
              "    </tr>\n",
              "    <tr>\n",
              "      <th>41084</th>\n",
              "      <td>8686</td>\n",
              "    </tr>\n",
              "    <tr>\n",
              "      <th>41085</th>\n",
              "      <td>5527</td>\n",
              "    </tr>\n",
              "    <tr>\n",
              "      <th>41086</th>\n",
              "      <td>20865</td>\n",
              "    </tr>\n",
              "    <tr>\n",
              "      <th>41087</th>\n",
              "      <td>6295</td>\n",
              "    </tr>\n",
              "  </tbody>\n",
              "</table>\n",
              "<p>41088 rows × 1 columns</p>\n",
              "</div><br><label><b>dtype:</b> int32</label>"
            ]
          },
          "metadata": {},
          "execution_count": 552
        }
      ]
    },
    {
      "cell_type": "code",
      "source": [
        "result_df.to_csv(\"submission.csv\", index=None)"
      ],
      "metadata": {
        "id": "RYcvcvi7we-i"
      },
      "execution_count": 553,
      "outputs": []
    },
    {
      "cell_type": "code",
      "source": [
        "pd.read_csv(\"/content/submission.csv\")"
      ],
      "metadata": {
        "colab": {
          "base_uri": "https://localhost:8080/",
          "height": 424
        },
        "id": "CbrNbFrHrsO3",
        "outputId": "e783abff-9cbc-46ec-8b9b-f73369ea7f7d"
      },
      "execution_count": 554,
      "outputs": [
        {
          "output_type": "execute_result",
          "data": {
            "text/plain": [
              "          Id         Sales\n",
              "0          1   5140.587402\n",
              "1          2   7687.089844\n",
              "2          3   9196.924805\n",
              "3          4   5895.250488\n",
              "4          5   6689.772949\n",
              "...      ...           ...\n",
              "41083  41084   3957.439453\n",
              "41084  41085   8686.882812\n",
              "41085  41086   5527.601562\n",
              "41086  41087  20865.333984\n",
              "41087  41088   6295.019531\n",
              "\n",
              "[41088 rows x 2 columns]"
            ],
            "text/html": [
              "\n",
              "  <div id=\"df-38456d41-8426-4a36-893d-b6f7669c95d4\" class=\"colab-df-container\">\n",
              "    <div>\n",
              "<style scoped>\n",
              "    .dataframe tbody tr th:only-of-type {\n",
              "        vertical-align: middle;\n",
              "    }\n",
              "\n",
              "    .dataframe tbody tr th {\n",
              "        vertical-align: top;\n",
              "    }\n",
              "\n",
              "    .dataframe thead th {\n",
              "        text-align: right;\n",
              "    }\n",
              "</style>\n",
              "<table border=\"1\" class=\"dataframe\">\n",
              "  <thead>\n",
              "    <tr style=\"text-align: right;\">\n",
              "      <th></th>\n",
              "      <th>Id</th>\n",
              "      <th>Sales</th>\n",
              "    </tr>\n",
              "  </thead>\n",
              "  <tbody>\n",
              "    <tr>\n",
              "      <th>0</th>\n",
              "      <td>1</td>\n",
              "      <td>5140.587402</td>\n",
              "    </tr>\n",
              "    <tr>\n",
              "      <th>1</th>\n",
              "      <td>2</td>\n",
              "      <td>7687.089844</td>\n",
              "    </tr>\n",
              "    <tr>\n",
              "      <th>2</th>\n",
              "      <td>3</td>\n",
              "      <td>9196.924805</td>\n",
              "    </tr>\n",
              "    <tr>\n",
              "      <th>3</th>\n",
              "      <td>4</td>\n",
              "      <td>5895.250488</td>\n",
              "    </tr>\n",
              "    <tr>\n",
              "      <th>4</th>\n",
              "      <td>5</td>\n",
              "      <td>6689.772949</td>\n",
              "    </tr>\n",
              "    <tr>\n",
              "      <th>...</th>\n",
              "      <td>...</td>\n",
              "      <td>...</td>\n",
              "    </tr>\n",
              "    <tr>\n",
              "      <th>41083</th>\n",
              "      <td>41084</td>\n",
              "      <td>3957.439453</td>\n",
              "    </tr>\n",
              "    <tr>\n",
              "      <th>41084</th>\n",
              "      <td>41085</td>\n",
              "      <td>8686.882812</td>\n",
              "    </tr>\n",
              "    <tr>\n",
              "      <th>41085</th>\n",
              "      <td>41086</td>\n",
              "      <td>5527.601562</td>\n",
              "    </tr>\n",
              "    <tr>\n",
              "      <th>41086</th>\n",
              "      <td>41087</td>\n",
              "      <td>20865.333984</td>\n",
              "    </tr>\n",
              "    <tr>\n",
              "      <th>41087</th>\n",
              "      <td>41088</td>\n",
              "      <td>6295.019531</td>\n",
              "    </tr>\n",
              "  </tbody>\n",
              "</table>\n",
              "<p>41088 rows × 2 columns</p>\n",
              "</div>\n",
              "    <div class=\"colab-df-buttons\">\n",
              "\n",
              "  <div class=\"colab-df-container\">\n",
              "    <button class=\"colab-df-convert\" onclick=\"convertToInteractive('df-38456d41-8426-4a36-893d-b6f7669c95d4')\"\n",
              "            title=\"Convert this dataframe to an interactive table.\"\n",
              "            style=\"display:none;\">\n",
              "\n",
              "  <svg xmlns=\"http://www.w3.org/2000/svg\" height=\"24px\" viewBox=\"0 -960 960 960\">\n",
              "    <path d=\"M120-120v-720h720v720H120Zm60-500h600v-160H180v160Zm220 220h160v-160H400v160Zm0 220h160v-160H400v160ZM180-400h160v-160H180v160Zm440 0h160v-160H620v160ZM180-180h160v-160H180v160Zm440 0h160v-160H620v160Z\"/>\n",
              "  </svg>\n",
              "    </button>\n",
              "\n",
              "  <style>\n",
              "    .colab-df-container {\n",
              "      display:flex;\n",
              "      gap: 12px;\n",
              "    }\n",
              "\n",
              "    .colab-df-convert {\n",
              "      background-color: #E8F0FE;\n",
              "      border: none;\n",
              "      border-radius: 50%;\n",
              "      cursor: pointer;\n",
              "      display: none;\n",
              "      fill: #1967D2;\n",
              "      height: 32px;\n",
              "      padding: 0 0 0 0;\n",
              "      width: 32px;\n",
              "    }\n",
              "\n",
              "    .colab-df-convert:hover {\n",
              "      background-color: #E2EBFA;\n",
              "      box-shadow: 0px 1px 2px rgba(60, 64, 67, 0.3), 0px 1px 3px 1px rgba(60, 64, 67, 0.15);\n",
              "      fill: #174EA6;\n",
              "    }\n",
              "\n",
              "    .colab-df-buttons div {\n",
              "      margin-bottom: 4px;\n",
              "    }\n",
              "\n",
              "    [theme=dark] .colab-df-convert {\n",
              "      background-color: #3B4455;\n",
              "      fill: #D2E3FC;\n",
              "    }\n",
              "\n",
              "    [theme=dark] .colab-df-convert:hover {\n",
              "      background-color: #434B5C;\n",
              "      box-shadow: 0px 1px 3px 1px rgba(0, 0, 0, 0.15);\n",
              "      filter: drop-shadow(0px 1px 2px rgba(0, 0, 0, 0.3));\n",
              "      fill: #FFFFFF;\n",
              "    }\n",
              "  </style>\n",
              "\n",
              "    <script>\n",
              "      const buttonEl =\n",
              "        document.querySelector('#df-38456d41-8426-4a36-893d-b6f7669c95d4 button.colab-df-convert');\n",
              "      buttonEl.style.display =\n",
              "        google.colab.kernel.accessAllowed ? 'block' : 'none';\n",
              "\n",
              "      async function convertToInteractive(key) {\n",
              "        const element = document.querySelector('#df-38456d41-8426-4a36-893d-b6f7669c95d4');\n",
              "        const dataTable =\n",
              "          await google.colab.kernel.invokeFunction('convertToInteractive',\n",
              "                                                    [key], {});\n",
              "        if (!dataTable) return;\n",
              "\n",
              "        const docLinkHtml = 'Like what you see? Visit the ' +\n",
              "          '<a target=\"_blank\" href=https://colab.research.google.com/notebooks/data_table.ipynb>data table notebook</a>'\n",
              "          + ' to learn more about interactive tables.';\n",
              "        element.innerHTML = '';\n",
              "        dataTable['output_type'] = 'display_data';\n",
              "        await google.colab.output.renderOutput(dataTable, element);\n",
              "        const docLink = document.createElement('div');\n",
              "        docLink.innerHTML = docLinkHtml;\n",
              "        element.appendChild(docLink);\n",
              "      }\n",
              "    </script>\n",
              "  </div>\n",
              "\n",
              "\n",
              "    <div id=\"df-51b1ad65-e87d-41d5-b12c-9f4fc0849e9d\">\n",
              "      <button class=\"colab-df-quickchart\" onclick=\"quickchart('df-51b1ad65-e87d-41d5-b12c-9f4fc0849e9d')\"\n",
              "                title=\"Suggest charts\"\n",
              "                style=\"display:none;\">\n",
              "\n",
              "<svg xmlns=\"http://www.w3.org/2000/svg\" height=\"24px\"viewBox=\"0 0 24 24\"\n",
              "     width=\"24px\">\n",
              "    <g>\n",
              "        <path d=\"M19 3H5c-1.1 0-2 .9-2 2v14c0 1.1.9 2 2 2h14c1.1 0 2-.9 2-2V5c0-1.1-.9-2-2-2zM9 17H7v-7h2v7zm4 0h-2V7h2v10zm4 0h-2v-4h2v4z\"/>\n",
              "    </g>\n",
              "</svg>\n",
              "      </button>\n",
              "\n",
              "<style>\n",
              "  .colab-df-quickchart {\n",
              "      --bg-color: #E8F0FE;\n",
              "      --fill-color: #1967D2;\n",
              "      --hover-bg-color: #E2EBFA;\n",
              "      --hover-fill-color: #174EA6;\n",
              "      --disabled-fill-color: #AAA;\n",
              "      --disabled-bg-color: #DDD;\n",
              "  }\n",
              "\n",
              "  [theme=dark] .colab-df-quickchart {\n",
              "      --bg-color: #3B4455;\n",
              "      --fill-color: #D2E3FC;\n",
              "      --hover-bg-color: #434B5C;\n",
              "      --hover-fill-color: #FFFFFF;\n",
              "      --disabled-bg-color: #3B4455;\n",
              "      --disabled-fill-color: #666;\n",
              "  }\n",
              "\n",
              "  .colab-df-quickchart {\n",
              "    background-color: var(--bg-color);\n",
              "    border: none;\n",
              "    border-radius: 50%;\n",
              "    cursor: pointer;\n",
              "    display: none;\n",
              "    fill: var(--fill-color);\n",
              "    height: 32px;\n",
              "    padding: 0;\n",
              "    width: 32px;\n",
              "  }\n",
              "\n",
              "  .colab-df-quickchart:hover {\n",
              "    background-color: var(--hover-bg-color);\n",
              "    box-shadow: 0 1px 2px rgba(60, 64, 67, 0.3), 0 1px 3px 1px rgba(60, 64, 67, 0.15);\n",
              "    fill: var(--button-hover-fill-color);\n",
              "  }\n",
              "\n",
              "  .colab-df-quickchart-complete:disabled,\n",
              "  .colab-df-quickchart-complete:disabled:hover {\n",
              "    background-color: var(--disabled-bg-color);\n",
              "    fill: var(--disabled-fill-color);\n",
              "    box-shadow: none;\n",
              "  }\n",
              "\n",
              "  .colab-df-spinner {\n",
              "    border: 2px solid var(--fill-color);\n",
              "    border-color: transparent;\n",
              "    border-bottom-color: var(--fill-color);\n",
              "    animation:\n",
              "      spin 1s steps(1) infinite;\n",
              "  }\n",
              "\n",
              "  @keyframes spin {\n",
              "    0% {\n",
              "      border-color: transparent;\n",
              "      border-bottom-color: var(--fill-color);\n",
              "      border-left-color: var(--fill-color);\n",
              "    }\n",
              "    20% {\n",
              "      border-color: transparent;\n",
              "      border-left-color: var(--fill-color);\n",
              "      border-top-color: var(--fill-color);\n",
              "    }\n",
              "    30% {\n",
              "      border-color: transparent;\n",
              "      border-left-color: var(--fill-color);\n",
              "      border-top-color: var(--fill-color);\n",
              "      border-right-color: var(--fill-color);\n",
              "    }\n",
              "    40% {\n",
              "      border-color: transparent;\n",
              "      border-right-color: var(--fill-color);\n",
              "      border-top-color: var(--fill-color);\n",
              "    }\n",
              "    60% {\n",
              "      border-color: transparent;\n",
              "      border-right-color: var(--fill-color);\n",
              "    }\n",
              "    80% {\n",
              "      border-color: transparent;\n",
              "      border-right-color: var(--fill-color);\n",
              "      border-bottom-color: var(--fill-color);\n",
              "    }\n",
              "    90% {\n",
              "      border-color: transparent;\n",
              "      border-bottom-color: var(--fill-color);\n",
              "    }\n",
              "  }\n",
              "</style>\n",
              "\n",
              "      <script>\n",
              "        async function quickchart(key) {\n",
              "          const quickchartButtonEl =\n",
              "            document.querySelector('#' + key + ' button');\n",
              "          quickchartButtonEl.disabled = true;  // To prevent multiple clicks.\n",
              "          quickchartButtonEl.classList.add('colab-df-spinner');\n",
              "          try {\n",
              "            const charts = await google.colab.kernel.invokeFunction(\n",
              "                'suggestCharts', [key], {});\n",
              "          } catch (error) {\n",
              "            console.error('Error during call to suggestCharts:', error);\n",
              "          }\n",
              "          quickchartButtonEl.classList.remove('colab-df-spinner');\n",
              "          quickchartButtonEl.classList.add('colab-df-quickchart-complete');\n",
              "        }\n",
              "        (() => {\n",
              "          let quickchartButtonEl =\n",
              "            document.querySelector('#df-51b1ad65-e87d-41d5-b12c-9f4fc0849e9d button');\n",
              "          quickchartButtonEl.style.display =\n",
              "            google.colab.kernel.accessAllowed ? 'block' : 'none';\n",
              "        })();\n",
              "      </script>\n",
              "    </div>\n",
              "    </div>\n",
              "  </div>\n"
            ],
            "application/vnd.google.colaboratory.intrinsic+json": {
              "type": "dataframe",
              "summary": "{\n  \"name\": \"pd\",\n  \"rows\": 41088,\n  \"fields\": [\n    {\n      \"column\": \"Id\",\n      \"properties\": {\n        \"dtype\": \"number\",\n        \"std\": 11861,\n        \"min\": 1,\n        \"max\": 41088,\n        \"num_unique_values\": 41088,\n        \"samples\": [\n          29156,\n          4641,\n          9124\n        ],\n        \"semantic_type\": \"\",\n        \"description\": \"\"\n      }\n    },\n    {\n      \"column\": \"Sales\",\n      \"properties\": {\n        \"dtype\": \"number\",\n        \"std\": 3299.455537186021,\n        \"min\": 0.0,\n        \"max\": 28427.759765625,\n        \"num_unique_values\": 35030,\n        \"samples\": [\n          5647.3515625,\n          7473.87109375,\n          7254.81689453125\n        ],\n        \"semantic_type\": \"\",\n        \"description\": \"\"\n      }\n    }\n  ]\n}"
            }
          },
          "metadata": {},
          "execution_count": 554
        }
      ]
    },
    {
      "cell_type": "code",
      "source": [
        "!head submission.csv"
      ],
      "metadata": {
        "colab": {
          "base_uri": "https://localhost:8080/"
        },
        "id": "6Aq8-gPtrxsn",
        "outputId": "2725ccf7-caec-4b5d-c94c-a3e3c14aa9fe"
      },
      "execution_count": 555,
      "outputs": [
        {
          "output_type": "stream",
          "name": "stdout",
          "text": [
            "Id,Sales\n",
            "1,5140.58740234375\n",
            "2,7687.08984375\n",
            "3,9196.9248046875\n",
            "4,5895.25048828125\n",
            "5,6689.77294921875\n",
            "6,5664.2578125\n",
            "7,7801.66357421875\n",
            "8,8021.21728515625\n",
            "9,5730.345703125\n"
          ]
        }
      ]
    },
    {
      "cell_type": "markdown",
      "source": [
        "# **Summary**\n",
        "There is no better way to learn than to learn from winner of Kaggle competition."
      ],
      "metadata": {
        "id": "z4vhiE4Q2sqo"
      }
    },
    {
      "cell_type": "markdown",
      "source": [
        "![](https://i.imgur.com/kKdAALX.png)\n",
        "\n",
        "Here's the summary of the step-by-step process you should follow to approach any machine learning problem:\n",
        "\n",
        "1. Understand the business requirements and the nature of the available data.\n",
        "2. Classify the problem as supervised/unsupervised and regression/classification.\n",
        "3. Download, clean & explore the data and create new features that may improve models.\n",
        "4. Create training/test/validation sets and prepare the data for training ML models.\n",
        "5. Create a quick & easy baseline model to evaluate and benchmark future models.\n",
        "5. Pick a modeling strategy, train a model, and tune hyperparameters to achieve optimal fit.\n",
        "6. Experiment and combine results from multiple strategies to get a better overall result.\n",
        "7. Interpret models, study individual predictions, and present your findings.\n",
        "\n",
        "\n",
        "Check out the following resources to learn more:\n",
        "\n",
        "- https://vas3k.com/blog/machine_learning/\n",
        "- https://github.com/abhishekkrthakur/approachingalmost\n",
        "- https://scikit-learn.org/stable/\n",
        "- https://github.com/microsoft/ML-For-Beginners"
      ],
      "metadata": {
        "id": "E2jnx6i12vrN"
      }
    },
    {
      "cell_type": "markdown",
      "source": [
        "## Revision Questions\n",
        "1.\tWhat are the steps involved in approaching a machine learning problem?\n",
        "2.\tWhat does problem identification mean?\n",
        "3.\tWhat is a loss function? Explain different loss functions.\n",
        "4.\tWhat is an evaluation metric? Explain different evaluation metrics.\n",
        "5.\tWhat is feature engineering?\n",
        "6.\tHow does feature engineering help in building a better model?\n",
        "7.\tWhat is a baseline model?\n",
        "8.\tWhat is a hard-coded strategy?\n",
        "9.\tWhat are linear models?\n",
        "10.\tWhat are tree based models?\n",
        "11.\tWhat are some unsupervised machine learning problems?\n",
        "12.\tWhat are some strategies used to improve the performance of a model?\n",
        "13.\tWhat is grid-search?\n",
        "14.\tWhat is K-fold cross validation?\n",
        "15.\tWhat is ensembling? What are some ensemble methods?\n",
        "16.\tHow does ensembling help in making better predictions?\n",
        "17.\tWhat is stacking?\n",
        "18.\tHow does stacking help in making better predictions?\n",
        "19.\tWhat is model deployment?\n",
        "20.\tWhat are some model deployment frameworks?"
      ],
      "metadata": {
        "id": "HZVC1_UN21oc"
      }
    }
  ]
}